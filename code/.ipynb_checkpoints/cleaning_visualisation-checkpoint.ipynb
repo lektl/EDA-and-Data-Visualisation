{
 "cells": [
  {
   "cell_type": "markdown",
   "metadata": {},
   "source": [
    "<img src=\"http://imgur.com/1ZcRyrc.png\" style=\"float: left; margin: 20px; height: 55px\">\n",
    "\n",
    "# Project 1: Standardized Test Analysis"
   ]
  },
  {
   "cell_type": "markdown",
   "metadata": {},
   "source": [
    "--- \n",
    "# Part 1\n",
    "\n",
    "Part 1 requires knowledge of basic Python.\n",
    "\n",
    "---"
   ]
  },
  {
   "cell_type": "markdown",
   "metadata": {},
   "source": [
    "## Problem Statement"
   ]
  },
  {
   "cell_type": "markdown",
   "metadata": {},
   "source": [
    "Decide on your problem statement that will guide your analysis for this project. For guidelines, sample prompts, or inspiration, check out the README.\n",
    "\n",
    "**To-Do:** *Replace this cell with your problem statement.*"
   ]
  },
  {
   "cell_type": "markdown",
   "metadata": {},
   "source": [
    "### Contents:\n",
    "- [Background](#Background)\n",
    "- [Data Import & Cleaning](#Data-Import-and-Cleaning)\n",
    "- [Exploratory Data Analysis](#Exploratory-Data-Analysis)\n",
    "- [Data Visualization](#Visualize-the-Data)\n",
    "- [Conclusions and Recommendations](#Conclusions-and-Recommendations)"
   ]
  },
  {
   "cell_type": "markdown",
   "metadata": {},
   "source": [
    "## Background"
   ]
  },
  {
   "cell_type": "markdown",
   "metadata": {},
   "source": [
    "The SAT and ACT are standardized tests that many colleges and universities in the United States require for their admissions process. This score is used along with other materials such as grade point average (GPA) and essay responses to determine whether or not a potential student will be accepted to the university.\n",
    "\n",
    "The SAT has two sections of the test: Evidence-Based Reading and Writing and Math ([*source*](https://www.princetonreview.com/college/sat-sections)). The ACT has 4 sections: English, Mathematics, Reading, and Science, with an additional optional writing section ([*source*](https://www.act.org/content/act/en/products-and-services/the-act/scores/understanding-your-scores.html)). They have different score ranges, which you can read more about on their websites or additional outside sources (a quick Google search will help you understand the scores for each test):\n",
    "* [SAT](https://collegereadiness.collegeboard.org/sat)\n",
    "* [ACT](https://www.act.org/content/act/en.html)\n",
    "\n",
    "Standardized tests have long been a controversial topic for students, administrators, and legislators. Since the 1940's, an increasing number of colleges have been using scores from sudents' performances on tests like the SAT and the ACT as a measure for college readiness and aptitude ([*source*](https://www.minotdailynews.com/news/local-news/2017/04/a-brief-history-of-the-sat-and-act/)). Supporters of these tests argue that these scores can be used as an objective measure to determine college admittance. Opponents of these tests claim that these tests are not accurate measures of students potential or ability and serve as an inequitable barrier to entry. Lately, more and more schools are opting to drop the SAT/ACT requirement for their Fall 2021 applications ([*read more about this here*](https://www.cnn.com/2020/04/14/us/coronavirus-colleges-sat-act-test-trnd/index.html))."
   ]
  },
  {
   "cell_type": "markdown",
   "metadata": {},
   "source": [
    "**To-Do:** *Fill out this cell (or edit the above cell) with any other background or information that is necessary for your problem statement.*"
   ]
  },
  {
   "cell_type": "markdown",
   "metadata": {},
   "source": [
    "### Choose your Data\n",
    "\n",
    "There are 10 datasets included in the [`data`](./data/) folder for this project. You are required to pick **at least two** of these to complete your analysis. Feel free to use more than two if you would like, or add other relevant datasets you find online.\n",
    "\n",
    "* [`act_2017.csv`](./data/act_2017.csv): 2017 ACT Scores by State\n",
    "* [`act_2018.csv`](./data/act_2018.csv): 2018 ACT Scores by State\n",
    "* [`act_2019.csv`](./data/act_2019.csv): 2019 ACT Scores by State\n",
    "* [`act_2019_ca.csv`](./data/act_2019_ca.csv): 2019 ACT Scores in California by School\n",
    "* [`sat_2017.csv`](./data/sat_2017.csv): 2017 SAT Scores by State\n",
    "* [`sat_2018.csv`](./data/sat_2018.csv): 2018 SAT Scores by State\n",
    "* [`sat_2019.csv`](./data/sat_2019.csv): 2019 SAT Scores by State\n",
    "* [`sat_2019_by_intended_college_major.csv`](./data/sat_2019_by_intended_college_major.csv): 2019 SAT Scores by Intended College Major\n",
    "* [`sat_2019_ca.csv`](./data/sat_2019_ca.csv): 2019 SAT Scores in California by School\n",
    "* [`sat_act_by_college.csv`](./data/sat_act_by_college.csv): Ranges of Accepted ACT & SAT Student Scores by Colleges"
   ]
  },
  {
   "cell_type": "markdown",
   "metadata": {},
   "source": [
    "**To-Do:** *Fill out this cell with the datasets you will use for your analysis. Write a brief description of the contents for each dataset that you choose.*"
   ]
  },
  {
   "cell_type": "markdown",
   "metadata": {},
   "source": [
    "### Outside Research"
   ]
  },
  {
   "cell_type": "markdown",
   "metadata": {},
   "source": [
    "Based on your problem statement and your chosen datasets, spend some time doing outside research on state policies or additional information that might be relevant. Summarize your findings below. If you bring in any outside tables or charts, make sure you are explicit about having borrowed them. If you quote any text, make sure that it renders as being quoted. **Make sure that you cite your sources.**"
   ]
  },
  {
   "cell_type": "markdown",
   "metadata": {},
   "source": [
    "**To-Do:** *Fill out this cell with outside research or any additional background information that will support your analysis.*"
   ]
  },
  {
   "cell_type": "markdown",
   "metadata": {},
   "source": [
    "### Coding Challenges\n",
    "\n",
    "1. Manually calculate mean:\n",
    "\n",
    "    Write a function that takes in values and returns the mean of the values. Create a list of numbers that you test on your function to check to make sure your function works!\n",
    "    \n",
    "    *Note*: Do not use any mean methods built-in to any Python libraries to do this! This should be done without importing any additional libraries."
   ]
  },
  {
   "cell_type": "code",
   "execution_count": 1,
   "metadata": {},
   "outputs": [],
   "source": [
    "# Code:\n",
    "def manual_mean(listofnum):\n",
    "    totalsum = 0\n",
    "    for num in listofnum:\n",
    "        totalsum += num\n",
    "    return totalsum/len(listofnum)"
   ]
  },
  {
   "cell_type": "markdown",
   "metadata": {},
   "source": [
    "2. Manually calculate standard deviation:\n",
    "\n",
    "    The formula for standard deviation is below:\n",
    "\n",
    "    $$\\sigma = \\sqrt{\\frac{1}{n}\\sum_{i=1}^n(x_i - \\mu)^2}$$\n",
    "\n",
    "    Where $x_i$ represents each value in the dataset, $\\mu$ represents the mean of all values in the dataset and $n$ represents the number of values in the dataset.\n",
    "\n",
    "    Write a function that takes in values and returns the standard deviation of the values using the formula above. Hint: use the function you wrote above to calculate the mean! Use the list of numbers you created above to test on your function.\n",
    "    \n",
    "    *Note*: Do not use any standard deviation methods built-in to any Python libraries to do this! This should be done without importing any additional libraries."
   ]
  },
  {
   "cell_type": "code",
   "execution_count": 2,
   "metadata": {},
   "outputs": [],
   "source": [
    "# Code:\n",
    "def manual_std(listofnum):\n",
    "    mean = manual_mean(listofnum)\n",
    "    totalsum = 0\n",
    "    for num in listofnum:\n",
    "        totalsum += (num - mean)**2\n",
    "    return (totalsum/len(listofnum))**0.5"
   ]
  },
  {
   "cell_type": "code",
   "execution_count": 3,
   "metadata": {},
   "outputs": [
    {
     "data": {
      "text/plain": [
       "1.4142135623730951"
      ]
     },
     "execution_count": 3,
     "metadata": {},
     "output_type": "execute_result"
    }
   ],
   "source": [
    "manual_std([1,2,3,4,5])"
   ]
  },
  {
   "cell_type": "markdown",
   "metadata": {},
   "source": [
    "3. Data cleaning function:\n",
    "    \n",
    "    Write a function that takes in a string that is a number and a percent symbol (ex. '50%', '30.5%', etc.) and converts this to a float that is the decimal approximation of the percent. For example, inputting '50%' in your function should return 0.5, '30.5%' should return 0.305, etc. Make sure to test your function to make sure it works!\n",
    "\n",
    "You will use these functions later on in the project!"
   ]
  },
  {
   "cell_type": "code",
   "execution_count": 4,
   "metadata": {},
   "outputs": [],
   "source": [
    "# Code:\n",
    "def clean_pct(string):\n",
    "    try:\n",
    "        return float(string.strip('%'))/100\n",
    "    except:\n",
    "        pass"
   ]
  },
  {
   "cell_type": "code",
   "execution_count": 5,
   "metadata": {},
   "outputs": [
    {
     "data": {
      "text/plain": [
       "0.44"
      ]
     },
     "execution_count": 5,
     "metadata": {},
     "output_type": "execute_result"
    }
   ],
   "source": [
    "clean_pct('44%')"
   ]
  },
  {
   "cell_type": "markdown",
   "metadata": {},
   "source": [
    "--- \n",
    "# Part 2\n",
    "\n",
    "Part 2 requires knowledge of Pandas, EDA, data cleaning, and data visualization.\n",
    "\n",
    "---"
   ]
  },
  {
   "cell_type": "markdown",
   "metadata": {},
   "source": [
    "*All libraries used should be added here*"
   ]
  },
  {
   "cell_type": "code",
   "execution_count": 6,
   "metadata": {},
   "outputs": [],
   "source": [
    "# Imports:\n",
    "import numpy as np\n",
    "import pandas as pd\n",
    "import matplotlib.pyplot as plt\n",
    "import seaborn as sns"
   ]
  },
  {
   "cell_type": "markdown",
   "metadata": {},
   "source": [
    "## Data Import and Cleaning"
   ]
  },
  {
   "cell_type": "markdown",
   "metadata": {},
   "source": [
    "### Data Import & Cleaning\n",
    "\n",
    "Import the datasets that you selected for this project and go through the following steps at a minimum. You are welcome to do further cleaning as you feel necessary:\n",
    "1. Display the data: print the first 5 rows of each dataframe to your Jupyter notebook.\n",
    "2. Check for missing values.\n",
    "3. Check for any obvious issues with the observations (keep in mind the minimum & maximum possible values for each test/subtest).\n",
    "4. Fix any errors you identified in steps 2-3.\n",
    "5. Display the data types of each feature.\n",
    "6. Fix any incorrect data types found in step 5.\n",
    "    - Fix any individual values preventing other columns from being the appropriate type.\n",
    "    - If your dataset has a column of percents (ex. '50%', '30.5%', etc.), use the function you wrote in Part 1 (coding challenges, number 3) to convert this to floats! *Hint*: use `.map()` or `.apply()`.\n",
    "7. Rename Columns.\n",
    "    - Column names should be all lowercase.\n",
    "    - Column names should not contain spaces (underscores will suffice--this allows for using the `df.column_name` method to access columns in addition to `df['column_name']`).\n",
    "    - Column names should be unique and informative.\n",
    "8. Drop unnecessary rows (if needed).\n",
    "9. Merge dataframes that can be merged.\n",
    "10. Perform any additional cleaning that you feel is necessary.\n",
    "11. Save your cleaned and merged dataframes as csv files."
   ]
  },
  {
   "cell_type": "markdown",
   "metadata": {},
   "source": [
    "## Step 1. Import and display datasets"
   ]
  },
  {
   "cell_type": "code",
   "execution_count": 7,
   "metadata": {},
   "outputs": [],
   "source": [
    "act17 = pd.read_csv(\"../data/act_2017.csv\")\n",
    "act18 = pd.read_csv(\"../data/act_2018.csv\")\n",
    "act19 = pd.read_csv(\"../data/act_2019.csv\")\n",
    "sat17 = pd.read_csv(\"../data/sat_2017.csv\")\n",
    "sat18 = pd.read_csv(\"../data/sat_2018.csv\")\n",
    "sat19 = pd.read_csv(\"../data/sat_2019.csv\")\n",
    "act19ca = pd.read_csv(\"../data/act_2019_ca.csv\")\n",
    "sat19ca = pd.read_csv(\"../data/sat_2019_ca.csv\")\n",
    "gdpcounty = pd.read_csv(\"../data/gdp_county_2017to2019.csv\")\n",
    "countystats = pd.read_csv(\"../data/countystats.csv\", thousands=\",\")"
   ]
  },
  {
   "cell_type": "markdown",
   "metadata": {},
   "source": [
    "### Display ACT17"
   ]
  },
  {
   "cell_type": "code",
   "execution_count": 8,
   "metadata": {
    "scrolled": false
   },
   "outputs": [
    {
     "data": {
      "text/html": [
       "<div>\n",
       "<style scoped>\n",
       "    .dataframe tbody tr th:only-of-type {\n",
       "        vertical-align: middle;\n",
       "    }\n",
       "\n",
       "    .dataframe tbody tr th {\n",
       "        vertical-align: top;\n",
       "    }\n",
       "\n",
       "    .dataframe thead th {\n",
       "        text-align: right;\n",
       "    }\n",
       "</style>\n",
       "<table border=\"1\" class=\"dataframe\">\n",
       "  <thead>\n",
       "    <tr style=\"text-align: right;\">\n",
       "      <th></th>\n",
       "      <th>State</th>\n",
       "      <th>Participation</th>\n",
       "      <th>English</th>\n",
       "      <th>Math</th>\n",
       "      <th>Reading</th>\n",
       "      <th>Science</th>\n",
       "      <th>Composite</th>\n",
       "    </tr>\n",
       "  </thead>\n",
       "  <tbody>\n",
       "    <tr>\n",
       "      <th>0</th>\n",
       "      <td>National</td>\n",
       "      <td>60%</td>\n",
       "      <td>20.3</td>\n",
       "      <td>20.7</td>\n",
       "      <td>21.4</td>\n",
       "      <td>21.0</td>\n",
       "      <td>21.0</td>\n",
       "    </tr>\n",
       "    <tr>\n",
       "      <th>1</th>\n",
       "      <td>Alabama</td>\n",
       "      <td>100%</td>\n",
       "      <td>18.9</td>\n",
       "      <td>18.4</td>\n",
       "      <td>19.7</td>\n",
       "      <td>19.4</td>\n",
       "      <td>19.2</td>\n",
       "    </tr>\n",
       "    <tr>\n",
       "      <th>2</th>\n",
       "      <td>Alaska</td>\n",
       "      <td>65%</td>\n",
       "      <td>18.7</td>\n",
       "      <td>19.8</td>\n",
       "      <td>20.4</td>\n",
       "      <td>19.9</td>\n",
       "      <td>19.8</td>\n",
       "    </tr>\n",
       "    <tr>\n",
       "      <th>3</th>\n",
       "      <td>Arizona</td>\n",
       "      <td>62%</td>\n",
       "      <td>18.6</td>\n",
       "      <td>19.8</td>\n",
       "      <td>20.1</td>\n",
       "      <td>19.8</td>\n",
       "      <td>19.7</td>\n",
       "    </tr>\n",
       "    <tr>\n",
       "      <th>4</th>\n",
       "      <td>Arkansas</td>\n",
       "      <td>100%</td>\n",
       "      <td>18.9</td>\n",
       "      <td>19.0</td>\n",
       "      <td>19.7</td>\n",
       "      <td>19.5</td>\n",
       "      <td>19.4</td>\n",
       "    </tr>\n",
       "  </tbody>\n",
       "</table>\n",
       "</div>"
      ],
      "text/plain": [
       "      State Participation  English  Math  Reading  Science Composite\n",
       "0  National           60%     20.3  20.7     21.4     21.0      21.0\n",
       "1   Alabama          100%     18.9  18.4     19.7     19.4      19.2\n",
       "2    Alaska           65%     18.7  19.8     20.4     19.9      19.8\n",
       "3   Arizona           62%     18.6  19.8     20.1     19.8      19.7\n",
       "4  Arkansas          100%     18.9  19.0     19.7     19.5      19.4"
      ]
     },
     "execution_count": 8,
     "metadata": {},
     "output_type": "execute_result"
    }
   ],
   "source": [
    "act17.head()"
   ]
  },
  {
   "cell_type": "markdown",
   "metadata": {},
   "source": [
    "### Display ACT18"
   ]
  },
  {
   "cell_type": "code",
   "execution_count": 9,
   "metadata": {
    "scrolled": true
   },
   "outputs": [
    {
     "data": {
      "text/html": [
       "<div>\n",
       "<style scoped>\n",
       "    .dataframe tbody tr th:only-of-type {\n",
       "        vertical-align: middle;\n",
       "    }\n",
       "\n",
       "    .dataframe tbody tr th {\n",
       "        vertical-align: top;\n",
       "    }\n",
       "\n",
       "    .dataframe thead th {\n",
       "        text-align: right;\n",
       "    }\n",
       "</style>\n",
       "<table border=\"1\" class=\"dataframe\">\n",
       "  <thead>\n",
       "    <tr style=\"text-align: right;\">\n",
       "      <th></th>\n",
       "      <th>State</th>\n",
       "      <th>Participation</th>\n",
       "      <th>Composite</th>\n",
       "    </tr>\n",
       "  </thead>\n",
       "  <tbody>\n",
       "    <tr>\n",
       "      <th>0</th>\n",
       "      <td>Alabama</td>\n",
       "      <td>100%</td>\n",
       "      <td>19.1</td>\n",
       "    </tr>\n",
       "    <tr>\n",
       "      <th>1</th>\n",
       "      <td>Alaska</td>\n",
       "      <td>33%</td>\n",
       "      <td>20.8</td>\n",
       "    </tr>\n",
       "    <tr>\n",
       "      <th>2</th>\n",
       "      <td>Arizona</td>\n",
       "      <td>66%</td>\n",
       "      <td>19.2</td>\n",
       "    </tr>\n",
       "    <tr>\n",
       "      <th>3</th>\n",
       "      <td>Arkansas</td>\n",
       "      <td>100%</td>\n",
       "      <td>19.4</td>\n",
       "    </tr>\n",
       "    <tr>\n",
       "      <th>4</th>\n",
       "      <td>California</td>\n",
       "      <td>27%</td>\n",
       "      <td>22.7</td>\n",
       "    </tr>\n",
       "  </tbody>\n",
       "</table>\n",
       "</div>"
      ],
      "text/plain": [
       "        State Participation  Composite\n",
       "0     Alabama          100%       19.1\n",
       "1      Alaska           33%       20.8\n",
       "2     Arizona           66%       19.2\n",
       "3    Arkansas          100%       19.4\n",
       "4  California           27%       22.7"
      ]
     },
     "execution_count": 9,
     "metadata": {},
     "output_type": "execute_result"
    }
   ],
   "source": [
    "act18.head()"
   ]
  },
  {
   "cell_type": "markdown",
   "metadata": {},
   "source": [
    "### Display ACT19"
   ]
  },
  {
   "cell_type": "code",
   "execution_count": 10,
   "metadata": {
    "scrolled": true
   },
   "outputs": [
    {
     "data": {
      "text/html": [
       "<div>\n",
       "<style scoped>\n",
       "    .dataframe tbody tr th:only-of-type {\n",
       "        vertical-align: middle;\n",
       "    }\n",
       "\n",
       "    .dataframe tbody tr th {\n",
       "        vertical-align: top;\n",
       "    }\n",
       "\n",
       "    .dataframe thead th {\n",
       "        text-align: right;\n",
       "    }\n",
       "</style>\n",
       "<table border=\"1\" class=\"dataframe\">\n",
       "  <thead>\n",
       "    <tr style=\"text-align: right;\">\n",
       "      <th></th>\n",
       "      <th>State</th>\n",
       "      <th>Participation</th>\n",
       "      <th>Composite</th>\n",
       "    </tr>\n",
       "  </thead>\n",
       "  <tbody>\n",
       "    <tr>\n",
       "      <th>0</th>\n",
       "      <td>Alabama</td>\n",
       "      <td>100%</td>\n",
       "      <td>18.9</td>\n",
       "    </tr>\n",
       "    <tr>\n",
       "      <th>1</th>\n",
       "      <td>Alaska</td>\n",
       "      <td>38%</td>\n",
       "      <td>20.1</td>\n",
       "    </tr>\n",
       "    <tr>\n",
       "      <th>2</th>\n",
       "      <td>Arizona</td>\n",
       "      <td>73%</td>\n",
       "      <td>19.0</td>\n",
       "    </tr>\n",
       "    <tr>\n",
       "      <th>3</th>\n",
       "      <td>Arkansas</td>\n",
       "      <td>100%</td>\n",
       "      <td>19.3</td>\n",
       "    </tr>\n",
       "    <tr>\n",
       "      <th>4</th>\n",
       "      <td>California</td>\n",
       "      <td>23%</td>\n",
       "      <td>22.6</td>\n",
       "    </tr>\n",
       "  </tbody>\n",
       "</table>\n",
       "</div>"
      ],
      "text/plain": [
       "        State Participation  Composite\n",
       "0     Alabama          100%       18.9\n",
       "1      Alaska           38%       20.1\n",
       "2     Arizona           73%       19.0\n",
       "3    Arkansas          100%       19.3\n",
       "4  California           23%       22.6"
      ]
     },
     "execution_count": 10,
     "metadata": {},
     "output_type": "execute_result"
    }
   ],
   "source": [
    "act19.head()"
   ]
  },
  {
   "cell_type": "markdown",
   "metadata": {},
   "source": [
    "### Display SAT17"
   ]
  },
  {
   "cell_type": "code",
   "execution_count": 11,
   "metadata": {
    "scrolled": true
   },
   "outputs": [
    {
     "data": {
      "text/html": [
       "<div>\n",
       "<style scoped>\n",
       "    .dataframe tbody tr th:only-of-type {\n",
       "        vertical-align: middle;\n",
       "    }\n",
       "\n",
       "    .dataframe tbody tr th {\n",
       "        vertical-align: top;\n",
       "    }\n",
       "\n",
       "    .dataframe thead th {\n",
       "        text-align: right;\n",
       "    }\n",
       "</style>\n",
       "<table border=\"1\" class=\"dataframe\">\n",
       "  <thead>\n",
       "    <tr style=\"text-align: right;\">\n",
       "      <th></th>\n",
       "      <th>State</th>\n",
       "      <th>Participation</th>\n",
       "      <th>Evidence-Based Reading and Writing</th>\n",
       "      <th>Math</th>\n",
       "      <th>Total</th>\n",
       "    </tr>\n",
       "  </thead>\n",
       "  <tbody>\n",
       "    <tr>\n",
       "      <th>0</th>\n",
       "      <td>Alabama</td>\n",
       "      <td>5%</td>\n",
       "      <td>593</td>\n",
       "      <td>572</td>\n",
       "      <td>1165</td>\n",
       "    </tr>\n",
       "    <tr>\n",
       "      <th>1</th>\n",
       "      <td>Alaska</td>\n",
       "      <td>38%</td>\n",
       "      <td>547</td>\n",
       "      <td>533</td>\n",
       "      <td>1080</td>\n",
       "    </tr>\n",
       "    <tr>\n",
       "      <th>2</th>\n",
       "      <td>Arizona</td>\n",
       "      <td>30%</td>\n",
       "      <td>563</td>\n",
       "      <td>553</td>\n",
       "      <td>1116</td>\n",
       "    </tr>\n",
       "    <tr>\n",
       "      <th>3</th>\n",
       "      <td>Arkansas</td>\n",
       "      <td>3%</td>\n",
       "      <td>614</td>\n",
       "      <td>594</td>\n",
       "      <td>1208</td>\n",
       "    </tr>\n",
       "    <tr>\n",
       "      <th>4</th>\n",
       "      <td>California</td>\n",
       "      <td>53%</td>\n",
       "      <td>531</td>\n",
       "      <td>524</td>\n",
       "      <td>1055</td>\n",
       "    </tr>\n",
       "  </tbody>\n",
       "</table>\n",
       "</div>"
      ],
      "text/plain": [
       "        State Participation  Evidence-Based Reading and Writing  Math  Total\n",
       "0     Alabama            5%                                 593   572   1165\n",
       "1      Alaska           38%                                 547   533   1080\n",
       "2     Arizona           30%                                 563   553   1116\n",
       "3    Arkansas            3%                                 614   594   1208\n",
       "4  California           53%                                 531   524   1055"
      ]
     },
     "execution_count": 11,
     "metadata": {},
     "output_type": "execute_result"
    }
   ],
   "source": [
    "sat17.head()"
   ]
  },
  {
   "cell_type": "markdown",
   "metadata": {},
   "source": [
    "### Display SAT18"
   ]
  },
  {
   "cell_type": "code",
   "execution_count": 12,
   "metadata": {
    "scrolled": true
   },
   "outputs": [
    {
     "data": {
      "text/html": [
       "<div>\n",
       "<style scoped>\n",
       "    .dataframe tbody tr th:only-of-type {\n",
       "        vertical-align: middle;\n",
       "    }\n",
       "\n",
       "    .dataframe tbody tr th {\n",
       "        vertical-align: top;\n",
       "    }\n",
       "\n",
       "    .dataframe thead th {\n",
       "        text-align: right;\n",
       "    }\n",
       "</style>\n",
       "<table border=\"1\" class=\"dataframe\">\n",
       "  <thead>\n",
       "    <tr style=\"text-align: right;\">\n",
       "      <th></th>\n",
       "      <th>State</th>\n",
       "      <th>Participation</th>\n",
       "      <th>Evidence-Based Reading and Writing</th>\n",
       "      <th>Math</th>\n",
       "      <th>Total</th>\n",
       "    </tr>\n",
       "  </thead>\n",
       "  <tbody>\n",
       "    <tr>\n",
       "      <th>0</th>\n",
       "      <td>Alabama</td>\n",
       "      <td>6%</td>\n",
       "      <td>595</td>\n",
       "      <td>571</td>\n",
       "      <td>1166</td>\n",
       "    </tr>\n",
       "    <tr>\n",
       "      <th>1</th>\n",
       "      <td>Alaska</td>\n",
       "      <td>43%</td>\n",
       "      <td>562</td>\n",
       "      <td>544</td>\n",
       "      <td>1106</td>\n",
       "    </tr>\n",
       "    <tr>\n",
       "      <th>2</th>\n",
       "      <td>Arizona</td>\n",
       "      <td>29%</td>\n",
       "      <td>577</td>\n",
       "      <td>572</td>\n",
       "      <td>1149</td>\n",
       "    </tr>\n",
       "    <tr>\n",
       "      <th>3</th>\n",
       "      <td>Arkansas</td>\n",
       "      <td>5%</td>\n",
       "      <td>592</td>\n",
       "      <td>576</td>\n",
       "      <td>1169</td>\n",
       "    </tr>\n",
       "    <tr>\n",
       "      <th>4</th>\n",
       "      <td>California</td>\n",
       "      <td>60%</td>\n",
       "      <td>540</td>\n",
       "      <td>536</td>\n",
       "      <td>1076</td>\n",
       "    </tr>\n",
       "  </tbody>\n",
       "</table>\n",
       "</div>"
      ],
      "text/plain": [
       "        State Participation  Evidence-Based Reading and Writing  Math  Total\n",
       "0     Alabama            6%                                 595   571   1166\n",
       "1      Alaska           43%                                 562   544   1106\n",
       "2     Arizona           29%                                 577   572   1149\n",
       "3    Arkansas            5%                                 592   576   1169\n",
       "4  California           60%                                 540   536   1076"
      ]
     },
     "execution_count": 12,
     "metadata": {},
     "output_type": "execute_result"
    }
   ],
   "source": [
    "sat18.head()"
   ]
  },
  {
   "cell_type": "markdown",
   "metadata": {},
   "source": [
    "### Display SAT19"
   ]
  },
  {
   "cell_type": "code",
   "execution_count": 13,
   "metadata": {
    "scrolled": true
   },
   "outputs": [
    {
     "data": {
      "text/html": [
       "<div>\n",
       "<style scoped>\n",
       "    .dataframe tbody tr th:only-of-type {\n",
       "        vertical-align: middle;\n",
       "    }\n",
       "\n",
       "    .dataframe tbody tr th {\n",
       "        vertical-align: top;\n",
       "    }\n",
       "\n",
       "    .dataframe thead th {\n",
       "        text-align: right;\n",
       "    }\n",
       "</style>\n",
       "<table border=\"1\" class=\"dataframe\">\n",
       "  <thead>\n",
       "    <tr style=\"text-align: right;\">\n",
       "      <th></th>\n",
       "      <th>State</th>\n",
       "      <th>Participation Rate</th>\n",
       "      <th>EBRW</th>\n",
       "      <th>Math</th>\n",
       "      <th>Total</th>\n",
       "    </tr>\n",
       "  </thead>\n",
       "  <tbody>\n",
       "    <tr>\n",
       "      <th>0</th>\n",
       "      <td>Alabama</td>\n",
       "      <td>7%</td>\n",
       "      <td>583</td>\n",
       "      <td>560</td>\n",
       "      <td>1143</td>\n",
       "    </tr>\n",
       "    <tr>\n",
       "      <th>1</th>\n",
       "      <td>Alaska</td>\n",
       "      <td>41%</td>\n",
       "      <td>556</td>\n",
       "      <td>541</td>\n",
       "      <td>1097</td>\n",
       "    </tr>\n",
       "    <tr>\n",
       "      <th>2</th>\n",
       "      <td>Arizona</td>\n",
       "      <td>31%</td>\n",
       "      <td>569</td>\n",
       "      <td>565</td>\n",
       "      <td>1134</td>\n",
       "    </tr>\n",
       "    <tr>\n",
       "      <th>3</th>\n",
       "      <td>Arkansas</td>\n",
       "      <td>6%</td>\n",
       "      <td>582</td>\n",
       "      <td>559</td>\n",
       "      <td>1141</td>\n",
       "    </tr>\n",
       "    <tr>\n",
       "      <th>4</th>\n",
       "      <td>California</td>\n",
       "      <td>63%</td>\n",
       "      <td>534</td>\n",
       "      <td>531</td>\n",
       "      <td>1065</td>\n",
       "    </tr>\n",
       "  </tbody>\n",
       "</table>\n",
       "</div>"
      ],
      "text/plain": [
       "        State Participation Rate  EBRW  Math  Total\n",
       "0     Alabama                 7%   583   560   1143\n",
       "1      Alaska                41%   556   541   1097\n",
       "2     Arizona                31%   569   565   1134\n",
       "3    Arkansas                 6%   582   559   1141\n",
       "4  California                63%   534   531   1065"
      ]
     },
     "execution_count": 13,
     "metadata": {},
     "output_type": "execute_result"
    }
   ],
   "source": [
    "sat19.head()"
   ]
  },
  {
   "cell_type": "markdown",
   "metadata": {},
   "source": [
    "### Display ACT19 scores for California State"
   ]
  },
  {
   "cell_type": "code",
   "execution_count": 14,
   "metadata": {
    "scrolled": true
   },
   "outputs": [
    {
     "data": {
      "text/html": [
       "<div>\n",
       "<style scoped>\n",
       "    .dataframe tbody tr th:only-of-type {\n",
       "        vertical-align: middle;\n",
       "    }\n",
       "\n",
       "    .dataframe tbody tr th {\n",
       "        vertical-align: top;\n",
       "    }\n",
       "\n",
       "    .dataframe thead th {\n",
       "        text-align: right;\n",
       "    }\n",
       "</style>\n",
       "<table border=\"1\" class=\"dataframe\">\n",
       "  <thead>\n",
       "    <tr style=\"text-align: right;\">\n",
       "      <th></th>\n",
       "      <th>CDS</th>\n",
       "      <th>CCode</th>\n",
       "      <th>CDCode</th>\n",
       "      <th>SCode</th>\n",
       "      <th>RType</th>\n",
       "      <th>SName</th>\n",
       "      <th>DName</th>\n",
       "      <th>CName</th>\n",
       "      <th>Enroll12</th>\n",
       "      <th>NumTstTakr</th>\n",
       "      <th>AvgScrRead</th>\n",
       "      <th>AvgScrEng</th>\n",
       "      <th>AvgScrMath</th>\n",
       "      <th>AvgScrSci</th>\n",
       "      <th>NumGE21</th>\n",
       "      <th>PctGE21</th>\n",
       "      <th>Year</th>\n",
       "      <th>Unnamed: 17</th>\n",
       "    </tr>\n",
       "  </thead>\n",
       "  <tbody>\n",
       "    <tr>\n",
       "      <th>0</th>\n",
       "      <td>3.366993e+13</td>\n",
       "      <td>33.0</td>\n",
       "      <td>3366993.0</td>\n",
       "      <td>129882.0</td>\n",
       "      <td>S</td>\n",
       "      <td>21st Century Learning Institute</td>\n",
       "      <td>Beaumont Unified</td>\n",
       "      <td>Riverside</td>\n",
       "      <td>18.0</td>\n",
       "      <td>0.0</td>\n",
       "      <td>NaN</td>\n",
       "      <td>NaN</td>\n",
       "      <td>NaN</td>\n",
       "      <td>NaN</td>\n",
       "      <td>NaN</td>\n",
       "      <td>NaN</td>\n",
       "      <td>2018-19</td>\n",
       "      <td>NaN</td>\n",
       "    </tr>\n",
       "    <tr>\n",
       "      <th>1</th>\n",
       "      <td>1.964212e+13</td>\n",
       "      <td>19.0</td>\n",
       "      <td>1964212.0</td>\n",
       "      <td>1995596.0</td>\n",
       "      <td>S</td>\n",
       "      <td>ABC Secondary (Alternative)</td>\n",
       "      <td>ABC Unified</td>\n",
       "      <td>Los Angeles</td>\n",
       "      <td>58.0</td>\n",
       "      <td>0.0</td>\n",
       "      <td>NaN</td>\n",
       "      <td>NaN</td>\n",
       "      <td>NaN</td>\n",
       "      <td>NaN</td>\n",
       "      <td>NaN</td>\n",
       "      <td>NaN</td>\n",
       "      <td>2018-19</td>\n",
       "      <td>NaN</td>\n",
       "    </tr>\n",
       "    <tr>\n",
       "      <th>2</th>\n",
       "      <td>1.563776e+13</td>\n",
       "      <td>15.0</td>\n",
       "      <td>1563776.0</td>\n",
       "      <td>1530377.0</td>\n",
       "      <td>S</td>\n",
       "      <td>Abraham Lincoln Alternative</td>\n",
       "      <td>Southern Kern Unified</td>\n",
       "      <td>Kern</td>\n",
       "      <td>18.0</td>\n",
       "      <td>0.0</td>\n",
       "      <td>NaN</td>\n",
       "      <td>NaN</td>\n",
       "      <td>NaN</td>\n",
       "      <td>NaN</td>\n",
       "      <td>NaN</td>\n",
       "      <td>NaN</td>\n",
       "      <td>2018-19</td>\n",
       "      <td>NaN</td>\n",
       "    </tr>\n",
       "    <tr>\n",
       "      <th>3</th>\n",
       "      <td>4.369666e+13</td>\n",
       "      <td>43.0</td>\n",
       "      <td>4369666.0</td>\n",
       "      <td>4333795.0</td>\n",
       "      <td>S</td>\n",
       "      <td>Abraham Lincoln High</td>\n",
       "      <td>San Jose Unified</td>\n",
       "      <td>Santa Clara</td>\n",
       "      <td>463.0</td>\n",
       "      <td>53.0</td>\n",
       "      <td>23</td>\n",
       "      <td>22</td>\n",
       "      <td>22</td>\n",
       "      <td>23</td>\n",
       "      <td>34</td>\n",
       "      <td>64.15</td>\n",
       "      <td>2018-19</td>\n",
       "      <td>NaN</td>\n",
       "    </tr>\n",
       "    <tr>\n",
       "      <th>4</th>\n",
       "      <td>1.964733e+13</td>\n",
       "      <td>19.0</td>\n",
       "      <td>1964733.0</td>\n",
       "      <td>1935121.0</td>\n",
       "      <td>S</td>\n",
       "      <td>Abraham Lincoln Senior High</td>\n",
       "      <td>Los Angeles Unified</td>\n",
       "      <td>Los Angeles</td>\n",
       "      <td>226.0</td>\n",
       "      <td>19.0</td>\n",
       "      <td>21</td>\n",
       "      <td>20</td>\n",
       "      <td>23</td>\n",
       "      <td>22</td>\n",
       "      <td>11</td>\n",
       "      <td>57.89</td>\n",
       "      <td>2018-19</td>\n",
       "      <td>NaN</td>\n",
       "    </tr>\n",
       "  </tbody>\n",
       "</table>\n",
       "</div>"
      ],
      "text/plain": [
       "            CDS  CCode     CDCode      SCode RType  \\\n",
       "0  3.366993e+13   33.0  3366993.0   129882.0     S   \n",
       "1  1.964212e+13   19.0  1964212.0  1995596.0     S   \n",
       "2  1.563776e+13   15.0  1563776.0  1530377.0     S   \n",
       "3  4.369666e+13   43.0  4369666.0  4333795.0     S   \n",
       "4  1.964733e+13   19.0  1964733.0  1935121.0     S   \n",
       "\n",
       "                             SName                  DName        CName  \\\n",
       "0  21st Century Learning Institute       Beaumont Unified    Riverside   \n",
       "1      ABC Secondary (Alternative)            ABC Unified  Los Angeles   \n",
       "2      Abraham Lincoln Alternative  Southern Kern Unified         Kern   \n",
       "3             Abraham Lincoln High       San Jose Unified  Santa Clara   \n",
       "4      Abraham Lincoln Senior High    Los Angeles Unified  Los Angeles   \n",
       "\n",
       "   Enroll12  NumTstTakr AvgScrRead AvgScrEng AvgScrMath AvgScrSci NumGE21  \\\n",
       "0      18.0         0.0        NaN       NaN        NaN       NaN     NaN   \n",
       "1      58.0         0.0        NaN       NaN        NaN       NaN     NaN   \n",
       "2      18.0         0.0        NaN       NaN        NaN       NaN     NaN   \n",
       "3     463.0        53.0         23        22         22        23      34   \n",
       "4     226.0        19.0         21        20         23        22      11   \n",
       "\n",
       "  PctGE21     Year  Unnamed: 17  \n",
       "0     NaN  2018-19          NaN  \n",
       "1     NaN  2018-19          NaN  \n",
       "2     NaN  2018-19          NaN  \n",
       "3   64.15  2018-19          NaN  \n",
       "4   57.89  2018-19          NaN  "
      ]
     },
     "execution_count": 14,
     "metadata": {},
     "output_type": "execute_result"
    }
   ],
   "source": [
    "act19ca.head()"
   ]
  },
  {
   "cell_type": "markdown",
   "metadata": {},
   "source": [
    "### Display SAT19 scores for California State"
   ]
  },
  {
   "cell_type": "code",
   "execution_count": 15,
   "metadata": {
    "scrolled": false
   },
   "outputs": [
    {
     "data": {
      "text/html": [
       "<div>\n",
       "<style scoped>\n",
       "    .dataframe tbody tr th:only-of-type {\n",
       "        vertical-align: middle;\n",
       "    }\n",
       "\n",
       "    .dataframe tbody tr th {\n",
       "        vertical-align: top;\n",
       "    }\n",
       "\n",
       "    .dataframe thead th {\n",
       "        text-align: right;\n",
       "    }\n",
       "</style>\n",
       "<table border=\"1\" class=\"dataframe\">\n",
       "  <thead>\n",
       "    <tr style=\"text-align: right;\">\n",
       "      <th></th>\n",
       "      <th>CDS</th>\n",
       "      <th>CCode</th>\n",
       "      <th>CDCode</th>\n",
       "      <th>SCode</th>\n",
       "      <th>RType</th>\n",
       "      <th>SName</th>\n",
       "      <th>DName</th>\n",
       "      <th>CName</th>\n",
       "      <th>Enroll12</th>\n",
       "      <th>NumTSTTakr12</th>\n",
       "      <th>...</th>\n",
       "      <th>NumERWBenchmark11</th>\n",
       "      <th>PctERWBenchmark11</th>\n",
       "      <th>NumMathBenchmark11</th>\n",
       "      <th>PctMathBenchmark11</th>\n",
       "      <th>TotNumBothBenchmark12</th>\n",
       "      <th>PctBothBenchmark12</th>\n",
       "      <th>TotNumBothBenchmark11</th>\n",
       "      <th>PctBothBenchmark11</th>\n",
       "      <th>Year</th>\n",
       "      <th>Unnamed: 25</th>\n",
       "    </tr>\n",
       "  </thead>\n",
       "  <tbody>\n",
       "    <tr>\n",
       "      <th>0</th>\n",
       "      <td>6.615981e+12</td>\n",
       "      <td>6.0</td>\n",
       "      <td>661598.0</td>\n",
       "      <td>630046.0</td>\n",
       "      <td>S</td>\n",
       "      <td>Colusa Alternative Home</td>\n",
       "      <td>Colusa Unified</td>\n",
       "      <td>Colusa</td>\n",
       "      <td>18.0</td>\n",
       "      <td>0.0</td>\n",
       "      <td>...</td>\n",
       "      <td>NaN</td>\n",
       "      <td>NaN</td>\n",
       "      <td>NaN</td>\n",
       "      <td>NaN</td>\n",
       "      <td>NaN</td>\n",
       "      <td>NaN</td>\n",
       "      <td>NaN</td>\n",
       "      <td>NaN</td>\n",
       "      <td>2018-19</td>\n",
       "      <td>NaN</td>\n",
       "    </tr>\n",
       "    <tr>\n",
       "      <th>1</th>\n",
       "      <td>6.616061e+12</td>\n",
       "      <td>6.0</td>\n",
       "      <td>661606.0</td>\n",
       "      <td>634758.0</td>\n",
       "      <td>S</td>\n",
       "      <td>Maxwell Sr High</td>\n",
       "      <td>Maxwell Unified</td>\n",
       "      <td>Colusa</td>\n",
       "      <td>29.0</td>\n",
       "      <td>10.0</td>\n",
       "      <td>...</td>\n",
       "      <td>*</td>\n",
       "      <td>*</td>\n",
       "      <td>*</td>\n",
       "      <td>*</td>\n",
       "      <td>*</td>\n",
       "      <td>*</td>\n",
       "      <td>*</td>\n",
       "      <td>*</td>\n",
       "      <td>2018-19</td>\n",
       "      <td>NaN</td>\n",
       "    </tr>\n",
       "    <tr>\n",
       "      <th>2</th>\n",
       "      <td>1.964733e+13</td>\n",
       "      <td>19.0</td>\n",
       "      <td>1964733.0</td>\n",
       "      <td>1930924.0</td>\n",
       "      <td>S</td>\n",
       "      <td>Belmont Senior High</td>\n",
       "      <td>Los Angeles Unified</td>\n",
       "      <td>Los Angeles</td>\n",
       "      <td>206.0</td>\n",
       "      <td>102.0</td>\n",
       "      <td>...</td>\n",
       "      <td>42</td>\n",
       "      <td>24.14</td>\n",
       "      <td>12</td>\n",
       "      <td>6.90</td>\n",
       "      <td>14</td>\n",
       "      <td>13.73</td>\n",
       "      <td>11</td>\n",
       "      <td>6.32</td>\n",
       "      <td>2018-19</td>\n",
       "      <td>NaN</td>\n",
       "    </tr>\n",
       "    <tr>\n",
       "      <th>3</th>\n",
       "      <td>1.964733e+13</td>\n",
       "      <td>19.0</td>\n",
       "      <td>1964733.0</td>\n",
       "      <td>1931476.0</td>\n",
       "      <td>S</td>\n",
       "      <td>Canoga Park Senior High</td>\n",
       "      <td>Los Angeles Unified</td>\n",
       "      <td>Los Angeles</td>\n",
       "      <td>227.0</td>\n",
       "      <td>113.0</td>\n",
       "      <td>...</td>\n",
       "      <td>97</td>\n",
       "      <td>35.27</td>\n",
       "      <td>37</td>\n",
       "      <td>13.45</td>\n",
       "      <td>18</td>\n",
       "      <td>15.93</td>\n",
       "      <td>35</td>\n",
       "      <td>12.73</td>\n",
       "      <td>2018-19</td>\n",
       "      <td>NaN</td>\n",
       "    </tr>\n",
       "    <tr>\n",
       "      <th>4</th>\n",
       "      <td>1.964733e+13</td>\n",
       "      <td>19.0</td>\n",
       "      <td>1964733.0</td>\n",
       "      <td>1931856.0</td>\n",
       "      <td>S</td>\n",
       "      <td>Whitman Continuation</td>\n",
       "      <td>Los Angeles Unified</td>\n",
       "      <td>Los Angeles</td>\n",
       "      <td>18.0</td>\n",
       "      <td>14.0</td>\n",
       "      <td>...</td>\n",
       "      <td>*</td>\n",
       "      <td>*</td>\n",
       "      <td>*</td>\n",
       "      <td>*</td>\n",
       "      <td>*</td>\n",
       "      <td>*</td>\n",
       "      <td>*</td>\n",
       "      <td>*</td>\n",
       "      <td>2018-19</td>\n",
       "      <td>NaN</td>\n",
       "    </tr>\n",
       "  </tbody>\n",
       "</table>\n",
       "<p>5 rows × 26 columns</p>\n",
       "</div>"
      ],
      "text/plain": [
       "            CDS  CCode     CDCode      SCode RType                    SName  \\\n",
       "0  6.615981e+12    6.0   661598.0   630046.0     S  Colusa Alternative Home   \n",
       "1  6.616061e+12    6.0   661606.0   634758.0     S          Maxwell Sr High   \n",
       "2  1.964733e+13   19.0  1964733.0  1930924.0     S      Belmont Senior High   \n",
       "3  1.964733e+13   19.0  1964733.0  1931476.0     S  Canoga Park Senior High   \n",
       "4  1.964733e+13   19.0  1964733.0  1931856.0     S     Whitman Continuation   \n",
       "\n",
       "                 DName        CName  Enroll12  NumTSTTakr12  ...  \\\n",
       "0       Colusa Unified       Colusa      18.0           0.0  ...   \n",
       "1      Maxwell Unified       Colusa      29.0          10.0  ...   \n",
       "2  Los Angeles Unified  Los Angeles     206.0         102.0  ...   \n",
       "3  Los Angeles Unified  Los Angeles     227.0         113.0  ...   \n",
       "4  Los Angeles Unified  Los Angeles      18.0          14.0  ...   \n",
       "\n",
       "  NumERWBenchmark11 PctERWBenchmark11 NumMathBenchmark11 PctMathBenchmark11  \\\n",
       "0               NaN               NaN                NaN                NaN   \n",
       "1                 *                 *                  *                  *   \n",
       "2                42             24.14                 12               6.90   \n",
       "3                97             35.27                 37              13.45   \n",
       "4                 *                 *                  *                  *   \n",
       "\n",
       "   TotNumBothBenchmark12  PctBothBenchmark12 TotNumBothBenchmark11  \\\n",
       "0                    NaN                 NaN                   NaN   \n",
       "1                      *                   *                     *   \n",
       "2                     14               13.73                    11   \n",
       "3                     18               15.93                    35   \n",
       "4                      *                   *                     *   \n",
       "\n",
       "  PctBothBenchmark11     Year Unnamed: 25  \n",
       "0                NaN  2018-19         NaN  \n",
       "1                  *  2018-19         NaN  \n",
       "2               6.32  2018-19         NaN  \n",
       "3              12.73  2018-19         NaN  \n",
       "4                  *  2018-19         NaN  \n",
       "\n",
       "[5 rows x 26 columns]"
      ]
     },
     "execution_count": 15,
     "metadata": {},
     "output_type": "execute_result"
    }
   ],
   "source": [
    "sat19ca.head()"
   ]
  },
  {
   "cell_type": "markdown",
   "metadata": {},
   "source": [
    "### Display GDP Data by County"
   ]
  },
  {
   "cell_type": "code",
   "execution_count": 16,
   "metadata": {
    "scrolled": false
   },
   "outputs": [
    {
     "data": {
      "text/html": [
       "<div>\n",
       "<style scoped>\n",
       "    .dataframe tbody tr th:only-of-type {\n",
       "        vertical-align: middle;\n",
       "    }\n",
       "\n",
       "    .dataframe tbody tr th {\n",
       "        vertical-align: top;\n",
       "    }\n",
       "\n",
       "    .dataframe thead th {\n",
       "        text-align: right;\n",
       "    }\n",
       "</style>\n",
       "<table border=\"1\" class=\"dataframe\">\n",
       "  <thead>\n",
       "    <tr style=\"text-align: right;\">\n",
       "      <th></th>\n",
       "      <th>GeoFips</th>\n",
       "      <th>GeoName</th>\n",
       "      <th>2017</th>\n",
       "      <th>2018</th>\n",
       "      <th>2019</th>\n",
       "    </tr>\n",
       "  </thead>\n",
       "  <tbody>\n",
       "    <tr>\n",
       "      <th>0</th>\n",
       "      <td>1001</td>\n",
       "      <td>Autauga, AL</td>\n",
       "      <td>1587695</td>\n",
       "      <td>1602077</td>\n",
       "      <td>1540762</td>\n",
       "    </tr>\n",
       "    <tr>\n",
       "      <th>1</th>\n",
       "      <td>1003</td>\n",
       "      <td>Baldwin, AL</td>\n",
       "      <td>6453588</td>\n",
       "      <td>6799715</td>\n",
       "      <td>7134734</td>\n",
       "    </tr>\n",
       "    <tr>\n",
       "      <th>2</th>\n",
       "      <td>1005</td>\n",
       "      <td>Barbour, AL</td>\n",
       "      <td>721125</td>\n",
       "      <td>730518</td>\n",
       "      <td>729105</td>\n",
       "    </tr>\n",
       "    <tr>\n",
       "      <th>3</th>\n",
       "      <td>1007</td>\n",
       "      <td>Bibb, AL</td>\n",
       "      <td>353234</td>\n",
       "      <td>353016</td>\n",
       "      <td>380453</td>\n",
       "    </tr>\n",
       "    <tr>\n",
       "      <th>4</th>\n",
       "      <td>1009</td>\n",
       "      <td>Blount, AL</td>\n",
       "      <td>920401</td>\n",
       "      <td>967135</td>\n",
       "      <td>932215</td>\n",
       "    </tr>\n",
       "  </tbody>\n",
       "</table>\n",
       "</div>"
      ],
      "text/plain": [
       "   GeoFips      GeoName     2017     2018     2019\n",
       "0     1001  Autauga, AL  1587695  1602077  1540762\n",
       "1     1003  Baldwin, AL  6453588  6799715  7134734\n",
       "2     1005  Barbour, AL   721125   730518   729105\n",
       "3     1007     Bibb, AL   353234   353016   380453\n",
       "4     1009   Blount, AL   920401   967135   932215"
      ]
     },
     "execution_count": 16,
     "metadata": {},
     "output_type": "execute_result"
    }
   ],
   "source": [
    "gdpcounty.head()"
   ]
  },
  {
   "cell_type": "markdown",
   "metadata": {},
   "source": [
    "### Display County Stats of California"
   ]
  },
  {
   "cell_type": "code",
   "execution_count": 17,
   "metadata": {},
   "outputs": [
    {
     "data": {
      "text/html": [
       "<div>\n",
       "<style scoped>\n",
       "    .dataframe tbody tr th:only-of-type {\n",
       "        vertical-align: middle;\n",
       "    }\n",
       "\n",
       "    .dataframe tbody tr th {\n",
       "        vertical-align: top;\n",
       "    }\n",
       "\n",
       "    .dataframe thead th {\n",
       "        text-align: right;\n",
       "    }\n",
       "</style>\n",
       "<table border=\"1\" class=\"dataframe\">\n",
       "  <thead>\n",
       "    <tr style=\"text-align: right;\">\n",
       "      <th></th>\n",
       "      <th>County</th>\n",
       "      <th>Population_2019</th>\n",
       "      <th>Employed_2018</th>\n",
       "      <th>Unemployed_2018</th>\n",
       "      <th>Unemployment_Rate_2018</th>\n",
       "      <th>Poverty_AllAge_2017</th>\n",
       "      <th>Poverty_AllAgePct_2017</th>\n",
       "      <th>Poverty_U18_2017</th>\n",
       "      <th>Poverty_U18Pct_2017</th>\n",
       "      <th>Household_Income_2017</th>\n",
       "      <th>Education</th>\n",
       "    </tr>\n",
       "  </thead>\n",
       "  <tbody>\n",
       "    <tr>\n",
       "      <th>0</th>\n",
       "      <td>Alameda</td>\n",
       "      <td>1669301.0</td>\n",
       "      <td>822800.0</td>\n",
       "      <td>25400.0</td>\n",
       "      <td>3.0%</td>\n",
       "      <td>152087.0</td>\n",
       "      <td>9.3%</td>\n",
       "      <td>35658.0</td>\n",
       "      <td>10.5%</td>\n",
       "      <td>$95,550</td>\n",
       "      <td>$30,350,182</td>\n",
       "    </tr>\n",
       "    <tr>\n",
       "      <th>1</th>\n",
       "      <td>Alpine</td>\n",
       "      <td>1162.0</td>\n",
       "      <td>520.0</td>\n",
       "      <td>30.0</td>\n",
       "      <td>4.6%</td>\n",
       "      <td>202.0</td>\n",
       "      <td>18.1%</td>\n",
       "      <td>67.0</td>\n",
       "      <td>35.3%</td>\n",
       "      <td>$55,755</td>\n",
       "      <td>$545,096</td>\n",
       "    </tr>\n",
       "    <tr>\n",
       "      <th>2</th>\n",
       "      <td>Amador</td>\n",
       "      <td>38294.0</td>\n",
       "      <td>14120.0</td>\n",
       "      <td>590.0</td>\n",
       "      <td>4.0%</td>\n",
       "      <td>3762.0</td>\n",
       "      <td>10.9%</td>\n",
       "      <td>908.0</td>\n",
       "      <td>15.7%</td>\n",
       "      <td>$60,588</td>\n",
       "      <td>$1,175,318</td>\n",
       "    </tr>\n",
       "    <tr>\n",
       "      <th>3</th>\n",
       "      <td>Butte</td>\n",
       "      <td>226466.0</td>\n",
       "      <td>97600.0</td>\n",
       "      <td>5100.0</td>\n",
       "      <td>4.9%</td>\n",
       "      <td>40728.0</td>\n",
       "      <td>18.1%</td>\n",
       "      <td>10208.0</td>\n",
       "      <td>22.6%</td>\n",
       "      <td>$48,634</td>\n",
       "      <td>$3,793,432</td>\n",
       "    </tr>\n",
       "    <tr>\n",
       "      <th>4</th>\n",
       "      <td>Calaveras</td>\n",
       "      <td>45117.0</td>\n",
       "      <td>20510.0</td>\n",
       "      <td>850.0</td>\n",
       "      <td>4.0%</td>\n",
       "      <td>5904.0</td>\n",
       "      <td>13.1%</td>\n",
       "      <td>1590.0</td>\n",
       "      <td>21.1%</td>\n",
       "      <td>$58,536</td>\n",
       "      <td>$865,248</td>\n",
       "    </tr>\n",
       "  </tbody>\n",
       "</table>\n",
       "</div>"
      ],
      "text/plain": [
       "      County  Population_2019  Employed_2018  Unemployed_2018  \\\n",
       "0    Alameda        1669301.0       822800.0          25400.0   \n",
       "1     Alpine           1162.0          520.0             30.0   \n",
       "2     Amador          38294.0        14120.0            590.0   \n",
       "3      Butte         226466.0        97600.0           5100.0   \n",
       "4  Calaveras          45117.0        20510.0            850.0   \n",
       "\n",
       "  Unemployment_Rate_2018  Poverty_AllAge_2017 Poverty_AllAgePct_2017  \\\n",
       "0                   3.0%             152087.0                   9.3%   \n",
       "1                   4.6%                202.0                  18.1%   \n",
       "2                   4.0%               3762.0                  10.9%   \n",
       "3                   4.9%              40728.0                  18.1%   \n",
       "4                   4.0%               5904.0                  13.1%   \n",
       "\n",
       "   Poverty_U18_2017 Poverty_U18Pct_2017 Household_Income_2017      Education  \n",
       "0           35658.0               10.5%              $95,550    $30,350,182   \n",
       "1              67.0               35.3%              $55,755       $545,096   \n",
       "2             908.0               15.7%              $60,588     $1,175,318   \n",
       "3           10208.0               22.6%              $48,634     $3,793,432   \n",
       "4            1590.0               21.1%              $58,536       $865,248   "
      ]
     },
     "execution_count": 17,
     "metadata": {},
     "output_type": "execute_result"
    }
   ],
   "source": [
    "countystats.head()"
   ]
  },
  {
   "cell_type": "markdown",
   "metadata": {},
   "source": [
    "## Step 2. Check for missing values"
   ]
  },
  {
   "cell_type": "markdown",
   "metadata": {},
   "source": [
    "### Use missingno as visualisation for missing values"
   ]
  },
  {
   "cell_type": "code",
   "execution_count": 18,
   "metadata": {
    "scrolled": true
   },
   "outputs": [
    {
     "data": {
      "image/png": "[encoded data removed]",
      "text/plain": [
       "<Figure size 1800x720 with 2 Axes>"
      ]
     },
     "metadata": {
      "needs_background": "light"
     },
     "output_type": "display_data"
    }
   ],
   "source": [
    "import missingno as msno\n",
    "%matplotlib inline\n",
    "msno.matrix(act19);"
   ]
  },
  {
   "cell_type": "markdown",
   "metadata": {},
   "source": [
    "### Check nulls in ACT17"
   ]
  },
  {
   "cell_type": "code",
   "execution_count": 19,
   "metadata": {
    "scrolled": true
   },
   "outputs": [
    {
     "data": {
      "text/plain": [
       "State            0\n",
       "Participation    0\n",
       "English          0\n",
       "Math             0\n",
       "Reading          0\n",
       "Science          0\n",
       "Composite        0\n",
       "dtype: int64"
      ]
     },
     "execution_count": 19,
     "metadata": {},
     "output_type": "execute_result"
    }
   ],
   "source": [
    "act17.isnull().sum()"
   ]
  },
  {
   "cell_type": "markdown",
   "metadata": {},
   "source": [
    "### Check nulls in ACT18"
   ]
  },
  {
   "cell_type": "code",
   "execution_count": 20,
   "metadata": {
    "scrolled": true
   },
   "outputs": [
    {
     "data": {
      "text/plain": [
       "State            0\n",
       "Participation    0\n",
       "Composite        0\n",
       "dtype: int64"
      ]
     },
     "execution_count": 20,
     "metadata": {},
     "output_type": "execute_result"
    }
   ],
   "source": [
    "act18.isnull().sum()"
   ]
  },
  {
   "cell_type": "markdown",
   "metadata": {},
   "source": [
    "### Check nulls in ACT19"
   ]
  },
  {
   "cell_type": "code",
   "execution_count": 21,
   "metadata": {
    "scrolled": true
   },
   "outputs": [
    {
     "data": {
      "text/plain": [
       "State            0\n",
       "Participation    0\n",
       "Composite        0\n",
       "dtype: int64"
      ]
     },
     "execution_count": 21,
     "metadata": {},
     "output_type": "execute_result"
    }
   ],
   "source": [
    "act19.isnull().sum()"
   ]
  },
  {
   "cell_type": "markdown",
   "metadata": {},
   "source": [
    "### Check nulls in SAT17"
   ]
  },
  {
   "cell_type": "code",
   "execution_count": 22,
   "metadata": {
    "scrolled": true
   },
   "outputs": [
    {
     "data": {
      "text/plain": [
       "State                                 0\n",
       "Participation                         0\n",
       "Evidence-Based Reading and Writing    0\n",
       "Math                                  0\n",
       "Total                                 0\n",
       "dtype: int64"
      ]
     },
     "execution_count": 22,
     "metadata": {},
     "output_type": "execute_result"
    }
   ],
   "source": [
    "sat17.isnull().sum()"
   ]
  },
  {
   "cell_type": "markdown",
   "metadata": {},
   "source": [
    "### Check nulls in SAT18"
   ]
  },
  {
   "cell_type": "code",
   "execution_count": 23,
   "metadata": {
    "scrolled": true
   },
   "outputs": [
    {
     "data": {
      "text/plain": [
       "State                                 0\n",
       "Participation                         0\n",
       "Evidence-Based Reading and Writing    0\n",
       "Math                                  0\n",
       "Total                                 0\n",
       "dtype: int64"
      ]
     },
     "execution_count": 23,
     "metadata": {},
     "output_type": "execute_result"
    }
   ],
   "source": [
    "sat18.isnull().sum()"
   ]
  },
  {
   "cell_type": "markdown",
   "metadata": {},
   "source": [
    "### Check nulls in SAT19"
   ]
  },
  {
   "cell_type": "code",
   "execution_count": 24,
   "metadata": {
    "scrolled": true
   },
   "outputs": [
    {
     "data": {
      "text/plain": [
       "State                 0\n",
       "Participation Rate    0\n",
       "EBRW                  0\n",
       "Math                  0\n",
       "Total                 0\n",
       "dtype: int64"
      ]
     },
     "execution_count": 24,
     "metadata": {},
     "output_type": "execute_result"
    }
   ],
   "source": [
    "sat19.isnull().sum()"
   ]
  },
  {
   "cell_type": "markdown",
   "metadata": {},
   "source": [
    "### Check nulls in ACT19_CA"
   ]
  },
  {
   "cell_type": "code",
   "execution_count": 25,
   "metadata": {
    "scrolled": true
   },
   "outputs": [
    {
     "data": {
      "text/plain": [
       "CDS               1\n",
       "CCode             1\n",
       "CDCode            1\n",
       "SCode           523\n",
       "RType             1\n",
       "SName           581\n",
       "DName            59\n",
       "CName             1\n",
       "Enroll12          1\n",
       "NumTstTakr        1\n",
       "AvgScrRead      357\n",
       "AvgScrEng       357\n",
       "AvgScrMath      357\n",
       "AvgScrSci       357\n",
       "NumGE21         357\n",
       "PctGE21         357\n",
       "Year              1\n",
       "Unnamed: 17    2310\n",
       "dtype: int64"
      ]
     },
     "execution_count": 25,
     "metadata": {},
     "output_type": "execute_result"
    }
   ],
   "source": [
    "act19ca.isnull().sum()"
   ]
  },
  {
   "cell_type": "markdown",
   "metadata": {},
   "source": [
    "### Check nulls in SAT19_CA"
   ]
  },
  {
   "cell_type": "code",
   "execution_count": 26,
   "metadata": {
    "scrolled": false
   },
   "outputs": [
    {
     "data": {
      "text/plain": [
       "CDS                         1\n",
       "CCode                       1\n",
       "CDCode                      1\n",
       "SCode                       1\n",
       "RType                       1\n",
       "SName                     598\n",
       "DName                      59\n",
       "CName                       1\n",
       "Enroll12                    1\n",
       "NumTSTTakr12                1\n",
       "NumERWBenchmark12         276\n",
       "PctERWBenchmark12         276\n",
       "NumMathBenchmark12        276\n",
       "PctMathBenchmark12        276\n",
       "Enroll11                    1\n",
       "NumTSTTakr11                1\n",
       "NumERWBenchmark11         311\n",
       "PctERWBenchmark11         311\n",
       "NumMathBenchmark11        311\n",
       "PctMathBenchmark11        311\n",
       "TotNumBothBenchmark12     276\n",
       "PctBothBenchmark12        276\n",
       "TotNumBothBenchmark11     311\n",
       "PctBothBenchmark11        311\n",
       "Year                        1\n",
       "Unnamed: 25              2580\n",
       "dtype: int64"
      ]
     },
     "execution_count": 26,
     "metadata": {},
     "output_type": "execute_result"
    }
   ],
   "source": [
    "sat19ca.isnull().sum()"
   ]
  },
  {
   "cell_type": "markdown",
   "metadata": {},
   "source": [
    "### Check nulls in GDP Data by County"
   ]
  },
  {
   "cell_type": "code",
   "execution_count": 27,
   "metadata": {
    "scrolled": true
   },
   "outputs": [
    {
     "data": {
      "text/plain": [
       "GeoFips    0\n",
       "GeoName    0\n",
       "2017       0\n",
       "2018       0\n",
       "2019       0\n",
       "dtype: int64"
      ]
     },
     "execution_count": 27,
     "metadata": {},
     "output_type": "execute_result"
    }
   ],
   "source": [
    "gdpcounty.isnull().sum()"
   ]
  },
  {
   "cell_type": "markdown",
   "metadata": {},
   "source": [
    "### Check nulls in County Stats"
   ]
  },
  {
   "cell_type": "code",
   "execution_count": 28,
   "metadata": {
    "scrolled": true
   },
   "outputs": [
    {
     "data": {
      "text/plain": [
       "County                    1\n",
       "Population_2019           1\n",
       "Employed_2018             1\n",
       "Unemployed_2018           1\n",
       "Unemployment_Rate_2018    1\n",
       "Poverty_AllAge_2017       1\n",
       "Poverty_AllAgePct_2017    1\n",
       "Poverty_U18_2017          1\n",
       "Poverty_U18Pct_2017       1\n",
       "Household_Income_2017     1\n",
       "Education                 1\n",
       "dtype: int64"
      ]
     },
     "execution_count": 28,
     "metadata": {},
     "output_type": "execute_result"
    }
   ],
   "source": [
    "countystats.isnull().sum()"
   ]
  },
  {
   "cell_type": "markdown",
   "metadata": {},
   "source": [
    "## Step 3, 4, 5, 6. Observe, fix any errors, display data types"
   ]
  },
  {
   "cell_type": "markdown",
   "metadata": {},
   "source": [
    "## REMOVE THIS LATER AS THERE IS A CODE ON TOP"
   ]
  },
  {
   "cell_type": "code",
   "execution_count": 29,
   "metadata": {},
   "outputs": [],
   "source": [
    "#write function to convert percentages to float\n",
    "def convert_pct_to_float(x):\n",
    "    try:\n",
    "        return float(x.strip('%'))/100\n",
    "    except:\n",
    "        pass"
   ]
  },
  {
   "cell_type": "markdown",
   "metadata": {},
   "source": [
    "### Cleaning ACT17 dataset"
   ]
  },
  {
   "cell_type": "code",
   "execution_count": 30,
   "metadata": {
    "scrolled": true
   },
   "outputs": [
    {
     "data": {
      "text/html": [
       "<div>\n",
       "<style scoped>\n",
       "    .dataframe tbody tr th:only-of-type {\n",
       "        vertical-align: middle;\n",
       "    }\n",
       "\n",
       "    .dataframe tbody tr th {\n",
       "        vertical-align: top;\n",
       "    }\n",
       "\n",
       "    .dataframe thead th {\n",
       "        text-align: right;\n",
       "    }\n",
       "</style>\n",
       "<table border=\"1\" class=\"dataframe\">\n",
       "  <thead>\n",
       "    <tr style=\"text-align: right;\">\n",
       "      <th></th>\n",
       "      <th>English</th>\n",
       "      <th>Math</th>\n",
       "      <th>Reading</th>\n",
       "      <th>Science</th>\n",
       "    </tr>\n",
       "  </thead>\n",
       "  <tbody>\n",
       "    <tr>\n",
       "      <th>count</th>\n",
       "      <td>52.000000</td>\n",
       "      <td>52.000000</td>\n",
       "      <td>52.000000</td>\n",
       "      <td>52.000000</td>\n",
       "    </tr>\n",
       "    <tr>\n",
       "      <th>mean</th>\n",
       "      <td>20.919231</td>\n",
       "      <td>21.173077</td>\n",
       "      <td>22.001923</td>\n",
       "      <td>21.040385</td>\n",
       "    </tr>\n",
       "    <tr>\n",
       "      <th>std</th>\n",
       "      <td>2.332132</td>\n",
       "      <td>1.963602</td>\n",
       "      <td>2.048672</td>\n",
       "      <td>3.151113</td>\n",
       "    </tr>\n",
       "    <tr>\n",
       "      <th>min</th>\n",
       "      <td>16.300000</td>\n",
       "      <td>18.000000</td>\n",
       "      <td>18.100000</td>\n",
       "      <td>2.300000</td>\n",
       "    </tr>\n",
       "    <tr>\n",
       "      <th>25%</th>\n",
       "      <td>19.000000</td>\n",
       "      <td>19.400000</td>\n",
       "      <td>20.475000</td>\n",
       "      <td>19.900000</td>\n",
       "    </tr>\n",
       "    <tr>\n",
       "      <th>50%</th>\n",
       "      <td>20.550000</td>\n",
       "      <td>20.900000</td>\n",
       "      <td>21.700000</td>\n",
       "      <td>21.150000</td>\n",
       "    </tr>\n",
       "    <tr>\n",
       "      <th>75%</th>\n",
       "      <td>23.300000</td>\n",
       "      <td>23.100000</td>\n",
       "      <td>24.125000</td>\n",
       "      <td>22.525000</td>\n",
       "    </tr>\n",
       "    <tr>\n",
       "      <th>max</th>\n",
       "      <td>25.500000</td>\n",
       "      <td>25.300000</td>\n",
       "      <td>26.000000</td>\n",
       "      <td>24.900000</td>\n",
       "    </tr>\n",
       "  </tbody>\n",
       "</table>\n",
       "</div>"
      ],
      "text/plain": [
       "         English       Math    Reading    Science\n",
       "count  52.000000  52.000000  52.000000  52.000000\n",
       "mean   20.919231  21.173077  22.001923  21.040385\n",
       "std     2.332132   1.963602   2.048672   3.151113\n",
       "min    16.300000  18.000000  18.100000   2.300000\n",
       "25%    19.000000  19.400000  20.475000  19.900000\n",
       "50%    20.550000  20.900000  21.700000  21.150000\n",
       "75%    23.300000  23.100000  24.125000  22.525000\n",
       "max    25.500000  25.300000  26.000000  24.900000"
      ]
     },
     "execution_count": 30,
     "metadata": {},
     "output_type": "execute_result"
    }
   ],
   "source": [
    "act17.describe()\n",
    "#min of ACT17 is very low, could be an error!"
   ]
  },
  {
   "cell_type": "code",
   "execution_count": 31,
   "metadata": {
    "scrolled": false
   },
   "outputs": [],
   "source": [
    "act17.loc[[21],['Science']] = 23.0 #replace 2.3 with 23.0\n",
    "act17.loc[[51],['Composite']] = 20.2 #replace 20.2x with 20.2\n",
    "act17['Composite'] = pd.to_numeric(act17['Composite']) #change composite columns to float\n",
    "act17['Participation'] = act17['Participation'].map(convert_pct_to_float) #change % numbers into float decimals"
   ]
  },
  {
   "cell_type": "code",
   "execution_count": 32,
   "metadata": {
    "scrolled": false
   },
   "outputs": [
    {
     "name": "stdout",
     "output_type": "stream",
     "text": [
      "<class 'pandas.core.frame.DataFrame'>\n",
      "RangeIndex: 52 entries, 0 to 51\n",
      "Data columns (total 7 columns):\n",
      " #   Column         Non-Null Count  Dtype  \n",
      "---  ------         --------------  -----  \n",
      " 0   State          52 non-null     object \n",
      " 1   Participation  52 non-null     float64\n",
      " 2   English        52 non-null     float64\n",
      " 3   Math           52 non-null     float64\n",
      " 4   Reading        52 non-null     float64\n",
      " 5   Science        52 non-null     float64\n",
      " 6   Composite      52 non-null     float64\n",
      "dtypes: float64(6), object(1)\n",
      "memory usage: 3.0+ KB\n"
     ]
    }
   ],
   "source": [
    "act17.info() #act2017 cleaned!"
   ]
  },
  {
   "cell_type": "markdown",
   "metadata": {},
   "source": [
    "### Cleaning ACT18 dataset"
   ]
  },
  {
   "cell_type": "code",
   "execution_count": 33,
   "metadata": {},
   "outputs": [
    {
     "data": {
      "text/html": [
       "<div>\n",
       "<style scoped>\n",
       "    .dataframe tbody tr th:only-of-type {\n",
       "        vertical-align: middle;\n",
       "    }\n",
       "\n",
       "    .dataframe tbody tr th {\n",
       "        vertical-align: top;\n",
       "    }\n",
       "\n",
       "    .dataframe thead th {\n",
       "        text-align: right;\n",
       "    }\n",
       "</style>\n",
       "<table border=\"1\" class=\"dataframe\">\n",
       "  <thead>\n",
       "    <tr style=\"text-align: right;\">\n",
       "      <th></th>\n",
       "      <th>Composite</th>\n",
       "    </tr>\n",
       "  </thead>\n",
       "  <tbody>\n",
       "    <tr>\n",
       "      <th>count</th>\n",
       "      <td>52.000000</td>\n",
       "    </tr>\n",
       "    <tr>\n",
       "      <th>mean</th>\n",
       "      <td>21.544231</td>\n",
       "    </tr>\n",
       "    <tr>\n",
       "      <th>std</th>\n",
       "      <td>2.119417</td>\n",
       "    </tr>\n",
       "    <tr>\n",
       "      <th>min</th>\n",
       "      <td>17.700000</td>\n",
       "    </tr>\n",
       "    <tr>\n",
       "      <th>25%</th>\n",
       "      <td>19.975000</td>\n",
       "    </tr>\n",
       "    <tr>\n",
       "      <th>50%</th>\n",
       "      <td>21.300000</td>\n",
       "    </tr>\n",
       "    <tr>\n",
       "      <th>75%</th>\n",
       "      <td>23.725000</td>\n",
       "    </tr>\n",
       "    <tr>\n",
       "      <th>max</th>\n",
       "      <td>25.600000</td>\n",
       "    </tr>\n",
       "  </tbody>\n",
       "</table>\n",
       "</div>"
      ],
      "text/plain": [
       "       Composite\n",
       "count  52.000000\n",
       "mean   21.544231\n",
       "std     2.119417\n",
       "min    17.700000\n",
       "25%    19.975000\n",
       "50%    21.300000\n",
       "75%    23.725000\n",
       "max    25.600000"
      ]
     },
     "execution_count": 33,
     "metadata": {},
     "output_type": "execute_result"
    }
   ],
   "source": [
    "act18.describe()"
   ]
  },
  {
   "cell_type": "code",
   "execution_count": 34,
   "metadata": {},
   "outputs": [],
   "source": [
    "act18['Participation'] = act18['Participation'].map(convert_pct_to_float) #change % numbers into float decimals\n",
    "act18 = act18.drop_duplicates()"
   ]
  },
  {
   "cell_type": "code",
   "execution_count": 35,
   "metadata": {
    "scrolled": false
   },
   "outputs": [
    {
     "name": "stdout",
     "output_type": "stream",
     "text": [
      "<class 'pandas.core.frame.DataFrame'>\n",
      "Int64Index: 51 entries, 0 to 51\n",
      "Data columns (total 3 columns):\n",
      " #   Column         Non-Null Count  Dtype  \n",
      "---  ------         --------------  -----  \n",
      " 0   State          51 non-null     object \n",
      " 1   Participation  51 non-null     float64\n",
      " 2   Composite      51 non-null     float64\n",
      "dtypes: float64(2), object(1)\n",
      "memory usage: 1.6+ KB\n"
     ]
    }
   ],
   "source": [
    "act18.info() #act18 cleaned!"
   ]
  },
  {
   "cell_type": "markdown",
   "metadata": {},
   "source": [
    "### Cleaning ACT19 dataset"
   ]
  },
  {
   "cell_type": "code",
   "execution_count": 36,
   "metadata": {},
   "outputs": [
    {
     "data": {
      "text/html": [
       "<div>\n",
       "<style scoped>\n",
       "    .dataframe tbody tr th:only-of-type {\n",
       "        vertical-align: middle;\n",
       "    }\n",
       "\n",
       "    .dataframe tbody tr th {\n",
       "        vertical-align: top;\n",
       "    }\n",
       "\n",
       "    .dataframe thead th {\n",
       "        text-align: right;\n",
       "    }\n",
       "</style>\n",
       "<table border=\"1\" class=\"dataframe\">\n",
       "  <thead>\n",
       "    <tr style=\"text-align: right;\">\n",
       "      <th></th>\n",
       "      <th>Composite</th>\n",
       "    </tr>\n",
       "  </thead>\n",
       "  <tbody>\n",
       "    <tr>\n",
       "      <th>count</th>\n",
       "      <td>52.000000</td>\n",
       "    </tr>\n",
       "    <tr>\n",
       "      <th>mean</th>\n",
       "      <td>21.450000</td>\n",
       "    </tr>\n",
       "    <tr>\n",
       "      <th>std</th>\n",
       "      <td>2.175487</td>\n",
       "    </tr>\n",
       "    <tr>\n",
       "      <th>min</th>\n",
       "      <td>17.900000</td>\n",
       "    </tr>\n",
       "    <tr>\n",
       "      <th>25%</th>\n",
       "      <td>19.800000</td>\n",
       "    </tr>\n",
       "    <tr>\n",
       "      <th>50%</th>\n",
       "      <td>20.950000</td>\n",
       "    </tr>\n",
       "    <tr>\n",
       "      <th>75%</th>\n",
       "      <td>23.650000</td>\n",
       "    </tr>\n",
       "    <tr>\n",
       "      <th>max</th>\n",
       "      <td>25.500000</td>\n",
       "    </tr>\n",
       "  </tbody>\n",
       "</table>\n",
       "</div>"
      ],
      "text/plain": [
       "       Composite\n",
       "count  52.000000\n",
       "mean   21.450000\n",
       "std     2.175487\n",
       "min    17.900000\n",
       "25%    19.800000\n",
       "50%    20.950000\n",
       "75%    23.650000\n",
       "max    25.500000"
      ]
     },
     "execution_count": 36,
     "metadata": {},
     "output_type": "execute_result"
    }
   ],
   "source": [
    "act19.describe()"
   ]
  },
  {
   "cell_type": "code",
   "execution_count": 37,
   "metadata": {},
   "outputs": [],
   "source": [
    "act19['Participation'] = act19['Participation'].map(convert_pct_to_float) #change % numbers into float decimals"
   ]
  },
  {
   "cell_type": "code",
   "execution_count": 38,
   "metadata": {
    "scrolled": true
   },
   "outputs": [
    {
     "name": "stdout",
     "output_type": "stream",
     "text": [
      "<class 'pandas.core.frame.DataFrame'>\n",
      "RangeIndex: 52 entries, 0 to 51\n",
      "Data columns (total 3 columns):\n",
      " #   Column         Non-Null Count  Dtype  \n",
      "---  ------         --------------  -----  \n",
      " 0   State          52 non-null     object \n",
      " 1   Participation  52 non-null     float64\n",
      " 2   Composite      52 non-null     float64\n",
      "dtypes: float64(2), object(1)\n",
      "memory usage: 1.3+ KB\n"
     ]
    }
   ],
   "source": [
    "act19.info() #act19 cleaned!"
   ]
  },
  {
   "cell_type": "markdown",
   "metadata": {},
   "source": [
    "### Cleaning SAT17 dataset"
   ]
  },
  {
   "cell_type": "code",
   "execution_count": 39,
   "metadata": {
    "scrolled": true
   },
   "outputs": [
    {
     "data": {
      "text/html": [
       "<div>\n",
       "<style scoped>\n",
       "    .dataframe tbody tr th:only-of-type {\n",
       "        vertical-align: middle;\n",
       "    }\n",
       "\n",
       "    .dataframe tbody tr th {\n",
       "        vertical-align: top;\n",
       "    }\n",
       "\n",
       "    .dataframe thead th {\n",
       "        text-align: right;\n",
       "    }\n",
       "</style>\n",
       "<table border=\"1\" class=\"dataframe\">\n",
       "  <thead>\n",
       "    <tr style=\"text-align: right;\">\n",
       "      <th></th>\n",
       "      <th>Evidence-Based Reading and Writing</th>\n",
       "      <th>Math</th>\n",
       "      <th>Total</th>\n",
       "    </tr>\n",
       "  </thead>\n",
       "  <tbody>\n",
       "    <tr>\n",
       "      <th>count</th>\n",
       "      <td>51.000000</td>\n",
       "      <td>51.000000</td>\n",
       "      <td>51.000000</td>\n",
       "    </tr>\n",
       "    <tr>\n",
       "      <th>mean</th>\n",
       "      <td>569.117647</td>\n",
       "      <td>547.627451</td>\n",
       "      <td>1126.098039</td>\n",
       "    </tr>\n",
       "    <tr>\n",
       "      <th>std</th>\n",
       "      <td>45.666901</td>\n",
       "      <td>84.909119</td>\n",
       "      <td>92.494812</td>\n",
       "    </tr>\n",
       "    <tr>\n",
       "      <th>min</th>\n",
       "      <td>482.000000</td>\n",
       "      <td>52.000000</td>\n",
       "      <td>950.000000</td>\n",
       "    </tr>\n",
       "    <tr>\n",
       "      <th>25%</th>\n",
       "      <td>533.500000</td>\n",
       "      <td>522.000000</td>\n",
       "      <td>1055.500000</td>\n",
       "    </tr>\n",
       "    <tr>\n",
       "      <th>50%</th>\n",
       "      <td>559.000000</td>\n",
       "      <td>548.000000</td>\n",
       "      <td>1107.000000</td>\n",
       "    </tr>\n",
       "    <tr>\n",
       "      <th>75%</th>\n",
       "      <td>613.000000</td>\n",
       "      <td>599.000000</td>\n",
       "      <td>1212.000000</td>\n",
       "    </tr>\n",
       "    <tr>\n",
       "      <th>max</th>\n",
       "      <td>644.000000</td>\n",
       "      <td>651.000000</td>\n",
       "      <td>1295.000000</td>\n",
       "    </tr>\n",
       "  </tbody>\n",
       "</table>\n",
       "</div>"
      ],
      "text/plain": [
       "       Evidence-Based Reading and Writing        Math        Total\n",
       "count                           51.000000   51.000000    51.000000\n",
       "mean                           569.117647  547.627451  1126.098039\n",
       "std                             45.666901   84.909119    92.494812\n",
       "min                            482.000000   52.000000   950.000000\n",
       "25%                            533.500000  522.000000  1055.500000\n",
       "50%                            559.000000  548.000000  1107.000000\n",
       "75%                            613.000000  599.000000  1212.000000\n",
       "max                            644.000000  651.000000  1295.000000"
      ]
     },
     "execution_count": 39,
     "metadata": {},
     "output_type": "execute_result"
    }
   ],
   "source": [
    "sat17.describe()\n",
    "#sat17_math has a 52 score"
   ]
  },
  {
   "cell_type": "code",
   "execution_count": 40,
   "metadata": {
    "scrolled": true
   },
   "outputs": [
    {
     "data": {
      "text/html": [
       "<div>\n",
       "<style scoped>\n",
       "    .dataframe tbody tr th:only-of-type {\n",
       "        vertical-align: middle;\n",
       "    }\n",
       "\n",
       "    .dataframe tbody tr th {\n",
       "        vertical-align: top;\n",
       "    }\n",
       "\n",
       "    .dataframe thead th {\n",
       "        text-align: right;\n",
       "    }\n",
       "</style>\n",
       "<table border=\"1\" class=\"dataframe\">\n",
       "  <thead>\n",
       "    <tr style=\"text-align: right;\">\n",
       "      <th></th>\n",
       "      <th>State</th>\n",
       "      <th>Participation</th>\n",
       "      <th>Evidence-Based Reading and Writing</th>\n",
       "      <th>Math</th>\n",
       "      <th>Total</th>\n",
       "    </tr>\n",
       "  </thead>\n",
       "  <tbody>\n",
       "    <tr>\n",
       "      <th>20</th>\n",
       "      <td>Maryland</td>\n",
       "      <td>69%</td>\n",
       "      <td>536</td>\n",
       "      <td>52</td>\n",
       "      <td>1060</td>\n",
       "    </tr>\n",
       "  </tbody>\n",
       "</table>\n",
       "</div>"
      ],
      "text/plain": [
       "       State Participation  Evidence-Based Reading and Writing  Math  Total\n",
       "20  Maryland           69%                                 536    52   1060"
      ]
     },
     "execution_count": 40,
     "metadata": {},
     "output_type": "execute_result"
    }
   ],
   "source": [
    "#find where is the index of the wrong math value\n",
    "sat17[sat17['Math']==52]"
   ]
  },
  {
   "cell_type": "code",
   "execution_count": 41,
   "metadata": {},
   "outputs": [],
   "source": [
    "sat17.loc[20,'Math']=520\n",
    "sat17['Participation'] = sat17['Participation'].map(convert_pct_to_float) #change % numbers into float decimals"
   ]
  },
  {
   "cell_type": "code",
   "execution_count": 42,
   "metadata": {},
   "outputs": [
    {
     "data": {
      "text/html": [
       "<div>\n",
       "<style scoped>\n",
       "    .dataframe tbody tr th:only-of-type {\n",
       "        vertical-align: middle;\n",
       "    }\n",
       "\n",
       "    .dataframe tbody tr th {\n",
       "        vertical-align: top;\n",
       "    }\n",
       "\n",
       "    .dataframe thead th {\n",
       "        text-align: right;\n",
       "    }\n",
       "</style>\n",
       "<table border=\"1\" class=\"dataframe\">\n",
       "  <thead>\n",
       "    <tr style=\"text-align: right;\">\n",
       "      <th></th>\n",
       "      <th>Participation</th>\n",
       "      <th>Evidence-Based Reading and Writing</th>\n",
       "      <th>Math</th>\n",
       "      <th>Total</th>\n",
       "    </tr>\n",
       "  </thead>\n",
       "  <tbody>\n",
       "    <tr>\n",
       "      <th>count</th>\n",
       "      <td>51.000000</td>\n",
       "      <td>51.000000</td>\n",
       "      <td>51.000000</td>\n",
       "      <td>51.000000</td>\n",
       "    </tr>\n",
       "    <tr>\n",
       "      <th>mean</th>\n",
       "      <td>0.398039</td>\n",
       "      <td>569.117647</td>\n",
       "      <td>556.803922</td>\n",
       "      <td>1126.098039</td>\n",
       "    </tr>\n",
       "    <tr>\n",
       "      <th>std</th>\n",
       "      <td>0.352766</td>\n",
       "      <td>45.666901</td>\n",
       "      <td>47.180513</td>\n",
       "      <td>92.494812</td>\n",
       "    </tr>\n",
       "    <tr>\n",
       "      <th>min</th>\n",
       "      <td>0.020000</td>\n",
       "      <td>482.000000</td>\n",
       "      <td>468.000000</td>\n",
       "      <td>950.000000</td>\n",
       "    </tr>\n",
       "    <tr>\n",
       "      <th>25%</th>\n",
       "      <td>0.040000</td>\n",
       "      <td>533.500000</td>\n",
       "      <td>522.000000</td>\n",
       "      <td>1055.500000</td>\n",
       "    </tr>\n",
       "    <tr>\n",
       "      <th>50%</th>\n",
       "      <td>0.380000</td>\n",
       "      <td>559.000000</td>\n",
       "      <td>548.000000</td>\n",
       "      <td>1107.000000</td>\n",
       "    </tr>\n",
       "    <tr>\n",
       "      <th>75%</th>\n",
       "      <td>0.660000</td>\n",
       "      <td>613.000000</td>\n",
       "      <td>599.000000</td>\n",
       "      <td>1212.000000</td>\n",
       "    </tr>\n",
       "    <tr>\n",
       "      <th>max</th>\n",
       "      <td>1.000000</td>\n",
       "      <td>644.000000</td>\n",
       "      <td>651.000000</td>\n",
       "      <td>1295.000000</td>\n",
       "    </tr>\n",
       "  </tbody>\n",
       "</table>\n",
       "</div>"
      ],
      "text/plain": [
       "       Participation  Evidence-Based Reading and Writing        Math  \\\n",
       "count      51.000000                           51.000000   51.000000   \n",
       "mean        0.398039                          569.117647  556.803922   \n",
       "std         0.352766                           45.666901   47.180513   \n",
       "min         0.020000                          482.000000  468.000000   \n",
       "25%         0.040000                          533.500000  522.000000   \n",
       "50%         0.380000                          559.000000  548.000000   \n",
       "75%         0.660000                          613.000000  599.000000   \n",
       "max         1.000000                          644.000000  651.000000   \n",
       "\n",
       "             Total  \n",
       "count    51.000000  \n",
       "mean   1126.098039  \n",
       "std      92.494812  \n",
       "min     950.000000  \n",
       "25%    1055.500000  \n",
       "50%    1107.000000  \n",
       "75%    1212.000000  \n",
       "max    1295.000000  "
      ]
     },
     "execution_count": 42,
     "metadata": {},
     "output_type": "execute_result"
    }
   ],
   "source": [
    "sat17.describe()"
   ]
  },
  {
   "cell_type": "code",
   "execution_count": 43,
   "metadata": {},
   "outputs": [
    {
     "name": "stdout",
     "output_type": "stream",
     "text": [
      "<class 'pandas.core.frame.DataFrame'>\n",
      "RangeIndex: 51 entries, 0 to 50\n",
      "Data columns (total 5 columns):\n",
      " #   Column                              Non-Null Count  Dtype  \n",
      "---  ------                              --------------  -----  \n",
      " 0   State                               51 non-null     object \n",
      " 1   Participation                       51 non-null     float64\n",
      " 2   Evidence-Based Reading and Writing  51 non-null     int64  \n",
      " 3   Math                                51 non-null     int64  \n",
      " 4   Total                               51 non-null     int64  \n",
      "dtypes: float64(1), int64(3), object(1)\n",
      "memory usage: 2.1+ KB\n"
     ]
    }
   ],
   "source": [
    "sat17.info() #sat17 cleaned!"
   ]
  },
  {
   "cell_type": "markdown",
   "metadata": {},
   "source": [
    "### Cleaning SAT18 dataset"
   ]
  },
  {
   "cell_type": "code",
   "execution_count": 44,
   "metadata": {},
   "outputs": [
    {
     "data": {
      "text/html": [
       "<div>\n",
       "<style scoped>\n",
       "    .dataframe tbody tr th:only-of-type {\n",
       "        vertical-align: middle;\n",
       "    }\n",
       "\n",
       "    .dataframe tbody tr th {\n",
       "        vertical-align: top;\n",
       "    }\n",
       "\n",
       "    .dataframe thead th {\n",
       "        text-align: right;\n",
       "    }\n",
       "</style>\n",
       "<table border=\"1\" class=\"dataframe\">\n",
       "  <thead>\n",
       "    <tr style=\"text-align: right;\">\n",
       "      <th></th>\n",
       "      <th>Evidence-Based Reading and Writing</th>\n",
       "      <th>Math</th>\n",
       "      <th>Total</th>\n",
       "    </tr>\n",
       "  </thead>\n",
       "  <tbody>\n",
       "    <tr>\n",
       "      <th>count</th>\n",
       "      <td>51.000000</td>\n",
       "      <td>51.000000</td>\n",
       "      <td>51.000000</td>\n",
       "    </tr>\n",
       "    <tr>\n",
       "      <th>mean</th>\n",
       "      <td>563.686275</td>\n",
       "      <td>556.235294</td>\n",
       "      <td>1120.019608</td>\n",
       "    </tr>\n",
       "    <tr>\n",
       "      <th>std</th>\n",
       "      <td>47.502627</td>\n",
       "      <td>47.772623</td>\n",
       "      <td>94.155083</td>\n",
       "    </tr>\n",
       "    <tr>\n",
       "      <th>min</th>\n",
       "      <td>480.000000</td>\n",
       "      <td>480.000000</td>\n",
       "      <td>977.000000</td>\n",
       "    </tr>\n",
       "    <tr>\n",
       "      <th>25%</th>\n",
       "      <td>534.500000</td>\n",
       "      <td>522.500000</td>\n",
       "      <td>1057.500000</td>\n",
       "    </tr>\n",
       "    <tr>\n",
       "      <th>50%</th>\n",
       "      <td>552.000000</td>\n",
       "      <td>544.000000</td>\n",
       "      <td>1098.000000</td>\n",
       "    </tr>\n",
       "    <tr>\n",
       "      <th>75%</th>\n",
       "      <td>610.500000</td>\n",
       "      <td>593.500000</td>\n",
       "      <td>1204.000000</td>\n",
       "    </tr>\n",
       "    <tr>\n",
       "      <th>max</th>\n",
       "      <td>643.000000</td>\n",
       "      <td>655.000000</td>\n",
       "      <td>1298.000000</td>\n",
       "    </tr>\n",
       "  </tbody>\n",
       "</table>\n",
       "</div>"
      ],
      "text/plain": [
       "       Evidence-Based Reading and Writing        Math        Total\n",
       "count                           51.000000   51.000000    51.000000\n",
       "mean                           563.686275  556.235294  1120.019608\n",
       "std                             47.502627   47.772623    94.155083\n",
       "min                            480.000000  480.000000   977.000000\n",
       "25%                            534.500000  522.500000  1057.500000\n",
       "50%                            552.000000  544.000000  1098.000000\n",
       "75%                            610.500000  593.500000  1204.000000\n",
       "max                            643.000000  655.000000  1298.000000"
      ]
     },
     "execution_count": 44,
     "metadata": {},
     "output_type": "execute_result"
    }
   ],
   "source": [
    "sat18.describe()"
   ]
  },
  {
   "cell_type": "code",
   "execution_count": 45,
   "metadata": {
    "scrolled": true
   },
   "outputs": [],
   "source": [
    "sat18['Participation'] = sat18['Participation'].map(convert_pct_to_float) #change % numbers into float decimals"
   ]
  },
  {
   "cell_type": "code",
   "execution_count": 46,
   "metadata": {},
   "outputs": [
    {
     "name": "stdout",
     "output_type": "stream",
     "text": [
      "<class 'pandas.core.frame.DataFrame'>\n",
      "RangeIndex: 51 entries, 0 to 50\n",
      "Data columns (total 5 columns):\n",
      " #   Column                              Non-Null Count  Dtype  \n",
      "---  ------                              --------------  -----  \n",
      " 0   State                               51 non-null     object \n",
      " 1   Participation                       51 non-null     float64\n",
      " 2   Evidence-Based Reading and Writing  51 non-null     int64  \n",
      " 3   Math                                51 non-null     int64  \n",
      " 4   Total                               51 non-null     int64  \n",
      "dtypes: float64(1), int64(3), object(1)\n",
      "memory usage: 2.1+ KB\n"
     ]
    }
   ],
   "source": [
    "sat18.info() #sat18 cleaned!"
   ]
  },
  {
   "cell_type": "markdown",
   "metadata": {},
   "source": [
    "### Cleaning SAT19 dataset"
   ]
  },
  {
   "cell_type": "code",
   "execution_count": 47,
   "metadata": {},
   "outputs": [
    {
     "data": {
      "text/html": [
       "<div>\n",
       "<style scoped>\n",
       "    .dataframe tbody tr th:only-of-type {\n",
       "        vertical-align: middle;\n",
       "    }\n",
       "\n",
       "    .dataframe tbody tr th {\n",
       "        vertical-align: top;\n",
       "    }\n",
       "\n",
       "    .dataframe thead th {\n",
       "        text-align: right;\n",
       "    }\n",
       "</style>\n",
       "<table border=\"1\" class=\"dataframe\">\n",
       "  <thead>\n",
       "    <tr style=\"text-align: right;\">\n",
       "      <th></th>\n",
       "      <th>EBRW</th>\n",
       "      <th>Math</th>\n",
       "      <th>Total</th>\n",
       "    </tr>\n",
       "  </thead>\n",
       "  <tbody>\n",
       "    <tr>\n",
       "      <th>count</th>\n",
       "      <td>53.000000</td>\n",
       "      <td>53.000000</td>\n",
       "      <td>53.000000</td>\n",
       "    </tr>\n",
       "    <tr>\n",
       "      <th>mean</th>\n",
       "      <td>558.000000</td>\n",
       "      <td>548.471698</td>\n",
       "      <td>1106.528302</td>\n",
       "    </tr>\n",
       "    <tr>\n",
       "      <th>std</th>\n",
       "      <td>47.554422</td>\n",
       "      <td>53.785044</td>\n",
       "      <td>100.994784</td>\n",
       "    </tr>\n",
       "    <tr>\n",
       "      <th>min</th>\n",
       "      <td>483.000000</td>\n",
       "      <td>445.000000</td>\n",
       "      <td>935.000000</td>\n",
       "    </tr>\n",
       "    <tr>\n",
       "      <th>25%</th>\n",
       "      <td>518.000000</td>\n",
       "      <td>506.000000</td>\n",
       "      <td>1024.000000</td>\n",
       "    </tr>\n",
       "    <tr>\n",
       "      <th>50%</th>\n",
       "      <td>550.000000</td>\n",
       "      <td>545.000000</td>\n",
       "      <td>1097.000000</td>\n",
       "    </tr>\n",
       "    <tr>\n",
       "      <th>75%</th>\n",
       "      <td>610.000000</td>\n",
       "      <td>596.000000</td>\n",
       "      <td>1200.000000</td>\n",
       "    </tr>\n",
       "    <tr>\n",
       "      <th>max</th>\n",
       "      <td>636.000000</td>\n",
       "      <td>648.000000</td>\n",
       "      <td>1284.000000</td>\n",
       "    </tr>\n",
       "  </tbody>\n",
       "</table>\n",
       "</div>"
      ],
      "text/plain": [
       "             EBRW        Math        Total\n",
       "count   53.000000   53.000000    53.000000\n",
       "mean   558.000000  548.471698  1106.528302\n",
       "std     47.554422   53.785044   100.994784\n",
       "min    483.000000  445.000000   935.000000\n",
       "25%    518.000000  506.000000  1024.000000\n",
       "50%    550.000000  545.000000  1097.000000\n",
       "75%    610.000000  596.000000  1200.000000\n",
       "max    636.000000  648.000000  1284.000000"
      ]
     },
     "execution_count": 47,
     "metadata": {},
     "output_type": "execute_result"
    }
   ],
   "source": [
    "sat19.describe()"
   ]
  },
  {
   "cell_type": "code",
   "execution_count": 48,
   "metadata": {
    "scrolled": true
   },
   "outputs": [],
   "source": [
    "sat19['Participation Rate'] = sat19['Participation Rate'].map(convert_pct_to_float) #change % numbers into float decimals"
   ]
  },
  {
   "cell_type": "code",
   "execution_count": 49,
   "metadata": {
    "scrolled": false
   },
   "outputs": [
    {
     "name": "stdout",
     "output_type": "stream",
     "text": [
      "<class 'pandas.core.frame.DataFrame'>\n",
      "RangeIndex: 53 entries, 0 to 52\n",
      "Data columns (total 5 columns):\n",
      " #   Column              Non-Null Count  Dtype  \n",
      "---  ------              --------------  -----  \n",
      " 0   State               53 non-null     object \n",
      " 1   Participation Rate  51 non-null     float64\n",
      " 2   EBRW                53 non-null     int64  \n",
      " 3   Math                53 non-null     int64  \n",
      " 4   Total               53 non-null     int64  \n",
      "dtypes: float64(1), int64(3), object(1)\n",
      "memory usage: 2.2+ KB\n"
     ]
    }
   ],
   "source": [
    "sat19.info() #sat19 cleaned!"
   ]
  },
  {
   "cell_type": "markdown",
   "metadata": {},
   "source": [
    "### Cleaning ACT19 for California State "
   ]
  },
  {
   "cell_type": "code",
   "execution_count": 50,
   "metadata": {
    "scrolled": true
   },
   "outputs": [
    {
     "data": {
      "image/png": "[encoded data removed]",
      "text/plain": [
       "<Figure size 1800x720 with 2 Axes>"
      ]
     },
     "metadata": {
      "needs_background": "light"
     },
     "output_type": "display_data"
    }
   ],
   "source": [
    "#Using missingno to check for missing value in the ACT19CA dataset\n",
    "msno.matrix(act19ca);"
   ]
  },
  {
   "cell_type": "code",
   "execution_count": 51,
   "metadata": {},
   "outputs": [
    {
     "data": {
      "text/html": [
       "<div>\n",
       "<style scoped>\n",
       "    .dataframe tbody tr th:only-of-type {\n",
       "        vertical-align: middle;\n",
       "    }\n",
       "\n",
       "    .dataframe tbody tr th {\n",
       "        vertical-align: top;\n",
       "    }\n",
       "\n",
       "    .dataframe thead th {\n",
       "        text-align: right;\n",
       "    }\n",
       "</style>\n",
       "<table border=\"1\" class=\"dataframe\">\n",
       "  <thead>\n",
       "    <tr style=\"text-align: right;\">\n",
       "      <th></th>\n",
       "      <th>CDS</th>\n",
       "      <th>CCode</th>\n",
       "      <th>CDCode</th>\n",
       "      <th>SCode</th>\n",
       "      <th>Enroll12</th>\n",
       "      <th>NumTstTakr</th>\n",
       "      <th>Unnamed: 17</th>\n",
       "    </tr>\n",
       "  </thead>\n",
       "  <tbody>\n",
       "    <tr>\n",
       "      <th>count</th>\n",
       "      <td>2.309000e+03</td>\n",
       "      <td>2309.000000</td>\n",
       "      <td>2.309000e+03</td>\n",
       "      <td>1.787000e+03</td>\n",
       "      <td>2309.000000</td>\n",
       "      <td>2309.000000</td>\n",
       "      <td>0.0</td>\n",
       "    </tr>\n",
       "    <tr>\n",
       "      <th>mean</th>\n",
       "      <td>2.929718e+13</td>\n",
       "      <td>28.666522</td>\n",
       "      <td>2.855616e+06</td>\n",
       "      <td>1.902681e+06</td>\n",
       "      <td>828.172802</td>\n",
       "      <td>143.182763</td>\n",
       "      <td>NaN</td>\n",
       "    </tr>\n",
       "    <tr>\n",
       "      <th>std</th>\n",
       "      <td>1.444996e+13</td>\n",
       "      <td>14.425498</td>\n",
       "      <td>1.492574e+06</td>\n",
       "      <td>1.838954e+06</td>\n",
       "      <td>10667.048988</td>\n",
       "      <td>1816.545548</td>\n",
       "      <td>NaN</td>\n",
       "    </tr>\n",
       "    <tr>\n",
       "      <th>min</th>\n",
       "      <td>0.000000e+00</td>\n",
       "      <td>0.000000</td>\n",
       "      <td>0.000000e+00</td>\n",
       "      <td>0.000000e+00</td>\n",
       "      <td>0.000000</td>\n",
       "      <td>0.000000</td>\n",
       "      <td>NaN</td>\n",
       "    </tr>\n",
       "    <tr>\n",
       "      <th>25%</th>\n",
       "      <td>1.964725e+13</td>\n",
       "      <td>19.000000</td>\n",
       "      <td>1.964519e+06</td>\n",
       "      <td>1.254385e+05</td>\n",
       "      <td>78.000000</td>\n",
       "      <td>3.000000</td>\n",
       "      <td>NaN</td>\n",
       "    </tr>\n",
       "    <tr>\n",
       "      <th>50%</th>\n",
       "      <td>3.066647e+13</td>\n",
       "      <td>30.000000</td>\n",
       "      <td>3.066548e+06</td>\n",
       "      <td>1.930288e+06</td>\n",
       "      <td>218.000000</td>\n",
       "      <td>30.000000</td>\n",
       "      <td>NaN</td>\n",
       "    </tr>\n",
       "    <tr>\n",
       "      <th>75%</th>\n",
       "      <td>3.868478e+13</td>\n",
       "      <td>38.000000</td>\n",
       "      <td>3.777032e+06</td>\n",
       "      <td>3.435674e+06</td>\n",
       "      <td>497.000000</td>\n",
       "      <td>86.000000</td>\n",
       "      <td>NaN</td>\n",
       "    </tr>\n",
       "    <tr>\n",
       "      <th>max</th>\n",
       "      <td>5.872770e+13</td>\n",
       "      <td>58.000000</td>\n",
       "      <td>5.872769e+06</td>\n",
       "      <td>6.120893e+06</td>\n",
       "      <td>489650.000000</td>\n",
       "      <td>82668.000000</td>\n",
       "      <td>NaN</td>\n",
       "    </tr>\n",
       "  </tbody>\n",
       "</table>\n",
       "</div>"
      ],
      "text/plain": [
       "                CDS        CCode        CDCode         SCode       Enroll12  \\\n",
       "count  2.309000e+03  2309.000000  2.309000e+03  1.787000e+03    2309.000000   \n",
       "mean   2.929718e+13    28.666522  2.855616e+06  1.902681e+06     828.172802   \n",
       "std    1.444996e+13    14.425498  1.492574e+06  1.838954e+06   10667.048988   \n",
       "min    0.000000e+00     0.000000  0.000000e+00  0.000000e+00       0.000000   \n",
       "25%    1.964725e+13    19.000000  1.964519e+06  1.254385e+05      78.000000   \n",
       "50%    3.066647e+13    30.000000  3.066548e+06  1.930288e+06     218.000000   \n",
       "75%    3.868478e+13    38.000000  3.777032e+06  3.435674e+06     497.000000   \n",
       "max    5.872770e+13    58.000000  5.872769e+06  6.120893e+06  489650.000000   \n",
       "\n",
       "         NumTstTakr  Unnamed: 17  \n",
       "count   2309.000000          0.0  \n",
       "mean     143.182763          NaN  \n",
       "std     1816.545548          NaN  \n",
       "min        0.000000          NaN  \n",
       "25%        3.000000          NaN  \n",
       "50%       30.000000          NaN  \n",
       "75%       86.000000          NaN  \n",
       "max    82668.000000          NaN  "
      ]
     },
     "execution_count": 51,
     "metadata": {},
     "output_type": "execute_result"
    }
   ],
   "source": [
    "act19ca.describe()"
   ]
  },
  {
   "cell_type": "code",
   "execution_count": 52,
   "metadata": {
    "scrolled": false
   },
   "outputs": [
    {
     "name": "stdout",
     "output_type": "stream",
     "text": [
      "<class 'pandas.core.frame.DataFrame'>\n",
      "Int64Index: 2309 entries, 0 to 2308\n",
      "Data columns (total 17 columns):\n",
      " #   Column      Non-Null Count  Dtype         \n",
      "---  ------      --------------  -----         \n",
      " 0   CDS         2309 non-null   float64       \n",
      " 1   CCode       2309 non-null   float64       \n",
      " 2   CDCode      2309 non-null   float64       \n",
      " 3   SCode       1787 non-null   float64       \n",
      " 4   RType       2309 non-null   object        \n",
      " 5   SName       1729 non-null   object        \n",
      " 6   DName       2251 non-null   object        \n",
      " 7   CName       2309 non-null   object        \n",
      " 8   Enroll12    2309 non-null   float64       \n",
      " 9   NumTstTakr  2309 non-null   float64       \n",
      " 10  AvgScrRead  1421 non-null   float64       \n",
      " 11  AvgScrEng   1421 non-null   float64       \n",
      " 12  AvgScrMath  1421 non-null   float64       \n",
      " 13  AvgScrSci   1421 non-null   float64       \n",
      " 14  NumGE21     1421 non-null   float64       \n",
      " 15  PctGE21     1421 non-null   float64       \n",
      " 16  Year        2309 non-null   datetime64[ns]\n",
      "dtypes: datetime64[ns](1), float64(12), object(4)\n",
      "memory usage: 324.7+ KB\n"
     ]
    }
   ],
   "source": [
    "#do the cleaning for the dataset\n",
    "\n",
    "#drop the redundant column at the end\n",
    "act19ca.drop(['Unnamed: 17'], axis=1, inplace=True)\n",
    "\n",
    "#last entry there is a row with all nan values\n",
    "act19ca.drop(2309, axis=0, inplace=True)\n",
    "\n",
    "#Substitute * in score columns with NaN. * means that the enrollment number is low.\n",
    "act19ca[['AvgScrRead','AvgScrEng','AvgScrMath','AvgScrSci','NumGE21','PctGE21']] \\\n",
    "=act19ca[['AvgScrRead','AvgScrEng','AvgScrMath','AvgScrSci','NumGE21','PctGE21']].replace('*', np.nan)\n",
    "\n",
    "#in \"Year\" column, replace 2018-19 with 2019, and convert to datetime\n",
    "act19ca['Year'] = 2019\n",
    "act19ca['Year'] = pd.to_datetime(act19ca['Year'], format='%Y')\n",
    "\n",
    "#change datatype of all the scores from string to float\n",
    "act19ca[['AvgScrRead','AvgScrEng','AvgScrMath','\\\n",
    "AvgScrSci','NumGE21','PctGE21']] = \\\n",
    "act19ca[['AvgScrRead','AvgScrEng','AvgScrMath','\\\n",
    "AvgScrSci','NumGE21','PctGE21']].astype(float)\n",
    "\n",
    "\n",
    "act19ca.info()"
   ]
  },
  {
   "cell_type": "code",
   "execution_count": 53,
   "metadata": {
    "scrolled": true
   },
   "outputs": [
    {
     "data": {
      "text/plain": [
       "RType\n",
       "C    82668.0\n",
       "D    82619.0\n",
       "S    82654.0\n",
       "X    82668.0\n",
       "Name: NumTstTakr, dtype: float64"
      ]
     },
     "execution_count": 53,
     "metadata": {},
     "output_type": "execute_result"
    }
   ],
   "source": [
    "#Find the number of test takers grouped by type (C=county, X=state, D=district, S=school)\n",
    "act19ca.groupby('RType')['NumTstTakr'].sum()\n",
    "#we can see that number of students in county and in state are similar, so dataset is accurate"
   ]
  },
  {
   "cell_type": "code",
   "execution_count": 54,
   "metadata": {},
   "outputs": [],
   "source": [
    "#We can just filter out the rows where Rtype = C since we need county data\n",
    "act19ca = act19ca[act19ca['RType']=='C']\n",
    "\n",
    "#Drop unnecessary columns\n",
    "act19ca.drop(['CDCode','SCode','RType','SName','DName'],axis=1,inplace=True)"
   ]
  },
  {
   "cell_type": "code",
   "execution_count": 55,
   "metadata": {
    "scrolled": false
   },
   "outputs": [
    {
     "name": "stdout",
     "output_type": "stream",
     "text": [
      "<class 'pandas.core.frame.DataFrame'>\n",
      "RangeIndex: 58 entries, 0 to 57\n",
      "Data columns (total 12 columns):\n",
      " #   Column      Non-Null Count  Dtype         \n",
      "---  ------      --------------  -----         \n",
      " 0   CDS         58 non-null     float64       \n",
      " 1   CCode       58 non-null     float64       \n",
      " 2   CName       58 non-null     object        \n",
      " 3   Enroll12    58 non-null     float64       \n",
      " 4   NumTstTakr  58 non-null     float64       \n",
      " 5   AvgScrRead  54 non-null     float64       \n",
      " 6   AvgScrEng   54 non-null     float64       \n",
      " 7   AvgScrMath  54 non-null     float64       \n",
      " 8   AvgScrSci   54 non-null     float64       \n",
      " 9   NumGE21     54 non-null     float64       \n",
      " 10  PctGE21     54 non-null     float64       \n",
      " 11  Year        58 non-null     datetime64[ns]\n",
      "dtypes: datetime64[ns](1), float64(10), object(1)\n",
      "memory usage: 5.6+ KB\n"
     ]
    }
   ],
   "source": [
    "act19ca.reset_index(drop=True,inplace=True)\n",
    "act19ca.info()"
   ]
  },
  {
   "cell_type": "code",
   "execution_count": 56,
   "metadata": {},
   "outputs": [
    {
     "data": {
      "text/html": [
       "<div>\n",
       "<style scoped>\n",
       "    .dataframe tbody tr th:only-of-type {\n",
       "        vertical-align: middle;\n",
       "    }\n",
       "\n",
       "    .dataframe tbody tr th {\n",
       "        vertical-align: top;\n",
       "    }\n",
       "\n",
       "    .dataframe thead th {\n",
       "        text-align: right;\n",
       "    }\n",
       "</style>\n",
       "<table border=\"1\" class=\"dataframe\">\n",
       "  <thead>\n",
       "    <tr style=\"text-align: right;\">\n",
       "      <th></th>\n",
       "      <th>CDS</th>\n",
       "      <th>CCode</th>\n",
       "      <th>CName</th>\n",
       "      <th>Enroll12</th>\n",
       "      <th>NumTstTakr</th>\n",
       "      <th>AvgScrRead</th>\n",
       "      <th>AvgScrEng</th>\n",
       "      <th>AvgScrMath</th>\n",
       "      <th>AvgScrSci</th>\n",
       "      <th>NumGE21</th>\n",
       "      <th>PctGE21</th>\n",
       "      <th>Year</th>\n",
       "    </tr>\n",
       "  </thead>\n",
       "  <tbody>\n",
       "    <tr>\n",
       "      <th>0</th>\n",
       "      <td>3.400000e+13</td>\n",
       "      <td>34.0</td>\n",
       "      <td>Sacramento</td>\n",
       "      <td>19540.0</td>\n",
       "      <td>3065.0</td>\n",
       "      <td>21.0</td>\n",
       "      <td>20.0</td>\n",
       "      <td>21.0</td>\n",
       "      <td>21.0</td>\n",
       "      <td>1526.0</td>\n",
       "      <td>49.79</td>\n",
       "      <td>2019-01-01</td>\n",
       "    </tr>\n",
       "    <tr>\n",
       "      <th>1</th>\n",
       "      <td>3.900000e+13</td>\n",
       "      <td>39.0</td>\n",
       "      <td>San Joaquin</td>\n",
       "      <td>11778.0</td>\n",
       "      <td>1348.0</td>\n",
       "      <td>22.0</td>\n",
       "      <td>21.0</td>\n",
       "      <td>21.0</td>\n",
       "      <td>21.0</td>\n",
       "      <td>693.0</td>\n",
       "      <td>51.41</td>\n",
       "      <td>2019-01-01</td>\n",
       "    </tr>\n",
       "    <tr>\n",
       "      <th>2</th>\n",
       "      <td>1.500000e+13</td>\n",
       "      <td>15.0</td>\n",
       "      <td>Kern</td>\n",
       "      <td>14229.0</td>\n",
       "      <td>1257.0</td>\n",
       "      <td>21.0</td>\n",
       "      <td>20.0</td>\n",
       "      <td>20.0</td>\n",
       "      <td>20.0</td>\n",
       "      <td>544.0</td>\n",
       "      <td>43.28</td>\n",
       "      <td>2019-01-01</td>\n",
       "    </tr>\n",
       "    <tr>\n",
       "      <th>3</th>\n",
       "      <td>4.500000e+13</td>\n",
       "      <td>45.0</td>\n",
       "      <td>Shasta</td>\n",
       "      <td>2161.0</td>\n",
       "      <td>173.0</td>\n",
       "      <td>26.0</td>\n",
       "      <td>24.0</td>\n",
       "      <td>24.0</td>\n",
       "      <td>24.0</td>\n",
       "      <td>131.0</td>\n",
       "      <td>75.72</td>\n",
       "      <td>2019-01-01</td>\n",
       "    </tr>\n",
       "    <tr>\n",
       "      <th>4</th>\n",
       "      <td>5.100000e+13</td>\n",
       "      <td>51.0</td>\n",
       "      <td>Sutter</td>\n",
       "      <td>1827.0</td>\n",
       "      <td>196.0</td>\n",
       "      <td>23.0</td>\n",
       "      <td>22.0</td>\n",
       "      <td>22.0</td>\n",
       "      <td>22.0</td>\n",
       "      <td>117.0</td>\n",
       "      <td>59.69</td>\n",
       "      <td>2019-01-01</td>\n",
       "    </tr>\n",
       "  </tbody>\n",
       "</table>\n",
       "</div>"
      ],
      "text/plain": [
       "            CDS  CCode        CName  Enroll12  NumTstTakr  AvgScrRead  \\\n",
       "0  3.400000e+13   34.0   Sacramento   19540.0      3065.0        21.0   \n",
       "1  3.900000e+13   39.0  San Joaquin   11778.0      1348.0        22.0   \n",
       "2  1.500000e+13   15.0         Kern   14229.0      1257.0        21.0   \n",
       "3  4.500000e+13   45.0       Shasta    2161.0       173.0        26.0   \n",
       "4  5.100000e+13   51.0       Sutter    1827.0       196.0        23.0   \n",
       "\n",
       "   AvgScrEng  AvgScrMath  AvgScrSci  NumGE21  PctGE21       Year  \n",
       "0       20.0        21.0       21.0   1526.0    49.79 2019-01-01  \n",
       "1       21.0        21.0       21.0    693.0    51.41 2019-01-01  \n",
       "2       20.0        20.0       20.0    544.0    43.28 2019-01-01  \n",
       "3       24.0        24.0       24.0    131.0    75.72 2019-01-01  \n",
       "4       22.0        22.0       22.0    117.0    59.69 2019-01-01  "
      ]
     },
     "execution_count": 56,
     "metadata": {},
     "output_type": "execute_result"
    }
   ],
   "source": [
    "act19ca.head() #cleaned act19ca!"
   ]
  },
  {
   "cell_type": "markdown",
   "metadata": {},
   "source": [
    "### Cleaning SAT19 for California State"
   ]
  },
  {
   "cell_type": "code",
   "execution_count": 57,
   "metadata": {
    "scrolled": false
   },
   "outputs": [
    {
     "data": {
      "image/png": "[encoded data removed]",
      "text/plain": [
       "<Figure size 1800x720 with 2 Axes>"
      ]
     },
     "metadata": {
      "needs_background": "light"
     },
     "output_type": "display_data"
    }
   ],
   "source": [
    "#Using missingno to check for missing value in the SAT19CA dataset\n",
    "msno.matrix(sat19ca);"
   ]
  },
  {
   "cell_type": "code",
   "execution_count": 58,
   "metadata": {
    "scrolled": true
   },
   "outputs": [
    {
     "name": "stdout",
     "output_type": "stream",
     "text": [
      "<class 'pandas.core.frame.DataFrame'>\n",
      "RangeIndex: 2580 entries, 0 to 2579\n",
      "Data columns (total 26 columns):\n",
      " #   Column                 Non-Null Count  Dtype  \n",
      "---  ------                 --------------  -----  \n",
      " 0   CDS                    2579 non-null   float64\n",
      " 1   CCode                  2579 non-null   float64\n",
      " 2   CDCode                 2579 non-null   float64\n",
      " 3   SCode                  2579 non-null   float64\n",
      " 4   RType                  2579 non-null   object \n",
      " 5   SName                  1982 non-null   object \n",
      " 6   DName                  2521 non-null   object \n",
      " 7   CName                  2579 non-null   object \n",
      " 8   Enroll12               2579 non-null   float64\n",
      " 9   NumTSTTakr12           2579 non-null   float64\n",
      " 10  NumERWBenchmark12      2304 non-null   object \n",
      " 11  PctERWBenchmark12      2304 non-null   object \n",
      " 12  NumMathBenchmark12     2304 non-null   object \n",
      " 13  PctMathBenchmark12     2304 non-null   object \n",
      " 14  Enroll11               2579 non-null   float64\n",
      " 15  NumTSTTakr11           2579 non-null   float64\n",
      " 16  NumERWBenchmark11      2269 non-null   object \n",
      " 17  PctERWBenchmark11      2269 non-null   object \n",
      " 18  NumMathBenchmark11     2269 non-null   object \n",
      " 19  PctMathBenchmark11     2269 non-null   object \n",
      " 20  TotNumBothBenchmark12  2304 non-null   object \n",
      " 21  PctBothBenchmark12     2304 non-null   object \n",
      " 22  TotNumBothBenchmark11  2269 non-null   object \n",
      " 23  PctBothBenchmark11     2269 non-null   object \n",
      " 24  Year                   2579 non-null   object \n",
      " 25  Unnamed: 25            0 non-null      float64\n",
      "dtypes: float64(9), object(17)\n",
      "memory usage: 524.2+ KB\n"
     ]
    }
   ],
   "source": [
    "sat19ca.info()"
   ]
  },
  {
   "cell_type": "code",
   "execution_count": 59,
   "metadata": {},
   "outputs": [],
   "source": [
    "#do cleaning for sat19ca dataset\n",
    "\n",
    "#drop the redundant column at the end, as well as columns for students in grade11\n",
    "sat19ca.drop(['Enroll11','NumTSTTakr11','NumERWBenchmark11','PctERWBenchmark11','PctERWBenchmark11',\\\n",
    "              'NumMathBenchmark11','PctMathBenchmark11','TotNumBothBenchmark11',\\\n",
    "              'PctBothBenchmark11','Unnamed: 25'], axis=1, inplace=True)\n",
    "\n",
    "#Substitute * in score columns with NaN. * means that the enrollment number is low.\n",
    "sat19ca[['Enroll12','NumTSTTakr12','NumERWBenchmark12','PctERWBenchmark12','NumMathBenchmark12',\\\n",
    "         'PctMathBenchmark12','TotNumBothBenchmark12','PctBothBenchmark12']]= \\\n",
    "sat19ca[['Enroll12','NumTSTTakr12','NumERWBenchmark12','PctERWBenchmark12','NumMathBenchmark12',\\\n",
    "         'PctMathBenchmark12','TotNumBothBenchmark12','PctBothBenchmark12']].replace('*',np.nan)\n",
    "\n",
    "#last entry there is a row with all nan values\n",
    "sat19ca.drop(2579, axis=0, inplace=True)\n",
    "\n",
    "#in \"Year\" column, replace 2018-19 with 2019, and convert to datetime\n",
    "sat19ca['Year'] = 2019\n",
    "sat19ca['Year'] = pd.to_datetime(sat19ca['Year'], format='%Y')\n",
    "\n",
    "#change datatype of all the scores from string to float\n",
    "sat19ca[['Enroll12','NumTSTTakr12','NumERWBenchmark12','PctERWBenchmark12','NumMathBenchmark12',\\\n",
    "         'PctMathBenchmark12','TotNumBothBenchmark12','PctBothBenchmark12']]= \\\n",
    "sat19ca[['Enroll12','NumTSTTakr12','NumERWBenchmark12','PctERWBenchmark12','NumMathBenchmark12',\\\n",
    "         'PctMathBenchmark12','TotNumBothBenchmark12','PctBothBenchmark12']].astype(float)"
   ]
  },
  {
   "cell_type": "code",
   "execution_count": 60,
   "metadata": {},
   "outputs": [
    {
     "data": {
      "text/plain": [
       "RType\n",
       "C    170411.0\n",
       "D    170404.0\n",
       "S    170337.0\n",
       "X    170411.0\n",
       "Name: NumTSTTakr12, dtype: float64"
      ]
     },
     "execution_count": 60,
     "metadata": {},
     "output_type": "execute_result"
    }
   ],
   "source": [
    "#Find the number of test takers grouped by type (C=county, X=state, D=district, S=school)\n",
    "sat19ca.groupby('RType')['NumTSTTakr12'].sum()\n",
    "#we can see that number of students in county and in state are similar, so dataset is accurate"
   ]
  },
  {
   "cell_type": "code",
   "execution_count": 61,
   "metadata": {},
   "outputs": [],
   "source": [
    "#We can just filter out the rows where Rtype = C since we need county data\n",
    "sat19ca = sat19ca[sat19ca['RType']=='C']\n",
    "\n",
    "#Drop unnecessary columns\n",
    "sat19ca.drop(['CDCode','SCode','RType','SName','DName'],axis=1,inplace=True)"
   ]
  },
  {
   "cell_type": "code",
   "execution_count": 62,
   "metadata": {},
   "outputs": [
    {
     "name": "stdout",
     "output_type": "stream",
     "text": [
      "<class 'pandas.core.frame.DataFrame'>\n",
      "RangeIndex: 58 entries, 0 to 57\n",
      "Data columns (total 12 columns):\n",
      " #   Column                 Non-Null Count  Dtype         \n",
      "---  ------                 --------------  -----         \n",
      " 0   CDS                    58 non-null     float64       \n",
      " 1   CCode                  58 non-null     float64       \n",
      " 2   CName                  58 non-null     object        \n",
      " 3   Enroll12               58 non-null     float64       \n",
      " 4   NumTSTTakr12           58 non-null     float64       \n",
      " 5   NumERWBenchmark12      55 non-null     float64       \n",
      " 6   PctERWBenchmark12      55 non-null     float64       \n",
      " 7   NumMathBenchmark12     55 non-null     float64       \n",
      " 8   PctMathBenchmark12     55 non-null     float64       \n",
      " 9   TotNumBothBenchmark12  55 non-null     float64       \n",
      " 10  PctBothBenchmark12     55 non-null     float64       \n",
      " 11  Year                   58 non-null     datetime64[ns]\n",
      "dtypes: datetime64[ns](1), float64(10), object(1)\n",
      "memory usage: 5.6+ KB\n"
     ]
    }
   ],
   "source": [
    "sat19ca.reset_index(drop=True,inplace=True)\n",
    "sat19ca.info()"
   ]
  },
  {
   "cell_type": "markdown",
   "metadata": {},
   "source": [
    "### Cleaning GDP by County dataset"
   ]
  },
  {
   "cell_type": "code",
   "execution_count": 63,
   "metadata": {},
   "outputs": [
    {
     "data": {
      "text/html": [
       "<div>\n",
       "<style scoped>\n",
       "    .dataframe tbody tr th:only-of-type {\n",
       "        vertical-align: middle;\n",
       "    }\n",
       "\n",
       "    .dataframe tbody tr th {\n",
       "        vertical-align: top;\n",
       "    }\n",
       "\n",
       "    .dataframe thead th {\n",
       "        text-align: right;\n",
       "    }\n",
       "</style>\n",
       "<table border=\"1\" class=\"dataframe\">\n",
       "  <thead>\n",
       "    <tr style=\"text-align: right;\">\n",
       "      <th></th>\n",
       "      <th>GeoFips</th>\n",
       "    </tr>\n",
       "  </thead>\n",
       "  <tbody>\n",
       "    <tr>\n",
       "      <th>count</th>\n",
       "      <td>3118.000000</td>\n",
       "    </tr>\n",
       "    <tr>\n",
       "      <th>mean</th>\n",
       "      <td>30158.531110</td>\n",
       "    </tr>\n",
       "    <tr>\n",
       "      <th>std</th>\n",
       "      <td>15132.739028</td>\n",
       "    </tr>\n",
       "    <tr>\n",
       "      <th>min</th>\n",
       "      <td>1001.000000</td>\n",
       "    </tr>\n",
       "    <tr>\n",
       "      <th>25%</th>\n",
       "      <td>18157.500000</td>\n",
       "    </tr>\n",
       "    <tr>\n",
       "      <th>50%</th>\n",
       "      <td>29144.000000</td>\n",
       "    </tr>\n",
       "    <tr>\n",
       "      <th>75%</th>\n",
       "      <td>45036.500000</td>\n",
       "    </tr>\n",
       "    <tr>\n",
       "      <th>max</th>\n",
       "      <td>56045.000000</td>\n",
       "    </tr>\n",
       "  </tbody>\n",
       "</table>\n",
       "</div>"
      ],
      "text/plain": [
       "            GeoFips\n",
       "count   3118.000000\n",
       "mean   30158.531110\n",
       "std    15132.739028\n",
       "min     1001.000000\n",
       "25%    18157.500000\n",
       "50%    29144.000000\n",
       "75%    45036.500000\n",
       "max    56045.000000"
      ]
     },
     "execution_count": 63,
     "metadata": {},
     "output_type": "execute_result"
    }
   ],
   "source": [
    "gdpcounty.describe()"
   ]
  },
  {
   "cell_type": "code",
   "execution_count": 64,
   "metadata": {
    "scrolled": false
   },
   "outputs": [
    {
     "name": "stdout",
     "output_type": "stream",
     "text": [
      "<class 'pandas.core.frame.DataFrame'>\n",
      "RangeIndex: 58 entries, 0 to 57\n",
      "Data columns (total 7 columns):\n",
      " #   Column   Non-Null Count  Dtype  \n",
      "---  ------   --------------  -----  \n",
      " 0   GeoFips  58 non-null     int64  \n",
      " 1   GeoName  58 non-null     object \n",
      " 2   2017     58 non-null     float64\n",
      " 3   2018     58 non-null     float64\n",
      " 4   2019     58 non-null     float64\n",
      " 5   CName    58 non-null     object \n",
      " 6   State    58 non-null     object \n",
      "dtypes: float64(3), int64(1), object(3)\n",
      "memory usage: 3.3+ KB\n"
     ]
    },
    {
     "name": "stderr",
     "output_type": "stream",
     "text": [
      "C:\\Users\\finan\\anaconda3\\lib\\site-packages\\pandas\\core\\frame.py:3641: SettingWithCopyWarning: \n",
      "A value is trying to be set on a copy of a slice from a DataFrame.\n",
      "Try using .loc[row_indexer,col_indexer] = value instead\n",
      "\n",
      "See the caveats in the documentation: https://pandas.pydata.org/pandas-docs/stable/user_guide/indexing.html#returning-a-view-versus-a-copy\n",
      "  self[k1] = value[k2]\n"
     ]
    }
   ],
   "source": [
    "#Get the GDP for California counties\n",
    "gdpcounty['CName']=gdpcounty['GeoName'].apply(lambda x: x.split(',')[0])\n",
    "gdpcounty['State']=gdpcounty['GeoName'].apply(lambda x: x.split(',')[1])\n",
    "gdpcountyca = gdpcounty[gdpcounty['GeoName'].apply(lambda x: x[-2:])=='CA']\n",
    "gdpcountyca[['2017','2018','2019']] = gdpcountyca[['2017','2018','2019']].astype(float)\n",
    "\n",
    "gdpcountyca.reset_index(drop=True,inplace=True)\n",
    "gdpcountyca.info()"
   ]
  },
  {
   "cell_type": "markdown",
   "metadata": {},
   "source": [
    "### Clean County Stats"
   ]
  },
  {
   "cell_type": "code",
   "execution_count": 65,
   "metadata": {
    "scrolled": true
   },
   "outputs": [],
   "source": [
    "countystats.dropna(inplace=True)"
   ]
  },
  {
   "cell_type": "code",
   "execution_count": 66,
   "metadata": {},
   "outputs": [],
   "source": [
    "# countystats[['Unemployment_Rate_2018','Poverty_AllAgePct_2017','Poverty_U18Pct_2017']]=\\\n",
    "# countystats[['Unemployment_Rate_2018','Poverty_AllAgePct_2017','Poverty_U18Pct_2017']].apply(clean_pct)"
   ]
  },
  {
   "cell_type": "code",
   "execution_count": 67,
   "metadata": {
    "scrolled": false
   },
   "outputs": [
    {
     "name": "stdout",
     "output_type": "stream",
     "text": [
      "<class 'pandas.core.frame.DataFrame'>\n",
      "Int64Index: 58 entries, 0 to 57\n",
      "Data columns (total 11 columns):\n",
      " #   Column                  Non-Null Count  Dtype  \n",
      "---  ------                  --------------  -----  \n",
      " 0   County                  58 non-null     object \n",
      " 1   Population_2019         58 non-null     float64\n",
      " 2   Employed_2018           58 non-null     float64\n",
      " 3   Unemployed_2018         58 non-null     float64\n",
      " 4   Unemployment_Rate_2018  58 non-null     object \n",
      " 5   Poverty_AllAge_2017     58 non-null     float64\n",
      " 6   Poverty_AllAgePct_2017  58 non-null     object \n",
      " 7   Poverty_U18_2017        58 non-null     float64\n",
      " 8   Poverty_U18Pct_2017     58 non-null     object \n",
      " 9   Household_Income_2017   58 non-null     object \n",
      " 10  Education               58 non-null     object \n",
      "dtypes: float64(5), object(6)\n",
      "memory usage: 5.4+ KB\n"
     ]
    }
   ],
   "source": [
    "countystats.info()"
   ]
  },
  {
   "cell_type": "code",
   "execution_count": 68,
   "metadata": {},
   "outputs": [],
   "source": [
    "countystats['Unemployment_Rate_2018'] = countystats['Unemployment_Rate_2018'].apply(clean_pct)*100\n",
    "countystats['Poverty_AllAgePct_2017'] = countystats['Poverty_AllAgePct_2017'].apply(clean_pct)*100\n",
    "countystats['Poverty_U18Pct_2017'] = countystats['Poverty_U18Pct_2017'].apply(clean_pct)*100\n",
    "\n",
    "countystats['Household_Income_2017'] = countystats['Household_Income_2017'].apply(lambda x: x.strip('$').strip().replace(',',''))\n",
    "countystats['Education'] = countystats['Education'].apply(lambda x: x.replace('$',\"\").strip().replace(',',''))\n",
    "countystats[['Household_Income_2017','Education']] = countystats[['Household_Income_2017','Education']].astype(float)"
   ]
  },
  {
   "cell_type": "code",
   "execution_count": 69,
   "metadata": {},
   "outputs": [
    {
     "name": "stdout",
     "output_type": "stream",
     "text": [
      "<class 'pandas.core.frame.DataFrame'>\n",
      "Int64Index: 58 entries, 0 to 57\n",
      "Data columns (total 11 columns):\n",
      " #   Column                  Non-Null Count  Dtype  \n",
      "---  ------                  --------------  -----  \n",
      " 0   County                  58 non-null     object \n",
      " 1   Population_2019         58 non-null     float64\n",
      " 2   Employed_2018           58 non-null     float64\n",
      " 3   Unemployed_2018         58 non-null     float64\n",
      " 4   Unemployment_Rate_2018  58 non-null     float64\n",
      " 5   Poverty_AllAge_2017     58 non-null     float64\n",
      " 6   Poverty_AllAgePct_2017  58 non-null     float64\n",
      " 7   Poverty_U18_2017        58 non-null     float64\n",
      " 8   Poverty_U18Pct_2017     58 non-null     float64\n",
      " 9   Household_Income_2017   58 non-null     float64\n",
      " 10  Education               58 non-null     float64\n",
      "dtypes: float64(10), object(1)\n",
      "memory usage: 5.4+ KB\n"
     ]
    }
   ],
   "source": [
    "countystats.info()"
   ]
  },
  {
   "cell_type": "code",
   "execution_count": 70,
   "metadata": {
    "scrolled": true
   },
   "outputs": [
    {
     "data": {
      "text/html": [
       "<div>\n",
       "<style scoped>\n",
       "    .dataframe tbody tr th:only-of-type {\n",
       "        vertical-align: middle;\n",
       "    }\n",
       "\n",
       "    .dataframe tbody tr th {\n",
       "        vertical-align: top;\n",
       "    }\n",
       "\n",
       "    .dataframe thead th {\n",
       "        text-align: right;\n",
       "    }\n",
       "</style>\n",
       "<table border=\"1\" class=\"dataframe\">\n",
       "  <thead>\n",
       "    <tr style=\"text-align: right;\">\n",
       "      <th></th>\n",
       "      <th>County</th>\n",
       "      <th>Population_2019</th>\n",
       "      <th>Employed_2018</th>\n",
       "      <th>Unemployed_2018</th>\n",
       "      <th>Unemployment_Rate_2018</th>\n",
       "      <th>Poverty_AllAge_2017</th>\n",
       "      <th>Poverty_AllAgePct_2017</th>\n",
       "      <th>Poverty_U18_2017</th>\n",
       "      <th>Poverty_U18Pct_2017</th>\n",
       "      <th>Household_Income_2017</th>\n",
       "      <th>Education</th>\n",
       "    </tr>\n",
       "  </thead>\n",
       "  <tbody>\n",
       "    <tr>\n",
       "      <th>0</th>\n",
       "      <td>Alameda</td>\n",
       "      <td>1669301.0</td>\n",
       "      <td>822800.0</td>\n",
       "      <td>25400.0</td>\n",
       "      <td>3.0</td>\n",
       "      <td>152087.0</td>\n",
       "      <td>9.3</td>\n",
       "      <td>35658.0</td>\n",
       "      <td>10.5</td>\n",
       "      <td>95550.0</td>\n",
       "      <td>30350182.0</td>\n",
       "    </tr>\n",
       "    <tr>\n",
       "      <th>1</th>\n",
       "      <td>Alpine</td>\n",
       "      <td>1162.0</td>\n",
       "      <td>520.0</td>\n",
       "      <td>30.0</td>\n",
       "      <td>4.6</td>\n",
       "      <td>202.0</td>\n",
       "      <td>18.1</td>\n",
       "      <td>67.0</td>\n",
       "      <td>35.3</td>\n",
       "      <td>55755.0</td>\n",
       "      <td>545096.0</td>\n",
       "    </tr>\n",
       "    <tr>\n",
       "      <th>2</th>\n",
       "      <td>Amador</td>\n",
       "      <td>38294.0</td>\n",
       "      <td>14120.0</td>\n",
       "      <td>590.0</td>\n",
       "      <td>4.0</td>\n",
       "      <td>3762.0</td>\n",
       "      <td>10.9</td>\n",
       "      <td>908.0</td>\n",
       "      <td>15.7</td>\n",
       "      <td>60588.0</td>\n",
       "      <td>1175318.0</td>\n",
       "    </tr>\n",
       "    <tr>\n",
       "      <th>3</th>\n",
       "      <td>Butte</td>\n",
       "      <td>226466.0</td>\n",
       "      <td>97600.0</td>\n",
       "      <td>5100.0</td>\n",
       "      <td>4.9</td>\n",
       "      <td>40728.0</td>\n",
       "      <td>18.1</td>\n",
       "      <td>10208.0</td>\n",
       "      <td>22.6</td>\n",
       "      <td>48634.0</td>\n",
       "      <td>3793432.0</td>\n",
       "    </tr>\n",
       "    <tr>\n",
       "      <th>4</th>\n",
       "      <td>Calaveras</td>\n",
       "      <td>45117.0</td>\n",
       "      <td>20510.0</td>\n",
       "      <td>850.0</td>\n",
       "      <td>4.0</td>\n",
       "      <td>5904.0</td>\n",
       "      <td>13.1</td>\n",
       "      <td>1590.0</td>\n",
       "      <td>21.1</td>\n",
       "      <td>58536.0</td>\n",
       "      <td>865248.0</td>\n",
       "    </tr>\n",
       "  </tbody>\n",
       "</table>\n",
       "</div>"
      ],
      "text/plain": [
       "      County  Population_2019  Employed_2018  Unemployed_2018  \\\n",
       "0    Alameda        1669301.0       822800.0          25400.0   \n",
       "1     Alpine           1162.0          520.0             30.0   \n",
       "2     Amador          38294.0        14120.0            590.0   \n",
       "3      Butte         226466.0        97600.0           5100.0   \n",
       "4  Calaveras          45117.0        20510.0            850.0   \n",
       "\n",
       "   Unemployment_Rate_2018  Poverty_AllAge_2017  Poverty_AllAgePct_2017  \\\n",
       "0                     3.0             152087.0                     9.3   \n",
       "1                     4.6                202.0                    18.1   \n",
       "2                     4.0               3762.0                    10.9   \n",
       "3                     4.9              40728.0                    18.1   \n",
       "4                     4.0               5904.0                    13.1   \n",
       "\n",
       "   Poverty_U18_2017  Poverty_U18Pct_2017  Household_Income_2017   Education  \n",
       "0           35658.0                 10.5                95550.0  30350182.0  \n",
       "1              67.0                 35.3                55755.0    545096.0  \n",
       "2             908.0                 15.7                60588.0   1175318.0  \n",
       "3           10208.0                 22.6                48634.0   3793432.0  \n",
       "4            1590.0                 21.1                58536.0    865248.0  "
      ]
     },
     "execution_count": 70,
     "metadata": {},
     "output_type": "execute_result"
    }
   ],
   "source": [
    "countystats.head()"
   ]
  },
  {
   "cell_type": "code",
   "execution_count": 71,
   "metadata": {},
   "outputs": [
    {
     "data": {
      "text/html": [
       "<div>\n",
       "<style scoped>\n",
       "    .dataframe tbody tr th:only-of-type {\n",
       "        vertical-align: middle;\n",
       "    }\n",
       "\n",
       "    .dataframe tbody tr th {\n",
       "        vertical-align: top;\n",
       "    }\n",
       "\n",
       "    .dataframe thead th {\n",
       "        text-align: right;\n",
       "    }\n",
       "</style>\n",
       "<table border=\"1\" class=\"dataframe\">\n",
       "  <thead>\n",
       "    <tr style=\"text-align: right;\">\n",
       "      <th></th>\n",
       "      <th>GeoFips</th>\n",
       "      <th>GeoName</th>\n",
       "      <th>2017</th>\n",
       "      <th>2018</th>\n",
       "      <th>2019</th>\n",
       "      <th>CName</th>\n",
       "      <th>State</th>\n",
       "    </tr>\n",
       "  </thead>\n",
       "  <tbody>\n",
       "    <tr>\n",
       "      <th>0</th>\n",
       "      <td>6001</td>\n",
       "      <td>Alameda, CA</td>\n",
       "      <td>119117078.0</td>\n",
       "      <td>123718310.0</td>\n",
       "      <td>126183638.0</td>\n",
       "      <td>Alameda</td>\n",
       "      <td>CA</td>\n",
       "    </tr>\n",
       "    <tr>\n",
       "      <th>1</th>\n",
       "      <td>6003</td>\n",
       "      <td>Alpine, CA</td>\n",
       "      <td>99643.0</td>\n",
       "      <td>100131.0</td>\n",
       "      <td>104501.0</td>\n",
       "      <td>Alpine</td>\n",
       "      <td>CA</td>\n",
       "    </tr>\n",
       "    <tr>\n",
       "      <th>2</th>\n",
       "      <td>6005</td>\n",
       "      <td>Amador, CA</td>\n",
       "      <td>1570431.0</td>\n",
       "      <td>1585410.0</td>\n",
       "      <td>1625096.0</td>\n",
       "      <td>Amador</td>\n",
       "      <td>CA</td>\n",
       "    </tr>\n",
       "    <tr>\n",
       "      <th>3</th>\n",
       "      <td>6007</td>\n",
       "      <td>Butte, CA</td>\n",
       "      <td>8434322.0</td>\n",
       "      <td>8543593.0</td>\n",
       "      <td>8701260.0</td>\n",
       "      <td>Butte</td>\n",
       "      <td>CA</td>\n",
       "    </tr>\n",
       "    <tr>\n",
       "      <th>4</th>\n",
       "      <td>6009</td>\n",
       "      <td>Calaveras, CA</td>\n",
       "      <td>1292735.0</td>\n",
       "      <td>1238320.0</td>\n",
       "      <td>1412753.0</td>\n",
       "      <td>Calaveras</td>\n",
       "      <td>CA</td>\n",
       "    </tr>\n",
       "  </tbody>\n",
       "</table>\n",
       "</div>"
      ],
      "text/plain": [
       "   GeoFips        GeoName         2017         2018         2019      CName  \\\n",
       "0     6001    Alameda, CA  119117078.0  123718310.0  126183638.0    Alameda   \n",
       "1     6003     Alpine, CA      99643.0     100131.0     104501.0     Alpine   \n",
       "2     6005     Amador, CA    1570431.0    1585410.0    1625096.0     Amador   \n",
       "3     6007      Butte, CA    8434322.0    8543593.0    8701260.0      Butte   \n",
       "4     6009  Calaveras, CA    1292735.0    1238320.0    1412753.0  Calaveras   \n",
       "\n",
       "  State  \n",
       "0    CA  \n",
       "1    CA  \n",
       "2    CA  \n",
       "3    CA  \n",
       "4    CA  "
      ]
     },
     "execution_count": 71,
     "metadata": {},
     "output_type": "execute_result"
    }
   ],
   "source": [
    "gdpcountyca.head()"
   ]
  },
  {
   "cell_type": "markdown",
   "metadata": {},
   "source": [
    "## Step 7. Rename columns"
   ]
  },
  {
   "cell_type": "code",
   "execution_count": 72,
   "metadata": {},
   "outputs": [],
   "source": [
    "#define the act lists\n",
    "act17_col_list = [\n",
    "    'state',\n",
    "    'act17_part',\n",
    "    'act17_eng',\n",
    "    'act17_math',\n",
    "    'act17_read',\n",
    "    'act17_sci',\n",
    "    'act17_comp'\n",
    "]\n",
    "\n",
    "act18_col_list = [\n",
    "    'state',\n",
    "    'act18_part',\n",
    "    'act18_comp'\n",
    "]\n",
    "\n",
    "act19_col_list = [\n",
    "    'state',\n",
    "    'act19_part',\n",
    "    'act19_comp'\n",
    "]"
   ]
  },
  {
   "cell_type": "code",
   "execution_count": 73,
   "metadata": {},
   "outputs": [],
   "source": [
    "act17.columns = act17_col_list\n",
    "act18.columns = act18_col_list\n",
    "act19.columns = act19_col_list"
   ]
  },
  {
   "cell_type": "code",
   "execution_count": 74,
   "metadata": {},
   "outputs": [],
   "source": [
    "#define the sat list\n",
    "sat17_col_list = [\n",
    "    'state',\n",
    "    'sat17_part',\n",
    "    'sat17_ebrw',\n",
    "    'sat17_math',\n",
    "    'sat17_total'\n",
    "]\n",
    "\n",
    "sat18_col_list = [\n",
    "    'state',\n",
    "    'sat18_part',\n",
    "    'sat18_ebrw',\n",
    "    'sat18_math',\n",
    "    'sat18_total'\n",
    "]\n",
    "\n",
    "sat19_col_list = [\n",
    "    'state',\n",
    "    'sat19_part',\n",
    "    'sat19_ebrw',\n",
    "    'sat19_math',\n",
    "    'sat19_total'\n",
    "]"
   ]
  },
  {
   "cell_type": "code",
   "execution_count": 75,
   "metadata": {},
   "outputs": [],
   "source": [
    "sat17.columns = sat17_col_list\n",
    "sat18.columns = sat18_col_list\n",
    "sat19.columns = sat19_col_list"
   ]
  },
  {
   "cell_type": "code",
   "execution_count": 76,
   "metadata": {},
   "outputs": [],
   "source": [
    "gdpcountyca_col_list = [\n",
    "    'fips',\n",
    "    'geoname',\n",
    "    'gdp17',\n",
    "    'gdp18',\n",
    "    'gdp19',\n",
    "    'county',\n",
    "    'state'\n",
    "]\n",
    "\n",
    "countystats_col_list = [\n",
    "    'county',\n",
    "    'pop19',\n",
    "    'employ18',\n",
    "    'unemploy18',\n",
    "    'unemployrate18',\n",
    "    'pov_all17',\n",
    "    'pov_all_pct17',\n",
    "    'pov_u1817',\n",
    "    'pov_u18_pct17',\n",
    "    'household',\n",
    "    'education'\n",
    "]"
   ]
  },
  {
   "cell_type": "code",
   "execution_count": 77,
   "metadata": {},
   "outputs": [],
   "source": [
    "gdpcountyca.columns = gdpcountyca_col_list\n",
    "countystats.columns = countystats_col_list"
   ]
  },
  {
   "cell_type": "markdown",
   "metadata": {},
   "source": [
    "## Step 9. Remove unnecessary rows"
   ]
  },
  {
   "cell_type": "code",
   "execution_count": 78,
   "metadata": {},
   "outputs": [],
   "source": [
    "act17 = act17.drop(act17[act17['state']==\"National\"].index) #remove National row\n",
    "act18.loc[[8],['state']]='District of Columbia' #change c to C as in Columbia\n",
    "act19 = act19.drop(act19[act19['state']==\"National\"].index) #remove National row\n",
    "sat19 = sat19.drop([39,47],axis=0).reset_index(drop=True) #remove Puerto Rico and Virgin Islands"
   ]
  },
  {
   "cell_type": "markdown",
   "metadata": {},
   "source": [
    "## Step 10. Merge datasets"
   ]
  },
  {
   "cell_type": "markdown",
   "metadata": {},
   "source": [
    "### Merge ACT and SAT files for 2017, 2018, 2019"
   ]
  },
  {
   "cell_type": "code",
   "execution_count": 79,
   "metadata": {},
   "outputs": [],
   "source": [
    "act1718 = pd.merge(act17, act18, on='state')\n",
    "actall = pd.merge(act1718, act19, on='state')\n",
    "sat1718 = pd.merge(sat17, sat18, on='state')\n",
    "satall = pd.merge(sat1718, sat19, on='state')\n",
    "act_sat_merged = pd.merge(actall, satall, on='state')"
   ]
  },
  {
   "cell_type": "code",
   "execution_count": 80,
   "metadata": {
    "scrolled": true
   },
   "outputs": [
    {
     "name": "stdout",
     "output_type": "stream",
     "text": [
      "<class 'pandas.core.frame.DataFrame'>\n",
      "Int64Index: 51 entries, 0 to 50\n",
      "Data columns (total 23 columns):\n",
      " #   Column       Non-Null Count  Dtype  \n",
      "---  ------       --------------  -----  \n",
      " 0   state        51 non-null     object \n",
      " 1   act17_part   51 non-null     float64\n",
      " 2   act17_eng    51 non-null     float64\n",
      " 3   act17_math   51 non-null     float64\n",
      " 4   act17_read   51 non-null     float64\n",
      " 5   act17_sci    51 non-null     float64\n",
      " 6   act17_comp   51 non-null     float64\n",
      " 7   act18_part   51 non-null     float64\n",
      " 8   act18_comp   51 non-null     float64\n",
      " 9   act19_part   51 non-null     float64\n",
      " 10  act19_comp   51 non-null     float64\n",
      " 11  sat17_part   51 non-null     float64\n",
      " 12  sat17_ebrw   51 non-null     int64  \n",
      " 13  sat17_math   51 non-null     int64  \n",
      " 14  sat17_total  51 non-null     int64  \n",
      " 15  sat18_part   51 non-null     float64\n",
      " 16  sat18_ebrw   51 non-null     int64  \n",
      " 17  sat18_math   51 non-null     int64  \n",
      " 18  sat18_total  51 non-null     int64  \n",
      " 19  sat19_part   51 non-null     float64\n",
      " 20  sat19_ebrw   51 non-null     int64  \n",
      " 21  sat19_math   51 non-null     int64  \n",
      " 22  sat19_total  51 non-null     int64  \n",
      "dtypes: float64(13), int64(9), object(1)\n",
      "memory usage: 9.6+ KB\n"
     ]
    }
   ],
   "source": [
    "act_sat_merged.info() #final cleaned dataset"
   ]
  },
  {
   "cell_type": "markdown",
   "metadata": {},
   "source": [
    "### Merge SAT and ACT 2019 data for California State"
   ]
  },
  {
   "cell_type": "code",
   "execution_count": 81,
   "metadata": {
    "scrolled": true
   },
   "outputs": [
    {
     "data": {
      "text/html": [
       "<div>\n",
       "<style scoped>\n",
       "    .dataframe tbody tr th:only-of-type {\n",
       "        vertical-align: middle;\n",
       "    }\n",
       "\n",
       "    .dataframe tbody tr th {\n",
       "        vertical-align: top;\n",
       "    }\n",
       "\n",
       "    .dataframe thead th {\n",
       "        text-align: right;\n",
       "    }\n",
       "</style>\n",
       "<table border=\"1\" class=\"dataframe\">\n",
       "  <thead>\n",
       "    <tr style=\"text-align: right;\">\n",
       "      <th></th>\n",
       "      <th>CDS</th>\n",
       "      <th>CCode</th>\n",
       "      <th>CName</th>\n",
       "      <th>Enroll12</th>\n",
       "      <th>NumTstTakr</th>\n",
       "      <th>AvgScrRead</th>\n",
       "      <th>AvgScrEng</th>\n",
       "      <th>AvgScrMath</th>\n",
       "      <th>AvgScrSci</th>\n",
       "      <th>NumGE21</th>\n",
       "      <th>PctGE21</th>\n",
       "      <th>Year</th>\n",
       "      <th>NumTSTTakr12</th>\n",
       "      <th>NumERWBenchmark12</th>\n",
       "      <th>PctERWBenchmark12</th>\n",
       "      <th>NumMathBenchmark12</th>\n",
       "      <th>PctMathBenchmark12</th>\n",
       "      <th>TotNumBothBenchmark12</th>\n",
       "      <th>PctBothBenchmark12</th>\n",
       "    </tr>\n",
       "  </thead>\n",
       "  <tbody>\n",
       "    <tr>\n",
       "      <th>0</th>\n",
       "      <td>3.400000e+13</td>\n",
       "      <td>34.0</td>\n",
       "      <td>Sacramento</td>\n",
       "      <td>19540.0</td>\n",
       "      <td>3065.0</td>\n",
       "      <td>21.0</td>\n",
       "      <td>20.0</td>\n",
       "      <td>21.0</td>\n",
       "      <td>21.0</td>\n",
       "      <td>1526.0</td>\n",
       "      <td>49.79</td>\n",
       "      <td>2019-01-01</td>\n",
       "      <td>6090.0</td>\n",
       "      <td>4138.0</td>\n",
       "      <td>67.95</td>\n",
       "      <td>2945.0</td>\n",
       "      <td>48.36</td>\n",
       "      <td>2779.0</td>\n",
       "      <td>45.63</td>\n",
       "    </tr>\n",
       "    <tr>\n",
       "      <th>1</th>\n",
       "      <td>3.900000e+13</td>\n",
       "      <td>39.0</td>\n",
       "      <td>San Joaquin</td>\n",
       "      <td>11778.0</td>\n",
       "      <td>1348.0</td>\n",
       "      <td>22.0</td>\n",
       "      <td>21.0</td>\n",
       "      <td>21.0</td>\n",
       "      <td>21.0</td>\n",
       "      <td>693.0</td>\n",
       "      <td>51.41</td>\n",
       "      <td>2019-01-01</td>\n",
       "      <td>3351.0</td>\n",
       "      <td>2344.0</td>\n",
       "      <td>69.95</td>\n",
       "      <td>1515.0</td>\n",
       "      <td>45.21</td>\n",
       "      <td>1417.0</td>\n",
       "      <td>42.29</td>\n",
       "    </tr>\n",
       "    <tr>\n",
       "      <th>2</th>\n",
       "      <td>1.500000e+13</td>\n",
       "      <td>15.0</td>\n",
       "      <td>Kern</td>\n",
       "      <td>14229.0</td>\n",
       "      <td>1257.0</td>\n",
       "      <td>21.0</td>\n",
       "      <td>20.0</td>\n",
       "      <td>20.0</td>\n",
       "      <td>20.0</td>\n",
       "      <td>544.0</td>\n",
       "      <td>43.28</td>\n",
       "      <td>2019-01-01</td>\n",
       "      <td>3793.0</td>\n",
       "      <td>2334.0</td>\n",
       "      <td>61.53</td>\n",
       "      <td>1481.0</td>\n",
       "      <td>39.05</td>\n",
       "      <td>1364.0</td>\n",
       "      <td>35.96</td>\n",
       "    </tr>\n",
       "    <tr>\n",
       "      <th>3</th>\n",
       "      <td>4.500000e+13</td>\n",
       "      <td>45.0</td>\n",
       "      <td>Shasta</td>\n",
       "      <td>2161.0</td>\n",
       "      <td>173.0</td>\n",
       "      <td>26.0</td>\n",
       "      <td>24.0</td>\n",
       "      <td>24.0</td>\n",
       "      <td>24.0</td>\n",
       "      <td>131.0</td>\n",
       "      <td>75.72</td>\n",
       "      <td>2019-01-01</td>\n",
       "      <td>386.0</td>\n",
       "      <td>330.0</td>\n",
       "      <td>85.49</td>\n",
       "      <td>256.0</td>\n",
       "      <td>66.32</td>\n",
       "      <td>246.0</td>\n",
       "      <td>63.73</td>\n",
       "    </tr>\n",
       "    <tr>\n",
       "      <th>4</th>\n",
       "      <td>5.100000e+13</td>\n",
       "      <td>51.0</td>\n",
       "      <td>Sutter</td>\n",
       "      <td>1827.0</td>\n",
       "      <td>196.0</td>\n",
       "      <td>23.0</td>\n",
       "      <td>22.0</td>\n",
       "      <td>22.0</td>\n",
       "      <td>22.0</td>\n",
       "      <td>117.0</td>\n",
       "      <td>59.69</td>\n",
       "      <td>2019-01-01</td>\n",
       "      <td>359.0</td>\n",
       "      <td>297.0</td>\n",
       "      <td>82.73</td>\n",
       "      <td>189.0</td>\n",
       "      <td>52.65</td>\n",
       "      <td>187.0</td>\n",
       "      <td>52.09</td>\n",
       "    </tr>\n",
       "  </tbody>\n",
       "</table>\n",
       "</div>"
      ],
      "text/plain": [
       "            CDS  CCode        CName  Enroll12  NumTstTakr  AvgScrRead  \\\n",
       "0  3.400000e+13   34.0   Sacramento   19540.0      3065.0        21.0   \n",
       "1  3.900000e+13   39.0  San Joaquin   11778.0      1348.0        22.0   \n",
       "2  1.500000e+13   15.0         Kern   14229.0      1257.0        21.0   \n",
       "3  4.500000e+13   45.0       Shasta    2161.0       173.0        26.0   \n",
       "4  5.100000e+13   51.0       Sutter    1827.0       196.0        23.0   \n",
       "\n",
       "   AvgScrEng  AvgScrMath  AvgScrSci  NumGE21  PctGE21       Year  \\\n",
       "0       20.0        21.0       21.0   1526.0    49.79 2019-01-01   \n",
       "1       21.0        21.0       21.0    693.0    51.41 2019-01-01   \n",
       "2       20.0        20.0       20.0    544.0    43.28 2019-01-01   \n",
       "3       24.0        24.0       24.0    131.0    75.72 2019-01-01   \n",
       "4       22.0        22.0       22.0    117.0    59.69 2019-01-01   \n",
       "\n",
       "   NumTSTTakr12  NumERWBenchmark12  PctERWBenchmark12  NumMathBenchmark12  \\\n",
       "0        6090.0             4138.0              67.95              2945.0   \n",
       "1        3351.0             2344.0              69.95              1515.0   \n",
       "2        3793.0             2334.0              61.53              1481.0   \n",
       "3         386.0              330.0              85.49               256.0   \n",
       "4         359.0              297.0              82.73               189.0   \n",
       "\n",
       "   PctMathBenchmark12  TotNumBothBenchmark12  PctBothBenchmark12  \n",
       "0               48.36                 2779.0               45.63  \n",
       "1               45.21                 1417.0               42.29  \n",
       "2               39.05                 1364.0               35.96  \n",
       "3               66.32                  246.0               63.73  \n",
       "4               52.65                  187.0               52.09  "
      ]
     },
     "execution_count": 81,
     "metadata": {},
     "output_type": "execute_result"
    }
   ],
   "source": [
    "#join act19ca and sat19ca files into one dataframe\n",
    "sat19ca.drop(['CDS','CCode','Enroll12','Year'],axis=1,inplace=True)\n",
    "actsat19ca = pd.merge(act19ca, sat19ca, on='CName')\n",
    "actsat19ca.head()"
   ]
  },
  {
   "cell_type": "markdown",
   "metadata": {},
   "source": [
    "### Merge GDP and County Stats data"
   ]
  },
  {
   "cell_type": "code",
   "execution_count": 82,
   "metadata": {},
   "outputs": [],
   "source": [
    "ca_county_stats = pd.merge(gdpcountyca, countystats, on='county')"
   ]
  },
  {
   "cell_type": "code",
   "execution_count": 83,
   "metadata": {},
   "outputs": [
    {
     "name": "stdout",
     "output_type": "stream",
     "text": [
      "<class 'pandas.core.frame.DataFrame'>\n",
      "Int64Index: 58 entries, 0 to 57\n",
      "Data columns (total 17 columns):\n",
      " #   Column          Non-Null Count  Dtype  \n",
      "---  ------          --------------  -----  \n",
      " 0   fips            58 non-null     int64  \n",
      " 1   geoname         58 non-null     object \n",
      " 2   gdp17           58 non-null     float64\n",
      " 3   gdp18           58 non-null     float64\n",
      " 4   gdp19           58 non-null     float64\n",
      " 5   county          58 non-null     object \n",
      " 6   state           58 non-null     object \n",
      " 7   pop19           58 non-null     float64\n",
      " 8   employ18        58 non-null     float64\n",
      " 9   unemploy18      58 non-null     float64\n",
      " 10  unemployrate18  58 non-null     float64\n",
      " 11  pov_all17       58 non-null     float64\n",
      " 12  pov_all_pct17   58 non-null     float64\n",
      " 13  pov_u1817       58 non-null     float64\n",
      " 14  pov_u18_pct17   58 non-null     float64\n",
      " 15  household       58 non-null     float64\n",
      " 16  education       58 non-null     float64\n",
      "dtypes: float64(13), int64(1), object(3)\n",
      "memory usage: 8.2+ KB\n"
     ]
    }
   ],
   "source": [
    "ca_county_stats.info()"
   ]
  },
  {
   "cell_type": "markdown",
   "metadata": {},
   "source": [
    "## Step 11. Save to csv file"
   ]
  },
  {
   "cell_type": "code",
   "execution_count": 84,
   "metadata": {},
   "outputs": [],
   "source": [
    "act_sat_merged.to_csv('../data/act_sat_merged.csv')\n",
    "actsat19ca.to_csv('../data/actsat19ca.csv')\n",
    "ca_county_stats.to_csv('../data/ca_county_stats.csv')"
   ]
  },
  {
   "cell_type": "markdown",
   "metadata": {},
   "source": [
    "### Data Dictionary\n",
    "\n",
    "Now that we've fixed our data, and given it appropriate names, let's create a [data dictionary](http://library.ucmerced.edu/node/10249). \n",
    "\n",
    "A data dictionary provides a quick overview of features/variables/columns, alongside data types and descriptions. The more descriptive you can be, the more useful this document is.\n",
    "\n",
    "Example of a Fictional Data Dictionary Entry: \n",
    "\n",
    "|Feature|Type|Dataset|Description|\n",
    "|---|---|---|---|\n",
    "|**county_pop**|*integer*|2010 census|The population of the county (units in thousands, where 2.5 represents 2500 people).| \n",
    "|**per_poverty**|*float*|2010 census|The percent of the county over the age of 18 living below the 200% of official US poverty rate (units percent to two decimal places 98.10 means 98.1%)|\n",
    "\n",
    "[Here's a quick link to a short guide for formatting markdown in Jupyter notebooks](https://jupyter-notebook.readthedocs.io/en/stable/examples/Notebook/Working%20With%20Markdown%20Cells.html).\n",
    "\n",
    "Provided is the skeleton for formatting a markdown table, with columns headers that will help you create a data dictionary to quickly summarize your data, as well as some examples. **This would be a great thing to copy and paste into your custom README for this project.**\n",
    "\n",
    "*Note*: if you are unsure of what a feature is, check the source of the data! This can be found in the README."
   ]
  },
  {
   "cell_type": "markdown",
   "metadata": {},
   "source": [
    "**To-Do:** *Edit the table below to create your own data dictionary for the datasets you chose.*\n",
    "\n",
    "|Feature|Type|Dataset|Description|\n",
    "|---|---|---|---|\n",
    "|column name|int/float/object|ACT/SAT|This is an example| \n"
   ]
  },
  {
   "cell_type": "markdown",
   "metadata": {},
   "source": [
    "**Data Dictionary for ACT 2017, SAT 2017**\n",
    " \n",
    "|Feature|Type|Dataset|Description|\n",
    "|---|---|---|---|\n",
    "|state|obj|ACT/SAT|State|\n",
    "|sat17_part|float64|ACT/SAT|Statewide SAT Participation Rate, 2017| \n",
    "|sat17_ebrw|int64|ACT/SAT|State mean score, SAT Reading/Writing (200-800), 2017| \n",
    "|sat17_math|int64|ACT/SAT|State mean score, SAT Math (200-800), 2017| \n",
    "|sat17_total|int64|ACT/SAT|State mean total SAT score (400-1600), 2017| \n",
    "|act17_part|float64|ACT/SAT|Statewide ACT Participation Rate, 2017| \n",
    "|act17_eng|float64|ACT/SAT|State mean score, ACT English (1-36), 2017| \n",
    "|act17_math|float64|ACT/SAT|State mean score, ACT English (1-36), 2017| \n",
    "|act17_read|float64|ACT/SAT|State mean score, ACT Reading (1-36), 2017| \n",
    "|act17_sci|float64|ACT/SAT|State mean score, ACT Science (1-36), 2017| \n",
    "|act17_comp|float64|ACT/SAT|State mean ACT Composite Score (1-36), 2017|\n"
   ]
  },
  {
   "cell_type": "markdown",
   "metadata": {},
   "source": [
    "**Data Dictionary for ACT 2018, SAT 2018**\n",
    " \n",
    "|Feature|Type|Dataset|Description|\n",
    "|---|---|---|---|\n",
    "|state|obj|ACT/SAT|State|\n",
    "|sat18_part|float64|ACT/SAT|Statewide SAT Participation Rate, 2018| \n",
    "|sat18_ebrw|int64|ACT/SAT|State mean score, SAT Reading/Writing (200-800), 2018| \n",
    "|sat18_math|int64|ACT/SAT|State mean score, SAT Math (200-800), 2018| \n",
    "|sat18_total|int64|ACT/SAT|State mean total SAT score (400-1600), 2018| \n",
    "|act18_part|float64|ACT/SAT|Statewide ACT Participation Rate, 2018| \n",
    "|act18_eng|float64|ACT/SAT|State mean score, ACT English (1-36), 2018| \n",
    "|act18_math|float64|ACT/SAT|State mean score, ACT English (1-36), 2018| \n",
    "|act18_read|float64|ACT/SAT|State mean score, ACT Reading (1-36), 2018| \n",
    "|act18_sci|float64|ACT/SAT|State mean score, ACT Science (1-36), 2018| \n",
    "|act18_comp|float64|ACT/SAT|State mean ACT Composite Score (1-36), 2018|\n"
   ]
  },
  {
   "cell_type": "markdown",
   "metadata": {},
   "source": [
    "**Data Dictionary for ACT 2019, SAT 2019**\n",
    " \n",
    "|Feature|Type|Dataset|Description|\n",
    "|---|---|---|---|\n",
    "|state|obj|ACT/SAT|State|\n",
    "|sat19_part|float64|ACT/SAT|Statewide SAT Participation Rate, 2019| \n",
    "|sat19_ebrw|int64|ACT/SAT|State mean score, SAT Reading/Writing (200-800), 2019| \n",
    "|sat19_math|int64|ACT/SAT|State mean score, SAT Math (200-800), 2019| \n",
    "|sat19_total|int64|ACT/SAT|State mean total SAT score (400-1600), 2019| \n",
    "|act19_part|float64|ACT/SAT|Statewide ACT Participation Rate, 2019| \n",
    "|act19_eng|float64|ACT/SAT|State mean score, ACT English (1-36), 2019| \n",
    "|act19_math|float64|ACT/SAT|State mean score, ACT English (1-36), 2019| \n",
    "|act19_read|float64|ACT/SAT|State mean score, ACT Reading (1-36), 2019| \n",
    "|act19_sci|float64|ACT/SAT|State mean score, ACT Science (1-36), 2019| \n",
    "|act19_comp|float64|ACT/SAT|State mean ACT Composite Score (1-36), 2019|"
   ]
  },
  {
   "cell_type": "markdown",
   "metadata": {},
   "source": [
    "**Data Dictionary for ACT 2019 California**\n",
    " \n",
    "|Feature|Type|Dataset|Description|\n",
    "|---|---|---|---|\n",
    "|cds|obj|ACT 2019 CA|County/District/School Code|\n",
    "|ccode|float64|ACT 2019 CA|County Code| \n",
    "|cname|int64|ACT 2019 CA|County Name| \n",
    "|enroll|int64|ACT 2019 CA|Enrollment of Grade 12| \n",
    "|num_tst_takr|int64|ACT 2019 CA|Number of Test Takers of Grade 12| \n",
    "|avg_scr_read|float64|ACT 2019 CA|Statewide ACT Participation Rate, 2019| \n",
    "|avg_scr_eng|float64|ACT 2019 CA|State mean score, ACT English (1-36), 2019| \n",
    "|avg_scr_math|float64|ACT 2019 CA|State mean score, ACT Math (1-36), 2019| \n",
    "|avg_scr_sci|float64|ACT 2019 CA|State mean score, ACT Science (1-36), 2019| \n",
    "|num_ge_21|float64|ACT 2019 CA|Number of Test Takers Whose ACT Composite Scores Are Greater or Equal to 21| \n",
    "|pct_ge_21|float64|ACT 2019 CA|Percent of Test Takers Whose ACT Composite Scores Are Greater or Equal to 21|\n",
    "|year|float64|ACT 2019 CA|Test Administration Academic Year|"
   ]
  },
  {
   "cell_type": "markdown",
   "metadata": {},
   "source": [
    "**Data Dictionary for SAT 2019 California**\n",
    " \n",
    "|Feature|Type|Dataset|Description|\n",
    "|---|---|---|---|\n",
    "|cds|obj|SAT 2019 CA|County/District/School Code|\n",
    "|ccode|float64|SAT 2019 CA|County Code| \n",
    "|cname|int64|SAT 2019 CA|County Name| \n",
    "|enroll|int64|SAT 2019 CA|Enrollment of Grade 12| \n",
    "|num_tst_takr|int64|SAT 2019 CA|Number of Test Takers of Grade 12| \n",
    "|num_erw_bm|float64|SAT 2019 CA|Statewide ACT Participation Rate, 2019| \n",
    "|pct_erw_bm|float64|SAT 2019 CA|The percent of students who met or exceeded the benchmark for Evidence-Based Reading & Writing (ERW)| \n",
    "|num_math_bm|float64|SAT 2019 CA|The number of students who met or exceeded the benchmark for SAT Math test| \n",
    "|pct_math_bm|float64|SAT 2019 CA|The percent of students who met or exceeded the benchmark for SAT Math test| \n",
    "|tot_num_both_bm|float64|SAT 2019 CA|The total number of students who met the benchmark of both Evidence-Based Reading & Writing (ERW) and Math| \n",
    "|pct_both_bm|float64|SAT 2019 CA|The percent of students who met the benchmark of both Evidence-Based Reading & Writing (ERW) and Math), 2019|\n",
    "|year|float64|SAT 2019 CA|Test Administration Academic Year|"
   ]
  },
  {
   "cell_type": "markdown",
   "metadata": {},
   "source": [
    "## Exploratory Data Analysis\n",
    "\n",
    "Complete the following steps to explore your data. You are welcome to do more EDA than the steps outlined here as you feel necessary:\n",
    "1. Summary Statistics.\n",
    "2. Use a **dictionary comprehension** to apply the standard deviation function you create in part 1 to each numeric column in the dataframe.  **No loops**.\n",
    "    - Assign the output to variable `sd` as a dictionary where: \n",
    "        - Each column name is now a key \n",
    "        - That standard deviation of the column is the value \n",
    "        - *Example Output :* `{'ACT_Math': 120, 'ACT_Reading': 120, ...}`\n",
    "3. Investigate trends in the data.\n",
    "    - Using sorting and/or masking (along with the `.head()` method to avoid printing our entire dataframe), consider questions relevant to your problem statement. Some examples are provided below (but feel free to change these questions for your specific problem):\n",
    "        - Which states have the highest and lowest participation rates for the 2017, 2019, or 2019 SAT and ACT?\n",
    "        - Which states have the highest and lowest mean total/composite scores for the 2017, 2019, or 2019 SAT and ACT?\n",
    "        - Do any states with 100% participation on a given test have a rate change year-to-year?\n",
    "        - Do any states show have >50% participation on *both* tests each year?\n",
    "        - Which colleges have the highest median SAT and ACT scores for admittance?\n",
    "        - Which California school districts have the highest and lowest mean test scores?\n",
    "    - **You should comment on your findings at each step in a markdown cell below your code block**. Make sure you include at least one example of sorting your dataframe by a column, and one example of using boolean filtering (i.e., masking) to select a subset of the dataframe."
   ]
  },
  {
   "cell_type": "markdown",
   "metadata": {},
   "source": [
    "**To-Do:** *Edit this cell with your findings on trends in the data (step 3 above).*"
   ]
  },
  {
   "cell_type": "code",
   "execution_count": 85,
   "metadata": {},
   "outputs": [
    {
     "data": {
      "text/plain": [
       "{'act17_part': 0.318,\n",
       " 'act17_eng': 2.33,\n",
       " 'act17_math': 1.962,\n",
       " 'act17_read': 2.047,\n",
       " 'act17_sci': 1.718,\n",
       " 'act17_comp': 2.001,\n",
       " 'act18_part': 0.337,\n",
       " 'act18_comp': 2.091,\n",
       " 'act19_part': 0.342,\n",
       " 'act19_comp': 2.173,\n",
       " 'sat17_part': 0.349,\n",
       " 'sat17_ebrw': 45.217,\n",
       " 'sat17_math': 46.716,\n",
       " 'sat17_total': 91.584,\n",
       " 'sat18_part': 0.369,\n",
       " 'sat18_ebrw': 47.035,\n",
       " 'sat18_math': 47.302,\n",
       " 'sat18_total': 93.227,\n",
       " 'sat19_part': 0.384,\n",
       " 'sat19_ebrw': 45.792,\n",
       " 'sat19_math': 50.785,\n",
       " 'sat19_total': 96.24}"
      ]
     },
     "execution_count": 85,
     "metadata": {},
     "output_type": "execute_result"
    }
   ],
   "source": [
    "sd = {col : round(manual_std(act_sat_merged[col]),3) for col in act_sat_merged.columns if act_sat_merged[col].dtypes != object}\n",
    "sd"
   ]
  },
  {
   "cell_type": "markdown",
   "metadata": {},
   "source": [
    "### States with the highest ACT participation rates"
   ]
  },
  {
   "cell_type": "code",
   "execution_count": 86,
   "metadata": {},
   "outputs": [
    {
     "data": {
      "text/html": [
       "<div>\n",
       "<style scoped>\n",
       "    .dataframe tbody tr th:only-of-type {\n",
       "        vertical-align: middle;\n",
       "    }\n",
       "\n",
       "    .dataframe tbody tr th {\n",
       "        vertical-align: top;\n",
       "    }\n",
       "\n",
       "    .dataframe thead th {\n",
       "        text-align: right;\n",
       "    }\n",
       "</style>\n",
       "<table border=\"1\" class=\"dataframe\">\n",
       "  <thead>\n",
       "    <tr style=\"text-align: right;\">\n",
       "      <th></th>\n",
       "      <th>state</th>\n",
       "      <th>act17_part</th>\n",
       "      <th>act18_part</th>\n",
       "      <th>act19_part</th>\n",
       "    </tr>\n",
       "  </thead>\n",
       "  <tbody>\n",
       "    <tr>\n",
       "      <th>0</th>\n",
       "      <td>Alabama</td>\n",
       "      <td>1.0</td>\n",
       "      <td>1.0</td>\n",
       "      <td>1.0</td>\n",
       "    </tr>\n",
       "    <tr>\n",
       "      <th>3</th>\n",
       "      <td>Arkansas</td>\n",
       "      <td>1.0</td>\n",
       "      <td>1.0</td>\n",
       "      <td>1.0</td>\n",
       "    </tr>\n",
       "    <tr>\n",
       "      <th>17</th>\n",
       "      <td>Kentucky</td>\n",
       "      <td>1.0</td>\n",
       "      <td>1.0</td>\n",
       "      <td>1.0</td>\n",
       "    </tr>\n",
       "    <tr>\n",
       "      <th>18</th>\n",
       "      <td>Louisiana</td>\n",
       "      <td>1.0</td>\n",
       "      <td>1.0</td>\n",
       "      <td>1.0</td>\n",
       "    </tr>\n",
       "    <tr>\n",
       "      <th>24</th>\n",
       "      <td>Mississippi</td>\n",
       "      <td>1.0</td>\n",
       "      <td>1.0</td>\n",
       "      <td>1.0</td>\n",
       "    </tr>\n",
       "  </tbody>\n",
       "</table>\n",
       "</div>"
      ],
      "text/plain": [
       "          state  act17_part  act18_part  act19_part\n",
       "0       Alabama         1.0         1.0         1.0\n",
       "3      Arkansas         1.0         1.0         1.0\n",
       "17     Kentucky         1.0         1.0         1.0\n",
       "18    Louisiana         1.0         1.0         1.0\n",
       "24  Mississippi         1.0         1.0         1.0"
      ]
     },
     "execution_count": 86,
     "metadata": {},
     "output_type": "execute_result"
    }
   ],
   "source": [
    "act_sat_merged[['state','act17_part','act18_part','act19_part']].\\\n",
    "sort_values(['act17_part','act18_part','act19_part'],ascending=False).head()"
   ]
  },
  {
   "cell_type": "markdown",
   "metadata": {},
   "source": [
    "### States with the highest SAT participation rates"
   ]
  },
  {
   "cell_type": "code",
   "execution_count": 87,
   "metadata": {},
   "outputs": [
    {
     "data": {
      "text/html": [
       "<div>\n",
       "<style scoped>\n",
       "    .dataframe tbody tr th:only-of-type {\n",
       "        vertical-align: middle;\n",
       "    }\n",
       "\n",
       "    .dataframe tbody tr th {\n",
       "        vertical-align: top;\n",
       "    }\n",
       "\n",
       "    .dataframe thead th {\n",
       "        text-align: right;\n",
       "    }\n",
       "</style>\n",
       "<table border=\"1\" class=\"dataframe\">\n",
       "  <thead>\n",
       "    <tr style=\"text-align: right;\">\n",
       "      <th></th>\n",
       "      <th>state</th>\n",
       "      <th>sat17_part</th>\n",
       "      <th>sat18_part</th>\n",
       "      <th>sat19_part</th>\n",
       "    </tr>\n",
       "  </thead>\n",
       "  <tbody>\n",
       "    <tr>\n",
       "      <th>6</th>\n",
       "      <td>Connecticut</td>\n",
       "      <td>1.00</td>\n",
       "      <td>1.00</td>\n",
       "      <td>1.00</td>\n",
       "    </tr>\n",
       "    <tr>\n",
       "      <th>7</th>\n",
       "      <td>Delaware</td>\n",
       "      <td>1.00</td>\n",
       "      <td>1.00</td>\n",
       "      <td>1.00</td>\n",
       "    </tr>\n",
       "    <tr>\n",
       "      <th>22</th>\n",
       "      <td>Michigan</td>\n",
       "      <td>1.00</td>\n",
       "      <td>1.00</td>\n",
       "      <td>1.00</td>\n",
       "    </tr>\n",
       "    <tr>\n",
       "      <th>8</th>\n",
       "      <td>District of Columbia</td>\n",
       "      <td>1.00</td>\n",
       "      <td>0.92</td>\n",
       "      <td>0.94</td>\n",
       "    </tr>\n",
       "    <tr>\n",
       "      <th>29</th>\n",
       "      <td>New Hampshire</td>\n",
       "      <td>0.96</td>\n",
       "      <td>0.96</td>\n",
       "      <td>0.95</td>\n",
       "    </tr>\n",
       "  </tbody>\n",
       "</table>\n",
       "</div>"
      ],
      "text/plain": [
       "                   state  sat17_part  sat18_part  sat19_part\n",
       "6            Connecticut        1.00        1.00        1.00\n",
       "7               Delaware        1.00        1.00        1.00\n",
       "22              Michigan        1.00        1.00        1.00\n",
       "8   District of Columbia        1.00        0.92        0.94\n",
       "29         New Hampshire        0.96        0.96        0.95"
      ]
     },
     "execution_count": 87,
     "metadata": {},
     "output_type": "execute_result"
    }
   ],
   "source": [
    "act_sat_merged[['state','sat17_part','sat18_part','sat19_part']].\\\n",
    "sort_values(['sat17_part','sat18_part','sat19_part'],ascending=False).head()"
   ]
  },
  {
   "cell_type": "markdown",
   "metadata": {},
   "source": [
    "### States with the highest ACT scores"
   ]
  },
  {
   "cell_type": "code",
   "execution_count": 88,
   "metadata": {
    "scrolled": false
   },
   "outputs": [
    {
     "data": {
      "text/html": [
       "<div>\n",
       "<style scoped>\n",
       "    .dataframe tbody tr th:only-of-type {\n",
       "        vertical-align: middle;\n",
       "    }\n",
       "\n",
       "    .dataframe tbody tr th {\n",
       "        vertical-align: top;\n",
       "    }\n",
       "\n",
       "    .dataframe thead th {\n",
       "        text-align: right;\n",
       "    }\n",
       "</style>\n",
       "<table border=\"1\" class=\"dataframe\">\n",
       "  <thead>\n",
       "    <tr style=\"text-align: right;\">\n",
       "      <th></th>\n",
       "      <th>state</th>\n",
       "      <th>act17_comp</th>\n",
       "      <th>act18_comp</th>\n",
       "      <th>act19_comp</th>\n",
       "    </tr>\n",
       "  </thead>\n",
       "  <tbody>\n",
       "    <tr>\n",
       "      <th>6</th>\n",
       "      <td>Connecticut</td>\n",
       "      <td>25.2</td>\n",
       "      <td>25.6</td>\n",
       "      <td>25.5</td>\n",
       "    </tr>\n",
       "    <tr>\n",
       "      <th>21</th>\n",
       "      <td>Massachusetts</td>\n",
       "      <td>25.4</td>\n",
       "      <td>25.5</td>\n",
       "      <td>25.5</td>\n",
       "    </tr>\n",
       "    <tr>\n",
       "      <th>22</th>\n",
       "      <td>Michigan</td>\n",
       "      <td>24.1</td>\n",
       "      <td>24.2</td>\n",
       "      <td>24.4</td>\n",
       "    </tr>\n",
       "    <tr>\n",
       "      <th>29</th>\n",
       "      <td>New Hampshire</td>\n",
       "      <td>25.5</td>\n",
       "      <td>25.1</td>\n",
       "      <td>25.0</td>\n",
       "    </tr>\n",
       "    <tr>\n",
       "      <th>32</th>\n",
       "      <td>New York</td>\n",
       "      <td>24.2</td>\n",
       "      <td>24.5</td>\n",
       "      <td>24.5</td>\n",
       "    </tr>\n",
       "  </tbody>\n",
       "</table>\n",
       "</div>"
      ],
      "text/plain": [
       "            state  act17_comp  act18_comp  act19_comp\n",
       "6     Connecticut        25.2        25.6        25.5\n",
       "21  Massachusetts        25.4        25.5        25.5\n",
       "22       Michigan        24.1        24.2        24.4\n",
       "29  New Hampshire        25.5        25.1        25.0\n",
       "32       New York        24.2        24.5        24.5"
      ]
     },
     "execution_count": 88,
     "metadata": {},
     "output_type": "execute_result"
    }
   ],
   "source": [
    "hi_score_act = act_sat_merged[['state','act17_comp','act18_comp','act19_comp']]\n",
    "hi_score_act[(hi_score_act['act17_comp']>24) & (hi_score_act['act18_comp']>24) & (hi_score_act['act19_comp']>24)]"
   ]
  },
  {
   "cell_type": "markdown",
   "metadata": {},
   "source": [
    "### States with the lowest ACT scores"
   ]
  },
  {
   "cell_type": "code",
   "execution_count": 89,
   "metadata": {},
   "outputs": [
    {
     "data": {
      "text/html": [
       "<div>\n",
       "<style scoped>\n",
       "    .dataframe tbody tr th:only-of-type {\n",
       "        vertical-align: middle;\n",
       "    }\n",
       "\n",
       "    .dataframe tbody tr th {\n",
       "        vertical-align: top;\n",
       "    }\n",
       "\n",
       "    .dataframe thead th {\n",
       "        text-align: right;\n",
       "    }\n",
       "</style>\n",
       "<table border=\"1\" class=\"dataframe\">\n",
       "  <thead>\n",
       "    <tr style=\"text-align: right;\">\n",
       "      <th></th>\n",
       "      <th>state</th>\n",
       "      <th>act17_comp</th>\n",
       "      <th>act18_comp</th>\n",
       "      <th>act19_comp</th>\n",
       "    </tr>\n",
       "  </thead>\n",
       "  <tbody>\n",
       "    <tr>\n",
       "      <th>0</th>\n",
       "      <td>Alabama</td>\n",
       "      <td>19.2</td>\n",
       "      <td>19.1</td>\n",
       "      <td>18.9</td>\n",
       "    </tr>\n",
       "    <tr>\n",
       "      <th>2</th>\n",
       "      <td>Arizona</td>\n",
       "      <td>19.7</td>\n",
       "      <td>19.2</td>\n",
       "      <td>19.0</td>\n",
       "    </tr>\n",
       "    <tr>\n",
       "      <th>3</th>\n",
       "      <td>Arkansas</td>\n",
       "      <td>19.4</td>\n",
       "      <td>19.4</td>\n",
       "      <td>19.3</td>\n",
       "    </tr>\n",
       "    <tr>\n",
       "      <th>11</th>\n",
       "      <td>Hawaii</td>\n",
       "      <td>19.0</td>\n",
       "      <td>18.9</td>\n",
       "      <td>19.0</td>\n",
       "    </tr>\n",
       "    <tr>\n",
       "      <th>18</th>\n",
       "      <td>Louisiana</td>\n",
       "      <td>19.5</td>\n",
       "      <td>19.2</td>\n",
       "      <td>18.8</td>\n",
       "    </tr>\n",
       "    <tr>\n",
       "      <th>24</th>\n",
       "      <td>Mississippi</td>\n",
       "      <td>18.6</td>\n",
       "      <td>18.6</td>\n",
       "      <td>18.4</td>\n",
       "    </tr>\n",
       "    <tr>\n",
       "      <th>28</th>\n",
       "      <td>Nevada</td>\n",
       "      <td>17.8</td>\n",
       "      <td>17.7</td>\n",
       "      <td>17.9</td>\n",
       "    </tr>\n",
       "    <tr>\n",
       "      <th>31</th>\n",
       "      <td>New Mexico</td>\n",
       "      <td>19.7</td>\n",
       "      <td>19.4</td>\n",
       "      <td>19.3</td>\n",
       "    </tr>\n",
       "    <tr>\n",
       "      <th>33</th>\n",
       "      <td>North Carolina</td>\n",
       "      <td>19.1</td>\n",
       "      <td>19.1</td>\n",
       "      <td>19.0</td>\n",
       "    </tr>\n",
       "    <tr>\n",
       "      <th>36</th>\n",
       "      <td>Oklahoma</td>\n",
       "      <td>19.4</td>\n",
       "      <td>19.3</td>\n",
       "      <td>18.9</td>\n",
       "    </tr>\n",
       "    <tr>\n",
       "      <th>40</th>\n",
       "      <td>South Carolina</td>\n",
       "      <td>18.7</td>\n",
       "      <td>18.3</td>\n",
       "      <td>18.8</td>\n",
       "    </tr>\n",
       "    <tr>\n",
       "      <th>42</th>\n",
       "      <td>Tennessee</td>\n",
       "      <td>19.8</td>\n",
       "      <td>19.6</td>\n",
       "      <td>19.4</td>\n",
       "    </tr>\n",
       "  </tbody>\n",
       "</table>\n",
       "</div>"
      ],
      "text/plain": [
       "             state  act17_comp  act18_comp  act19_comp\n",
       "0          Alabama        19.2        19.1        18.9\n",
       "2          Arizona        19.7        19.2        19.0\n",
       "3         Arkansas        19.4        19.4        19.3\n",
       "11          Hawaii        19.0        18.9        19.0\n",
       "18       Louisiana        19.5        19.2        18.8\n",
       "24     Mississippi        18.6        18.6        18.4\n",
       "28          Nevada        17.8        17.7        17.9\n",
       "31      New Mexico        19.7        19.4        19.3\n",
       "33  North Carolina        19.1        19.1        19.0\n",
       "36        Oklahoma        19.4        19.3        18.9\n",
       "40  South Carolina        18.7        18.3        18.8\n",
       "42       Tennessee        19.8        19.6        19.4"
      ]
     },
     "execution_count": 89,
     "metadata": {},
     "output_type": "execute_result"
    }
   ],
   "source": [
    "low_score_act = act_sat_merged[['state','act17_comp','act18_comp','act19_comp']]\n",
    "low_score_act[(low_score_act['act17_comp']<20) & (low_score_act['act18_comp']<20) & (low_score_act['act19_comp']<20)]"
   ]
  },
  {
   "cell_type": "markdown",
   "metadata": {},
   "source": [
    "### States with highest SAT total scores"
   ]
  },
  {
   "cell_type": "code",
   "execution_count": 90,
   "metadata": {
    "scrolled": false
   },
   "outputs": [
    {
     "data": {
      "text/html": [
       "<div>\n",
       "<style scoped>\n",
       "    .dataframe tbody tr th:only-of-type {\n",
       "        vertical-align: middle;\n",
       "    }\n",
       "\n",
       "    .dataframe tbody tr th {\n",
       "        vertical-align: top;\n",
       "    }\n",
       "\n",
       "    .dataframe thead th {\n",
       "        text-align: right;\n",
       "    }\n",
       "</style>\n",
       "<table border=\"1\" class=\"dataframe\">\n",
       "  <thead>\n",
       "    <tr style=\"text-align: right;\">\n",
       "      <th></th>\n",
       "      <th>state</th>\n",
       "      <th>sat17_total</th>\n",
       "      <th>sat18_total</th>\n",
       "      <th>sat19_total</th>\n",
       "    </tr>\n",
       "  </thead>\n",
       "  <tbody>\n",
       "    <tr>\n",
       "      <th>15</th>\n",
       "      <td>Iowa</td>\n",
       "      <td>1275</td>\n",
       "      <td>1265</td>\n",
       "      <td>1244</td>\n",
       "    </tr>\n",
       "    <tr>\n",
       "      <th>16</th>\n",
       "      <td>Kansas</td>\n",
       "      <td>1260</td>\n",
       "      <td>1265</td>\n",
       "      <td>1241</td>\n",
       "    </tr>\n",
       "    <tr>\n",
       "      <th>17</th>\n",
       "      <td>Kentucky</td>\n",
       "      <td>1247</td>\n",
       "      <td>1248</td>\n",
       "      <td>1232</td>\n",
       "    </tr>\n",
       "    <tr>\n",
       "      <th>23</th>\n",
       "      <td>Minnesota</td>\n",
       "      <td>1295</td>\n",
       "      <td>1298</td>\n",
       "      <td>1284</td>\n",
       "    </tr>\n",
       "    <tr>\n",
       "      <th>24</th>\n",
       "      <td>Mississippi</td>\n",
       "      <td>1242</td>\n",
       "      <td>1236</td>\n",
       "      <td>1237</td>\n",
       "    </tr>\n",
       "    <tr>\n",
       "      <th>25</th>\n",
       "      <td>Missouri</td>\n",
       "      <td>1271</td>\n",
       "      <td>1262</td>\n",
       "      <td>1236</td>\n",
       "    </tr>\n",
       "    <tr>\n",
       "      <th>27</th>\n",
       "      <td>Nebraska</td>\n",
       "      <td>1253</td>\n",
       "      <td>1252</td>\n",
       "      <td>1260</td>\n",
       "    </tr>\n",
       "    <tr>\n",
       "      <th>34</th>\n",
       "      <td>North Dakota</td>\n",
       "      <td>1256</td>\n",
       "      <td>1283</td>\n",
       "      <td>1263</td>\n",
       "    </tr>\n",
       "    <tr>\n",
       "      <th>41</th>\n",
       "      <td>South Dakota</td>\n",
       "      <td>1216</td>\n",
       "      <td>1240</td>\n",
       "      <td>1268</td>\n",
       "    </tr>\n",
       "    <tr>\n",
       "      <th>42</th>\n",
       "      <td>Tennessee</td>\n",
       "      <td>1228</td>\n",
       "      <td>1231</td>\n",
       "      <td>1220</td>\n",
       "    </tr>\n",
       "    <tr>\n",
       "      <th>49</th>\n",
       "      <td>Wisconsin</td>\n",
       "      <td>1291</td>\n",
       "      <td>1294</td>\n",
       "      <td>1283</td>\n",
       "    </tr>\n",
       "    <tr>\n",
       "      <th>50</th>\n",
       "      <td>Wyoming</td>\n",
       "      <td>1230</td>\n",
       "      <td>1257</td>\n",
       "      <td>1238</td>\n",
       "    </tr>\n",
       "  </tbody>\n",
       "</table>\n",
       "</div>"
      ],
      "text/plain": [
       "           state  sat17_total  sat18_total  sat19_total\n",
       "15          Iowa         1275         1265         1244\n",
       "16        Kansas         1260         1265         1241\n",
       "17      Kentucky         1247         1248         1232\n",
       "23     Minnesota         1295         1298         1284\n",
       "24   Mississippi         1242         1236         1237\n",
       "25      Missouri         1271         1262         1236\n",
       "27      Nebraska         1253         1252         1260\n",
       "34  North Dakota         1256         1283         1263\n",
       "41  South Dakota         1216         1240         1268\n",
       "42     Tennessee         1228         1231         1220\n",
       "49     Wisconsin         1291         1294         1283\n",
       "50       Wyoming         1230         1257         1238"
      ]
     },
     "execution_count": 90,
     "metadata": {},
     "output_type": "execute_result"
    }
   ],
   "source": [
    "hi_score_sat = act_sat_merged[['state','sat17_total','sat18_total','sat19_total']]\n",
    "hi_score_sat[(hi_score_sat['sat17_total']>1200) & (hi_score_sat['sat18_total']>1200) & (hi_score_sat['sat19_total']>1200)]"
   ]
  },
  {
   "cell_type": "markdown",
   "metadata": {},
   "source": [
    "### States with lowest SAT total scores"
   ]
  },
  {
   "cell_type": "code",
   "execution_count": 91,
   "metadata": {},
   "outputs": [
    {
     "data": {
      "text/html": [
       "<div>\n",
       "<style scoped>\n",
       "    .dataframe tbody tr th:only-of-type {\n",
       "        vertical-align: middle;\n",
       "    }\n",
       "\n",
       "    .dataframe tbody tr th {\n",
       "        vertical-align: top;\n",
       "    }\n",
       "\n",
       "    .dataframe thead th {\n",
       "        text-align: right;\n",
       "    }\n",
       "</style>\n",
       "<table border=\"1\" class=\"dataframe\">\n",
       "  <thead>\n",
       "    <tr style=\"text-align: right;\">\n",
       "      <th></th>\n",
       "      <th>state</th>\n",
       "      <th>sat17_total</th>\n",
       "      <th>sat18_total</th>\n",
       "      <th>sat19_total</th>\n",
       "    </tr>\n",
       "  </thead>\n",
       "  <tbody>\n",
       "    <tr>\n",
       "      <th>7</th>\n",
       "      <td>Delaware</td>\n",
       "      <td>996</td>\n",
       "      <td>998</td>\n",
       "      <td>985</td>\n",
       "    </tr>\n",
       "    <tr>\n",
       "      <th>8</th>\n",
       "      <td>District of Columbia</td>\n",
       "      <td>950</td>\n",
       "      <td>977</td>\n",
       "      <td>975</td>\n",
       "    </tr>\n",
       "    <tr>\n",
       "      <th>12</th>\n",
       "      <td>Idaho</td>\n",
       "      <td>1005</td>\n",
       "      <td>1001</td>\n",
       "      <td>993</td>\n",
       "    </tr>\n",
       "    <tr>\n",
       "      <th>19</th>\n",
       "      <td>Maine</td>\n",
       "      <td>1012</td>\n",
       "      <td>1013</td>\n",
       "      <td>1013</td>\n",
       "    </tr>\n",
       "    <tr>\n",
       "      <th>22</th>\n",
       "      <td>Michigan</td>\n",
       "      <td>1005</td>\n",
       "      <td>1011</td>\n",
       "      <td>1003</td>\n",
       "    </tr>\n",
       "    <tr>\n",
       "      <th>43</th>\n",
       "      <td>Texas</td>\n",
       "      <td>1020</td>\n",
       "      <td>1032</td>\n",
       "      <td>1022</td>\n",
       "    </tr>\n",
       "  </tbody>\n",
       "</table>\n",
       "</div>"
      ],
      "text/plain": [
       "                   state  sat17_total  sat18_total  sat19_total\n",
       "7               Delaware          996          998          985\n",
       "8   District of Columbia          950          977          975\n",
       "12                 Idaho         1005         1001          993\n",
       "19                 Maine         1012         1013         1013\n",
       "22              Michigan         1005         1011         1003\n",
       "43                 Texas         1020         1032         1022"
      ]
     },
     "execution_count": 91,
     "metadata": {},
     "output_type": "execute_result"
    }
   ],
   "source": [
    "lo_score_sat = act_sat_merged[['state','sat17_total','sat18_total','sat19_total']]\n",
    "lo_score_sat[(lo_score_sat['sat17_total']<1050) & (lo_score_sat['sat18_total']<1050) & (lo_score_sat['sat19_total']<1050)]"
   ]
  },
  {
   "cell_type": "markdown",
   "metadata": {},
   "source": [
    "### Data exploratory with GDP, employment, poverty, household income and education data"
   ]
  },
  {
   "cell_type": "code",
   "execution_count": 92,
   "metadata": {},
   "outputs": [],
   "source": [
    "ca_county_stats['gdppercap19'] = round(ca_county_stats['gdp19']/ca_county_stats['pop19'],2)\n",
    "ca_county_stats['edupercap'] = round(ca_county_stats['education']/ca_county_stats['pop19'],2)"
   ]
  },
  {
   "cell_type": "code",
   "execution_count": 93,
   "metadata": {
    "scrolled": false
   },
   "outputs": [
    {
     "data": {
      "text/html": [
       "<div>\n",
       "<style scoped>\n",
       "    .dataframe tbody tr th:only-of-type {\n",
       "        vertical-align: middle;\n",
       "    }\n",
       "\n",
       "    .dataframe tbody tr th {\n",
       "        vertical-align: top;\n",
       "    }\n",
       "\n",
       "    .dataframe thead th {\n",
       "        text-align: right;\n",
       "    }\n",
       "</style>\n",
       "<table border=\"1\" class=\"dataframe\">\n",
       "  <thead>\n",
       "    <tr style=\"text-align: right;\">\n",
       "      <th></th>\n",
       "      <th>fips</th>\n",
       "      <th>geoname</th>\n",
       "      <th>gdp17</th>\n",
       "      <th>gdp18</th>\n",
       "      <th>gdp19</th>\n",
       "      <th>county</th>\n",
       "      <th>state</th>\n",
       "      <th>pop19</th>\n",
       "      <th>employ18</th>\n",
       "      <th>unemploy18</th>\n",
       "      <th>unemployrate18</th>\n",
       "      <th>pov_all17</th>\n",
       "      <th>pov_all_pct17</th>\n",
       "      <th>pov_u1817</th>\n",
       "      <th>pov_u18_pct17</th>\n",
       "      <th>household</th>\n",
       "      <th>education</th>\n",
       "      <th>gdppercap19</th>\n",
       "      <th>edupercap</th>\n",
       "    </tr>\n",
       "  </thead>\n",
       "  <tbody>\n",
       "    <tr>\n",
       "      <th>37</th>\n",
       "      <td>6075</td>\n",
       "      <td>San Francisco, CA</td>\n",
       "      <td>155258114.0</td>\n",
       "      <td>166716731.0</td>\n",
       "      <td>176392838.0</td>\n",
       "      <td>San Francisco</td>\n",
       "      <td>CA</td>\n",
       "      <td>883869.0</td>\n",
       "      <td>562000.0</td>\n",
       "      <td>13500.0</td>\n",
       "      <td>2.4</td>\n",
       "      <td>87314.0</td>\n",
       "      <td>10.1</td>\n",
       "      <td>14234.0</td>\n",
       "      <td>12.3</td>\n",
       "      <td>109601.0</td>\n",
       "      <td>480038898.0</td>\n",
       "      <td>199.57</td>\n",
       "      <td>543.11</td>\n",
       "    </tr>\n",
       "    <tr>\n",
       "      <th>42</th>\n",
       "      <td>6085</td>\n",
       "      <td>Santa Clara, CA</td>\n",
       "      <td>282946368.0</td>\n",
       "      <td>306691667.0</td>\n",
       "      <td>325665794.0</td>\n",
       "      <td>Santa Clara</td>\n",
       "      <td>CA</td>\n",
       "      <td>1954286.0</td>\n",
       "      <td>1021500.0</td>\n",
       "      <td>27300.0</td>\n",
       "      <td>2.6</td>\n",
       "      <td>142603.0</td>\n",
       "      <td>7.5</td>\n",
       "      <td>34255.0</td>\n",
       "      <td>8.1</td>\n",
       "      <td>118468.0</td>\n",
       "      <td>50044521.0</td>\n",
       "      <td>166.64</td>\n",
       "      <td>25.61</td>\n",
       "    </tr>\n",
       "    <tr>\n",
       "      <th>40</th>\n",
       "      <td>6081</td>\n",
       "      <td>San Mateo, CA</td>\n",
       "      <td>113829269.0</td>\n",
       "      <td>119797765.0</td>\n",
       "      <td>125850236.0</td>\n",
       "      <td>San Mateo</td>\n",
       "      <td>CA</td>\n",
       "      <td>774485.0</td>\n",
       "      <td>444900.0</td>\n",
       "      <td>10000.0</td>\n",
       "      <td>2.2</td>\n",
       "      <td>48795.0</td>\n",
       "      <td>6.4</td>\n",
       "      <td>11102.0</td>\n",
       "      <td>7.0</td>\n",
       "      <td>115908.0</td>\n",
       "      <td>15301176.0</td>\n",
       "      <td>162.50</td>\n",
       "      <td>19.76</td>\n",
       "    </tr>\n",
       "    <tr>\n",
       "      <th>20</th>\n",
       "      <td>6041</td>\n",
       "      <td>Marin, CA</td>\n",
       "      <td>22815861.0</td>\n",
       "      <td>25037176.0</td>\n",
       "      <td>27175273.0</td>\n",
       "      <td>Marin</td>\n",
       "      <td>CA</td>\n",
       "      <td>262879.0</td>\n",
       "      <td>137700.0</td>\n",
       "      <td>3400.0</td>\n",
       "      <td>2.4</td>\n",
       "      <td>20222.0</td>\n",
       "      <td>7.9</td>\n",
       "      <td>4262.0</td>\n",
       "      <td>8.2</td>\n",
       "      <td>112735.0</td>\n",
       "      <td>40951819.0</td>\n",
       "      <td>103.38</td>\n",
       "      <td>155.78</td>\n",
       "    </tr>\n",
       "    <tr>\n",
       "      <th>1</th>\n",
       "      <td>6003</td>\n",
       "      <td>Alpine, CA</td>\n",
       "      <td>99643.0</td>\n",
       "      <td>100131.0</td>\n",
       "      <td>104501.0</td>\n",
       "      <td>Alpine</td>\n",
       "      <td>CA</td>\n",
       "      <td>1162.0</td>\n",
       "      <td>520.0</td>\n",
       "      <td>30.0</td>\n",
       "      <td>4.6</td>\n",
       "      <td>202.0</td>\n",
       "      <td>18.1</td>\n",
       "      <td>67.0</td>\n",
       "      <td>35.3</td>\n",
       "      <td>55755.0</td>\n",
       "      <td>545096.0</td>\n",
       "      <td>89.93</td>\n",
       "      <td>469.10</td>\n",
       "    </tr>\n",
       "  </tbody>\n",
       "</table>\n",
       "</div>"
      ],
      "text/plain": [
       "    fips            geoname        gdp17        gdp18        gdp19  \\\n",
       "37  6075  San Francisco, CA  155258114.0  166716731.0  176392838.0   \n",
       "42  6085    Santa Clara, CA  282946368.0  306691667.0  325665794.0   \n",
       "40  6081      San Mateo, CA  113829269.0  119797765.0  125850236.0   \n",
       "20  6041          Marin, CA   22815861.0   25037176.0   27175273.0   \n",
       "1   6003         Alpine, CA      99643.0     100131.0     104501.0   \n",
       "\n",
       "           county state      pop19   employ18  unemploy18  unemployrate18  \\\n",
       "37  San Francisco    CA   883869.0   562000.0     13500.0             2.4   \n",
       "42    Santa Clara    CA  1954286.0  1021500.0     27300.0             2.6   \n",
       "40      San Mateo    CA   774485.0   444900.0     10000.0             2.2   \n",
       "20          Marin    CA   262879.0   137700.0      3400.0             2.4   \n",
       "1          Alpine    CA     1162.0      520.0        30.0             4.6   \n",
       "\n",
       "    pov_all17  pov_all_pct17  pov_u1817  pov_u18_pct17  household  \\\n",
       "37    87314.0           10.1    14234.0           12.3   109601.0   \n",
       "42   142603.0            7.5    34255.0            8.1   118468.0   \n",
       "40    48795.0            6.4    11102.0            7.0   115908.0   \n",
       "20    20222.0            7.9     4262.0            8.2   112735.0   \n",
       "1       202.0           18.1       67.0           35.3    55755.0   \n",
       "\n",
       "      education  gdppercap19  edupercap  \n",
       "37  480038898.0       199.57     543.11  \n",
       "42   50044521.0       166.64      25.61  \n",
       "40   15301176.0       162.50      19.76  \n",
       "20   40951819.0       103.38     155.78  \n",
       "1      545096.0        89.93     469.10  "
      ]
     },
     "execution_count": 93,
     "metadata": {},
     "output_type": "execute_result"
    }
   ],
   "source": [
    "ca_county_stats.sort_values('gdppercap19',ascending=False).head()"
   ]
  },
  {
   "cell_type": "code",
   "execution_count": 111,
   "metadata": {},
   "outputs": [
    {
     "data": {
      "text/html": [
       "<div>\n",
       "<style scoped>\n",
       "    .dataframe tbody tr th:only-of-type {\n",
       "        vertical-align: middle;\n",
       "    }\n",
       "\n",
       "    .dataframe tbody tr th {\n",
       "        vertical-align: top;\n",
       "    }\n",
       "\n",
       "    .dataframe thead th {\n",
       "        text-align: right;\n",
       "    }\n",
       "</style>\n",
       "<table border=\"1\" class=\"dataframe\">\n",
       "  <thead>\n",
       "    <tr style=\"text-align: right;\">\n",
       "      <th></th>\n",
       "      <th>fips</th>\n",
       "      <th>pop19</th>\n",
       "      <th>unemployrate18</th>\n",
       "      <th>pov_all_pct17</th>\n",
       "      <th>pov_u18_pct17</th>\n",
       "      <th>gdppercap19</th>\n",
       "      <th>edupercap</th>\n",
       "      <th>household</th>\n",
       "    </tr>\n",
       "  </thead>\n",
       "  <tbody>\n",
       "    <tr>\n",
       "      <th>count</th>\n",
       "      <td>58.000000</td>\n",
       "      <td>5.800000e+01</td>\n",
       "      <td>58.000000</td>\n",
       "      <td>58.000000</td>\n",
       "      <td>58.000000</td>\n",
       "      <td>58.000000</td>\n",
       "      <td>58.000000</td>\n",
       "      <td>58.000000</td>\n",
       "    </tr>\n",
       "    <tr>\n",
       "      <th>mean</th>\n",
       "      <td>6058.000000</td>\n",
       "      <td>6.884020e+05</td>\n",
       "      <td>5.237931</td>\n",
       "      <td>14.370690</td>\n",
       "      <td>19.410345</td>\n",
       "      <td>54.949310</td>\n",
       "      <td>51.459310</td>\n",
       "      <td>64209.293103</td>\n",
       "    </tr>\n",
       "    <tr>\n",
       "      <th>std</th>\n",
       "      <td>33.773757</td>\n",
       "      <td>1.493576e+06</td>\n",
       "      <td>2.655337</td>\n",
       "      <td>4.694005</td>\n",
       "      <td>7.535453</td>\n",
       "      <td>32.962164</td>\n",
       "      <td>90.828738</td>\n",
       "      <td>19426.865273</td>\n",
       "    </tr>\n",
       "    <tr>\n",
       "      <th>min</th>\n",
       "      <td>6001.000000</td>\n",
       "      <td>1.162000e+03</td>\n",
       "      <td>2.200000</td>\n",
       "      <td>6.400000</td>\n",
       "      <td>7.000000</td>\n",
       "      <td>25.710000</td>\n",
       "      <td>1.880000</td>\n",
       "      <td>39996.000000</td>\n",
       "    </tr>\n",
       "    <tr>\n",
       "      <th>25%</th>\n",
       "      <td>6029.500000</td>\n",
       "      <td>4.748525e+04</td>\n",
       "      <td>3.650000</td>\n",
       "      <td>10.925000</td>\n",
       "      <td>13.775000</td>\n",
       "      <td>37.482500</td>\n",
       "      <td>18.157500</td>\n",
       "      <td>50535.500000</td>\n",
       "    </tr>\n",
       "    <tr>\n",
       "      <th>50%</th>\n",
       "      <td>6058.000000</td>\n",
       "      <td>1.910570e+05</td>\n",
       "      <td>4.650000</td>\n",
       "      <td>14.050000</td>\n",
       "      <td>18.200000</td>\n",
       "      <td>43.070000</td>\n",
       "      <td>27.240000</td>\n",
       "      <td>58850.500000</td>\n",
       "    </tr>\n",
       "    <tr>\n",
       "      <th>75%</th>\n",
       "      <td>6086.500000</td>\n",
       "      <td>7.175318e+05</td>\n",
       "      <td>6.375000</td>\n",
       "      <td>18.000000</td>\n",
       "      <td>24.125000</td>\n",
       "      <td>60.107500</td>\n",
       "      <td>49.735000</td>\n",
       "      <td>76018.750000</td>\n",
       "    </tr>\n",
       "    <tr>\n",
       "      <th>max</th>\n",
       "      <td>6115.000000</td>\n",
       "      <td>1.025372e+07</td>\n",
       "      <td>18.100000</td>\n",
       "      <td>24.600000</td>\n",
       "      <td>35.300000</td>\n",
       "      <td>199.570000</td>\n",
       "      <td>543.110000</td>\n",
       "      <td>118468.000000</td>\n",
       "    </tr>\n",
       "  </tbody>\n",
       "</table>\n",
       "</div>"
      ],
      "text/plain": [
       "              fips         pop19  unemployrate18  pov_all_pct17  \\\n",
       "count    58.000000  5.800000e+01       58.000000      58.000000   \n",
       "mean   6058.000000  6.884020e+05        5.237931      14.370690   \n",
       "std      33.773757  1.493576e+06        2.655337       4.694005   \n",
       "min    6001.000000  1.162000e+03        2.200000       6.400000   \n",
       "25%    6029.500000  4.748525e+04        3.650000      10.925000   \n",
       "50%    6058.000000  1.910570e+05        4.650000      14.050000   \n",
       "75%    6086.500000  7.175318e+05        6.375000      18.000000   \n",
       "max    6115.000000  1.025372e+07       18.100000      24.600000   \n",
       "\n",
       "       pov_u18_pct17  gdppercap19   edupercap      household  \n",
       "count      58.000000    58.000000   58.000000      58.000000  \n",
       "mean       19.410345    54.949310   51.459310   64209.293103  \n",
       "std         7.535453    32.962164   90.828738   19426.865273  \n",
       "min         7.000000    25.710000    1.880000   39996.000000  \n",
       "25%        13.775000    37.482500   18.157500   50535.500000  \n",
       "50%        18.200000    43.070000   27.240000   58850.500000  \n",
       "75%        24.125000    60.107500   49.735000   76018.750000  \n",
       "max        35.300000   199.570000  543.110000  118468.000000  "
      ]
     },
     "execution_count": 111,
     "metadata": {},
     "output_type": "execute_result"
    }
   ],
   "source": [
    "ca_stats_factors = ca_county_stats[['fips','county','pop19','unemployrate18',\\\n",
    "                                    'pov_all_pct17','pov_u18_pct17','gdppercap19','edupercap','household']]\n",
    "ca_stats_factors.describe()"
   ]
  },
  {
   "cell_type": "code",
   "execution_count": 112,
   "metadata": {},
   "outputs": [],
   "source": [
    "actsat19ca['act_part'] = round(actsat19ca['NumTstTakr']/actsat19ca['Enroll12']*100,2)\n",
    "actsat19ca['sat_part'] = round(actsat19ca['NumTSTTakr12']/actsat19ca['Enroll12']*100,2)\n",
    "ca_test_results = actsat19ca[['CName','act_part','sat_part','PctGE21','PctBothBenchmark12']]"
   ]
  },
  {
   "cell_type": "code",
   "execution_count": 113,
   "metadata": {
    "scrolled": false
   },
   "outputs": [
    {
     "name": "stderr",
     "output_type": "stream",
     "text": [
      "C:\\Users\\finan\\anaconda3\\lib\\site-packages\\pandas\\core\\frame.py:5039: SettingWithCopyWarning: \n",
      "A value is trying to be set on a copy of a slice from a DataFrame\n",
      "\n",
      "See the caveats in the documentation: https://pandas.pydata.org/pandas-docs/stable/user_guide/indexing.html#returning-a-view-versus-a-copy\n",
      "  return super().rename(\n"
     ]
    }
   ],
   "source": [
    "ca_test_results.rename(columns={'CName':'county',\n",
    "                               'PctGE21':'act_pct_bm',\n",
    "                               'PctBothBenchmark12':'sat_pct_bm'}, inplace=True)"
   ]
  },
  {
   "cell_type": "code",
   "execution_count": 114,
   "metadata": {},
   "outputs": [
    {
     "name": "stdout",
     "output_type": "stream",
     "text": [
      "<class 'pandas.core.frame.DataFrame'>\n",
      "Int64Index: 58 entries, 0 to 57\n",
      "Data columns (total 13 columns):\n",
      " #   Column          Non-Null Count  Dtype  \n",
      "---  ------          --------------  -----  \n",
      " 0   fips            58 non-null     int64  \n",
      " 1   county          58 non-null     object \n",
      " 2   pop19           58 non-null     float64\n",
      " 3   unemployrate18  58 non-null     float64\n",
      " 4   pov_all_pct17   58 non-null     float64\n",
      " 5   pov_u18_pct17   58 non-null     float64\n",
      " 6   gdppercap19     58 non-null     float64\n",
      " 7   edupercap       58 non-null     float64\n",
      " 8   household       58 non-null     float64\n",
      " 9   act_part        57 non-null     float64\n",
      " 10  sat_part        57 non-null     float64\n",
      " 11  act_pct_bm      54 non-null     float64\n",
      " 12  sat_pct_bm      55 non-null     float64\n",
      "dtypes: float64(11), int64(1), object(1)\n",
      "memory usage: 6.3+ KB\n"
     ]
    }
   ],
   "source": [
    "#merge ca_test_results and ca_stats_factors\n",
    "ca_cleaned = pd.merge(ca_stats_factors, ca_test_results, on='county')\n",
    "ca_cleaned.head()\n",
    "ca_cleaned.info()"
   ]
  },
  {
   "cell_type": "markdown",
   "metadata": {},
   "source": [
    "## Visualize the Data\n",
    "\n",
    "There's not a magic bullet recommendation for the right number of plots to understand a given dataset, but visualizing your data is *always* a good idea. Not only does it allow you to quickly convey your findings (even if you have a non-technical audience), it will often reveal trends in your data that escaped you when you were looking only at numbers. It is important to not only create visualizations, but to **interpret your visualizations** as well.\n",
    "\n",
    "**Every plot should**:\n",
    "- Have a title\n",
    "- Have axis labels\n",
    "- Have appropriate tick labels\n",
    "- Text is legible in a plot\n",
    "- Plots demonstrate meaningful and valid relationships\n",
    "- Have an interpretation to aid understanding\n",
    "\n",
    "Here is an example of what your plots should look like following the above guidelines. Note that while the content of this example is unrelated, the principles of visualization hold:\n",
    "\n",
    "![](https://snag.gy/hCBR1U.jpg)\n",
    "*Interpretation: The above image shows that as we increase our spending on advertising, our sales numbers also tend to increase. There is a positive correlation between advertising spending and sales.*\n",
    "\n",
    "---\n",
    "\n",
    "Here are some prompts to get you started with visualizations. Feel free to add additional visualizations as you see fit:\n",
    "1. Use Seaborn's heatmap with pandas `.corr()` to visualize correlations between all numeric features.\n",
    "    - Heatmaps are generally not appropriate for presentations, and should often be excluded from reports as they can be visually overwhelming. **However**, they can be extremely useful in identify relationships of potential interest (as well as identifying potential collinearity before modeling).\n",
    "    - Please take time to format your output, adding a title. Look through some of the additional arguments and options. (Axis labels aren't really necessary, as long as the title is informative).\n",
    "2. Visualize distributions using histograms. If you have a lot, consider writing a custom function and use subplots.\n",
    "    - *OPTIONAL*: Summarize the underlying distributions of your features (in words & statistics)\n",
    "         - Be thorough in your verbal description of these distributions.\n",
    "         - Be sure to back up these summaries with statistics.\n",
    "         - We generally assume that data we sample from a population will be normally distributed. Do we observe this trend? Explain your answers for each distribution and how you think this will affect estimates made from these data.\n",
    "3. Plot and interpret boxplots. \n",
    "    - Boxplots demonstrate central tendency and spread in variables. In a certain sense, these are somewhat redundant with histograms, but you may be better able to identify clear outliers or differences in IQR, etc.\n",
    "    - Multiple values can be plotted to a single boxplot as long as they are of the same relative scale (meaning they have similar min/max values).\n",
    "    - Each boxplot should:\n",
    "        - Only include variables of a similar scale\n",
    "        - Have clear labels for each variable\n",
    "        - Have appropriate titles and labels\n",
    "4. Plot and interpret scatter plots to view relationships between features. Feel free to write a custom function, and subplot if you'd like. Functions save both time and space.\n",
    "    - Your plots should have:\n",
    "        - Two clearly labeled axes\n",
    "        - A proper title\n",
    "        - Colors and symbols that are clear and unmistakable\n",
    "5. Additional plots of your choosing.\n",
    "    - Are there any additional trends or relationships you haven't explored? Was there something interesting you saw that you'd like to dive further into? It's likely that there are a few more plots you might want to generate to support your narrative and recommendations that you are building toward. **As always, make sure you're interpreting your plots as you go**."
   ]
  },
  {
   "cell_type": "code",
   "execution_count": 115,
   "metadata": {
    "scrolled": true
   },
   "outputs": [
    {
     "data": {
      "image/png": "[encoded data removed]",
      "text/plain": [
       "<Figure size 1152x432 with 2 Axes>"
      ]
     },
     "metadata": {
      "needs_background": "light"
     },
     "output_type": "display_data"
    }
   ],
   "source": [
    "f,ax = plt.subplots(figsize=(16,6))\n",
    "sns.heatmap(ca_cleaned.corr(),cmap='coolwarm',annot=True)\n",
    "plt.title('Correlation of various factors');"
   ]
  },
  {
   "cell_type": "markdown",
   "metadata": {},
   "source": [
    "### Unemployment and poverty levels seem to have no effect on the participation rate of ACT, but bigger impact on partcipation rate of SAT"
   ]
  },
  {
   "cell_type": "code",
   "execution_count": 139,
   "metadata": {
    "scrolled": true
   },
   "outputs": [
    {
     "data": {
      "image/png": "[encoded data removed]",
      "text/plain": [
       "<Figure size 432x288 with 1 Axes>"
      ]
     },
     "metadata": {
      "needs_background": "light"
     },
     "output_type": "display_data"
    }
   ],
   "source": [
    "plt.hist(ca_cleaned['unemployrate18'])\n",
    "plt.title('Count of Unemployment rate of counties')\n",
    "plt.xlabel('Unemployment rate in %')\n",
    "plt.ylabel('Count of counties');"
   ]
  },
  {
   "cell_type": "code",
   "execution_count": 131,
   "metadata": {
    "scrolled": true
   },
   "outputs": [
    {
     "data": {
      "image/png": "[encoded data removed]",
      "text/plain": [
       "<Figure size 1152x432 with 1 Axes>"
      ]
     },
     "metadata": {
      "needs_background": "light"
     },
     "output_type": "display_data"
    }
   ],
   "source": [
    "f, ax = plt.subplots(figsize=(16,6))\n",
    "unemployrate_county = sns.barplot(x='county',y='unemployrate18',data=ca_cleaned)\n",
    "unemployrate_county.set_xticklabels(ca_cleaned['county'],rotation=45);\n",
    "plt.title('Unemployment rate in California counties');"
   ]
  },
  {
   "cell_type": "code",
   "execution_count": null,
   "metadata": {},
   "outputs": [],
   "source": [
    "highue = "
   ]
  },
  {
   "cell_type": "markdown",
   "metadata": {},
   "source": [
    "### Among the many factors, population size, gdp per capita and education per capita seems to have a positive impact on sat part rat"
   ]
  },
  {
   "cell_type": "code",
   "execution_count": 99,
   "metadata": {
    "scrolled": true
   },
   "outputs": [
    {
     "data": {
      "image/png": "[encoded data removed]",
      "text/plain": [
       "<Figure size 432x288 with 1 Axes>"
      ]
     },
     "metadata": {
      "needs_background": "light"
     },
     "output_type": "display_data"
    }
   ],
   "source": [
    "sns.stripplot(x='pop19',y='sat_part',data=ca_cleaned)\n",
    "plt.title('County population size vs SAT participation rate');"
   ]
  },
  {
   "cell_type": "code",
   "execution_count": 100,
   "metadata": {
    "scrolled": true
   },
   "outputs": [
    {
     "data": {
      "image/png": "[encoded data removed]",
      "text/plain": [
       "<Figure size 432x288 with 1 Axes>"
      ]
     },
     "metadata": {
      "needs_background": "light"
     },
     "output_type": "display_data"
    }
   ],
   "source": [
    "sns.stripplot(x='pop19',y='act_part',data=ca_cleaned)\n",
    "plt.title('County population size vs ACT participation rate');"
   ]
  },
  {
   "cell_type": "code",
   "execution_count": 101,
   "metadata": {},
   "outputs": [
    {
     "data": {
      "image/png": "[encoded data removed]",
      "text/plain": [
       "<Figure size 432x288 with 1 Axes>"
      ]
     },
     "metadata": {
      "needs_background": "light"
     },
     "output_type": "display_data"
    }
   ],
   "source": [
    "sns.stripplot(x='gdppercap19',y='sat_part',data=ca_cleaned)\n",
    "plt.title('GDP per capita vs SAT participation rate');"
   ]
  },
  {
   "cell_type": "code",
   "execution_count": 102,
   "metadata": {},
   "outputs": [
    {
     "data": {
      "image/png": "[encoded data removed]",
      "text/plain": [
       "<Figure size 1152x432 with 1 Axes>"
      ]
     },
     "metadata": {
      "needs_background": "light"
     },
     "output_type": "display_data"
    }
   ],
   "source": [
    "f, ax = plt.subplots(figsize=(16,6))\n",
    "sns.despine(f)\n",
    "g = sns.barplot(x='county', y='act_part', data=ca_cleaned);\n",
    "g.set_xticklabels(ca_cleaned['county'],rotation=45);"
   ]
  },
  {
   "cell_type": "code",
   "execution_count": 103,
   "metadata": {
    "scrolled": true
   },
   "outputs": [
    {
     "data": {
      "image/png": "[encoded data removed]",
      "text/plain": [
       "<Figure size 432x432 with 3 Axes>"
      ]
     },
     "metadata": {
      "needs_background": "light"
     },
     "output_type": "display_data"
    }
   ],
   "source": [
    "sns.jointplot(x='act_part',y='sat_part',data=ca_cleaned, kind='reg'); #kind can use scatter too"
   ]
  },
  {
   "cell_type": "code",
   "execution_count": 116,
   "metadata": {
    "scrolled": true
   },
   "outputs": [
    {
     "data": {
      "text/plain": [
       "Text(0.5, 1.0, 'GDP per capita in California counties')"
      ]
     },
     "execution_count": 116,
     "metadata": {},
     "output_type": "execute_result"
    },
    {
     "data": {
      "image/png": "[encoded data removed]",
      "text/plain": [
       "<Figure size 1152x432 with 1 Axes>"
      ]
     },
     "metadata": {
      "needs_background": "light"
     },
     "output_type": "display_data"
    }
   ],
   "source": [
    "f, ax = plt.subplots(figsize=(16,6))\n",
    "gdppercap_county = sns.barplot(x='county',y='gdppercap19',data=ca_cleaned)\n",
    "gdppercap_county.set_xticklabels(ca_cleaned['county'],rotation=45);\n",
    "plt.title('GDP per capita in California counties')"
   ]
  },
  {
   "cell_type": "code",
   "execution_count": 128,
   "metadata": {
    "scrolled": true
   },
   "outputs": [
    {
     "data": {
      "text/html": [
       "<div>\n",
       "<style scoped>\n",
       "    .dataframe tbody tr th:only-of-type {\n",
       "        vertical-align: middle;\n",
       "    }\n",
       "\n",
       "    .dataframe tbody tr th {\n",
       "        vertical-align: top;\n",
       "    }\n",
       "\n",
       "    .dataframe thead th {\n",
       "        text-align: right;\n",
       "    }\n",
       "</style>\n",
       "<table border=\"1\" class=\"dataframe\">\n",
       "  <thead>\n",
       "    <tr style=\"text-align: right;\">\n",
       "      <th></th>\n",
       "      <th>fips</th>\n",
       "      <th>pop19</th>\n",
       "      <th>unemployrate18</th>\n",
       "      <th>pov_all_pct17</th>\n",
       "      <th>pov_u18_pct17</th>\n",
       "      <th>gdppercap19</th>\n",
       "      <th>edupercap</th>\n",
       "      <th>household</th>\n",
       "      <th>act_part</th>\n",
       "      <th>sat_part</th>\n",
       "      <th>act_pct_bm</th>\n",
       "      <th>sat_pct_bm</th>\n",
       "    </tr>\n",
       "  </thead>\n",
       "  <tbody>\n",
       "    <tr>\n",
       "      <th>0.25</th>\n",
       "      <td>6029.5</td>\n",
       "      <td>47485.25</td>\n",
       "      <td>3.650</td>\n",
       "      <td>10.925</td>\n",
       "      <td>13.775</td>\n",
       "      <td>37.4825</td>\n",
       "      <td>18.1575</td>\n",
       "      <td>50535.50</td>\n",
       "      <td>8.86</td>\n",
       "      <td>19.96</td>\n",
       "      <td>43.5600</td>\n",
       "      <td>38.220</td>\n",
       "    </tr>\n",
       "    <tr>\n",
       "      <th>0.50</th>\n",
       "      <td>6058.0</td>\n",
       "      <td>191057.00</td>\n",
       "      <td>4.650</td>\n",
       "      <td>14.050</td>\n",
       "      <td>18.200</td>\n",
       "      <td>43.0700</td>\n",
       "      <td>27.2400</td>\n",
       "      <td>58850.50</td>\n",
       "      <td>13.90</td>\n",
       "      <td>24.13</td>\n",
       "      <td>59.7750</td>\n",
       "      <td>50.690</td>\n",
       "    </tr>\n",
       "    <tr>\n",
       "      <th>0.75</th>\n",
       "      <td>6086.5</td>\n",
       "      <td>717531.75</td>\n",
       "      <td>6.375</td>\n",
       "      <td>18.000</td>\n",
       "      <td>24.125</td>\n",
       "      <td>60.1075</td>\n",
       "      <td>49.7350</td>\n",
       "      <td>76018.75</td>\n",
       "      <td>18.04</td>\n",
       "      <td>31.95</td>\n",
       "      <td>71.3725</td>\n",
       "      <td>59.825</td>\n",
       "    </tr>\n",
       "  </tbody>\n",
       "</table>\n",
       "</div>"
      ],
      "text/plain": [
       "        fips      pop19  unemployrate18  pov_all_pct17  pov_u18_pct17  \\\n",
       "0.25  6029.5   47485.25           3.650         10.925         13.775   \n",
       "0.50  6058.0  191057.00           4.650         14.050         18.200   \n",
       "0.75  6086.5  717531.75           6.375         18.000         24.125   \n",
       "\n",
       "      gdppercap19  edupercap  household  act_part  sat_part  act_pct_bm  \\\n",
       "0.25      37.4825    18.1575   50535.50      8.86     19.96     43.5600   \n",
       "0.50      43.0700    27.2400   58850.50     13.90     24.13     59.7750   \n",
       "0.75      60.1075    49.7350   76018.75     18.04     31.95     71.3725   \n",
       "\n",
       "      sat_pct_bm  \n",
       "0.25      38.220  \n",
       "0.50      50.690  \n",
       "0.75      59.825  "
      ]
     },
     "execution_count": 128,
     "metadata": {},
     "output_type": "execute_result"
    }
   ],
   "source": [
    "ca_cleaned.quantile([0.25,0.5,0.75])"
   ]
  },
  {
   "cell_type": "code",
   "execution_count": 120,
   "metadata": {
    "scrolled": true
   },
   "outputs": [
    {
     "data": {
      "text/html": [
       "<div>\n",
       "<style scoped>\n",
       "    .dataframe tbody tr th:only-of-type {\n",
       "        vertical-align: middle;\n",
       "    }\n",
       "\n",
       "    .dataframe tbody tr th {\n",
       "        vertical-align: top;\n",
       "    }\n",
       "\n",
       "    .dataframe thead th {\n",
       "        text-align: right;\n",
       "    }\n",
       "</style>\n",
       "<table border=\"1\" class=\"dataframe\">\n",
       "  <thead>\n",
       "    <tr style=\"text-align: right;\">\n",
       "      <th></th>\n",
       "      <th>fips</th>\n",
       "      <th>county</th>\n",
       "      <th>pop19</th>\n",
       "      <th>unemployrate18</th>\n",
       "      <th>pov_all_pct17</th>\n",
       "      <th>pov_u18_pct17</th>\n",
       "      <th>gdppercap19</th>\n",
       "      <th>edupercap</th>\n",
       "      <th>household</th>\n",
       "      <th>act_part</th>\n",
       "      <th>sat_part</th>\n",
       "      <th>act_pct_bm</th>\n",
       "      <th>sat_pct_bm</th>\n",
       "    </tr>\n",
       "  </thead>\n",
       "  <tbody>\n",
       "    <tr>\n",
       "      <th>37</th>\n",
       "      <td>6075</td>\n",
       "      <td>San Francisco</td>\n",
       "      <td>883869.0</td>\n",
       "      <td>2.4</td>\n",
       "      <td>10.1</td>\n",
       "      <td>12.3</td>\n",
       "      <td>199.57</td>\n",
       "      <td>543.11</td>\n",
       "      <td>109601.0</td>\n",
       "      <td>24.24</td>\n",
       "      <td>50.73</td>\n",
       "      <td>52.41</td>\n",
       "      <td>55.32</td>\n",
       "    </tr>\n",
       "    <tr>\n",
       "      <th>42</th>\n",
       "      <td>6085</td>\n",
       "      <td>Santa Clara</td>\n",
       "      <td>1954286.0</td>\n",
       "      <td>2.6</td>\n",
       "      <td>7.5</td>\n",
       "      <td>8.1</td>\n",
       "      <td>166.64</td>\n",
       "      <td>25.61</td>\n",
       "      <td>118468.0</td>\n",
       "      <td>19.52</td>\n",
       "      <td>31.95</td>\n",
       "      <td>78.05</td>\n",
       "      <td>66.76</td>\n",
       "    </tr>\n",
       "    <tr>\n",
       "      <th>40</th>\n",
       "      <td>6081</td>\n",
       "      <td>San Mateo</td>\n",
       "      <td>774485.0</td>\n",
       "      <td>2.2</td>\n",
       "      <td>6.4</td>\n",
       "      <td>7.0</td>\n",
       "      <td>162.50</td>\n",
       "      <td>19.76</td>\n",
       "      <td>115908.0</td>\n",
       "      <td>19.82</td>\n",
       "      <td>43.03</td>\n",
       "      <td>73.15</td>\n",
       "      <td>59.65</td>\n",
       "    </tr>\n",
       "    <tr>\n",
       "      <th>20</th>\n",
       "      <td>6041</td>\n",
       "      <td>Marin</td>\n",
       "      <td>262879.0</td>\n",
       "      <td>2.4</td>\n",
       "      <td>7.9</td>\n",
       "      <td>8.2</td>\n",
       "      <td>103.38</td>\n",
       "      <td>155.78</td>\n",
       "      <td>112735.0</td>\n",
       "      <td>28.45</td>\n",
       "      <td>36.46</td>\n",
       "      <td>80.48</td>\n",
       "      <td>68.81</td>\n",
       "    </tr>\n",
       "    <tr>\n",
       "      <th>1</th>\n",
       "      <td>6003</td>\n",
       "      <td>Alpine</td>\n",
       "      <td>1162.0</td>\n",
       "      <td>4.6</td>\n",
       "      <td>18.1</td>\n",
       "      <td>35.3</td>\n",
       "      <td>89.93</td>\n",
       "      <td>469.10</td>\n",
       "      <td>55755.0</td>\n",
       "      <td>NaN</td>\n",
       "      <td>NaN</td>\n",
       "      <td>NaN</td>\n",
       "      <td>NaN</td>\n",
       "    </tr>\n",
       "    <tr>\n",
       "      <th>0</th>\n",
       "      <td>6001</td>\n",
       "      <td>Alameda</td>\n",
       "      <td>1669301.0</td>\n",
       "      <td>3.0</td>\n",
       "      <td>9.3</td>\n",
       "      <td>10.5</td>\n",
       "      <td>75.59</td>\n",
       "      <td>18.18</td>\n",
       "      <td>95550.0</td>\n",
       "      <td>20.66</td>\n",
       "      <td>33.85</td>\n",
       "      <td>67.74</td>\n",
       "      <td>58.16</td>\n",
       "    </tr>\n",
       "    <tr>\n",
       "      <th>25</th>\n",
       "      <td>6051</td>\n",
       "      <td>Mono</td>\n",
       "      <td>13616.0</td>\n",
       "      <td>3.8</td>\n",
       "      <td>9.3</td>\n",
       "      <td>12.6</td>\n",
       "      <td>74.66</td>\n",
       "      <td>1.88</td>\n",
       "      <td>60318.0</td>\n",
       "      <td>4.76</td>\n",
       "      <td>8.81</td>\n",
       "      <td>80.00</td>\n",
       "      <td>56.76</td>\n",
       "    </tr>\n",
       "    <tr>\n",
       "      <th>29</th>\n",
       "      <td>6059</td>\n",
       "      <td>Orange</td>\n",
       "      <td>3222498.0</td>\n",
       "      <td>2.9</td>\n",
       "      <td>11.5</td>\n",
       "      <td>15.7</td>\n",
       "      <td>71.69</td>\n",
       "      <td>23.18</td>\n",
       "      <td>86031.0</td>\n",
       "      <td>20.62</td>\n",
       "      <td>38.95</td>\n",
       "      <td>71.60</td>\n",
       "      <td>53.13</td>\n",
       "    </tr>\n",
       "    <tr>\n",
       "      <th>27</th>\n",
       "      <td>6055</td>\n",
       "      <td>Napa</td>\n",
       "      <td>140779.0</td>\n",
       "      <td>2.9</td>\n",
       "      <td>6.8</td>\n",
       "      <td>8.6</td>\n",
       "      <td>71.02</td>\n",
       "      <td>77.72</td>\n",
       "      <td>83881.0</td>\n",
       "      <td>12.17</td>\n",
       "      <td>32.32</td>\n",
       "      <td>62.20</td>\n",
       "      <td>46.49</td>\n",
       "    </tr>\n",
       "    <tr>\n",
       "      <th>18</th>\n",
       "      <td>6037</td>\n",
       "      <td>Los Angeles</td>\n",
       "      <td>10253716.0</td>\n",
       "      <td>4.7</td>\n",
       "      <td>14.9</td>\n",
       "      <td>20.9</td>\n",
       "      <td>68.64</td>\n",
       "      <td>50.60</td>\n",
       "      <td>64912.0</td>\n",
       "      <td>18.04</td>\n",
       "      <td>42.47</td>\n",
       "      <td>44.40</td>\n",
       "      <td>38.12</td>\n",
       "    </tr>\n",
       "    <tr>\n",
       "      <th>6</th>\n",
       "      <td>6013</td>\n",
       "      <td>Contra Costa</td>\n",
       "      <td>1155879.0</td>\n",
       "      <td>3.2</td>\n",
       "      <td>9.1</td>\n",
       "      <td>11.2</td>\n",
       "      <td>68.60</td>\n",
       "      <td>24.81</td>\n",
       "      <td>95062.0</td>\n",
       "      <td>21.81</td>\n",
       "      <td>37.09</td>\n",
       "      <td>70.69</td>\n",
       "      <td>50.28</td>\n",
       "    </tr>\n",
       "    <tr>\n",
       "      <th>13</th>\n",
       "      <td>6027</td>\n",
       "      <td>Inyo</td>\n",
       "      <td>18593.0</td>\n",
       "      <td>3.9</td>\n",
       "      <td>11.8</td>\n",
       "      <td>17.6</td>\n",
       "      <td>65.30</td>\n",
       "      <td>92.10</td>\n",
       "      <td>53528.0</td>\n",
       "      <td>5.11</td>\n",
       "      <td>16.06</td>\n",
       "      <td>67.86</td>\n",
       "      <td>31.82</td>\n",
       "    </tr>\n",
       "    <tr>\n",
       "      <th>36</th>\n",
       "      <td>6073</td>\n",
       "      <td>San Diego</td>\n",
       "      <td>3351786.0</td>\n",
       "      <td>3.3</td>\n",
       "      <td>11.9</td>\n",
       "      <td>15.7</td>\n",
       "      <td>63.86</td>\n",
       "      <td>24.10</td>\n",
       "      <td>76048.0</td>\n",
       "      <td>19.22</td>\n",
       "      <td>30.62</td>\n",
       "      <td>64.73</td>\n",
       "      <td>55.52</td>\n",
       "    </tr>\n",
       "    <tr>\n",
       "      <th>56</th>\n",
       "      <td>6113</td>\n",
       "      <td>Yolo</td>\n",
       "      <td>222581.0</td>\n",
       "      <td>4.2</td>\n",
       "      <td>17.5</td>\n",
       "      <td>14.1</td>\n",
       "      <td>62.74</td>\n",
       "      <td>37.20</td>\n",
       "      <td>64900.0</td>\n",
       "      <td>15.44</td>\n",
       "      <td>33.01</td>\n",
       "      <td>62.82</td>\n",
       "      <td>58.37</td>\n",
       "    </tr>\n",
       "    <tr>\n",
       "      <th>26</th>\n",
       "      <td>6053</td>\n",
       "      <td>Monterey</td>\n",
       "      <td>445414.0</td>\n",
       "      <td>6.3</td>\n",
       "      <td>11.9</td>\n",
       "      <td>16.2</td>\n",
       "      <td>60.21</td>\n",
       "      <td>60.01</td>\n",
       "      <td>70294.0</td>\n",
       "      <td>17.72</td>\n",
       "      <td>32.45</td>\n",
       "      <td>37.87</td>\n",
       "      <td>32.43</td>\n",
       "    </tr>\n",
       "    <tr>\n",
       "      <th>41</th>\n",
       "      <td>6083</td>\n",
       "      <td>Santa Barbara</td>\n",
       "      <td>454593.0</td>\n",
       "      <td>3.9</td>\n",
       "      <td>14.2</td>\n",
       "      <td>17.4</td>\n",
       "      <td>59.80</td>\n",
       "      <td>39.57</td>\n",
       "      <td>70651.0</td>\n",
       "      <td>15.54</td>\n",
       "      <td>22.83</td>\n",
       "      <td>61.41</td>\n",
       "      <td>60.03</td>\n",
       "    </tr>\n",
       "    <tr>\n",
       "      <th>39</th>\n",
       "      <td>6079</td>\n",
       "      <td>San Luis Obispo</td>\n",
       "      <td>280393.0</td>\n",
       "      <td>2.9</td>\n",
       "      <td>11.9</td>\n",
       "      <td>12.3</td>\n",
       "      <td>56.71</td>\n",
       "      <td>78.39</td>\n",
       "      <td>70634.0</td>\n",
       "      <td>20.06</td>\n",
       "      <td>22.18</td>\n",
       "      <td>69.47</td>\n",
       "      <td>63.65</td>\n",
       "    </tr>\n",
       "    <tr>\n",
       "      <th>5</th>\n",
       "      <td>6011</td>\n",
       "      <td>Colusa</td>\n",
       "      <td>22117.0</td>\n",
       "      <td>12.9</td>\n",
       "      <td>12.2</td>\n",
       "      <td>15.4</td>\n",
       "      <td>56.25</td>\n",
       "      <td>60.75</td>\n",
       "      <td>53595.0</td>\n",
       "      <td>7.67</td>\n",
       "      <td>21.83</td>\n",
       "      <td>34.62</td>\n",
       "      <td>18.92</td>\n",
       "    </tr>\n",
       "    <tr>\n",
       "      <th>55</th>\n",
       "      <td>6111</td>\n",
       "      <td>Ventura</td>\n",
       "      <td>856598.0</td>\n",
       "      <td>3.8</td>\n",
       "      <td>9.5</td>\n",
       "      <td>13.2</td>\n",
       "      <td>55.86</td>\n",
       "      <td>9.92</td>\n",
       "      <td>82436.0</td>\n",
       "      <td>14.44</td>\n",
       "      <td>42.18</td>\n",
       "      <td>69.97</td>\n",
       "      <td>43.38</td>\n",
       "    </tr>\n",
       "    <tr>\n",
       "      <th>48</th>\n",
       "      <td>6097</td>\n",
       "      <td>Sonoma</td>\n",
       "      <td>500675.0</td>\n",
       "      <td>2.7</td>\n",
       "      <td>9.3</td>\n",
       "      <td>10.9</td>\n",
       "      <td>55.24</td>\n",
       "      <td>72.48</td>\n",
       "      <td>79511.0</td>\n",
       "      <td>15.23</td>\n",
       "      <td>24.13</td>\n",
       "      <td>65.59</td>\n",
       "      <td>56.26</td>\n",
       "    </tr>\n",
       "    <tr>\n",
       "      <th>47</th>\n",
       "      <td>6095</td>\n",
       "      <td>Solano</td>\n",
       "      <td>441307.0</td>\n",
       "      <td>3.9</td>\n",
       "      <td>10.0</td>\n",
       "      <td>14.0</td>\n",
       "      <td>54.49</td>\n",
       "      <td>43.73</td>\n",
       "      <td>75931.0</td>\n",
       "      <td>9.00</td>\n",
       "      <td>29.10</td>\n",
       "      <td>59.86</td>\n",
       "      <td>48.65</td>\n",
       "    </tr>\n",
       "    <tr>\n",
       "      <th>33</th>\n",
       "      <td>6067</td>\n",
       "      <td>Sacramento</td>\n",
       "      <td>1546174.0</td>\n",
       "      <td>3.8</td>\n",
       "      <td>14.1</td>\n",
       "      <td>18.2</td>\n",
       "      <td>54.30</td>\n",
       "      <td>27.47</td>\n",
       "      <td>62959.0</td>\n",
       "      <td>15.69</td>\n",
       "      <td>31.17</td>\n",
       "      <td>49.79</td>\n",
       "      <td>45.63</td>\n",
       "    </tr>\n",
       "    <tr>\n",
       "      <th>30</th>\n",
       "      <td>6061</td>\n",
       "      <td>Placer</td>\n",
       "      <td>396691.0</td>\n",
       "      <td>3.1</td>\n",
       "      <td>7.8</td>\n",
       "      <td>7.2</td>\n",
       "      <td>54.13</td>\n",
       "      <td>36.68</td>\n",
       "      <td>81366.0</td>\n",
       "      <td>21.78</td>\n",
       "      <td>33.03</td>\n",
       "      <td>76.86</td>\n",
       "      <td>68.91</td>\n",
       "    </tr>\n",
       "    <tr>\n",
       "      <th>14</th>\n",
       "      <td>6029</td>\n",
       "      <td>Kern</td>\n",
       "      <td>916464.0</td>\n",
       "      <td>8.0</td>\n",
       "      <td>21.2</td>\n",
       "      <td>29.0</td>\n",
       "      <td>53.71</td>\n",
       "      <td>16.49</td>\n",
       "      <td>49904.0</td>\n",
       "      <td>8.83</td>\n",
       "      <td>26.66</td>\n",
       "      <td>43.28</td>\n",
       "      <td>35.96</td>\n",
       "    </tr>\n",
       "    <tr>\n",
       "      <th>31</th>\n",
       "      <td>6063</td>\n",
       "      <td>Plumas</td>\n",
       "      <td>19779.0</td>\n",
       "      <td>7.5</td>\n",
       "      <td>14.3</td>\n",
       "      <td>22.0</td>\n",
       "      <td>52.71</td>\n",
       "      <td>50.42</td>\n",
       "      <td>51756.0</td>\n",
       "      <td>5.52</td>\n",
       "      <td>20.86</td>\n",
       "      <td>NaN</td>\n",
       "      <td>64.71</td>\n",
       "    </tr>\n",
       "    <tr>\n",
       "      <th>43</th>\n",
       "      <td>6087</td>\n",
       "      <td>Santa Cruz</td>\n",
       "      <td>274871.0</td>\n",
       "      <td>4.9</td>\n",
       "      <td>12.6</td>\n",
       "      <td>13.7</td>\n",
       "      <td>51.39</td>\n",
       "      <td>52.60</td>\n",
       "      <td>76633.0</td>\n",
       "      <td>17.51</td>\n",
       "      <td>26.67</td>\n",
       "      <td>55.91</td>\n",
       "      <td>54.17</td>\n",
       "    </tr>\n",
       "    <tr>\n",
       "      <th>12</th>\n",
       "      <td>6025</td>\n",
       "      <td>Imperial</td>\n",
       "      <td>190266.0</td>\n",
       "      <td>18.1</td>\n",
       "      <td>20.7</td>\n",
       "      <td>28.1</td>\n",
       "      <td>44.52</td>\n",
       "      <td>11.02</td>\n",
       "      <td>43413.0</td>\n",
       "      <td>15.66</td>\n",
       "      <td>24.46</td>\n",
       "      <td>36.49</td>\n",
       "      <td>38.32</td>\n",
       "    </tr>\n",
       "    <tr>\n",
       "      <th>54</th>\n",
       "      <td>6109</td>\n",
       "      <td>Tuolumne</td>\n",
       "      <td>54590.0</td>\n",
       "      <td>4.6</td>\n",
       "      <td>12.2</td>\n",
       "      <td>17.5</td>\n",
       "      <td>44.06</td>\n",
       "      <td>53.76</td>\n",
       "      <td>58776.0</td>\n",
       "      <td>4.44</td>\n",
       "      <td>15.44</td>\n",
       "      <td>78.26</td>\n",
       "      <td>60.00</td>\n",
       "    </tr>\n",
       "    <tr>\n",
       "      <th>24</th>\n",
       "      <td>6049</td>\n",
       "      <td>Modoc</td>\n",
       "      <td>9602.0</td>\n",
       "      <td>7.6</td>\n",
       "      <td>19.2</td>\n",
       "      <td>29.7</td>\n",
       "      <td>43.22</td>\n",
       "      <td>35.90</td>\n",
       "      <td>40970.0</td>\n",
       "      <td>63.22</td>\n",
       "      <td>18.39</td>\n",
       "      <td>20.00</td>\n",
       "      <td>56.25</td>\n",
       "    </tr>\n",
       "    <tr>\n",
       "      <th>21</th>\n",
       "      <td>6043</td>\n",
       "      <td>Mariposa</td>\n",
       "      <td>18068.0</td>\n",
       "      <td>5.3</td>\n",
       "      <td>15.2</td>\n",
       "      <td>21.2</td>\n",
       "      <td>42.92</td>\n",
       "      <td>76.02</td>\n",
       "      <td>52387.0</td>\n",
       "      <td>10.32</td>\n",
       "      <td>23.23</td>\n",
       "      <td>50.00</td>\n",
       "      <td>72.22</td>\n",
       "    </tr>\n",
       "    <tr>\n",
       "      <th>44</th>\n",
       "      <td>6089</td>\n",
       "      <td>Shasta</td>\n",
       "      <td>178773.0</td>\n",
       "      <td>4.9</td>\n",
       "      <td>17.0</td>\n",
       "      <td>22.9</td>\n",
       "      <td>42.56</td>\n",
       "      <td>9.53</td>\n",
       "      <td>51207.0</td>\n",
       "      <td>8.01</td>\n",
       "      <td>17.86</td>\n",
       "      <td>75.72</td>\n",
       "      <td>63.73</td>\n",
       "    </tr>\n",
       "    <tr>\n",
       "      <th>2</th>\n",
       "      <td>6005</td>\n",
       "      <td>Amador</td>\n",
       "      <td>38294.0</td>\n",
       "      <td>4.0</td>\n",
       "      <td>10.9</td>\n",
       "      <td>15.7</td>\n",
       "      <td>42.44</td>\n",
       "      <td>30.69</td>\n",
       "      <td>60588.0</td>\n",
       "      <td>12.13</td>\n",
       "      <td>17.38</td>\n",
       "      <td>78.38</td>\n",
       "      <td>62.26</td>\n",
       "    </tr>\n",
       "    <tr>\n",
       "      <th>9</th>\n",
       "      <td>6019</td>\n",
       "      <td>Fresno</td>\n",
       "      <td>1018241.0</td>\n",
       "      <td>7.5</td>\n",
       "      <td>21.1</td>\n",
       "      <td>28.3</td>\n",
       "      <td>41.36</td>\n",
       "      <td>29.79</td>\n",
       "      <td>51452.0</td>\n",
       "      <td>12.62</td>\n",
       "      <td>28.46</td>\n",
       "      <td>41.72</td>\n",
       "      <td>37.79</td>\n",
       "    </tr>\n",
       "    <tr>\n",
       "      <th>28</th>\n",
       "      <td>6057</td>\n",
       "      <td>Nevada</td>\n",
       "      <td>98904.0</td>\n",
       "      <td>3.5</td>\n",
       "      <td>11.0</td>\n",
       "      <td>14.4</td>\n",
       "      <td>40.27</td>\n",
       "      <td>38.23</td>\n",
       "      <td>64901.0</td>\n",
       "      <td>4.07</td>\n",
       "      <td>9.95</td>\n",
       "      <td>75.00</td>\n",
       "      <td>68.28</td>\n",
       "    </tr>\n",
       "    <tr>\n",
       "      <th>57</th>\n",
       "      <td>6115</td>\n",
       "      <td>Yuba</td>\n",
       "      <td>77916.0</td>\n",
       "      <td>6.4</td>\n",
       "      <td>15.3</td>\n",
       "      <td>21.9</td>\n",
       "      <td>39.63</td>\n",
       "      <td>10.07</td>\n",
       "      <td>53822.0</td>\n",
       "      <td>6.55</td>\n",
       "      <td>18.22</td>\n",
       "      <td>46.88</td>\n",
       "      <td>49.44</td>\n",
       "    </tr>\n",
       "    <tr>\n",
       "      <th>15</th>\n",
       "      <td>6031</td>\n",
       "      <td>Kings</td>\n",
       "      <td>153710.0</td>\n",
       "      <td>7.7</td>\n",
       "      <td>18.4</td>\n",
       "      <td>24.5</td>\n",
       "      <td>39.39</td>\n",
       "      <td>29.78</td>\n",
       "      <td>55076.0</td>\n",
       "      <td>14.07</td>\n",
       "      <td>22.11</td>\n",
       "      <td>24.47</td>\n",
       "      <td>33.86</td>\n",
       "    </tr>\n",
       "    <tr>\n",
       "      <th>19</th>\n",
       "      <td>6039</td>\n",
       "      <td>Madera</td>\n",
       "      <td>159536.0</td>\n",
       "      <td>7.0</td>\n",
       "      <td>21.2</td>\n",
       "      <td>28.6</td>\n",
       "      <td>38.83</td>\n",
       "      <td>14.78</td>\n",
       "      <td>50783.0</td>\n",
       "      <td>15.94</td>\n",
       "      <td>18.79</td>\n",
       "      <td>33.33</td>\n",
       "      <td>28.73</td>\n",
       "    </tr>\n",
       "    <tr>\n",
       "      <th>8</th>\n",
       "      <td>6017</td>\n",
       "      <td>El Dorado</td>\n",
       "      <td>191848.0</td>\n",
       "      <td>3.6</td>\n",
       "      <td>8.3</td>\n",
       "      <td>9.6</td>\n",
       "      <td>38.76</td>\n",
       "      <td>24.88</td>\n",
       "      <td>78464.0</td>\n",
       "      <td>20.89</td>\n",
       "      <td>27.13</td>\n",
       "      <td>76.99</td>\n",
       "      <td>73.18</td>\n",
       "    </tr>\n",
       "    <tr>\n",
       "      <th>49</th>\n",
       "      <td>6099</td>\n",
       "      <td>Stanislaus</td>\n",
       "      <td>558972.0</td>\n",
       "      <td>6.4</td>\n",
       "      <td>14.0</td>\n",
       "      <td>18.6</td>\n",
       "      <td>38.75</td>\n",
       "      <td>41.29</td>\n",
       "      <td>58925.0</td>\n",
       "      <td>8.30</td>\n",
       "      <td>26.16</td>\n",
       "      <td>53.52</td>\n",
       "      <td>38.10</td>\n",
       "    </tr>\n",
       "    <tr>\n",
       "      <th>10</th>\n",
       "      <td>6021</td>\n",
       "      <td>Glenn</td>\n",
       "      <td>29132.0</td>\n",
       "      <td>6.5</td>\n",
       "      <td>14.8</td>\n",
       "      <td>20.8</td>\n",
       "      <td>38.60</td>\n",
       "      <td>14.72</td>\n",
       "      <td>49979.0</td>\n",
       "      <td>14.40</td>\n",
       "      <td>18.00</td>\n",
       "      <td>34.72</td>\n",
       "      <td>27.78</td>\n",
       "    </tr>\n",
       "    <tr>\n",
       "      <th>3</th>\n",
       "      <td>6007</td>\n",
       "      <td>Butte</td>\n",
       "      <td>226466.0</td>\n",
       "      <td>4.9</td>\n",
       "      <td>18.1</td>\n",
       "      <td>22.6</td>\n",
       "      <td>38.42</td>\n",
       "      <td>16.75</td>\n",
       "      <td>48634.0</td>\n",
       "      <td>8.86</td>\n",
       "      <td>21.60</td>\n",
       "      <td>64.60</td>\n",
       "      <td>60.25</td>\n",
       "    </tr>\n",
       "    <tr>\n",
       "      <th>11</th>\n",
       "      <td>6023</td>\n",
       "      <td>Humboldt</td>\n",
       "      <td>135333.0</td>\n",
       "      <td>3.6</td>\n",
       "      <td>19.7</td>\n",
       "      <td>24.7</td>\n",
       "      <td>38.32</td>\n",
       "      <td>38.42</td>\n",
       "      <td>46123.0</td>\n",
       "      <td>7.97</td>\n",
       "      <td>22.35</td>\n",
       "      <td>73.83</td>\n",
       "      <td>56.33</td>\n",
       "    </tr>\n",
       "    <tr>\n",
       "      <th>35</th>\n",
       "      <td>6071</td>\n",
       "      <td>San Bernardino</td>\n",
       "      <td>2192203.0</td>\n",
       "      <td>4.0</td>\n",
       "      <td>16.0</td>\n",
       "      <td>23.0</td>\n",
       "      <td>38.21</td>\n",
       "      <td>16.03</td>\n",
       "      <td>60270.0</td>\n",
       "      <td>17.13</td>\n",
       "      <td>33.33</td>\n",
       "      <td>28.61</td>\n",
       "      <td>38.72</td>\n",
       "    </tr>\n",
       "    <tr>\n",
       "      <th>38</th>\n",
       "      <td>6077</td>\n",
       "      <td>San Joaquin</td>\n",
       "      <td>770385.0</td>\n",
       "      <td>6.0</td>\n",
       "      <td>15.5</td>\n",
       "      <td>21.6</td>\n",
       "      <td>37.24</td>\n",
       "      <td>16.34</td>\n",
       "      <td>60950.0</td>\n",
       "      <td>11.45</td>\n",
       "      <td>28.45</td>\n",
       "      <td>51.41</td>\n",
       "      <td>42.29</td>\n",
       "    </tr>\n",
       "    <tr>\n",
       "      <th>53</th>\n",
       "      <td>6107</td>\n",
       "      <td>Tulare</td>\n",
       "      <td>479112.0</td>\n",
       "      <td>9.6</td>\n",
       "      <td>24.0</td>\n",
       "      <td>31.9</td>\n",
       "      <td>37.07</td>\n",
       "      <td>15.66</td>\n",
       "      <td>46377.0</td>\n",
       "      <td>12.58</td>\n",
       "      <td>23.83</td>\n",
       "      <td>34.28</td>\n",
       "      <td>32.70</td>\n",
       "    </tr>\n",
       "    <tr>\n",
       "      <th>22</th>\n",
       "      <td>6045</td>\n",
       "      <td>Mendocino</td>\n",
       "      <td>89009.0</td>\n",
       "      <td>3.9</td>\n",
       "      <td>16.3</td>\n",
       "      <td>22.8</td>\n",
       "      <td>37.03</td>\n",
       "      <td>44.13</td>\n",
       "      <td>50453.0</td>\n",
       "      <td>6.88</td>\n",
       "      <td>21.96</td>\n",
       "      <td>64.71</td>\n",
       "      <td>50.69</td>\n",
       "    </tr>\n",
       "    <tr>\n",
       "      <th>34</th>\n",
       "      <td>6069</td>\n",
       "      <td>San Benito</td>\n",
       "      <td>62296.0</td>\n",
       "      <td>5.1</td>\n",
       "      <td>8.4</td>\n",
       "      <td>11.9</td>\n",
       "      <td>36.60</td>\n",
       "      <td>20.89</td>\n",
       "      <td>77200.0</td>\n",
       "      <td>13.90</td>\n",
       "      <td>25.54</td>\n",
       "      <td>45.53</td>\n",
       "      <td>47.35</td>\n",
       "    </tr>\n",
       "    <tr>\n",
       "      <th>17</th>\n",
       "      <td>6035</td>\n",
       "      <td>Lassen</td>\n",
       "      <td>30150.0</td>\n",
       "      <td>4.8</td>\n",
       "      <td>16.3</td>\n",
       "      <td>18.0</td>\n",
       "      <td>35.54</td>\n",
       "      <td>6.76</td>\n",
       "      <td>58776.0</td>\n",
       "      <td>9.54</td>\n",
       "      <td>21.55</td>\n",
       "      <td>55.56</td>\n",
       "      <td>34.43</td>\n",
       "    </tr>\n",
       "    <tr>\n",
       "      <th>46</th>\n",
       "      <td>6093</td>\n",
       "      <td>Siskiyou</td>\n",
       "      <td>44584.0</td>\n",
       "      <td>6.7</td>\n",
       "      <td>17.7</td>\n",
       "      <td>25.7</td>\n",
       "      <td>35.43</td>\n",
       "      <td>21.51</td>\n",
       "      <td>44013.0</td>\n",
       "      <td>20.56</td>\n",
       "      <td>23.59</td>\n",
       "      <td>48.42</td>\n",
       "      <td>50.46</td>\n",
       "    </tr>\n",
       "    <tr>\n",
       "      <th>50</th>\n",
       "      <td>6101</td>\n",
       "      <td>Sutter</td>\n",
       "      <td>97490.0</td>\n",
       "      <td>7.5</td>\n",
       "      <td>13.2</td>\n",
       "      <td>18.2</td>\n",
       "      <td>33.67</td>\n",
       "      <td>27.01</td>\n",
       "      <td>54102.0</td>\n",
       "      <td>10.73</td>\n",
       "      <td>19.65</td>\n",
       "      <td>59.69</td>\n",
       "      <td>52.09</td>\n",
       "    </tr>\n",
       "    <tr>\n",
       "      <th>32</th>\n",
       "      <td>6065</td>\n",
       "      <td>Riverside</td>\n",
       "      <td>2440124.0</td>\n",
       "      <td>4.4</td>\n",
       "      <td>12.9</td>\n",
       "      <td>16.2</td>\n",
       "      <td>33.07</td>\n",
       "      <td>9.22</td>\n",
       "      <td>63776.0</td>\n",
       "      <td>13.91</td>\n",
       "      <td>41.05</td>\n",
       "      <td>44.98</td>\n",
       "      <td>34.11</td>\n",
       "    </tr>\n",
       "    <tr>\n",
       "      <th>23</th>\n",
       "      <td>6047</td>\n",
       "      <td>Merced</td>\n",
       "      <td>282928.0</td>\n",
       "      <td>8.3</td>\n",
       "      <td>23.0</td>\n",
       "      <td>33.7</td>\n",
       "      <td>32.23</td>\n",
       "      <td>19.36</td>\n",
       "      <td>48036.0</td>\n",
       "      <td>13.03</td>\n",
       "      <td>26.21</td>\n",
       "      <td>30.30</td>\n",
       "      <td>29.12</td>\n",
       "    </tr>\n",
       "    <tr>\n",
       "      <th>4</th>\n",
       "      <td>6009</td>\n",
       "      <td>Calaveras</td>\n",
       "      <td>45117.0</td>\n",
       "      <td>4.0</td>\n",
       "      <td>13.1</td>\n",
       "      <td>21.1</td>\n",
       "      <td>31.31</td>\n",
       "      <td>19.18</td>\n",
       "      <td>58536.0</td>\n",
       "      <td>6.87</td>\n",
       "      <td>19.96</td>\n",
       "      <td>87.10</td>\n",
       "      <td>66.67</td>\n",
       "    </tr>\n",
       "    <tr>\n",
       "      <th>51</th>\n",
       "      <td>6103</td>\n",
       "      <td>Tehama</td>\n",
       "      <td>64387.0</td>\n",
       "      <td>5.7</td>\n",
       "      <td>20.1</td>\n",
       "      <td>29.0</td>\n",
       "      <td>30.75</td>\n",
       "      <td>21.36</td>\n",
       "      <td>41819.0</td>\n",
       "      <td>43.90</td>\n",
       "      <td>13.23</td>\n",
       "      <td>34.77</td>\n",
       "      <td>57.14</td>\n",
       "    </tr>\n",
       "    <tr>\n",
       "      <th>16</th>\n",
       "      <td>6033</td>\n",
       "      <td>Lake</td>\n",
       "      <td>65071.0</td>\n",
       "      <td>5.2</td>\n",
       "      <td>20.2</td>\n",
       "      <td>30.1</td>\n",
       "      <td>28.83</td>\n",
       "      <td>47.68</td>\n",
       "      <td>45797.0</td>\n",
       "      <td>9.75</td>\n",
       "      <td>25.04</td>\n",
       "      <td>41.54</td>\n",
       "      <td>38.92</td>\n",
       "    </tr>\n",
       "    <tr>\n",
       "      <th>45</th>\n",
       "      <td>6091</td>\n",
       "      <td>Sierra</td>\n",
       "      <td>3213.0</td>\n",
       "      <td>6.0</td>\n",
       "      <td>13.7</td>\n",
       "      <td>20.2</td>\n",
       "      <td>27.29</td>\n",
       "      <td>72.94</td>\n",
       "      <td>49495.0</td>\n",
       "      <td>13.04</td>\n",
       "      <td>21.74</td>\n",
       "      <td>NaN</td>\n",
       "      <td>NaN</td>\n",
       "    </tr>\n",
       "    <tr>\n",
       "      <th>52</th>\n",
       "      <td>6105</td>\n",
       "      <td>Trinity</td>\n",
       "      <td>13688.0</td>\n",
       "      <td>5.7</td>\n",
       "      <td>20.3</td>\n",
       "      <td>32.1</td>\n",
       "      <td>26.11</td>\n",
       "      <td>21.15</td>\n",
       "      <td>40676.0</td>\n",
       "      <td>9.74</td>\n",
       "      <td>8.44</td>\n",
       "      <td>73.33</td>\n",
       "      <td>NaN</td>\n",
       "    </tr>\n",
       "    <tr>\n",
       "      <th>7</th>\n",
       "      <td>6015</td>\n",
       "      <td>Del Norte</td>\n",
       "      <td>27401.0</td>\n",
       "      <td>5.5</td>\n",
       "      <td>24.6</td>\n",
       "      <td>33.9</td>\n",
       "      <td>25.71</td>\n",
       "      <td>18.15</td>\n",
       "      <td>39996.0</td>\n",
       "      <td>1.38</td>\n",
       "      <td>19.83</td>\n",
       "      <td>NaN</td>\n",
       "      <td>41.67</td>\n",
       "    </tr>\n",
       "  </tbody>\n",
       "</table>\n",
       "</div>"
      ],
      "text/plain": [
       "    fips           county       pop19  unemployrate18  pov_all_pct17  \\\n",
       "37  6075    San Francisco    883869.0             2.4           10.1   \n",
       "42  6085      Santa Clara   1954286.0             2.6            7.5   \n",
       "40  6081        San Mateo    774485.0             2.2            6.4   \n",
       "20  6041            Marin    262879.0             2.4            7.9   \n",
       "1   6003           Alpine      1162.0             4.6           18.1   \n",
       "0   6001          Alameda   1669301.0             3.0            9.3   \n",
       "25  6051             Mono     13616.0             3.8            9.3   \n",
       "29  6059           Orange   3222498.0             2.9           11.5   \n",
       "27  6055             Napa    140779.0             2.9            6.8   \n",
       "18  6037      Los Angeles  10253716.0             4.7           14.9   \n",
       "6   6013     Contra Costa   1155879.0             3.2            9.1   \n",
       "13  6027             Inyo     18593.0             3.9           11.8   \n",
       "36  6073        San Diego   3351786.0             3.3           11.9   \n",
       "56  6113             Yolo    222581.0             4.2           17.5   \n",
       "26  6053         Monterey    445414.0             6.3           11.9   \n",
       "41  6083    Santa Barbara    454593.0             3.9           14.2   \n",
       "39  6079  San Luis Obispo    280393.0             2.9           11.9   \n",
       "5   6011           Colusa     22117.0            12.9           12.2   \n",
       "55  6111          Ventura    856598.0             3.8            9.5   \n",
       "48  6097           Sonoma    500675.0             2.7            9.3   \n",
       "47  6095           Solano    441307.0             3.9           10.0   \n",
       "33  6067       Sacramento   1546174.0             3.8           14.1   \n",
       "30  6061           Placer    396691.0             3.1            7.8   \n",
       "14  6029             Kern    916464.0             8.0           21.2   \n",
       "31  6063           Plumas     19779.0             7.5           14.3   \n",
       "43  6087       Santa Cruz    274871.0             4.9           12.6   \n",
       "12  6025         Imperial    190266.0            18.1           20.7   \n",
       "54  6109         Tuolumne     54590.0             4.6           12.2   \n",
       "24  6049            Modoc      9602.0             7.6           19.2   \n",
       "21  6043         Mariposa     18068.0             5.3           15.2   \n",
       "44  6089           Shasta    178773.0             4.9           17.0   \n",
       "2   6005           Amador     38294.0             4.0           10.9   \n",
       "9   6019           Fresno   1018241.0             7.5           21.1   \n",
       "28  6057           Nevada     98904.0             3.5           11.0   \n",
       "57  6115             Yuba     77916.0             6.4           15.3   \n",
       "15  6031            Kings    153710.0             7.7           18.4   \n",
       "19  6039           Madera    159536.0             7.0           21.2   \n",
       "8   6017        El Dorado    191848.0             3.6            8.3   \n",
       "49  6099       Stanislaus    558972.0             6.4           14.0   \n",
       "10  6021            Glenn     29132.0             6.5           14.8   \n",
       "3   6007            Butte    226466.0             4.9           18.1   \n",
       "11  6023         Humboldt    135333.0             3.6           19.7   \n",
       "35  6071   San Bernardino   2192203.0             4.0           16.0   \n",
       "38  6077      San Joaquin    770385.0             6.0           15.5   \n",
       "53  6107           Tulare    479112.0             9.6           24.0   \n",
       "22  6045        Mendocino     89009.0             3.9           16.3   \n",
       "34  6069       San Benito     62296.0             5.1            8.4   \n",
       "17  6035           Lassen     30150.0             4.8           16.3   \n",
       "46  6093         Siskiyou     44584.0             6.7           17.7   \n",
       "50  6101           Sutter     97490.0             7.5           13.2   \n",
       "32  6065        Riverside   2440124.0             4.4           12.9   \n",
       "23  6047           Merced    282928.0             8.3           23.0   \n",
       "4   6009        Calaveras     45117.0             4.0           13.1   \n",
       "51  6103           Tehama     64387.0             5.7           20.1   \n",
       "16  6033             Lake     65071.0             5.2           20.2   \n",
       "45  6091           Sierra      3213.0             6.0           13.7   \n",
       "52  6105          Trinity     13688.0             5.7           20.3   \n",
       "7   6015        Del Norte     27401.0             5.5           24.6   \n",
       "\n",
       "    pov_u18_pct17  gdppercap19  edupercap  household  act_part  sat_part  \\\n",
       "37           12.3       199.57     543.11   109601.0     24.24     50.73   \n",
       "42            8.1       166.64      25.61   118468.0     19.52     31.95   \n",
       "40            7.0       162.50      19.76   115908.0     19.82     43.03   \n",
       "20            8.2       103.38     155.78   112735.0     28.45     36.46   \n",
       "1            35.3        89.93     469.10    55755.0       NaN       NaN   \n",
       "0            10.5        75.59      18.18    95550.0     20.66     33.85   \n",
       "25           12.6        74.66       1.88    60318.0      4.76      8.81   \n",
       "29           15.7        71.69      23.18    86031.0     20.62     38.95   \n",
       "27            8.6        71.02      77.72    83881.0     12.17     32.32   \n",
       "18           20.9        68.64      50.60    64912.0     18.04     42.47   \n",
       "6            11.2        68.60      24.81    95062.0     21.81     37.09   \n",
       "13           17.6        65.30      92.10    53528.0      5.11     16.06   \n",
       "36           15.7        63.86      24.10    76048.0     19.22     30.62   \n",
       "56           14.1        62.74      37.20    64900.0     15.44     33.01   \n",
       "26           16.2        60.21      60.01    70294.0     17.72     32.45   \n",
       "41           17.4        59.80      39.57    70651.0     15.54     22.83   \n",
       "39           12.3        56.71      78.39    70634.0     20.06     22.18   \n",
       "5            15.4        56.25      60.75    53595.0      7.67     21.83   \n",
       "55           13.2        55.86       9.92    82436.0     14.44     42.18   \n",
       "48           10.9        55.24      72.48    79511.0     15.23     24.13   \n",
       "47           14.0        54.49      43.73    75931.0      9.00     29.10   \n",
       "33           18.2        54.30      27.47    62959.0     15.69     31.17   \n",
       "30            7.2        54.13      36.68    81366.0     21.78     33.03   \n",
       "14           29.0        53.71      16.49    49904.0      8.83     26.66   \n",
       "31           22.0        52.71      50.42    51756.0      5.52     20.86   \n",
       "43           13.7        51.39      52.60    76633.0     17.51     26.67   \n",
       "12           28.1        44.52      11.02    43413.0     15.66     24.46   \n",
       "54           17.5        44.06      53.76    58776.0      4.44     15.44   \n",
       "24           29.7        43.22      35.90    40970.0     63.22     18.39   \n",
       "21           21.2        42.92      76.02    52387.0     10.32     23.23   \n",
       "44           22.9        42.56       9.53    51207.0      8.01     17.86   \n",
       "2            15.7        42.44      30.69    60588.0     12.13     17.38   \n",
       "9            28.3        41.36      29.79    51452.0     12.62     28.46   \n",
       "28           14.4        40.27      38.23    64901.0      4.07      9.95   \n",
       "57           21.9        39.63      10.07    53822.0      6.55     18.22   \n",
       "15           24.5        39.39      29.78    55076.0     14.07     22.11   \n",
       "19           28.6        38.83      14.78    50783.0     15.94     18.79   \n",
       "8             9.6        38.76      24.88    78464.0     20.89     27.13   \n",
       "49           18.6        38.75      41.29    58925.0      8.30     26.16   \n",
       "10           20.8        38.60      14.72    49979.0     14.40     18.00   \n",
       "3            22.6        38.42      16.75    48634.0      8.86     21.60   \n",
       "11           24.7        38.32      38.42    46123.0      7.97     22.35   \n",
       "35           23.0        38.21      16.03    60270.0     17.13     33.33   \n",
       "38           21.6        37.24      16.34    60950.0     11.45     28.45   \n",
       "53           31.9        37.07      15.66    46377.0     12.58     23.83   \n",
       "22           22.8        37.03      44.13    50453.0      6.88     21.96   \n",
       "34           11.9        36.60      20.89    77200.0     13.90     25.54   \n",
       "17           18.0        35.54       6.76    58776.0      9.54     21.55   \n",
       "46           25.7        35.43      21.51    44013.0     20.56     23.59   \n",
       "50           18.2        33.67      27.01    54102.0     10.73     19.65   \n",
       "32           16.2        33.07       9.22    63776.0     13.91     41.05   \n",
       "23           33.7        32.23      19.36    48036.0     13.03     26.21   \n",
       "4            21.1        31.31      19.18    58536.0      6.87     19.96   \n",
       "51           29.0        30.75      21.36    41819.0     43.90     13.23   \n",
       "16           30.1        28.83      47.68    45797.0      9.75     25.04   \n",
       "45           20.2        27.29      72.94    49495.0     13.04     21.74   \n",
       "52           32.1        26.11      21.15    40676.0      9.74      8.44   \n",
       "7            33.9        25.71      18.15    39996.0      1.38     19.83   \n",
       "\n",
       "    act_pct_bm  sat_pct_bm  \n",
       "37       52.41       55.32  \n",
       "42       78.05       66.76  \n",
       "40       73.15       59.65  \n",
       "20       80.48       68.81  \n",
       "1          NaN         NaN  \n",
       "0        67.74       58.16  \n",
       "25       80.00       56.76  \n",
       "29       71.60       53.13  \n",
       "27       62.20       46.49  \n",
       "18       44.40       38.12  \n",
       "6        70.69       50.28  \n",
       "13       67.86       31.82  \n",
       "36       64.73       55.52  \n",
       "56       62.82       58.37  \n",
       "26       37.87       32.43  \n",
       "41       61.41       60.03  \n",
       "39       69.47       63.65  \n",
       "5        34.62       18.92  \n",
       "55       69.97       43.38  \n",
       "48       65.59       56.26  \n",
       "47       59.86       48.65  \n",
       "33       49.79       45.63  \n",
       "30       76.86       68.91  \n",
       "14       43.28       35.96  \n",
       "31         NaN       64.71  \n",
       "43       55.91       54.17  \n",
       "12       36.49       38.32  \n",
       "54       78.26       60.00  \n",
       "24       20.00       56.25  \n",
       "21       50.00       72.22  \n",
       "44       75.72       63.73  \n",
       "2        78.38       62.26  \n",
       "9        41.72       37.79  \n",
       "28       75.00       68.28  \n",
       "57       46.88       49.44  \n",
       "15       24.47       33.86  \n",
       "19       33.33       28.73  \n",
       "8        76.99       73.18  \n",
       "49       53.52       38.10  \n",
       "10       34.72       27.78  \n",
       "3        64.60       60.25  \n",
       "11       73.83       56.33  \n",
       "35       28.61       38.72  \n",
       "38       51.41       42.29  \n",
       "53       34.28       32.70  \n",
       "22       64.71       50.69  \n",
       "34       45.53       47.35  \n",
       "17       55.56       34.43  \n",
       "46       48.42       50.46  \n",
       "50       59.69       52.09  \n",
       "32       44.98       34.11  \n",
       "23       30.30       29.12  \n",
       "4        87.10       66.67  \n",
       "51       34.77       57.14  \n",
       "16       41.54       38.92  \n",
       "45         NaN         NaN  \n",
       "52       73.33         NaN  \n",
       "7          NaN       41.67  "
      ]
     },
     "execution_count": 120,
     "metadata": {},
     "output_type": "execute_result"
    }
   ],
   "source": [
    "ca_cleaned.sort_values('gdppercap19',ascending=False)"
   ]
  },
  {
   "cell_type": "code",
   "execution_count": 104,
   "metadata": {
    "scrolled": false
   },
   "outputs": [
    {
     "data": {
      "text/plain": [
       "Text(0.5, 1.0, 'Unemployment rate in California counties')"
      ]
     },
     "execution_count": 104,
     "metadata": {},
     "output_type": "execute_result"
    },
    {
     "data": {
      "image/png": "[encoded data removed]",
      "text/plain": [
       "<Figure size 1152x432 with 1 Axes>"
      ]
     },
     "metadata": {
      "needs_background": "light"
     },
     "output_type": "display_data"
    }
   ],
   "source": [
    "f, ax = plt.subplots(figsize=(16,6))\n",
    "unemployrate_county = sns.barplot(x='county',y='unemployrate18',data=ca_cleaned)\n",
    "unemployrate_county.set_xticklabels(ca_cleaned['county'],rotation=45);\n",
    "plt.title('Unemployment rate in California counties')"
   ]
  },
  {
   "cell_type": "code",
   "execution_count": 105,
   "metadata": {},
   "outputs": [],
   "source": [
    "# g = sns.FacetGrid(ca_cleaned, col='')\n",
    "# g = sns.FacetGrid(tips, col=\"time\",  row=\"smoker\",hue='sex')\n",
    "# # Notice hwo the arguments come after plt.scatter call\n",
    "# g = g.map(plt.scatter, \"total_bill\", \"tip\").add_legend()"
   ]
  },
  {
   "cell_type": "code",
   "execution_count": null,
   "metadata": {},
   "outputs": [],
   "source": []
  },
  {
   "cell_type": "code",
   "execution_count": null,
   "metadata": {},
   "outputs": [],
   "source": []
  },
  {
   "cell_type": "code",
   "execution_count": null,
   "metadata": {},
   "outputs": [],
   "source": []
  },
  {
   "cell_type": "code",
   "execution_count": null,
   "metadata": {},
   "outputs": [],
   "source": []
  },
  {
   "cell_type": "code",
   "execution_count": null,
   "metadata": {},
   "outputs": [],
   "source": []
  },
  {
   "cell_type": "code",
   "execution_count": null,
   "metadata": {},
   "outputs": [],
   "source": []
  },
  {
   "cell_type": "code",
   "execution_count": null,
   "metadata": {},
   "outputs": [],
   "source": []
  },
  {
   "cell_type": "markdown",
   "metadata": {},
   "source": [
    "## Conclusions and Recommendations"
   ]
  },
  {
   "cell_type": "markdown",
   "metadata": {},
   "source": [
    "Based on your exploration of the data, what are you key takeaways and recommendations? Make sure to answer your question of interest or address your problem statement here."
   ]
  },
  {
   "cell_type": "markdown",
   "metadata": {},
   "source": [
    "**To-Do:** *Edit this cell with your conclusions and recommendations.*"
   ]
  },
  {
   "cell_type": "markdown",
   "metadata": {},
   "source": [
    "Don't forget to create your README!\n",
    "\n",
    "**To-Do:** *If you combine your problem statement, data dictionary, brief summary of your analysis, and conclusions/recommendations, you have an amazing README.md file that quickly aligns your audience to the contents of your project.* Don't forget to cite your data sources!"
   ]
  }
 ],
 "metadata": {
  "anaconda-cloud": {},
  "kernelspec": {
   "display_name": "Python 3 (ipykernel)",
   "language": "python",
   "name": "python3"
  },
  "language_info": {
   "codemirror_mode": {
    "name": "ipython",
    "version": 3
   },
   "file_extension": ".py",
   "mimetype": "text/x-python",
   "name": "python",
   "nbconvert_exporter": "python",
   "pygments_lexer": "ipython3",
   "version": "3.9.7"
  }
 },
 "nbformat": 4,
 "nbformat_minor": 4
}
