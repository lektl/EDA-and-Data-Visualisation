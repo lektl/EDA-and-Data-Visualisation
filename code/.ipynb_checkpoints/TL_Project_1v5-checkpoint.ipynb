{
 "cells": [
  {
   "cell_type": "markdown",
   "metadata": {},
   "source": [
    "<img src=\"http://imgur.com/1ZcRyrc.png\" style=\"float: left; margin: 20px; height: 55px\">\n",
    "\n",
    "# Project 1: Standardized Test Analysis"
   ]
  },
  {
   "cell_type": "markdown",
   "metadata": {},
   "source": [
    "--- \n",
    "# Part 1\n",
    "\n",
    "Part 1 requires knowledge of basic Python.\n",
    "\n",
    "---"
   ]
  },
  {
   "cell_type": "markdown",
   "metadata": {},
   "source": [
    "## Problem Statement"
   ]
  },
  {
   "cell_type": "markdown",
   "metadata": {},
   "source": [
    "Identification of factors and gaps that contribute to ACT, SAT participation rates across the California counties."
   ]
  },
  {
   "cell_type": "markdown",
   "metadata": {},
   "source": [
    "### Contents:\n",
    "- [Background](#Background)\n",
    "- [Data Import & Cleaning](#Data-Import-and-Cleaning)\n",
    "- [Exploratory Data Analysis](#Exploratory-Data-Analysis)\n",
    "- [Data Visualization](#Visualize-the-Data)\n",
    "- [Conclusions and Recommendations](#Conclusions-and-Recommendations)"
   ]
  },
  {
   "cell_type": "markdown",
   "metadata": {},
   "source": [
    "## Background"
   ]
  },
  {
   "cell_type": "markdown",
   "metadata": {},
   "source": [
    "The SAT and ACT are standardized tests that many colleges and universities in the United States require for their admissions process. This score is used along with other materials such as grade point average (GPA) and essay responses to determine whether or not a potential student will be accepted to the university.\n",
    "\n",
    "The SAT has two sections of the test: Evidence-Based Reading and Writing and Math ([*source*](https://www.princetonreview.com/college/sat-sections)). The ACT has 4 sections: English, Mathematics, Reading, and Science, with an additional optional writing section ([*source*](https://www.act.org/content/act/en/products-and-services/the-act/scores/understanding-your-scores.html)). They have different score ranges, which you can read more about on their websites or additional outside sources (a quick Google search will help you understand the scores for each test):\n",
    "* [SAT](https://collegereadiness.collegeboard.org/sat)\n",
    "* [ACT](https://www.act.org/content/act/en.html)\n",
    "\n",
    "Standardized tests have long been a controversial topic for students, administrators, and legislators. Since the 1940's, an increasing number of colleges have been using scores from sudents' performances on tests like the SAT and the ACT as a measure for college readiness and aptitude ([*source*](https://www.minotdailynews.com/news/local-news/2017/04/a-brief-history-of-the-sat-and-act/)). Supporters of these tests argue that these scores can be used as an objective measure to determine college admittance. Opponents of these tests claim that these tests are not accurate measures of students potential or ability and serve as an inequitable barrier to entry. Lately, more and more schools are opting to drop the SAT/ACT requirement for their Fall 2021 applications ([*read more about this here*](https://www.cnn.com/2020/04/14/us/coronavirus-colleges-sat-act-test-trnd/index.html))."
   ]
  },
  {
   "cell_type": "markdown",
   "metadata": {},
   "source": [
    "We are a team of data scientists tasked by the California Department of Education to explore factors that contribute to different ACT and SAT participation rates across the counties in California. The scope of the study is confined only to selected variables such as GDP per capita, household income, poverty, education expenditure per capita, unemployment and crime rate. In this project, I will be exploring the factors on GDP per capita, household income, poverty versus the ACT, SAT participation rates at the States level."
   ]
  },
  {
   "cell_type": "markdown",
   "metadata": {},
   "source": [
    "### Choose your Data\n",
    "\n",
    "There are 10 datasets included in the [`data`](./data/) folder for this project. You are required to pick **at least two** of these to complete your analysis. Feel free to use more than two if you would like, or add other relevant datasets you find online.\n",
    "\n",
    "* [`act_2017.csv`](./data/act_2017.csv): 2017 ACT Scores by State\n",
    "* [`act_2018.csv`](./data/act_2018.csv): 2018 ACT Scores by State\n",
    "* [`act_2019.csv`](./data/act_2019.csv): 2019 ACT Scores by State\n",
    "* [`act_2019_ca.csv`](./data/act_2019_ca.csv): 2019 ACT Scores in California by School\n",
    "* [`sat_2017.csv`](./data/sat_2017.csv): 2017 SAT Scores by State\n",
    "* [`sat_2018.csv`](./data/sat_2018.csv): 2018 SAT Scores by State\n",
    "* [`sat_2019.csv`](./data/sat_2019.csv): 2019 SAT Scores by State\n",
    "* [`sat_2019_by_intended_college_major.csv`](./data/sat_2019_by_intended_college_major.csv): 2019 SAT Scores by Intended College Major\n",
    "* [`sat_2019_ca.csv`](./data/sat_2019_ca.csv): 2019 SAT Scores in California by School\n",
    "* [`sat_act_by_college.csv`](./data/sat_act_by_college.csv): Ranges of Accepted ACT & SAT Student Scores by Colleges"
   ]
  },
  {
   "cell_type": "markdown",
   "metadata": {},
   "source": [
    "The datasets I will use for my analysis are as below.<br>\n",
    "act_2017.csv: 2017 ACT Participation rates<br>\n",
    "act_2018.csv: 2018 ACT Participation rates<br>\n",
    "act_2019.csv: 2019 ACT Participation rates<br>\n",
    "sat_2017.csv: 2017 SAT Participation rates<br>\n",
    "sat_2018.csv: 2018 SAT Participation rates<br>\n",
    "sat_2019.csv: 2019 SAT Participation rates<br>\n",
    "\n",
    "*External datasets:<br>\n",
    "states_data_1997_2021.csv: 2017-2019 States GDP data<br>\n",
    "states_income.csv: 2017-2019 States median household income<br>\n",
    "states_poverty.csv: Percentage of people in poverty by State using 3-Year average (2017-2019)<br>\n",
    "population.csv: 2019 States population*"
   ]
  },
  {
   "cell_type": "markdown",
   "metadata": {},
   "source": [
    "### Outside Research"
   ]
  },
  {
   "cell_type": "markdown",
   "metadata": {},
   "source": [
    "Based on your problem statement and your chosen datasets, spend some time doing outside research on state policies or additional information that might be relevant. Summarize your findings below. If you bring in any outside tables or charts, make sure you are explicit about having borrowed them. If you quote any text, make sure that it renders as being quoted. **Make sure that you cite your sources.**"
   ]
  },
  {
   "cell_type": "markdown",
   "metadata": {},
   "source": [
    "**To-Do:** *https://www.theatlantic.com/education/archive/2017/09/the-rural-higher-education-crisis/541188/ -THis site highlights the factor affecting ACT and SAT participating rates.*"
   ]
  },
  {
   "cell_type": "markdown",
   "metadata": {},
   "source": [
    "### Coding Challenges\n",
    "\n",
    "1. Manually calculate mean:\n",
    "\n",
    "    Write a function that takes in values and returns the mean of the values. Create a list of numbers that you test on your function to check to make sure your function works!\n",
    "    \n",
    "    *Note*: Do not use any mean methods built-in to any Python libraries to do this! This should be done without importing any additional libraries."
   ]
  },
  {
   "cell_type": "code",
   "execution_count": 1050,
   "metadata": {},
   "outputs": [],
   "source": [
    "def mean(numbers):\n",
    "    return sum(numbers)/len(numbers)"
   ]
  },
  {
   "cell_type": "code",
   "execution_count": 1051,
   "metadata": {},
   "outputs": [
    {
     "data": {
      "text/plain": [
       "4.0"
      ]
     },
     "execution_count": 1051,
     "metadata": {},
     "output_type": "execute_result"
    }
   ],
   "source": [
    "mean([1, 3, 5, 7])"
   ]
  },
  {
   "cell_type": "markdown",
   "metadata": {},
   "source": [
    "2. Manually calculate standard deviation:\n",
    "\n",
    "    The formula for standard deviation is below:\n",
    "\n",
    "    $$\\sigma = \\sqrt{\\frac{1}{n}\\sum_{i=1}^n(x_i - \\mu)^2}$$\n",
    "\n",
    "    Where $x_i$ represents each value in the dataset, $\\mu$ represents the mean of all values in the dataset and $n$ represents the number of values in the dataset.\n",
    "\n",
    "    Write a function that takes in values and returns the standard deviation of the values using the formula above. Hint: use the function you wrote above to calculate the mean! Use the list of numbers you created above to test on your function.\n",
    "    \n",
    "    *Note*: Do not use any standard deviation methods built-in to any Python libraries to do this! This should be done without importing any additional libraries."
   ]
  },
  {
   "cell_type": "code",
   "execution_count": 1052,
   "metadata": {},
   "outputs": [],
   "source": [
    "def std_dev(numbers):\n",
    "    n = len(numbers)\n",
    "    mean = sum(numbers) / n\n",
    "    var = sum((i - mean) ** 2 for i in numbers) / n\n",
    "    std_dev = var ** 0.5\n",
    "    return std_dev"
   ]
  },
  {
   "cell_type": "code",
   "execution_count": 1053,
   "metadata": {},
   "outputs": [
    {
     "data": {
      "text/plain": [
       "2.23606797749979"
      ]
     },
     "execution_count": 1053,
     "metadata": {},
     "output_type": "execute_result"
    }
   ],
   "source": [
    "std_dev([1, 3, 5, 7])\n"
   ]
  },
  {
   "cell_type": "markdown",
   "metadata": {},
   "source": [
    "3. Data cleaning function:\n",
    "    \n",
    "    Write a function that takes in a string that is a number and a percent symbol (ex. '50%', '30.5%', etc.) and converts this to a float that is the decimal approximation of the percent. For example, inputting '50%' in your function should return 0.5, '30.5%' should return 0.305, etc. Make sure to test your function to make sure it works!\n",
    "\n",
    "You will use these functions later on in the project!"
   ]
  },
  {
   "cell_type": "code",
   "execution_count": 1054,
   "metadata": {},
   "outputs": [],
   "source": [
    "def perc_to_float(string):\n",
    "    string_num = string.replace(\"%\",\"\")\n",
    "    return float(string_num) / 100"
   ]
  },
  {
   "cell_type": "code",
   "execution_count": 1055,
   "metadata": {},
   "outputs": [
    {
     "data": {
      "text/plain": [
       "0.305"
      ]
     },
     "execution_count": 1055,
     "metadata": {},
     "output_type": "execute_result"
    }
   ],
   "source": [
    "perc_to_float('30.5%')"
   ]
  },
  {
   "cell_type": "markdown",
   "metadata": {},
   "source": [
    "--- \n",
    "# Part 2\n",
    "\n",
    "Part 2 requires knowledge of Pandas, EDA, data cleaning, and data visualization.\n",
    "\n",
    "---"
   ]
  },
  {
   "cell_type": "markdown",
   "metadata": {},
   "source": [
    "*All libraries used should be added here*"
   ]
  },
  {
   "cell_type": "code",
   "execution_count": 1056,
   "metadata": {},
   "outputs": [],
   "source": [
    "# Imports:\n",
    "import altair as alt\n",
    "import pandas as pd\n",
    "import numpy as np\n",
    "import matplotlib.pyplot as plt\n",
    "import seaborn as sns\n",
    "#import missingno as msno\n",
    "%matplotlib inline\n",
    "#import altair as alt\n",
    "#import statsmodels.api as sm\n",
    "#from IPython.display import Image\n",
    "\n",
    "#import chart_studio.plotly as py\n",
    "#import plotly.graph_objs as go \n",
    "#import cufflinks as cf\n",
    "#from plotly.offline import download_plotlyjs, init_notebook_mode, plot, iplot\n",
    "#init_notebook_mode(connected=True)"
   ]
  },
  {
   "cell_type": "markdown",
   "metadata": {},
   "source": [
    "## Data Import and Cleaning"
   ]
  },
  {
   "cell_type": "markdown",
   "metadata": {},
   "source": [
    "### Data Import & Cleaning\n",
    "\n",
    "Import the datasets that you selected for this project and go through the following steps at a minimum. You are welcome to do further cleaning as you feel necessary:\n",
    "1. Display the data: print the first 5 rows of each dataframe to your Jupyter notebook.\n",
    "2. Check for missing values.\n",
    "3. Check for any obvious issues with the observations (keep in mind the minimum & maximum possible values for each test/subtest).\n",
    "4. Fix any errors you identified in steps 2-3.\n",
    "5. Display the data types of each feature.\n",
    "6. Fix any incorrect data types found in step 5.\n",
    "    - Fix any individual values preventing other columns from being the appropriate type.\n",
    "    - If your dataset has a column of percents (ex. '50%', '30.5%', etc.), use the function you wrote in Part 1 (coding challenges, number 3) to convert this to floats! *Hint*: use `.map()` or `.apply()`.\n",
    "7. Rename Columns.\n",
    "    - Column names should be all lowercase.\n",
    "    - Column names should not contain spaces (underscores will suffice--this allows for using the `df.column_name` method to access columns in addition to `df['column_name']`).\n",
    "    - Column names should be unique and informative.\n",
    "8. Drop unnecessary rows (if needed).\n",
    "9. Merge dataframes that can be merged.\n",
    "10. Perform any additional cleaning that you feel is necessary.\n",
    "11. Save your cleaned and merged dataframes as csv files."
   ]
  },
  {
   "cell_type": "markdown",
   "metadata": {},
   "source": [
    "## Import Datasets"
   ]
  },
  {
   "cell_type": "code",
   "execution_count": 1057,
   "metadata": {},
   "outputs": [],
   "source": [
    "# Import necessary datasets. \n",
    "act17 = pd.read_csv(\"../data/act_2017.csv\")\n",
    "act18 = pd.read_csv(\"../data/act_2018.csv\")\n",
    "act19 = pd.read_csv(\"../data/act_2019.csv\")\n",
    "sat17 = pd.read_csv(\"../data/sat_2017.csv\")\n",
    "sat18 = pd.read_csv(\"../data/sat_2018.csv\")\n",
    "sat19 = pd.read_csv(\"../data/sat_2019.csv\")\n",
    "\n",
    "# Import population data (source - https://www.census.gov/data/tables/time-series/demo/popest/2010s-state-total.html)\n",
    "states_pop = pd.read_csv(\"../data/population.csv\")\n",
    "\n",
    "# Import US states GDP data (source - https://apps.bea.gov/regional/downloadzip.cfm)\n",
    "states_gdp = pd.read_csv(\"../data/states_data_1997_2021.csv\")\n",
    "\n",
    "# Import median household income (source - https://nces.ed.gov/programs/digest/d20/tables/dt20_102.30.asp)\n",
    "states_income = pd.read_csv(\"../data/states_income.csv\")\n",
    "\n",
    "# Import percentage of people in poverty by State using 3-Year average (2017-2019) (source - https://www.census.gov/data/tables/2020/demo/income-poverty/p60-270.html)\n",
    "states_poverty = pd.read_csv(\"../data/states_poverty.csv\")"
   ]
  },
  {
   "cell_type": "markdown",
   "metadata": {},
   "source": [
    "## 1. Display Data"
   ]
  },
  {
   "cell_type": "code",
   "execution_count": 1058,
   "metadata": {},
   "outputs": [
    {
     "data": {
      "text/html": [
       "<div>\n",
       "<style scoped>\n",
       "    .dataframe tbody tr th:only-of-type {\n",
       "        vertical-align: middle;\n",
       "    }\n",
       "\n",
       "    .dataframe tbody tr th {\n",
       "        vertical-align: top;\n",
       "    }\n",
       "\n",
       "    .dataframe thead th {\n",
       "        text-align: right;\n",
       "    }\n",
       "</style>\n",
       "<table border=\"1\" class=\"dataframe\">\n",
       "  <thead>\n",
       "    <tr style=\"text-align: right;\">\n",
       "      <th></th>\n",
       "      <th>State</th>\n",
       "      <th>Participation</th>\n",
       "      <th>English</th>\n",
       "      <th>Math</th>\n",
       "      <th>Reading</th>\n",
       "      <th>Science</th>\n",
       "      <th>Composite</th>\n",
       "    </tr>\n",
       "  </thead>\n",
       "  <tbody>\n",
       "    <tr>\n",
       "      <th>0</th>\n",
       "      <td>National</td>\n",
       "      <td>60%</td>\n",
       "      <td>20.3</td>\n",
       "      <td>20.7</td>\n",
       "      <td>21.4</td>\n",
       "      <td>21.0</td>\n",
       "      <td>21.0</td>\n",
       "    </tr>\n",
       "    <tr>\n",
       "      <th>1</th>\n",
       "      <td>Alabama</td>\n",
       "      <td>100%</td>\n",
       "      <td>18.9</td>\n",
       "      <td>18.4</td>\n",
       "      <td>19.7</td>\n",
       "      <td>19.4</td>\n",
       "      <td>19.2</td>\n",
       "    </tr>\n",
       "    <tr>\n",
       "      <th>2</th>\n",
       "      <td>Alaska</td>\n",
       "      <td>65%</td>\n",
       "      <td>18.7</td>\n",
       "      <td>19.8</td>\n",
       "      <td>20.4</td>\n",
       "      <td>19.9</td>\n",
       "      <td>19.8</td>\n",
       "    </tr>\n",
       "    <tr>\n",
       "      <th>3</th>\n",
       "      <td>Arizona</td>\n",
       "      <td>62%</td>\n",
       "      <td>18.6</td>\n",
       "      <td>19.8</td>\n",
       "      <td>20.1</td>\n",
       "      <td>19.8</td>\n",
       "      <td>19.7</td>\n",
       "    </tr>\n",
       "    <tr>\n",
       "      <th>4</th>\n",
       "      <td>Arkansas</td>\n",
       "      <td>100%</td>\n",
       "      <td>18.9</td>\n",
       "      <td>19.0</td>\n",
       "      <td>19.7</td>\n",
       "      <td>19.5</td>\n",
       "      <td>19.4</td>\n",
       "    </tr>\n",
       "  </tbody>\n",
       "</table>\n",
       "</div>"
      ],
      "text/plain": [
       "      State Participation  English  Math  Reading  Science Composite\n",
       "0  National           60%     20.3  20.7     21.4     21.0      21.0\n",
       "1   Alabama          100%     18.9  18.4     19.7     19.4      19.2\n",
       "2    Alaska           65%     18.7  19.8     20.4     19.9      19.8\n",
       "3   Arizona           62%     18.6  19.8     20.1     19.8      19.7\n",
       "4  Arkansas          100%     18.9  19.0     19.7     19.5      19.4"
      ]
     },
     "execution_count": 1058,
     "metadata": {},
     "output_type": "execute_result"
    }
   ],
   "source": [
    "# Print the first 5 rows of ACT17\n",
    "act17.head()"
   ]
  },
  {
   "cell_type": "code",
   "execution_count": 1059,
   "metadata": {},
   "outputs": [
    {
     "data": {
      "text/html": [
       "<div>\n",
       "<style scoped>\n",
       "    .dataframe tbody tr th:only-of-type {\n",
       "        vertical-align: middle;\n",
       "    }\n",
       "\n",
       "    .dataframe tbody tr th {\n",
       "        vertical-align: top;\n",
       "    }\n",
       "\n",
       "    .dataframe thead th {\n",
       "        text-align: right;\n",
       "    }\n",
       "</style>\n",
       "<table border=\"1\" class=\"dataframe\">\n",
       "  <thead>\n",
       "    <tr style=\"text-align: right;\">\n",
       "      <th></th>\n",
       "      <th>State</th>\n",
       "      <th>Participation</th>\n",
       "      <th>Composite</th>\n",
       "    </tr>\n",
       "  </thead>\n",
       "  <tbody>\n",
       "    <tr>\n",
       "      <th>0</th>\n",
       "      <td>Alabama</td>\n",
       "      <td>100%</td>\n",
       "      <td>19.1</td>\n",
       "    </tr>\n",
       "    <tr>\n",
       "      <th>1</th>\n",
       "      <td>Alaska</td>\n",
       "      <td>33%</td>\n",
       "      <td>20.8</td>\n",
       "    </tr>\n",
       "    <tr>\n",
       "      <th>2</th>\n",
       "      <td>Arizona</td>\n",
       "      <td>66%</td>\n",
       "      <td>19.2</td>\n",
       "    </tr>\n",
       "    <tr>\n",
       "      <th>3</th>\n",
       "      <td>Arkansas</td>\n",
       "      <td>100%</td>\n",
       "      <td>19.4</td>\n",
       "    </tr>\n",
       "    <tr>\n",
       "      <th>4</th>\n",
       "      <td>California</td>\n",
       "      <td>27%</td>\n",
       "      <td>22.7</td>\n",
       "    </tr>\n",
       "  </tbody>\n",
       "</table>\n",
       "</div>"
      ],
      "text/plain": [
       "        State Participation  Composite\n",
       "0     Alabama          100%       19.1\n",
       "1      Alaska           33%       20.8\n",
       "2     Arizona           66%       19.2\n",
       "3    Arkansas          100%       19.4\n",
       "4  California           27%       22.7"
      ]
     },
     "execution_count": 1059,
     "metadata": {},
     "output_type": "execute_result"
    }
   ],
   "source": [
    "# Print the first 5 rows of ACT18\n",
    "act18.head()"
   ]
  },
  {
   "cell_type": "code",
   "execution_count": 1060,
   "metadata": {},
   "outputs": [
    {
     "data": {
      "text/html": [
       "<div>\n",
       "<style scoped>\n",
       "    .dataframe tbody tr th:only-of-type {\n",
       "        vertical-align: middle;\n",
       "    }\n",
       "\n",
       "    .dataframe tbody tr th {\n",
       "        vertical-align: top;\n",
       "    }\n",
       "\n",
       "    .dataframe thead th {\n",
       "        text-align: right;\n",
       "    }\n",
       "</style>\n",
       "<table border=\"1\" class=\"dataframe\">\n",
       "  <thead>\n",
       "    <tr style=\"text-align: right;\">\n",
       "      <th></th>\n",
       "      <th>State</th>\n",
       "      <th>Participation</th>\n",
       "      <th>Composite</th>\n",
       "    </tr>\n",
       "  </thead>\n",
       "  <tbody>\n",
       "    <tr>\n",
       "      <th>0</th>\n",
       "      <td>Alabama</td>\n",
       "      <td>100%</td>\n",
       "      <td>18.9</td>\n",
       "    </tr>\n",
       "    <tr>\n",
       "      <th>1</th>\n",
       "      <td>Alaska</td>\n",
       "      <td>38%</td>\n",
       "      <td>20.1</td>\n",
       "    </tr>\n",
       "    <tr>\n",
       "      <th>2</th>\n",
       "      <td>Arizona</td>\n",
       "      <td>73%</td>\n",
       "      <td>19.0</td>\n",
       "    </tr>\n",
       "    <tr>\n",
       "      <th>3</th>\n",
       "      <td>Arkansas</td>\n",
       "      <td>100%</td>\n",
       "      <td>19.3</td>\n",
       "    </tr>\n",
       "    <tr>\n",
       "      <th>4</th>\n",
       "      <td>California</td>\n",
       "      <td>23%</td>\n",
       "      <td>22.6</td>\n",
       "    </tr>\n",
       "  </tbody>\n",
       "</table>\n",
       "</div>"
      ],
      "text/plain": [
       "        State Participation  Composite\n",
       "0     Alabama          100%       18.9\n",
       "1      Alaska           38%       20.1\n",
       "2     Arizona           73%       19.0\n",
       "3    Arkansas          100%       19.3\n",
       "4  California           23%       22.6"
      ]
     },
     "execution_count": 1060,
     "metadata": {},
     "output_type": "execute_result"
    }
   ],
   "source": [
    "# Print the first 5 rows of ACT19\n",
    "act19.head()"
   ]
  },
  {
   "cell_type": "code",
   "execution_count": 1061,
   "metadata": {},
   "outputs": [
    {
     "data": {
      "text/html": [
       "<div>\n",
       "<style scoped>\n",
       "    .dataframe tbody tr th:only-of-type {\n",
       "        vertical-align: middle;\n",
       "    }\n",
       "\n",
       "    .dataframe tbody tr th {\n",
       "        vertical-align: top;\n",
       "    }\n",
       "\n",
       "    .dataframe thead th {\n",
       "        text-align: right;\n",
       "    }\n",
       "</style>\n",
       "<table border=\"1\" class=\"dataframe\">\n",
       "  <thead>\n",
       "    <tr style=\"text-align: right;\">\n",
       "      <th></th>\n",
       "      <th>State</th>\n",
       "      <th>Participation</th>\n",
       "      <th>Evidence-Based Reading and Writing</th>\n",
       "      <th>Math</th>\n",
       "      <th>Total</th>\n",
       "    </tr>\n",
       "  </thead>\n",
       "  <tbody>\n",
       "    <tr>\n",
       "      <th>0</th>\n",
       "      <td>Alabama</td>\n",
       "      <td>5%</td>\n",
       "      <td>593</td>\n",
       "      <td>572</td>\n",
       "      <td>1165</td>\n",
       "    </tr>\n",
       "    <tr>\n",
       "      <th>1</th>\n",
       "      <td>Alaska</td>\n",
       "      <td>38%</td>\n",
       "      <td>547</td>\n",
       "      <td>533</td>\n",
       "      <td>1080</td>\n",
       "    </tr>\n",
       "    <tr>\n",
       "      <th>2</th>\n",
       "      <td>Arizona</td>\n",
       "      <td>30%</td>\n",
       "      <td>563</td>\n",
       "      <td>553</td>\n",
       "      <td>1116</td>\n",
       "    </tr>\n",
       "    <tr>\n",
       "      <th>3</th>\n",
       "      <td>Arkansas</td>\n",
       "      <td>3%</td>\n",
       "      <td>614</td>\n",
       "      <td>594</td>\n",
       "      <td>1208</td>\n",
       "    </tr>\n",
       "    <tr>\n",
       "      <th>4</th>\n",
       "      <td>California</td>\n",
       "      <td>53%</td>\n",
       "      <td>531</td>\n",
       "      <td>524</td>\n",
       "      <td>1055</td>\n",
       "    </tr>\n",
       "  </tbody>\n",
       "</table>\n",
       "</div>"
      ],
      "text/plain": [
       "        State Participation  Evidence-Based Reading and Writing  Math  Total\n",
       "0     Alabama            5%                                 593   572   1165\n",
       "1      Alaska           38%                                 547   533   1080\n",
       "2     Arizona           30%                                 563   553   1116\n",
       "3    Arkansas            3%                                 614   594   1208\n",
       "4  California           53%                                 531   524   1055"
      ]
     },
     "execution_count": 1061,
     "metadata": {},
     "output_type": "execute_result"
    }
   ],
   "source": [
    "# Print the first 5 rows of SAT17\n",
    "sat17.head()"
   ]
  },
  {
   "cell_type": "code",
   "execution_count": 1062,
   "metadata": {},
   "outputs": [
    {
     "data": {
      "text/html": [
       "<div>\n",
       "<style scoped>\n",
       "    .dataframe tbody tr th:only-of-type {\n",
       "        vertical-align: middle;\n",
       "    }\n",
       "\n",
       "    .dataframe tbody tr th {\n",
       "        vertical-align: top;\n",
       "    }\n",
       "\n",
       "    .dataframe thead th {\n",
       "        text-align: right;\n",
       "    }\n",
       "</style>\n",
       "<table border=\"1\" class=\"dataframe\">\n",
       "  <thead>\n",
       "    <tr style=\"text-align: right;\">\n",
       "      <th></th>\n",
       "      <th>State</th>\n",
       "      <th>Participation</th>\n",
       "      <th>Evidence-Based Reading and Writing</th>\n",
       "      <th>Math</th>\n",
       "      <th>Total</th>\n",
       "    </tr>\n",
       "  </thead>\n",
       "  <tbody>\n",
       "    <tr>\n",
       "      <th>0</th>\n",
       "      <td>Alabama</td>\n",
       "      <td>6%</td>\n",
       "      <td>595</td>\n",
       "      <td>571</td>\n",
       "      <td>1166</td>\n",
       "    </tr>\n",
       "    <tr>\n",
       "      <th>1</th>\n",
       "      <td>Alaska</td>\n",
       "      <td>43%</td>\n",
       "      <td>562</td>\n",
       "      <td>544</td>\n",
       "      <td>1106</td>\n",
       "    </tr>\n",
       "    <tr>\n",
       "      <th>2</th>\n",
       "      <td>Arizona</td>\n",
       "      <td>29%</td>\n",
       "      <td>577</td>\n",
       "      <td>572</td>\n",
       "      <td>1149</td>\n",
       "    </tr>\n",
       "    <tr>\n",
       "      <th>3</th>\n",
       "      <td>Arkansas</td>\n",
       "      <td>5%</td>\n",
       "      <td>592</td>\n",
       "      <td>576</td>\n",
       "      <td>1169</td>\n",
       "    </tr>\n",
       "    <tr>\n",
       "      <th>4</th>\n",
       "      <td>California</td>\n",
       "      <td>60%</td>\n",
       "      <td>540</td>\n",
       "      <td>536</td>\n",
       "      <td>1076</td>\n",
       "    </tr>\n",
       "  </tbody>\n",
       "</table>\n",
       "</div>"
      ],
      "text/plain": [
       "        State Participation  Evidence-Based Reading and Writing  Math  Total\n",
       "0     Alabama            6%                                 595   571   1166\n",
       "1      Alaska           43%                                 562   544   1106\n",
       "2     Arizona           29%                                 577   572   1149\n",
       "3    Arkansas            5%                                 592   576   1169\n",
       "4  California           60%                                 540   536   1076"
      ]
     },
     "execution_count": 1062,
     "metadata": {},
     "output_type": "execute_result"
    }
   ],
   "source": [
    "# Print the first 5 rows of SAT18\n",
    "sat18.head()"
   ]
  },
  {
   "cell_type": "code",
   "execution_count": 1063,
   "metadata": {},
   "outputs": [
    {
     "data": {
      "text/html": [
       "<div>\n",
       "<style scoped>\n",
       "    .dataframe tbody tr th:only-of-type {\n",
       "        vertical-align: middle;\n",
       "    }\n",
       "\n",
       "    .dataframe tbody tr th {\n",
       "        vertical-align: top;\n",
       "    }\n",
       "\n",
       "    .dataframe thead th {\n",
       "        text-align: right;\n",
       "    }\n",
       "</style>\n",
       "<table border=\"1\" class=\"dataframe\">\n",
       "  <thead>\n",
       "    <tr style=\"text-align: right;\">\n",
       "      <th></th>\n",
       "      <th>State</th>\n",
       "      <th>Participation Rate</th>\n",
       "      <th>EBRW</th>\n",
       "      <th>Math</th>\n",
       "      <th>Total</th>\n",
       "    </tr>\n",
       "  </thead>\n",
       "  <tbody>\n",
       "    <tr>\n",
       "      <th>0</th>\n",
       "      <td>Alabama</td>\n",
       "      <td>7%</td>\n",
       "      <td>583</td>\n",
       "      <td>560</td>\n",
       "      <td>1143</td>\n",
       "    </tr>\n",
       "    <tr>\n",
       "      <th>1</th>\n",
       "      <td>Alaska</td>\n",
       "      <td>41%</td>\n",
       "      <td>556</td>\n",
       "      <td>541</td>\n",
       "      <td>1097</td>\n",
       "    </tr>\n",
       "    <tr>\n",
       "      <th>2</th>\n",
       "      <td>Arizona</td>\n",
       "      <td>31%</td>\n",
       "      <td>569</td>\n",
       "      <td>565</td>\n",
       "      <td>1134</td>\n",
       "    </tr>\n",
       "    <tr>\n",
       "      <th>3</th>\n",
       "      <td>Arkansas</td>\n",
       "      <td>6%</td>\n",
       "      <td>582</td>\n",
       "      <td>559</td>\n",
       "      <td>1141</td>\n",
       "    </tr>\n",
       "    <tr>\n",
       "      <th>4</th>\n",
       "      <td>California</td>\n",
       "      <td>63%</td>\n",
       "      <td>534</td>\n",
       "      <td>531</td>\n",
       "      <td>1065</td>\n",
       "    </tr>\n",
       "  </tbody>\n",
       "</table>\n",
       "</div>"
      ],
      "text/plain": [
       "        State Participation Rate  EBRW  Math  Total\n",
       "0     Alabama                 7%   583   560   1143\n",
       "1      Alaska                41%   556   541   1097\n",
       "2     Arizona                31%   569   565   1134\n",
       "3    Arkansas                 6%   582   559   1141\n",
       "4  California                63%   534   531   1065"
      ]
     },
     "execution_count": 1063,
     "metadata": {},
     "output_type": "execute_result"
    }
   ],
   "source": [
    "# Print the first 5 rows of SAT19\n",
    "sat19.head()"
   ]
  },
  {
   "cell_type": "code",
   "execution_count": 1064,
   "metadata": {},
   "outputs": [
    {
     "data": {
      "text/html": [
       "<div>\n",
       "<style scoped>\n",
       "    .dataframe tbody tr th:only-of-type {\n",
       "        vertical-align: middle;\n",
       "    }\n",
       "\n",
       "    .dataframe tbody tr th {\n",
       "        vertical-align: top;\n",
       "    }\n",
       "\n",
       "    .dataframe thead th {\n",
       "        text-align: right;\n",
       "    }\n",
       "</style>\n",
       "<table border=\"1\" class=\"dataframe\">\n",
       "  <thead>\n",
       "    <tr style=\"text-align: right;\">\n",
       "      <th></th>\n",
       "      <th>GeoName</th>\n",
       "      <th>Description</th>\n",
       "      <th>2017</th>\n",
       "      <th>2018</th>\n",
       "      <th>2019</th>\n",
       "    </tr>\n",
       "  </thead>\n",
       "  <tbody>\n",
       "    <tr>\n",
       "      <th>0</th>\n",
       "      <td>Alabama</td>\n",
       "      <td>Real GDP (millions of chained 2012 dollars)</td>\n",
       "      <td>197566.600</td>\n",
       "      <td>200800.900</td>\n",
       "      <td>203383.900</td>\n",
       "    </tr>\n",
       "    <tr>\n",
       "      <th>1</th>\n",
       "      <td>Alabama</td>\n",
       "      <td>Chain-type quantity indexes for real GDP</td>\n",
       "      <td>104.397</td>\n",
       "      <td>106.106</td>\n",
       "      <td>107.471</td>\n",
       "    </tr>\n",
       "    <tr>\n",
       "      <th>2</th>\n",
       "      <td>Alabama</td>\n",
       "      <td>Current-dollar GDP (millions of current dollars)</td>\n",
       "      <td>215085.900</td>\n",
       "      <td>224046.900</td>\n",
       "      <td>231171.800</td>\n",
       "    </tr>\n",
       "    <tr>\n",
       "      <th>3</th>\n",
       "      <td>Alabama</td>\n",
       "      <td>Compensation (millions of dollars)</td>\n",
       "      <td>116653.100</td>\n",
       "      <td>121648.400</td>\n",
       "      <td>126982.800</td>\n",
       "    </tr>\n",
       "    <tr>\n",
       "      <th>4</th>\n",
       "      <td>Alabama</td>\n",
       "      <td>Gross operating surplus (millions of dollars)</td>\n",
       "      <td>85542.600</td>\n",
       "      <td>88794.700</td>\n",
       "      <td>90113.800</td>\n",
       "    </tr>\n",
       "  </tbody>\n",
       "</table>\n",
       "</div>"
      ],
      "text/plain": [
       "   GeoName                                       Description        2017  \\\n",
       "0  Alabama     Real GDP (millions of chained 2012 dollars)    197566.600   \n",
       "1  Alabama          Chain-type quantity indexes for real GDP     104.397   \n",
       "2  Alabama  Current-dollar GDP (millions of current dollars)  215085.900   \n",
       "3  Alabama                Compensation (millions of dollars)  116653.100   \n",
       "4  Alabama     Gross operating surplus (millions of dollars)   85542.600   \n",
       "\n",
       "         2018        2019  \n",
       "0  200800.900  203383.900  \n",
       "1     106.106     107.471  \n",
       "2  224046.900  231171.800  \n",
       "3  121648.400  126982.800  \n",
       "4   88794.700   90113.800  "
      ]
     },
     "execution_count": 1064,
     "metadata": {},
     "output_type": "execute_result"
    }
   ],
   "source": [
    "# Print the first 5 rows of STATES_GDP\n",
    "states_gdp.head()"
   ]
  },
  {
   "cell_type": "code",
   "execution_count": 1065,
   "metadata": {},
   "outputs": [
    {
     "data": {
      "text/html": [
       "<div>\n",
       "<style scoped>\n",
       "    .dataframe tbody tr th:only-of-type {\n",
       "        vertical-align: middle;\n",
       "    }\n",
       "\n",
       "    .dataframe tbody tr th {\n",
       "        vertical-align: top;\n",
       "    }\n",
       "\n",
       "    .dataframe thead th {\n",
       "        text-align: right;\n",
       "    }\n",
       "</style>\n",
       "<table border=\"1\" class=\"dataframe\">\n",
       "  <thead>\n",
       "    <tr style=\"text-align: right;\">\n",
       "      <th></th>\n",
       "      <th>State</th>\n",
       "      <th>2017</th>\n",
       "      <th>2018</th>\n",
       "      <th>2019</th>\n",
       "    </tr>\n",
       "  </thead>\n",
       "  <tbody>\n",
       "    <tr>\n",
       "      <th>0</th>\n",
       "      <td>Alabama</td>\n",
       "      <td>50,200</td>\n",
       "      <td>50,800</td>\n",
       "      <td>51,700</td>\n",
       "    </tr>\n",
       "    <tr>\n",
       "      <th>1</th>\n",
       "      <td>Alaska</td>\n",
       "      <td>76,300</td>\n",
       "      <td>75,700</td>\n",
       "      <td>75,500</td>\n",
       "    </tr>\n",
       "    <tr>\n",
       "      <th>2</th>\n",
       "      <td>Arizona</td>\n",
       "      <td>59,000</td>\n",
       "      <td>60,300</td>\n",
       "      <td>62,100</td>\n",
       "    </tr>\n",
       "    <tr>\n",
       "      <th>3</th>\n",
       "      <td>Arkansas</td>\n",
       "      <td>47,800</td>\n",
       "      <td>47,900</td>\n",
       "      <td>49,000</td>\n",
       "    </tr>\n",
       "    <tr>\n",
       "      <th>4</th>\n",
       "      <td>California</td>\n",
       "      <td>74,900</td>\n",
       "      <td>76,600</td>\n",
       "      <td>80,400</td>\n",
       "    </tr>\n",
       "  </tbody>\n",
       "</table>\n",
       "</div>"
      ],
      "text/plain": [
       "        State    2017    2018    2019\n",
       "0     Alabama  50,200  50,800  51,700\n",
       "1      Alaska  76,300  75,700  75,500\n",
       "2     Arizona  59,000  60,300  62,100\n",
       "3    Arkansas  47,800  47,900  49,000\n",
       "4  California  74,900  76,600  80,400"
      ]
     },
     "execution_count": 1065,
     "metadata": {},
     "output_type": "execute_result"
    }
   ],
   "source": [
    "# Print the first 5 rows of STATES_INCOME\n",
    "states_income.head()"
   ]
  },
  {
   "cell_type": "code",
   "execution_count": 1066,
   "metadata": {},
   "outputs": [
    {
     "data": {
      "text/html": [
       "<div>\n",
       "<style scoped>\n",
       "    .dataframe tbody tr th:only-of-type {\n",
       "        vertical-align: middle;\n",
       "    }\n",
       "\n",
       "    .dataframe tbody tr th {\n",
       "        vertical-align: top;\n",
       "    }\n",
       "\n",
       "    .dataframe thead th {\n",
       "        text-align: right;\n",
       "    }\n",
       "</style>\n",
       "<table border=\"1\" class=\"dataframe\">\n",
       "  <thead>\n",
       "    <tr style=\"text-align: right;\">\n",
       "      <th></th>\n",
       "      <th>State</th>\n",
       "      <th>Percentage</th>\n",
       "    </tr>\n",
       "  </thead>\n",
       "  <tbody>\n",
       "    <tr>\n",
       "      <th>0</th>\n",
       "      <td>Alabama</td>\n",
       "      <td>14.7</td>\n",
       "    </tr>\n",
       "    <tr>\n",
       "      <th>1</th>\n",
       "      <td>Alaska</td>\n",
       "      <td>11.8</td>\n",
       "    </tr>\n",
       "    <tr>\n",
       "      <th>2</th>\n",
       "      <td>Arizona</td>\n",
       "      <td>12.1</td>\n",
       "    </tr>\n",
       "    <tr>\n",
       "      <th>3</th>\n",
       "      <td>Arkansas</td>\n",
       "      <td>15.0</td>\n",
       "    </tr>\n",
       "    <tr>\n",
       "      <th>4</th>\n",
       "      <td>California</td>\n",
       "      <td>11.4</td>\n",
       "    </tr>\n",
       "  </tbody>\n",
       "</table>\n",
       "</div>"
      ],
      "text/plain": [
       "        State  Percentage\n",
       "0     Alabama        14.7\n",
       "1      Alaska        11.8\n",
       "2     Arizona        12.1\n",
       "3    Arkansas        15.0\n",
       "4  California        11.4"
      ]
     },
     "execution_count": 1066,
     "metadata": {},
     "output_type": "execute_result"
    }
   ],
   "source": [
    "# Print the first 5 rows of STATES_POVERTY\n",
    "states_poverty.head()"
   ]
  },
  {
   "cell_type": "code",
   "execution_count": 1067,
   "metadata": {},
   "outputs": [
    {
     "data": {
      "text/html": [
       "<div>\n",
       "<style scoped>\n",
       "    .dataframe tbody tr th:only-of-type {\n",
       "        vertical-align: middle;\n",
       "    }\n",
       "\n",
       "    .dataframe tbody tr th {\n",
       "        vertical-align: top;\n",
       "    }\n",
       "\n",
       "    .dataframe thead th {\n",
       "        text-align: right;\n",
       "    }\n",
       "</style>\n",
       "<table border=\"1\" class=\"dataframe\">\n",
       "  <thead>\n",
       "    <tr style=\"text-align: right;\">\n",
       "      <th></th>\n",
       "      <th>STATE</th>\n",
       "      <th>NAME</th>\n",
       "      <th>POPESTIMATE2019</th>\n",
       "    </tr>\n",
       "  </thead>\n",
       "  <tbody>\n",
       "    <tr>\n",
       "      <th>0</th>\n",
       "      <td>1</td>\n",
       "      <td>Alabama</td>\n",
       "      <td>4903185</td>\n",
       "    </tr>\n",
       "    <tr>\n",
       "      <th>1</th>\n",
       "      <td>2</td>\n",
       "      <td>Alaska</td>\n",
       "      <td>731545</td>\n",
       "    </tr>\n",
       "    <tr>\n",
       "      <th>2</th>\n",
       "      <td>4</td>\n",
       "      <td>Arizona</td>\n",
       "      <td>7278717</td>\n",
       "    </tr>\n",
       "    <tr>\n",
       "      <th>3</th>\n",
       "      <td>5</td>\n",
       "      <td>Arkansas</td>\n",
       "      <td>3017804</td>\n",
       "    </tr>\n",
       "    <tr>\n",
       "      <th>4</th>\n",
       "      <td>6</td>\n",
       "      <td>California</td>\n",
       "      <td>39512223</td>\n",
       "    </tr>\n",
       "  </tbody>\n",
       "</table>\n",
       "</div>"
      ],
      "text/plain": [
       "   STATE        NAME  POPESTIMATE2019\n",
       "0      1     Alabama          4903185\n",
       "1      2      Alaska           731545\n",
       "2      4     Arizona          7278717\n",
       "3      5    Arkansas          3017804\n",
       "4      6  California         39512223"
      ]
     },
     "execution_count": 1067,
     "metadata": {},
     "output_type": "execute_result"
    }
   ],
   "source": [
    "# Print the first 5 rows of STATES_POP\n",
    "states_pop.head()"
   ]
  },
  {
   "cell_type": "markdown",
   "metadata": {},
   "source": [
    "## 2. Check for missing values"
   ]
  },
  {
   "cell_type": "code",
   "execution_count": 1068,
   "metadata": {},
   "outputs": [
    {
     "data": {
      "text/plain": [
       "State            0\n",
       "Participation    0\n",
       "English          0\n",
       "Math             0\n",
       "Reading          0\n",
       "Science          0\n",
       "Composite        0\n",
       "dtype: int64"
      ]
     },
     "execution_count": 1068,
     "metadata": {},
     "output_type": "execute_result"
    }
   ],
   "source": [
    "# Check for missing values of ACT17\n",
    "act17.isnull().sum()"
   ]
  },
  {
   "cell_type": "code",
   "execution_count": 1069,
   "metadata": {},
   "outputs": [
    {
     "data": {
      "text/plain": [
       "State            0\n",
       "Participation    0\n",
       "Composite        0\n",
       "dtype: int64"
      ]
     },
     "execution_count": 1069,
     "metadata": {},
     "output_type": "execute_result"
    }
   ],
   "source": [
    "# Check for missing values of ACT18\n",
    "act18.isnull().sum()"
   ]
  },
  {
   "cell_type": "code",
   "execution_count": 1070,
   "metadata": {},
   "outputs": [
    {
     "data": {
      "text/plain": [
       "State            0\n",
       "Participation    0\n",
       "Composite        0\n",
       "dtype: int64"
      ]
     },
     "execution_count": 1070,
     "metadata": {},
     "output_type": "execute_result"
    }
   ],
   "source": [
    "# Check for missing values of ACT19\n",
    "act19.isnull().sum()"
   ]
  },
  {
   "cell_type": "code",
   "execution_count": 1071,
   "metadata": {},
   "outputs": [
    {
     "data": {
      "text/plain": [
       "State                                 0\n",
       "Participation                         0\n",
       "Evidence-Based Reading and Writing    0\n",
       "Math                                  0\n",
       "Total                                 0\n",
       "dtype: int64"
      ]
     },
     "execution_count": 1071,
     "metadata": {},
     "output_type": "execute_result"
    }
   ],
   "source": [
    "# Check for missing values of SAT17\n",
    "sat17.isnull().sum()"
   ]
  },
  {
   "cell_type": "code",
   "execution_count": 1072,
   "metadata": {},
   "outputs": [
    {
     "data": {
      "text/plain": [
       "State                                 0\n",
       "Participation                         0\n",
       "Evidence-Based Reading and Writing    0\n",
       "Math                                  0\n",
       "Total                                 0\n",
       "dtype: int64"
      ]
     },
     "execution_count": 1072,
     "metadata": {},
     "output_type": "execute_result"
    }
   ],
   "source": [
    "# Check for missing values of SAT18\n",
    "sat18.isnull().sum()"
   ]
  },
  {
   "cell_type": "code",
   "execution_count": 1073,
   "metadata": {},
   "outputs": [
    {
     "data": {
      "text/plain": [
       "State                 0\n",
       "Participation Rate    0\n",
       "EBRW                  0\n",
       "Math                  0\n",
       "Total                 0\n",
       "dtype: int64"
      ]
     },
     "execution_count": 1073,
     "metadata": {},
     "output_type": "execute_result"
    }
   ],
   "source": [
    "# Check for missing values of SAT19\n",
    "sat19.isnull().sum()"
   ]
  },
  {
   "cell_type": "code",
   "execution_count": 1074,
   "metadata": {},
   "outputs": [
    {
     "data": {
      "text/plain": [
       "GeoName        0\n",
       "Description    0\n",
       "2017           0\n",
       "2018           0\n",
       "2019           0\n",
       "dtype: int64"
      ]
     },
     "execution_count": 1074,
     "metadata": {},
     "output_type": "execute_result"
    }
   ],
   "source": [
    "# Check for missing values of STATES_GDP\n",
    "states_gdp.isnull().sum()"
   ]
  },
  {
   "cell_type": "code",
   "execution_count": 1075,
   "metadata": {},
   "outputs": [
    {
     "data": {
      "text/plain": [
       "State    0\n",
       "2017     0\n",
       "2018     0\n",
       "2019     0\n",
       "dtype: int64"
      ]
     },
     "execution_count": 1075,
     "metadata": {},
     "output_type": "execute_result"
    }
   ],
   "source": [
    "# Check for missing values of STATES_INCOME\n",
    "states_income.isnull().sum()"
   ]
  },
  {
   "cell_type": "code",
   "execution_count": 1076,
   "metadata": {},
   "outputs": [
    {
     "data": {
      "text/plain": [
       "State         0\n",
       "Percentage    0\n",
       "dtype: int64"
      ]
     },
     "execution_count": 1076,
     "metadata": {},
     "output_type": "execute_result"
    }
   ],
   "source": [
    "# Check for missing values of STATES_POVERTY\n",
    "states_poverty.isnull().sum()"
   ]
  },
  {
   "cell_type": "code",
   "execution_count": 1077,
   "metadata": {},
   "outputs": [
    {
     "data": {
      "text/plain": [
       "STATE              0\n",
       "NAME               0\n",
       "POPESTIMATE2019    0\n",
       "dtype: int64"
      ]
     },
     "execution_count": 1077,
     "metadata": {},
     "output_type": "execute_result"
    }
   ],
   "source": [
    "# Check for missing values of STATES_POP\n",
    "states_pop.isnull().sum()"
   ]
  },
  {
   "cell_type": "markdown",
   "metadata": {},
   "source": [
    "## 3. Check for the minimum & maximum possible values for each test/subtest"
   ]
  },
  {
   "cell_type": "markdown",
   "metadata": {},
   "source": [
    "**a) Checking the Min/Max Values in ACT 2017 - 2019** \n",
    "\n",
    "The range of scores for the ACT should be between 1-36."
   ]
  },
  {
   "cell_type": "code",
   "execution_count": 1078,
   "metadata": {},
   "outputs": [
    {
     "name": "stdout",
     "output_type": "stream",
     "text": [
      "State            Alabama\n",
      "Participation        60%\n",
      "English             16.3\n",
      "Math                18.0\n",
      "Reading             18.1\n",
      "Science              2.3\n",
      "Composite           17.8\n",
      "dtype: object State            Wyoming\n",
      "Participation        98%\n",
      "English             25.5\n",
      "Math                25.3\n",
      "Reading             26.0\n",
      "Science             24.9\n",
      "Composite           25.5\n",
      "dtype: object\n"
     ]
    }
   ],
   "source": [
    "# Check min/max values for ACT17\n",
    "print(act17.min(), act17.max())"
   ]
  },
  {
   "cell_type": "code",
   "execution_count": 1079,
   "metadata": {},
   "outputs": [
    {
     "name": "stdout",
     "output_type": "stream",
     "text": [
      "State            Alabama\n",
      "Participation       100%\n",
      "Composite           17.7\n",
      "dtype: object State            Wyoming\n",
      "Participation        99%\n",
      "Composite           25.6\n",
      "dtype: object\n"
     ]
    }
   ],
   "source": [
    "# Check min/max values for ACT18\n",
    "print(act18.min(), act18.max())"
   ]
  },
  {
   "cell_type": "code",
   "execution_count": 1080,
   "metadata": {},
   "outputs": [
    {
     "name": "stdout",
     "output_type": "stream",
     "text": [
      "State            Alabama\n",
      "Participation       100%\n",
      "Composite           17.9\n",
      "dtype: object State            Wyoming\n",
      "Participation        96%\n",
      "Composite           25.5\n",
      "dtype: object\n"
     ]
    }
   ],
   "source": [
    "# Check min/max values for ACT19\n",
    "print(act19.min(), act19.max())"
   ]
  },
  {
   "cell_type": "markdown",
   "metadata": {},
   "source": [
    "**b) Checking the Min/Max Values in SAT 2017 - 2019** \n",
    "\n",
    "The range of scores for the SAT should be between 200-800."
   ]
  },
  {
   "cell_type": "code",
   "execution_count": 1081,
   "metadata": {},
   "outputs": [
    {
     "name": "stdout",
     "output_type": "stream",
     "text": [
      "State                                 Alabama\n",
      "Participation                             10%\n",
      "Evidence-Based Reading and Writing        482\n",
      "Math                                       52\n",
      "Total                                     950\n",
      "dtype: object State                                 Wyoming\n",
      "Participation                             96%\n",
      "Evidence-Based Reading and Writing        644\n",
      "Math                                      651\n",
      "Total                                    1295\n",
      "dtype: object\n"
     ]
    }
   ],
   "source": [
    "# Check min/max values for SAT17\n",
    "print(sat17.min(), sat17.max())"
   ]
  },
  {
   "cell_type": "code",
   "execution_count": 1082,
   "metadata": {},
   "outputs": [
    {
     "name": "stdout",
     "output_type": "stream",
     "text": [
      "State                                 Alabama\n",
      "Participation                             10%\n",
      "Evidence-Based Reading and Writing        480\n",
      "Math                                      480\n",
      "Total                                     977\n",
      "dtype: object State                                 Wyoming\n",
      "Participation                             99%\n",
      "Evidence-Based Reading and Writing        643\n",
      "Math                                      655\n",
      "Total                                    1298\n",
      "dtype: object\n"
     ]
    }
   ],
   "source": [
    "# Check min/max values for SAT18\n",
    "print(sat18.min(), sat18.max())"
   ]
  },
  {
   "cell_type": "code",
   "execution_count": 1083,
   "metadata": {},
   "outputs": [
    {
     "name": "stdout",
     "output_type": "stream",
     "text": [
      "State                 Alabama\n",
      "Participation Rate       100%\n",
      "EBRW                      483\n",
      "Math                      445\n",
      "Total                     935\n",
      "dtype: object State                 Wyoming\n",
      "Participation Rate          —\n",
      "EBRW                      636\n",
      "Math                      648\n",
      "Total                    1284\n",
      "dtype: object\n"
     ]
    }
   ],
   "source": [
    "# Check min/max values for SAT19\n",
    "print(sat19.min(), sat19.max())"
   ]
  },
  {
   "cell_type": "markdown",
   "metadata": {},
   "source": [
    "## 4. Fix any errors identified in steps 2-3"
   ]
  },
  {
   "cell_type": "markdown",
   "metadata": {},
   "source": [
    "From step 3, there seems to be an error with the SAT 2017 min Math score of 52, which is below the minimum value in the range 200-800."
   ]
  },
  {
   "cell_type": "code",
   "execution_count": 1084,
   "metadata": {},
   "outputs": [
    {
     "data": {
      "text/html": [
       "<div>\n",
       "<style scoped>\n",
       "    .dataframe tbody tr th:only-of-type {\n",
       "        vertical-align: middle;\n",
       "    }\n",
       "\n",
       "    .dataframe tbody tr th {\n",
       "        vertical-align: top;\n",
       "    }\n",
       "\n",
       "    .dataframe thead th {\n",
       "        text-align: right;\n",
       "    }\n",
       "</style>\n",
       "<table border=\"1\" class=\"dataframe\">\n",
       "  <thead>\n",
       "    <tr style=\"text-align: right;\">\n",
       "      <th></th>\n",
       "      <th>State</th>\n",
       "      <th>Participation</th>\n",
       "      <th>Evidence-Based Reading and Writing</th>\n",
       "      <th>Math</th>\n",
       "      <th>Total</th>\n",
       "    </tr>\n",
       "  </thead>\n",
       "  <tbody>\n",
       "    <tr>\n",
       "      <th>20</th>\n",
       "      <td>Maryland</td>\n",
       "      <td>69%</td>\n",
       "      <td>536</td>\n",
       "      <td>52</td>\n",
       "      <td>1060</td>\n",
       "    </tr>\n",
       "  </tbody>\n",
       "</table>\n",
       "</div>"
      ],
      "text/plain": [
       "       State Participation  Evidence-Based Reading and Writing  Math  Total\n",
       "20  Maryland           69%                                 536    52   1060"
      ]
     },
     "execution_count": 1084,
     "metadata": {},
     "output_type": "execute_result"
    }
   ],
   "source": [
    "sat17.sort_values(['Math']).head(1)"
   ]
  },
  {
   "cell_type": "markdown",
   "metadata": {},
   "source": [
    "To get the correct Math score, we subtract the writing score from the total score.\n",
    "The correct Math score for the State of Maryland should be 524."
   ]
  },
  {
   "cell_type": "code",
   "execution_count": 1085,
   "metadata": {},
   "outputs": [
    {
     "data": {
      "text/plain": [
       "524"
      ]
     },
     "execution_count": 1085,
     "metadata": {},
     "output_type": "execute_result"
    }
   ],
   "source": [
    "# Assign the new value to the state of Maryland\n",
    "sat17.loc[20,'Math'] = 524\n",
    "\n",
    "# Check to see if the score is replaced\n",
    "sat17['Math'][20]"
   ]
  },
  {
   "cell_type": "markdown",
   "metadata": {},
   "source": [
    "## 5. Display data types of each feature"
   ]
  },
  {
   "cell_type": "code",
   "execution_count": 1086,
   "metadata": {},
   "outputs": [
    {
     "name": "stdout",
     "output_type": "stream",
     "text": [
      "<class 'pandas.core.frame.DataFrame'>\n",
      "RangeIndex: 52 entries, 0 to 51\n",
      "Data columns (total 7 columns):\n",
      " #   Column         Non-Null Count  Dtype  \n",
      "---  ------         --------------  -----  \n",
      " 0   State          52 non-null     object \n",
      " 1   Participation  52 non-null     object \n",
      " 2   English        52 non-null     float64\n",
      " 3   Math           52 non-null     float64\n",
      " 4   Reading        52 non-null     float64\n",
      " 5   Science        52 non-null     float64\n",
      " 6   Composite      52 non-null     object \n",
      "dtypes: float64(4), object(3)\n",
      "memory usage: 3.0+ KB\n"
     ]
    }
   ],
   "source": [
    "# Display data types for ACT17\n",
    "act17.info()"
   ]
  },
  {
   "cell_type": "code",
   "execution_count": 1087,
   "metadata": {},
   "outputs": [
    {
     "name": "stdout",
     "output_type": "stream",
     "text": [
      "<class 'pandas.core.frame.DataFrame'>\n",
      "RangeIndex: 52 entries, 0 to 51\n",
      "Data columns (total 3 columns):\n",
      " #   Column         Non-Null Count  Dtype  \n",
      "---  ------         --------------  -----  \n",
      " 0   State          52 non-null     object \n",
      " 1   Participation  52 non-null     object \n",
      " 2   Composite      52 non-null     float64\n",
      "dtypes: float64(1), object(2)\n",
      "memory usage: 1.3+ KB\n"
     ]
    }
   ],
   "source": [
    "# Display data types for ACT18\n",
    "act18.info()"
   ]
  },
  {
   "cell_type": "code",
   "execution_count": 1088,
   "metadata": {},
   "outputs": [
    {
     "name": "stdout",
     "output_type": "stream",
     "text": [
      "<class 'pandas.core.frame.DataFrame'>\n",
      "RangeIndex: 52 entries, 0 to 51\n",
      "Data columns (total 3 columns):\n",
      " #   Column         Non-Null Count  Dtype  \n",
      "---  ------         --------------  -----  \n",
      " 0   State          52 non-null     object \n",
      " 1   Participation  52 non-null     object \n",
      " 2   Composite      52 non-null     float64\n",
      "dtypes: float64(1), object(2)\n",
      "memory usage: 1.3+ KB\n"
     ]
    }
   ],
   "source": [
    "# Display data types for ACT18\n",
    "act19.info()"
   ]
  },
  {
   "cell_type": "code",
   "execution_count": 1089,
   "metadata": {},
   "outputs": [
    {
     "name": "stdout",
     "output_type": "stream",
     "text": [
      "<class 'pandas.core.frame.DataFrame'>\n",
      "RangeIndex: 51 entries, 0 to 50\n",
      "Data columns (total 5 columns):\n",
      " #   Column                              Non-Null Count  Dtype \n",
      "---  ------                              --------------  ----- \n",
      " 0   State                               51 non-null     object\n",
      " 1   Participation                       51 non-null     object\n",
      " 2   Evidence-Based Reading and Writing  51 non-null     int64 \n",
      " 3   Math                                51 non-null     int64 \n",
      " 4   Total                               51 non-null     int64 \n",
      "dtypes: int64(3), object(2)\n",
      "memory usage: 2.1+ KB\n"
     ]
    }
   ],
   "source": [
    "# Display data types for SAT17\n",
    "sat17.info()"
   ]
  },
  {
   "cell_type": "code",
   "execution_count": 1090,
   "metadata": {},
   "outputs": [
    {
     "name": "stdout",
     "output_type": "stream",
     "text": [
      "<class 'pandas.core.frame.DataFrame'>\n",
      "RangeIndex: 51 entries, 0 to 50\n",
      "Data columns (total 5 columns):\n",
      " #   Column                              Non-Null Count  Dtype \n",
      "---  ------                              --------------  ----- \n",
      " 0   State                               51 non-null     object\n",
      " 1   Participation                       51 non-null     object\n",
      " 2   Evidence-Based Reading and Writing  51 non-null     int64 \n",
      " 3   Math                                51 non-null     int64 \n",
      " 4   Total                               51 non-null     int64 \n",
      "dtypes: int64(3), object(2)\n",
      "memory usage: 2.1+ KB\n"
     ]
    }
   ],
   "source": [
    "# Display data types for SAT18\n",
    "sat18.info()"
   ]
  },
  {
   "cell_type": "code",
   "execution_count": 1091,
   "metadata": {},
   "outputs": [
    {
     "name": "stdout",
     "output_type": "stream",
     "text": [
      "<class 'pandas.core.frame.DataFrame'>\n",
      "RangeIndex: 53 entries, 0 to 52\n",
      "Data columns (total 5 columns):\n",
      " #   Column              Non-Null Count  Dtype \n",
      "---  ------              --------------  ----- \n",
      " 0   State               53 non-null     object\n",
      " 1   Participation Rate  53 non-null     object\n",
      " 2   EBRW                53 non-null     int64 \n",
      " 3   Math                53 non-null     int64 \n",
      " 4   Total               53 non-null     int64 \n",
      "dtypes: int64(3), object(2)\n",
      "memory usage: 2.2+ KB\n"
     ]
    }
   ],
   "source": [
    "# Display data types for SAT19\n",
    "sat19.info()"
   ]
  },
  {
   "cell_type": "code",
   "execution_count": 1092,
   "metadata": {},
   "outputs": [
    {
     "name": "stdout",
     "output_type": "stream",
     "text": [
      "<class 'pandas.core.frame.DataFrame'>\n",
      "RangeIndex: 408 entries, 0 to 407\n",
      "Data columns (total 5 columns):\n",
      " #   Column       Non-Null Count  Dtype  \n",
      "---  ------       --------------  -----  \n",
      " 0   GeoName      408 non-null    object \n",
      " 1   Description  408 non-null    object \n",
      " 2   2017         408 non-null    float64\n",
      " 3   2018         408 non-null    float64\n",
      " 4   2019         408 non-null    float64\n",
      "dtypes: float64(3), object(2)\n",
      "memory usage: 16.1+ KB\n"
     ]
    }
   ],
   "source": [
    "# Display data types for STATES_GDP\n",
    "states_gdp.info()"
   ]
  },
  {
   "cell_type": "code",
   "execution_count": 1093,
   "metadata": {},
   "outputs": [
    {
     "name": "stdout",
     "output_type": "stream",
     "text": [
      "<class 'pandas.core.frame.DataFrame'>\n",
      "RangeIndex: 51 entries, 0 to 50\n",
      "Data columns (total 4 columns):\n",
      " #   Column  Non-Null Count  Dtype \n",
      "---  ------  --------------  ----- \n",
      " 0   State   51 non-null     object\n",
      " 1   2017    51 non-null     object\n",
      " 2   2018    51 non-null     object\n",
      " 3   2019    51 non-null     object\n",
      "dtypes: object(4)\n",
      "memory usage: 1.7+ KB\n"
     ]
    }
   ],
   "source": [
    "# Display data types for STATES_INCOME\n",
    "states_income.info()"
   ]
  },
  {
   "cell_type": "code",
   "execution_count": 1094,
   "metadata": {},
   "outputs": [
    {
     "name": "stdout",
     "output_type": "stream",
     "text": [
      "<class 'pandas.core.frame.DataFrame'>\n",
      "RangeIndex: 51 entries, 0 to 50\n",
      "Data columns (total 2 columns):\n",
      " #   Column      Non-Null Count  Dtype  \n",
      "---  ------      --------------  -----  \n",
      " 0   State       51 non-null     object \n",
      " 1   Percentage  51 non-null     float64\n",
      "dtypes: float64(1), object(1)\n",
      "memory usage: 944.0+ bytes\n"
     ]
    }
   ],
   "source": [
    "# Display data types for STATES_POVERTY\n",
    "states_poverty.info()"
   ]
  },
  {
   "cell_type": "code",
   "execution_count": 1095,
   "metadata": {},
   "outputs": [
    {
     "name": "stdout",
     "output_type": "stream",
     "text": [
      "<class 'pandas.core.frame.DataFrame'>\n",
      "RangeIndex: 51 entries, 0 to 50\n",
      "Data columns (total 3 columns):\n",
      " #   Column           Non-Null Count  Dtype \n",
      "---  ------           --------------  ----- \n",
      " 0   STATE            51 non-null     int64 \n",
      " 1   NAME             51 non-null     object\n",
      " 2   POPESTIMATE2019  51 non-null     int64 \n",
      "dtypes: int64(2), object(1)\n",
      "memory usage: 1.3+ KB\n"
     ]
    }
   ],
   "source": [
    "# Display data types for STATES_POP\n",
    "states_pop.info()"
   ]
  },
  {
   "cell_type": "markdown",
   "metadata": {},
   "source": [
    "## 6. Fix any incorrect data types in step 5"
   ]
  },
  {
   "cell_type": "markdown",
   "metadata": {},
   "source": [
    "**a) Fix data type for ACT 2017**"
   ]
  },
  {
   "cell_type": "code",
   "execution_count": 1096,
   "metadata": {},
   "outputs": [],
   "source": [
    "# Change from percentage to float\n",
    "act17['Participation'] = act17['Participation'].map(perc_to_float)\n",
    "\n",
    "# Replace Wyoming Composite from 20.2x to 20.2\n",
    "act17['Composite'] = act17['Composite'].replace(['20.2x'],20.2)\n",
    "act17['Composite'] = pd.to_numeric(act17['Composite'])"
   ]
  },
  {
   "cell_type": "code",
   "execution_count": 1097,
   "metadata": {},
   "outputs": [
    {
     "name": "stdout",
     "output_type": "stream",
     "text": [
      "<class 'pandas.core.frame.DataFrame'>\n",
      "RangeIndex: 52 entries, 0 to 51\n",
      "Data columns (total 7 columns):\n",
      " #   Column         Non-Null Count  Dtype  \n",
      "---  ------         --------------  -----  \n",
      " 0   State          52 non-null     object \n",
      " 1   Participation  52 non-null     float64\n",
      " 2   English        52 non-null     float64\n",
      " 3   Math           52 non-null     float64\n",
      " 4   Reading        52 non-null     float64\n",
      " 5   Science        52 non-null     float64\n",
      " 6   Composite      52 non-null     float64\n",
      "dtypes: float64(6), object(1)\n",
      "memory usage: 3.0+ KB\n"
     ]
    }
   ],
   "source": [
    "# Check to see if the data types is correct\n",
    "act17.info()"
   ]
  },
  {
   "cell_type": "code",
   "execution_count": 1098,
   "metadata": {},
   "outputs": [
    {
     "data": {
      "text/html": [
       "<div>\n",
       "<style scoped>\n",
       "    .dataframe tbody tr th:only-of-type {\n",
       "        vertical-align: middle;\n",
       "    }\n",
       "\n",
       "    .dataframe tbody tr th {\n",
       "        vertical-align: top;\n",
       "    }\n",
       "\n",
       "    .dataframe thead th {\n",
       "        text-align: right;\n",
       "    }\n",
       "</style>\n",
       "<table border=\"1\" class=\"dataframe\">\n",
       "  <thead>\n",
       "    <tr style=\"text-align: right;\">\n",
       "      <th></th>\n",
       "      <th>State</th>\n",
       "      <th>Participation</th>\n",
       "      <th>English</th>\n",
       "      <th>Math</th>\n",
       "      <th>Reading</th>\n",
       "      <th>Science</th>\n",
       "      <th>Composite</th>\n",
       "    </tr>\n",
       "  </thead>\n",
       "  <tbody>\n",
       "    <tr>\n",
       "      <th>51</th>\n",
       "      <td>Wyoming</td>\n",
       "      <td>1.0</td>\n",
       "      <td>19.4</td>\n",
       "      <td>19.8</td>\n",
       "      <td>20.8</td>\n",
       "      <td>20.6</td>\n",
       "      <td>20.2</td>\n",
       "    </tr>\n",
       "  </tbody>\n",
       "</table>\n",
       "</div>"
      ],
      "text/plain": [
       "      State  Participation  English  Math  Reading  Science  Composite\n",
       "51  Wyoming            1.0     19.4  19.8     20.8     20.6       20.2"
      ]
     },
     "execution_count": 1098,
     "metadata": {},
     "output_type": "execute_result"
    }
   ],
   "source": [
    "# Check value to see if the score is replaced\n",
    "act17.sort_values(['State']).tail(1)"
   ]
  },
  {
   "cell_type": "markdown",
   "metadata": {},
   "source": [
    "**b) Fix data type for ACT 2018**"
   ]
  },
  {
   "cell_type": "code",
   "execution_count": 1099,
   "metadata": {},
   "outputs": [],
   "source": [
    "# Change from percentage to float\n",
    "act18['Participation'] = act18['Participation'].map(perc_to_float)\n",
    "\n",
    "# Change \"District of columbia\" to \"District of Columbia\"\n",
    "act18['State'] = act18['State'].replace(['District of columbia'],'District of Columbia')"
   ]
  },
  {
   "cell_type": "code",
   "execution_count": 1100,
   "metadata": {},
   "outputs": [
    {
     "name": "stdout",
     "output_type": "stream",
     "text": [
      "<class 'pandas.core.frame.DataFrame'>\n",
      "RangeIndex: 52 entries, 0 to 51\n",
      "Data columns (total 3 columns):\n",
      " #   Column         Non-Null Count  Dtype  \n",
      "---  ------         --------------  -----  \n",
      " 0   State          52 non-null     object \n",
      " 1   Participation  52 non-null     float64\n",
      " 2   Composite      52 non-null     float64\n",
      "dtypes: float64(2), object(1)\n",
      "memory usage: 1.3+ KB\n"
     ]
    }
   ],
   "source": [
    "# Check to see if data types is correct\n",
    "act18.info()"
   ]
  },
  {
   "cell_type": "markdown",
   "metadata": {},
   "source": [
    "**c) Fix data type for ACT 2019**"
   ]
  },
  {
   "cell_type": "code",
   "execution_count": 1101,
   "metadata": {},
   "outputs": [],
   "source": [
    "# Change from percentage to float\n",
    "act19['Participation'] = act19['Participation'].map(perc_to_float)"
   ]
  },
  {
   "cell_type": "code",
   "execution_count": 1102,
   "metadata": {},
   "outputs": [
    {
     "name": "stdout",
     "output_type": "stream",
     "text": [
      "<class 'pandas.core.frame.DataFrame'>\n",
      "RangeIndex: 52 entries, 0 to 51\n",
      "Data columns (total 3 columns):\n",
      " #   Column         Non-Null Count  Dtype  \n",
      "---  ------         --------------  -----  \n",
      " 0   State          52 non-null     object \n",
      " 1   Participation  52 non-null     float64\n",
      " 2   Composite      52 non-null     float64\n",
      "dtypes: float64(2), object(1)\n",
      "memory usage: 1.3+ KB\n"
     ]
    }
   ],
   "source": [
    "# Check to see if data types is correct\n",
    "act19.info()"
   ]
  },
  {
   "cell_type": "markdown",
   "metadata": {},
   "source": [
    "**d) Fix data type for SAT 2017**"
   ]
  },
  {
   "cell_type": "code",
   "execution_count": 1103,
   "metadata": {},
   "outputs": [],
   "source": [
    "# Change from percentage to float\n",
    "sat17['Participation'] = sat17['Participation'].map(perc_to_float)"
   ]
  },
  {
   "cell_type": "code",
   "execution_count": 1104,
   "metadata": {},
   "outputs": [
    {
     "name": "stdout",
     "output_type": "stream",
     "text": [
      "<class 'pandas.core.frame.DataFrame'>\n",
      "RangeIndex: 51 entries, 0 to 50\n",
      "Data columns (total 5 columns):\n",
      " #   Column                              Non-Null Count  Dtype  \n",
      "---  ------                              --------------  -----  \n",
      " 0   State                               51 non-null     object \n",
      " 1   Participation                       51 non-null     float64\n",
      " 2   Evidence-Based Reading and Writing  51 non-null     int64  \n",
      " 3   Math                                51 non-null     int64  \n",
      " 4   Total                               51 non-null     int64  \n",
      "dtypes: float64(1), int64(3), object(1)\n",
      "memory usage: 2.1+ KB\n"
     ]
    }
   ],
   "source": [
    "# Check to see if data types is correct\n",
    "sat17.info()"
   ]
  },
  {
   "cell_type": "markdown",
   "metadata": {},
   "source": [
    "**e) Fix data type for SAT 2018**"
   ]
  },
  {
   "cell_type": "code",
   "execution_count": 1105,
   "metadata": {},
   "outputs": [],
   "source": [
    "# Change from percentage to float\n",
    "sat18['Participation'] = sat18['Participation'].map(perc_to_float)"
   ]
  },
  {
   "cell_type": "code",
   "execution_count": 1106,
   "metadata": {},
   "outputs": [
    {
     "name": "stdout",
     "output_type": "stream",
     "text": [
      "<class 'pandas.core.frame.DataFrame'>\n",
      "RangeIndex: 51 entries, 0 to 50\n",
      "Data columns (total 5 columns):\n",
      " #   Column                              Non-Null Count  Dtype  \n",
      "---  ------                              --------------  -----  \n",
      " 0   State                               51 non-null     object \n",
      " 1   Participation                       51 non-null     float64\n",
      " 2   Evidence-Based Reading and Writing  51 non-null     int64  \n",
      " 3   Math                                51 non-null     int64  \n",
      " 4   Total                               51 non-null     int64  \n",
      "dtypes: float64(1), int64(3), object(1)\n",
      "memory usage: 2.1+ KB\n"
     ]
    }
   ],
   "source": [
    "# Check to see if data types is correct\n",
    "sat18.info()"
   ]
  },
  {
   "cell_type": "markdown",
   "metadata": {},
   "source": [
    "**f) Fix data type for SAT 2019**"
   ]
  },
  {
   "cell_type": "code",
   "execution_count": 1107,
   "metadata": {},
   "outputs": [],
   "source": [
    "# Remove Virgin island and Puerto Rico as they are not states of USA\n",
    "sat19.drop(sat19[sat19['State']==\"Puerto Rico\"].index, inplace=True)\n",
    "sat19.drop(sat19[sat19['State']==\"Virgin Islands\"].index, inplace=True)\n",
    "\n",
    "# Change from percentage to float\n",
    "sat19['Participation Rate'] = sat19['Participation Rate'].map(perc_to_float)"
   ]
  },
  {
   "cell_type": "code",
   "execution_count": 1108,
   "metadata": {},
   "outputs": [
    {
     "name": "stdout",
     "output_type": "stream",
     "text": [
      "<class 'pandas.core.frame.DataFrame'>\n",
      "Int64Index: 51 entries, 0 to 52\n",
      "Data columns (total 5 columns):\n",
      " #   Column              Non-Null Count  Dtype  \n",
      "---  ------              --------------  -----  \n",
      " 0   State               51 non-null     object \n",
      " 1   Participation Rate  51 non-null     float64\n",
      " 2   EBRW                51 non-null     int64  \n",
      " 3   Math                51 non-null     int64  \n",
      " 4   Total               51 non-null     int64  \n",
      "dtypes: float64(1), int64(3), object(1)\n",
      "memory usage: 2.4+ KB\n"
     ]
    }
   ],
   "source": [
    "# Check to see if data types is correct\n",
    "sat19.info()"
   ]
  },
  {
   "cell_type": "markdown",
   "metadata": {},
   "source": [
    "## 7. Rename Columns"
   ]
  },
  {
   "cell_type": "markdown",
   "metadata": {},
   "source": [
    "**a) Rename column names for ACT 2017, ACT 2018 and ACT 2019**"
   ]
  },
  {
   "cell_type": "code",
   "execution_count": 1109,
   "metadata": {
    "scrolled": true
   },
   "outputs": [],
   "source": [
    "# Change column names to lowercase.\n",
    "act17_columns_list = [\n",
    "    'state',\n",
    "    'act17_part',\n",
    "    'act17_eng',\n",
    "    'act17_math',\n",
    "    'act17_read',\n",
    "    'act17_sci',\n",
    "    'act17_comp'\n",
    "]\n",
    "\n",
    "act18_columns_list = [\n",
    "    'state',\n",
    "    'act18_part',\n",
    "    'act18_comp'\n",
    "]\n",
    "\n",
    "act19_columns_list = [\n",
    "    'state',\n",
    "    'act19_part',\n",
    "    'act19_comp'\n",
    "]\n",
    "\n",
    "act17.columns = act17_columns_list\n",
    "act18.columns = act18_columns_list\n",
    "act19.columns = act19_columns_list"
   ]
  },
  {
   "cell_type": "markdown",
   "metadata": {},
   "source": [
    "**b) Rename column names for SAT 2017, SAT 2018 and SAT 2019**"
   ]
  },
  {
   "cell_type": "code",
   "execution_count": 1110,
   "metadata": {},
   "outputs": [],
   "source": [
    "# Change column names to lowercase.\n",
    "sat17_columns_list = [\n",
    "    'state',\n",
    "    'sat17_part',\n",
    "    'sat17_ebrw',\n",
    "    'sat17_math',\n",
    "    'sat17_total'\n",
    "]\n",
    "\n",
    "sat18_columns_list = [\n",
    "    'state',\n",
    "    'sat18_part',\n",
    "    'sat18_ebrw',\n",
    "    'sat18_math',\n",
    "    'sat18_total'\n",
    "]\n",
    "\n",
    "sat19_columns_list = [\n",
    "    'state',\n",
    "    'sat19_part',\n",
    "    'sat19_ebrw',\n",
    "    'sat19_math',\n",
    "    'sat19_total'\n",
    "]\n",
    "\n",
    "sat17.columns = sat17_columns_list\n",
    "sat18.columns = sat18_columns_list\n",
    "sat19.columns = sat19_columns_list"
   ]
  },
  {
   "cell_type": "markdown",
   "metadata": {},
   "source": [
    "## 8. Drop unnecesary rows"
   ]
  },
  {
   "cell_type": "markdown",
   "metadata": {},
   "source": [
    "For ACT 2017"
   ]
  },
  {
   "cell_type": "code",
   "execution_count": 1111,
   "metadata": {},
   "outputs": [
    {
     "name": "stdout",
     "output_type": "stream",
     "text": [
      "Empty DataFrame\n",
      "Columns: [state, act17_part, act17_eng, act17_math, act17_read, act17_sci, act17_comp]\n",
      "Index: []\n"
     ]
    }
   ],
   "source": [
    "# Check for duplicate entries\n",
    "duplicateRowsDF = act17[act17.duplicated()]\n",
    "print(duplicateRowsDF)"
   ]
  },
  {
   "cell_type": "code",
   "execution_count": 1112,
   "metadata": {},
   "outputs": [],
   "source": [
    "# Remove \"National\" as it's not a state Of USA\n",
    "act17.drop(act17[act17['state']==\"National\"].index, inplace=True)\n",
    "# Reset and drop index\n",
    "act17 = act17.reset_index(drop = True)"
   ]
  },
  {
   "cell_type": "markdown",
   "metadata": {},
   "source": [
    "For ACT 2018"
   ]
  },
  {
   "cell_type": "code",
   "execution_count": 1113,
   "metadata": {},
   "outputs": [
    {
     "name": "stdout",
     "output_type": "stream",
     "text": [
      "    state  act18_part  act18_comp\n",
      "20  Maine        0.07        24.0\n"
     ]
    }
   ],
   "source": [
    "# Check for duplicate entries\n",
    "duplicateRowsDF = act18[act18.duplicated()]\n",
    "print(duplicateRowsDF)"
   ]
  },
  {
   "cell_type": "code",
   "execution_count": 1114,
   "metadata": {},
   "outputs": [],
   "source": [
    "# Drop duplicates\n",
    "act18 = act18.drop_duplicates()\n",
    "\n",
    "# Reset index\n",
    "act18 = act18.reset_index(drop = True)"
   ]
  },
  {
   "cell_type": "code",
   "execution_count": 1115,
   "metadata": {},
   "outputs": [
    {
     "name": "stdout",
     "output_type": "stream",
     "text": [
      "Empty DataFrame\n",
      "Columns: [state, act18_part, act18_comp]\n",
      "Index: []\n"
     ]
    }
   ],
   "source": [
    "# Check for duplicate entries\n",
    "duplicateRowsDF = act18[act18.duplicated()]\n",
    "print(duplicateRowsDF)"
   ]
  },
  {
   "cell_type": "markdown",
   "metadata": {},
   "source": [
    "For ACT 2019"
   ]
  },
  {
   "cell_type": "code",
   "execution_count": 1116,
   "metadata": {},
   "outputs": [
    {
     "name": "stdout",
     "output_type": "stream",
     "text": [
      "Empty DataFrame\n",
      "Columns: [state, act19_part, act19_comp]\n",
      "Index: []\n"
     ]
    }
   ],
   "source": [
    "# Check for duplicate entries\n",
    "duplicateRowsDF = act19[act19.duplicated()]\n",
    "print(duplicateRowsDF)"
   ]
  },
  {
   "cell_type": "code",
   "execution_count": 1117,
   "metadata": {},
   "outputs": [],
   "source": [
    "# Remove \"National\" as it's not a state Of USA\n",
    "act19.drop(act19[act19['state']==\"National\"].index, inplace=True)\n",
    "\n",
    "# Reset index\n",
    "act19 = act19.reset_index(drop = True)"
   ]
  },
  {
   "cell_type": "markdown",
   "metadata": {},
   "source": [
    "For SAT 2017"
   ]
  },
  {
   "cell_type": "code",
   "execution_count": 1118,
   "metadata": {},
   "outputs": [
    {
     "name": "stdout",
     "output_type": "stream",
     "text": [
      "Empty DataFrame\n",
      "Columns: [state, sat17_part, sat17_ebrw, sat17_math, sat17_total]\n",
      "Index: []\n"
     ]
    }
   ],
   "source": [
    "# Check for duplicate entries\n",
    "duplicateRowsDF = sat17[sat17.duplicated()]\n",
    "print(duplicateRowsDF)"
   ]
  },
  {
   "cell_type": "markdown",
   "metadata": {},
   "source": [
    "For SAT 2018"
   ]
  },
  {
   "cell_type": "code",
   "execution_count": 1119,
   "metadata": {},
   "outputs": [
    {
     "name": "stdout",
     "output_type": "stream",
     "text": [
      "Empty DataFrame\n",
      "Columns: [state, sat18_part, sat18_ebrw, sat18_math, sat18_total]\n",
      "Index: []\n"
     ]
    }
   ],
   "source": [
    "# Check for duplicate entries\n",
    "duplicateRowsDF = sat18[sat18.duplicated()]\n",
    "print(duplicateRowsDF)"
   ]
  },
  {
   "cell_type": "markdown",
   "metadata": {},
   "source": [
    "For SAT 2019"
   ]
  },
  {
   "cell_type": "code",
   "execution_count": 1120,
   "metadata": {},
   "outputs": [
    {
     "name": "stdout",
     "output_type": "stream",
     "text": [
      "Empty DataFrame\n",
      "Columns: [state, sat19_part, sat19_ebrw, sat19_math, sat19_total]\n",
      "Index: []\n"
     ]
    }
   ],
   "source": [
    "# Check for duplicate entries\n",
    "duplicateRowsDF = sat19[sat19.duplicated()]\n",
    "print(duplicateRowsDF)"
   ]
  },
  {
   "cell_type": "markdown",
   "metadata": {},
   "source": [
    "## 9. Merge dataframes that can be  merged"
   ]
  },
  {
   "cell_type": "code",
   "execution_count": 1121,
   "metadata": {},
   "outputs": [],
   "source": [
    "# Merge ACT and SAT datasets for 2017, 2018 and 2019.\n",
    "\n",
    "actsat17 = act17.merge(sat17, how = \"outer\", on = \"state\")\n",
    "actsat18 = act18.merge(sat18, how = \"outer\", on = \"state\")\n",
    "actsat19 = act19.merge(sat19, how = \"outer\", on = \"state\")\n",
    "\n",
    "all_actsat = pd.merge(pd.merge(actsat17,actsat18, on = 'state'), actsat19, on = 'state')"
   ]
  },
  {
   "cell_type": "code",
   "execution_count": 1122,
   "metadata": {},
   "outputs": [
    {
     "data": {
      "text/plain": [
       "(51, 23)"
      ]
     },
     "execution_count": 1122,
     "metadata": {},
     "output_type": "execute_result"
    }
   ],
   "source": [
    "# Check to see if rows and cols are correct after merged\n",
    "all_actsat.shape"
   ]
  },
  {
   "cell_type": "code",
   "execution_count": 1123,
   "metadata": {
    "scrolled": true
   },
   "outputs": [
    {
     "data": {
      "text/html": [
       "<div>\n",
       "<style scoped>\n",
       "    .dataframe tbody tr th:only-of-type {\n",
       "        vertical-align: middle;\n",
       "    }\n",
       "\n",
       "    .dataframe tbody tr th {\n",
       "        vertical-align: top;\n",
       "    }\n",
       "\n",
       "    .dataframe thead th {\n",
       "        text-align: right;\n",
       "    }\n",
       "</style>\n",
       "<table border=\"1\" class=\"dataframe\">\n",
       "  <thead>\n",
       "    <tr style=\"text-align: right;\">\n",
       "      <th></th>\n",
       "      <th>state</th>\n",
       "      <th>act17_part</th>\n",
       "      <th>act17_eng</th>\n",
       "      <th>act17_math</th>\n",
       "      <th>act17_read</th>\n",
       "      <th>act17_sci</th>\n",
       "      <th>act17_comp</th>\n",
       "      <th>sat17_part</th>\n",
       "      <th>sat17_ebrw</th>\n",
       "      <th>sat17_math</th>\n",
       "      <th>...</th>\n",
       "      <th>sat18_part</th>\n",
       "      <th>sat18_ebrw</th>\n",
       "      <th>sat18_math</th>\n",
       "      <th>sat18_total</th>\n",
       "      <th>act19_part</th>\n",
       "      <th>act19_comp</th>\n",
       "      <th>sat19_part</th>\n",
       "      <th>sat19_ebrw</th>\n",
       "      <th>sat19_math</th>\n",
       "      <th>sat19_total</th>\n",
       "    </tr>\n",
       "  </thead>\n",
       "  <tbody>\n",
       "    <tr>\n",
       "      <th>0</th>\n",
       "      <td>Alabama</td>\n",
       "      <td>1.00</td>\n",
       "      <td>18.9</td>\n",
       "      <td>18.4</td>\n",
       "      <td>19.7</td>\n",
       "      <td>19.4</td>\n",
       "      <td>19.2</td>\n",
       "      <td>0.05</td>\n",
       "      <td>593</td>\n",
       "      <td>572</td>\n",
       "      <td>...</td>\n",
       "      <td>0.06</td>\n",
       "      <td>595</td>\n",
       "      <td>571</td>\n",
       "      <td>1166</td>\n",
       "      <td>1.00</td>\n",
       "      <td>18.9</td>\n",
       "      <td>0.07</td>\n",
       "      <td>583</td>\n",
       "      <td>560</td>\n",
       "      <td>1143</td>\n",
       "    </tr>\n",
       "    <tr>\n",
       "      <th>1</th>\n",
       "      <td>Alaska</td>\n",
       "      <td>0.65</td>\n",
       "      <td>18.7</td>\n",
       "      <td>19.8</td>\n",
       "      <td>20.4</td>\n",
       "      <td>19.9</td>\n",
       "      <td>19.8</td>\n",
       "      <td>0.38</td>\n",
       "      <td>547</td>\n",
       "      <td>533</td>\n",
       "      <td>...</td>\n",
       "      <td>0.43</td>\n",
       "      <td>562</td>\n",
       "      <td>544</td>\n",
       "      <td>1106</td>\n",
       "      <td>0.38</td>\n",
       "      <td>20.1</td>\n",
       "      <td>0.41</td>\n",
       "      <td>556</td>\n",
       "      <td>541</td>\n",
       "      <td>1097</td>\n",
       "    </tr>\n",
       "    <tr>\n",
       "      <th>2</th>\n",
       "      <td>Arizona</td>\n",
       "      <td>0.62</td>\n",
       "      <td>18.6</td>\n",
       "      <td>19.8</td>\n",
       "      <td>20.1</td>\n",
       "      <td>19.8</td>\n",
       "      <td>19.7</td>\n",
       "      <td>0.30</td>\n",
       "      <td>563</td>\n",
       "      <td>553</td>\n",
       "      <td>...</td>\n",
       "      <td>0.29</td>\n",
       "      <td>577</td>\n",
       "      <td>572</td>\n",
       "      <td>1149</td>\n",
       "      <td>0.73</td>\n",
       "      <td>19.0</td>\n",
       "      <td>0.31</td>\n",
       "      <td>569</td>\n",
       "      <td>565</td>\n",
       "      <td>1134</td>\n",
       "    </tr>\n",
       "    <tr>\n",
       "      <th>3</th>\n",
       "      <td>Arkansas</td>\n",
       "      <td>1.00</td>\n",
       "      <td>18.9</td>\n",
       "      <td>19.0</td>\n",
       "      <td>19.7</td>\n",
       "      <td>19.5</td>\n",
       "      <td>19.4</td>\n",
       "      <td>0.03</td>\n",
       "      <td>614</td>\n",
       "      <td>594</td>\n",
       "      <td>...</td>\n",
       "      <td>0.05</td>\n",
       "      <td>592</td>\n",
       "      <td>576</td>\n",
       "      <td>1169</td>\n",
       "      <td>1.00</td>\n",
       "      <td>19.3</td>\n",
       "      <td>0.06</td>\n",
       "      <td>582</td>\n",
       "      <td>559</td>\n",
       "      <td>1141</td>\n",
       "    </tr>\n",
       "    <tr>\n",
       "      <th>4</th>\n",
       "      <td>California</td>\n",
       "      <td>0.31</td>\n",
       "      <td>22.5</td>\n",
       "      <td>22.7</td>\n",
       "      <td>23.1</td>\n",
       "      <td>22.2</td>\n",
       "      <td>22.8</td>\n",
       "      <td>0.53</td>\n",
       "      <td>531</td>\n",
       "      <td>524</td>\n",
       "      <td>...</td>\n",
       "      <td>0.60</td>\n",
       "      <td>540</td>\n",
       "      <td>536</td>\n",
       "      <td>1076</td>\n",
       "      <td>0.23</td>\n",
       "      <td>22.6</td>\n",
       "      <td>0.63</td>\n",
       "      <td>534</td>\n",
       "      <td>531</td>\n",
       "      <td>1065</td>\n",
       "    </tr>\n",
       "  </tbody>\n",
       "</table>\n",
       "<p>5 rows × 23 columns</p>\n",
       "</div>"
      ],
      "text/plain": [
       "        state  act17_part  act17_eng  act17_math  act17_read  act17_sci  \\\n",
       "0     Alabama        1.00       18.9        18.4        19.7       19.4   \n",
       "1      Alaska        0.65       18.7        19.8        20.4       19.9   \n",
       "2     Arizona        0.62       18.6        19.8        20.1       19.8   \n",
       "3    Arkansas        1.00       18.9        19.0        19.7       19.5   \n",
       "4  California        0.31       22.5        22.7        23.1       22.2   \n",
       "\n",
       "   act17_comp  sat17_part  sat17_ebrw  sat17_math  ...  sat18_part  \\\n",
       "0        19.2        0.05         593         572  ...        0.06   \n",
       "1        19.8        0.38         547         533  ...        0.43   \n",
       "2        19.7        0.30         563         553  ...        0.29   \n",
       "3        19.4        0.03         614         594  ...        0.05   \n",
       "4        22.8        0.53         531         524  ...        0.60   \n",
       "\n",
       "   sat18_ebrw  sat18_math  sat18_total  act19_part  act19_comp  sat19_part  \\\n",
       "0         595         571         1166        1.00        18.9        0.07   \n",
       "1         562         544         1106        0.38        20.1        0.41   \n",
       "2         577         572         1149        0.73        19.0        0.31   \n",
       "3         592         576         1169        1.00        19.3        0.06   \n",
       "4         540         536         1076        0.23        22.6        0.63   \n",
       "\n",
       "   sat19_ebrw  sat19_math  sat19_total  \n",
       "0         583         560         1143  \n",
       "1         556         541         1097  \n",
       "2         569         565         1134  \n",
       "3         582         559         1141  \n",
       "4         534         531         1065  \n",
       "\n",
       "[5 rows x 23 columns]"
      ]
     },
     "execution_count": 1123,
     "metadata": {},
     "output_type": "execute_result"
    }
   ],
   "source": [
    "# Display first five rows\n",
    "all_actsat.head()"
   ]
  },
  {
   "cell_type": "markdown",
   "metadata": {},
   "source": [
    "## 10. Perform any additional cleaning"
   ]
  },
  {
   "cell_type": "markdown",
   "metadata": {},
   "source": [
    "### Remove unnecessary columns for all_actsat ###"
   ]
  },
  {
   "cell_type": "code",
   "execution_count": 1124,
   "metadata": {},
   "outputs": [],
   "source": [
    "# Remove columns act17_eng, act17_math, act17_read, act17_sci, sat17_ebrw, sat17_math, sat18_ebrw, sat18_math,\n",
    "# sat19_ebrw, sat19_math, act17_comp, sat17_total, act18_comp, sat18_total, act19_comp and sat19_total\n",
    "all_actsat = all_actsat.drop(columns=['act17_eng','act17_math','act17_read','act17_sci','sat17_ebrw','sat17_math',\\\n",
    "                                    'sat18_ebrw','sat18_math','sat19_ebrw','sat19_math','act17_comp','sat17_total',\\\n",
    "                                    'act18_comp','sat18_total','act19_comp','sat19_total'])\n",
    "                                      "
   ]
  },
  {
   "cell_type": "code",
   "execution_count": 1125,
   "metadata": {},
   "outputs": [
    {
     "data": {
      "text/html": [
       "<div>\n",
       "<style scoped>\n",
       "    .dataframe tbody tr th:only-of-type {\n",
       "        vertical-align: middle;\n",
       "    }\n",
       "\n",
       "    .dataframe tbody tr th {\n",
       "        vertical-align: top;\n",
       "    }\n",
       "\n",
       "    .dataframe thead th {\n",
       "        text-align: right;\n",
       "    }\n",
       "</style>\n",
       "<table border=\"1\" class=\"dataframe\">\n",
       "  <thead>\n",
       "    <tr style=\"text-align: right;\">\n",
       "      <th></th>\n",
       "      <th>state</th>\n",
       "      <th>act17_part</th>\n",
       "      <th>sat17_part</th>\n",
       "      <th>act18_part</th>\n",
       "      <th>sat18_part</th>\n",
       "      <th>act19_part</th>\n",
       "      <th>sat19_part</th>\n",
       "    </tr>\n",
       "  </thead>\n",
       "  <tbody>\n",
       "    <tr>\n",
       "      <th>0</th>\n",
       "      <td>Alabama</td>\n",
       "      <td>1.00</td>\n",
       "      <td>0.05</td>\n",
       "      <td>1.00</td>\n",
       "      <td>0.06</td>\n",
       "      <td>1.00</td>\n",
       "      <td>0.07</td>\n",
       "    </tr>\n",
       "    <tr>\n",
       "      <th>1</th>\n",
       "      <td>Alaska</td>\n",
       "      <td>0.65</td>\n",
       "      <td>0.38</td>\n",
       "      <td>0.33</td>\n",
       "      <td>0.43</td>\n",
       "      <td>0.38</td>\n",
       "      <td>0.41</td>\n",
       "    </tr>\n",
       "    <tr>\n",
       "      <th>2</th>\n",
       "      <td>Arizona</td>\n",
       "      <td>0.62</td>\n",
       "      <td>0.30</td>\n",
       "      <td>0.66</td>\n",
       "      <td>0.29</td>\n",
       "      <td>0.73</td>\n",
       "      <td>0.31</td>\n",
       "    </tr>\n",
       "    <tr>\n",
       "      <th>3</th>\n",
       "      <td>Arkansas</td>\n",
       "      <td>1.00</td>\n",
       "      <td>0.03</td>\n",
       "      <td>1.00</td>\n",
       "      <td>0.05</td>\n",
       "      <td>1.00</td>\n",
       "      <td>0.06</td>\n",
       "    </tr>\n",
       "    <tr>\n",
       "      <th>4</th>\n",
       "      <td>California</td>\n",
       "      <td>0.31</td>\n",
       "      <td>0.53</td>\n",
       "      <td>0.27</td>\n",
       "      <td>0.60</td>\n",
       "      <td>0.23</td>\n",
       "      <td>0.63</td>\n",
       "    </tr>\n",
       "  </tbody>\n",
       "</table>\n",
       "</div>"
      ],
      "text/plain": [
       "        state  act17_part  sat17_part  act18_part  sat18_part  act19_part  \\\n",
       "0     Alabama        1.00        0.05        1.00        0.06        1.00   \n",
       "1      Alaska        0.65        0.38        0.33        0.43        0.38   \n",
       "2     Arizona        0.62        0.30        0.66        0.29        0.73   \n",
       "3    Arkansas        1.00        0.03        1.00        0.05        1.00   \n",
       "4  California        0.31        0.53        0.27        0.60        0.23   \n",
       "\n",
       "   sat19_part  \n",
       "0        0.07  \n",
       "1        0.41  \n",
       "2        0.31  \n",
       "3        0.06  \n",
       "4        0.63  "
      ]
     },
     "execution_count": 1125,
     "metadata": {},
     "output_type": "execute_result"
    }
   ],
   "source": [
    "# Display first five rows\n",
    "all_actsat.head()"
   ]
  },
  {
   "cell_type": "markdown",
   "metadata": {},
   "source": [
    "### Cleaning datasets for GDP, household income, poverty and population"
   ]
  },
  {
   "cell_type": "markdown",
   "metadata": {},
   "source": [
    "**a) Cleaning GDP**"
   ]
  },
  {
   "cell_type": "code",
   "execution_count": 1126,
   "metadata": {},
   "outputs": [
    {
     "name": "stdout",
     "output_type": "stream",
     "text": [
      "<class 'pandas.core.frame.DataFrame'>\n",
      "RangeIndex: 408 entries, 0 to 407\n",
      "Data columns (total 5 columns):\n",
      " #   Column       Non-Null Count  Dtype  \n",
      "---  ------       --------------  -----  \n",
      " 0   GeoName      408 non-null    object \n",
      " 1   Description  408 non-null    object \n",
      " 2   2017         408 non-null    float64\n",
      " 3   2018         408 non-null    float64\n",
      " 4   2019         408 non-null    float64\n",
      "dtypes: float64(3), object(2)\n",
      "memory usage: 16.1+ KB\n"
     ]
    }
   ],
   "source": [
    "# Display states_gdp info\n",
    "states_gdp.info()"
   ]
  },
  {
   "cell_type": "code",
   "execution_count": 1127,
   "metadata": {},
   "outputs": [
    {
     "name": "stdout",
     "output_type": "stream",
     "text": [
      "Empty DataFrame\n",
      "Columns: [state, gdp17, gdp18, gdp19]\n",
      "Index: []\n",
      "<class 'pandas.core.frame.DataFrame'>\n",
      "RangeIndex: 51 entries, 0 to 50\n",
      "Data columns (total 4 columns):\n",
      " #   Column  Non-Null Count  Dtype  \n",
      "---  ------  --------------  -----  \n",
      " 0   state   51 non-null     object \n",
      " 1   gdp17   51 non-null     float64\n",
      " 2   gdp18   51 non-null     float64\n",
      " 3   gdp19   51 non-null     float64\n",
      "dtypes: float64(3), object(1)\n",
      "memory usage: 1.7+ KB\n"
     ]
    }
   ],
   "source": [
    "# Filter out required rows\n",
    "states_gdp = states_gdp[states_gdp['Description'].str.contains('Current-dollar GDP', na=False)]\n",
    "\n",
    "# Remove Description column from states_gdp\n",
    "states_gdp = states_gdp.drop(columns =['Description'])\n",
    "\n",
    "# Reset and drop index\n",
    "states_gdp = states_gdp.reset_index(drop = True)\n",
    "\n",
    "# Rename columns heading\n",
    "states_gdp.rename(columns = {'GeoName':'state', '2017':'gdp17', '2018':'gdp18', '2019':'gdp19'}, inplace = True)\n",
    "\n",
    "# Check for duplicate entries\n",
    "duplicateRowsDF = states_gdp[states_gdp.duplicated()]\n",
    "print(duplicateRowsDF)\n",
    "\n",
    "# Display states_gdp info\n",
    "states_gdp.info()"
   ]
  },
  {
   "cell_type": "markdown",
   "metadata": {},
   "source": [
    "**b) Cleaning median household income**"
   ]
  },
  {
   "cell_type": "code",
   "execution_count": 1128,
   "metadata": {},
   "outputs": [
    {
     "name": "stdout",
     "output_type": "stream",
     "text": [
      "<class 'pandas.core.frame.DataFrame'>\n",
      "RangeIndex: 51 entries, 0 to 50\n",
      "Data columns (total 4 columns):\n",
      " #   Column  Non-Null Count  Dtype \n",
      "---  ------  --------------  ----- \n",
      " 0   State   51 non-null     object\n",
      " 1   2017    51 non-null     object\n",
      " 2   2018    51 non-null     object\n",
      " 3   2019    51 non-null     object\n",
      "dtypes: object(4)\n",
      "memory usage: 1.7+ KB\n"
     ]
    }
   ],
   "source": [
    "# Display states_income info\n",
    "states_income.info()"
   ]
  },
  {
   "cell_type": "code",
   "execution_count": 1129,
   "metadata": {},
   "outputs": [
    {
     "name": "stdout",
     "output_type": "stream",
     "text": [
      "Empty DataFrame\n",
      "Columns: [state, income17, income18, income19]\n",
      "Index: []\n",
      "<class 'pandas.core.frame.DataFrame'>\n",
      "RangeIndex: 51 entries, 0 to 50\n",
      "Data columns (total 4 columns):\n",
      " #   Column    Non-Null Count  Dtype  \n",
      "---  ------    --------------  -----  \n",
      " 0   state     51 non-null     object \n",
      " 1   income17  51 non-null     float64\n",
      " 2   income18  51 non-null     float64\n",
      " 3   income19  51 non-null     float64\n",
      "dtypes: float64(3), object(1)\n",
      "memory usage: 1.7+ KB\n"
     ]
    }
   ],
   "source": [
    "# Remove commas\n",
    "states_income = states_income.replace(',','', regex=True)\n",
    "\n",
    "# Change columns name\n",
    "states_income.rename(columns = {'State':'state','2017':'income17','2018':'income18','2019':'income19'}, inplace = True)\n",
    "\n",
    "# Change data type to float\n",
    "states_income[['income17','income18','income19']] = states_income[['income17','income18','income19']].astype(float)\n",
    "\n",
    "# Check for duplicate rows\n",
    "duplicateRowsDF = states_income[states_income.duplicated()]\n",
    "print(duplicateRowsDF)\n",
    "\n",
    "# Reset index\n",
    "states_income = states_income.reset_index(drop = True)\n",
    "\n",
    "# Display states_income info\n",
    "states_income.info()"
   ]
  },
  {
   "cell_type": "markdown",
   "metadata": {},
   "source": [
    "**c) Cleaning poverty data**"
   ]
  },
  {
   "cell_type": "code",
   "execution_count": 1130,
   "metadata": {},
   "outputs": [
    {
     "name": "stdout",
     "output_type": "stream",
     "text": [
      "<class 'pandas.core.frame.DataFrame'>\n",
      "RangeIndex: 51 entries, 0 to 50\n",
      "Data columns (total 2 columns):\n",
      " #   Column      Non-Null Count  Dtype  \n",
      "---  ------      --------------  -----  \n",
      " 0   State       51 non-null     object \n",
      " 1   Percentage  51 non-null     float64\n",
      "dtypes: float64(1), object(1)\n",
      "memory usage: 944.0+ bytes\n"
     ]
    }
   ],
   "source": [
    "# Display states_poverty info\n",
    "states_poverty.info()"
   ]
  },
  {
   "cell_type": "code",
   "execution_count": 1131,
   "metadata": {},
   "outputs": [
    {
     "name": "stdout",
     "output_type": "stream",
     "text": [
      "Empty DataFrame\n",
      "Columns: [state, poverty_pct]\n",
      "Index: []\n",
      "<class 'pandas.core.frame.DataFrame'>\n",
      "RangeIndex: 51 entries, 0 to 50\n",
      "Data columns (total 2 columns):\n",
      " #   Column       Non-Null Count  Dtype  \n",
      "---  ------       --------------  -----  \n",
      " 0   state        51 non-null     object \n",
      " 1   poverty_pct  51 non-null     float64\n",
      "dtypes: float64(1), object(1)\n",
      "memory usage: 944.0+ bytes\n"
     ]
    }
   ],
   "source": [
    "# Change columns name\n",
    "states_poverty.rename(columns = {'State':'state', 'Percentage':'poverty_pct'}, inplace = True)\n",
    "\n",
    "# Check for duplicate rows\n",
    "duplicateRowsDF = states_poverty[states_poverty.duplicated()]\n",
    "print(duplicateRowsDF)\n",
    "\n",
    "# Reset index\n",
    "states_poverty = states_poverty.reset_index(drop = True)\n",
    "\n",
    "# Display states_poverty info\n",
    "states_poverty.info()"
   ]
  },
  {
   "cell_type": "markdown",
   "metadata": {},
   "source": [
    "**d) Cleaning population data**"
   ]
  },
  {
   "cell_type": "code",
   "execution_count": 1132,
   "metadata": {},
   "outputs": [
    {
     "name": "stdout",
     "output_type": "stream",
     "text": [
      "<class 'pandas.core.frame.DataFrame'>\n",
      "RangeIndex: 51 entries, 0 to 50\n",
      "Data columns (total 3 columns):\n",
      " #   Column           Non-Null Count  Dtype \n",
      "---  ------           --------------  ----- \n",
      " 0   STATE            51 non-null     int64 \n",
      " 1   NAME             51 non-null     object\n",
      " 2   POPESTIMATE2019  51 non-null     int64 \n",
      "dtypes: int64(2), object(1)\n",
      "memory usage: 1.3+ KB\n"
     ]
    }
   ],
   "source": [
    "# Display states_pop info\n",
    "states_pop.info()"
   ]
  },
  {
   "cell_type": "code",
   "execution_count": 1133,
   "metadata": {},
   "outputs": [
    {
     "data": {
      "text/html": [
       "<div>\n",
       "<style scoped>\n",
       "    .dataframe tbody tr th:only-of-type {\n",
       "        vertical-align: middle;\n",
       "    }\n",
       "\n",
       "    .dataframe tbody tr th {\n",
       "        vertical-align: top;\n",
       "    }\n",
       "\n",
       "    .dataframe thead th {\n",
       "        text-align: right;\n",
       "    }\n",
       "</style>\n",
       "<table border=\"1\" class=\"dataframe\">\n",
       "  <thead>\n",
       "    <tr style=\"text-align: right;\">\n",
       "      <th></th>\n",
       "      <th>STATE</th>\n",
       "      <th>NAME</th>\n",
       "      <th>POPESTIMATE2019</th>\n",
       "    </tr>\n",
       "  </thead>\n",
       "  <tbody>\n",
       "    <tr>\n",
       "      <th>0</th>\n",
       "      <td>1</td>\n",
       "      <td>Alabama</td>\n",
       "      <td>4903185</td>\n",
       "    </tr>\n",
       "    <tr>\n",
       "      <th>1</th>\n",
       "      <td>2</td>\n",
       "      <td>Alaska</td>\n",
       "      <td>731545</td>\n",
       "    </tr>\n",
       "    <tr>\n",
       "      <th>2</th>\n",
       "      <td>4</td>\n",
       "      <td>Arizona</td>\n",
       "      <td>7278717</td>\n",
       "    </tr>\n",
       "  </tbody>\n",
       "</table>\n",
       "</div>"
      ],
      "text/plain": [
       "   STATE     NAME  POPESTIMATE2019\n",
       "0      1  Alabama          4903185\n",
       "1      2   Alaska           731545\n",
       "2      4  Arizona          7278717"
      ]
     },
     "execution_count": 1133,
     "metadata": {},
     "output_type": "execute_result"
    }
   ],
   "source": [
    "states_pop.head(3)"
   ]
  },
  {
   "cell_type": "code",
   "execution_count": 1134,
   "metadata": {},
   "outputs": [
    {
     "name": "stdout",
     "output_type": "stream",
     "text": [
      "Empty DataFrame\n",
      "Columns: [state, pop19]\n",
      "Index: []\n",
      "<class 'pandas.core.frame.DataFrame'>\n",
      "RangeIndex: 51 entries, 0 to 50\n",
      "Data columns (total 2 columns):\n",
      " #   Column  Non-Null Count  Dtype \n",
      "---  ------  --------------  ----- \n",
      " 0   state   51 non-null     object\n",
      " 1   pop19   51 non-null     int64 \n",
      "dtypes: int64(1), object(1)\n",
      "memory usage: 944.0+ bytes\n"
     ]
    }
   ],
   "source": [
    "# Remove \"STATE\" column\n",
    "states_pop.drop(columns='STATE', inplace=True)\n",
    "\n",
    "# Rename columns heading\n",
    "states_pop.rename(columns = {'NAME':'state', 'POPESTIMATE2019':'pop19'}, inplace = True)\n",
    "\n",
    "# Check for duplicate rows\n",
    "duplicateRowsDF = states_pop[states_pop.duplicated()]\n",
    "print(duplicateRowsDF)\n",
    "\n",
    "# Reset index\n",
    "states_pop = states_pop.reset_index(drop = True)\n",
    "\n",
    "# Display states_pop info\n",
    "states_pop.info()"
   ]
  },
  {
   "cell_type": "markdown",
   "metadata": {},
   "source": [
    "### Merge all datasets"
   ]
  },
  {
   "cell_type": "code",
   "execution_count": 1135,
   "metadata": {
    "scrolled": true
   },
   "outputs": [
    {
     "name": "stdout",
     "output_type": "stream",
     "text": [
      "<class 'pandas.core.frame.DataFrame'>\n",
      "Int64Index: 51 entries, 0 to 50\n",
      "Data columns (total 15 columns):\n",
      " #   Column       Non-Null Count  Dtype  \n",
      "---  ------       --------------  -----  \n",
      " 0   state        51 non-null     object \n",
      " 1   act17_part   51 non-null     float64\n",
      " 2   sat17_part   51 non-null     float64\n",
      " 3   act18_part   51 non-null     float64\n",
      " 4   sat18_part   51 non-null     float64\n",
      " 5   act19_part   51 non-null     float64\n",
      " 6   sat19_part   51 non-null     float64\n",
      " 7   pop19        51 non-null     int64  \n",
      " 8   poverty_pct  51 non-null     float64\n",
      " 9   income17     51 non-null     float64\n",
      " 10  income18     51 non-null     float64\n",
      " 11  income19     51 non-null     float64\n",
      " 12  gdp17        51 non-null     float64\n",
      " 13  gdp18        51 non-null     float64\n",
      " 14  gdp19        51 non-null     float64\n",
      "dtypes: float64(13), int64(1), object(1)\n",
      "memory usage: 6.4+ KB\n"
     ]
    }
   ],
   "source": [
    "# Merge datasets states_gdp, states_income, states_poverty, states_pop and all_actsat\n",
    "merged_1 = pd.merge(states_income, states_gdp, on = 'state')\n",
    "merged_2 = pd.merge(states_poverty, merged_1, on = 'state')\n",
    "merged_3 = pd.merge(states_pop, merged_2, on = 'state')\n",
    "states_data = pd.merge(all_actsat, merged_3, on = 'state')\n",
    "states_data.info()"
   ]
  },
  {
   "cell_type": "code",
   "execution_count": 1136,
   "metadata": {},
   "outputs": [
    {
     "data": {
      "text/html": [
       "<div>\n",
       "<style scoped>\n",
       "    .dataframe tbody tr th:only-of-type {\n",
       "        vertical-align: middle;\n",
       "    }\n",
       "\n",
       "    .dataframe tbody tr th {\n",
       "        vertical-align: top;\n",
       "    }\n",
       "\n",
       "    .dataframe thead th {\n",
       "        text-align: right;\n",
       "    }\n",
       "</style>\n",
       "<table border=\"1\" class=\"dataframe\">\n",
       "  <thead>\n",
       "    <tr style=\"text-align: right;\">\n",
       "      <th></th>\n",
       "      <th>state</th>\n",
       "      <th>act17_part</th>\n",
       "      <th>sat17_part</th>\n",
       "      <th>act18_part</th>\n",
       "      <th>sat18_part</th>\n",
       "      <th>act19_part</th>\n",
       "      <th>sat19_part</th>\n",
       "      <th>pop19</th>\n",
       "      <th>poverty_pct</th>\n",
       "      <th>income17</th>\n",
       "      <th>income18</th>\n",
       "      <th>income19</th>\n",
       "      <th>gdp17</th>\n",
       "      <th>gdp18</th>\n",
       "      <th>gdp19</th>\n",
       "    </tr>\n",
       "  </thead>\n",
       "  <tbody>\n",
       "    <tr>\n",
       "      <th>0</th>\n",
       "      <td>Alabama</td>\n",
       "      <td>1.00</td>\n",
       "      <td>0.05</td>\n",
       "      <td>1.00</td>\n",
       "      <td>0.06</td>\n",
       "      <td>1.00</td>\n",
       "      <td>0.07</td>\n",
       "      <td>4903185</td>\n",
       "      <td>14.7</td>\n",
       "      <td>50200.0</td>\n",
       "      <td>50800.0</td>\n",
       "      <td>51700.0</td>\n",
       "      <td>215085.9</td>\n",
       "      <td>224046.9</td>\n",
       "      <td>231171.8</td>\n",
       "    </tr>\n",
       "    <tr>\n",
       "      <th>1</th>\n",
       "      <td>Alaska</td>\n",
       "      <td>0.65</td>\n",
       "      <td>0.38</td>\n",
       "      <td>0.33</td>\n",
       "      <td>0.43</td>\n",
       "      <td>0.38</td>\n",
       "      <td>0.41</td>\n",
       "      <td>731545</td>\n",
       "      <td>11.8</td>\n",
       "      <td>76300.0</td>\n",
       "      <td>75700.0</td>\n",
       "      <td>75500.0</td>\n",
       "      <td>53089.3</td>\n",
       "      <td>54711.7</td>\n",
       "      <td>54547.1</td>\n",
       "    </tr>\n",
       "    <tr>\n",
       "      <th>2</th>\n",
       "      <td>Arizona</td>\n",
       "      <td>0.62</td>\n",
       "      <td>0.30</td>\n",
       "      <td>0.66</td>\n",
       "      <td>0.29</td>\n",
       "      <td>0.73</td>\n",
       "      <td>0.31</td>\n",
       "      <td>7278717</td>\n",
       "      <td>12.1</td>\n",
       "      <td>59000.0</td>\n",
       "      <td>60300.0</td>\n",
       "      <td>62100.0</td>\n",
       "      <td>330416.1</td>\n",
       "      <td>349907.5</td>\n",
       "      <td>369988.2</td>\n",
       "    </tr>\n",
       "    <tr>\n",
       "      <th>3</th>\n",
       "      <td>Arkansas</td>\n",
       "      <td>1.00</td>\n",
       "      <td>0.03</td>\n",
       "      <td>1.00</td>\n",
       "      <td>0.05</td>\n",
       "      <td>1.00</td>\n",
       "      <td>0.06</td>\n",
       "      <td>3017804</td>\n",
       "      <td>15.0</td>\n",
       "      <td>47800.0</td>\n",
       "      <td>47900.0</td>\n",
       "      <td>49000.0</td>\n",
       "      <td>122350.2</td>\n",
       "      <td>127306.5</td>\n",
       "      <td>130839.9</td>\n",
       "    </tr>\n",
       "    <tr>\n",
       "      <th>4</th>\n",
       "      <td>California</td>\n",
       "      <td>0.31</td>\n",
       "      <td>0.53</td>\n",
       "      <td>0.27</td>\n",
       "      <td>0.60</td>\n",
       "      <td>0.23</td>\n",
       "      <td>0.63</td>\n",
       "      <td>39512223</td>\n",
       "      <td>11.4</td>\n",
       "      <td>74900.0</td>\n",
       "      <td>76600.0</td>\n",
       "      <td>80400.0</td>\n",
       "      <td>2730973.9</td>\n",
       "      <td>2895101.0</td>\n",
       "      <td>3052645.2</td>\n",
       "    </tr>\n",
       "  </tbody>\n",
       "</table>\n",
       "</div>"
      ],
      "text/plain": [
       "        state  act17_part  sat17_part  act18_part  sat18_part  act19_part  \\\n",
       "0     Alabama        1.00        0.05        1.00        0.06        1.00   \n",
       "1      Alaska        0.65        0.38        0.33        0.43        0.38   \n",
       "2     Arizona        0.62        0.30        0.66        0.29        0.73   \n",
       "3    Arkansas        1.00        0.03        1.00        0.05        1.00   \n",
       "4  California        0.31        0.53        0.27        0.60        0.23   \n",
       "\n",
       "   sat19_part     pop19  poverty_pct  income17  income18  income19      gdp17  \\\n",
       "0        0.07   4903185         14.7   50200.0   50800.0   51700.0   215085.9   \n",
       "1        0.41    731545         11.8   76300.0   75700.0   75500.0    53089.3   \n",
       "2        0.31   7278717         12.1   59000.0   60300.0   62100.0   330416.1   \n",
       "3        0.06   3017804         15.0   47800.0   47900.0   49000.0   122350.2   \n",
       "4        0.63  39512223         11.4   74900.0   76600.0   80400.0  2730973.9   \n",
       "\n",
       "       gdp18      gdp19  \n",
       "0   224046.9   231171.8  \n",
       "1    54711.7    54547.1  \n",
       "2   349907.5   369988.2  \n",
       "3   127306.5   130839.9  \n",
       "4  2895101.0  3052645.2  "
      ]
     },
     "execution_count": 1136,
     "metadata": {},
     "output_type": "execute_result"
    }
   ],
   "source": [
    "# Dislay first five rows \n",
    "states_data.head()"
   ]
  },
  {
   "cell_type": "code",
   "execution_count": 1137,
   "metadata": {},
   "outputs": [],
   "source": [
    "# Add new column gdp19_percap\n",
    "states_data['gdp19_percap'] = round((states_data['gdp19'] * 100_0000) / states_data['pop19'])"
   ]
  },
  {
   "cell_type": "code",
   "execution_count": 1138,
   "metadata": {},
   "outputs": [
    {
     "data": {
      "text/html": [
       "<div>\n",
       "<style scoped>\n",
       "    .dataframe tbody tr th:only-of-type {\n",
       "        vertical-align: middle;\n",
       "    }\n",
       "\n",
       "    .dataframe tbody tr th {\n",
       "        vertical-align: top;\n",
       "    }\n",
       "\n",
       "    .dataframe thead th {\n",
       "        text-align: right;\n",
       "    }\n",
       "</style>\n",
       "<table border=\"1\" class=\"dataframe\">\n",
       "  <thead>\n",
       "    <tr style=\"text-align: right;\">\n",
       "      <th></th>\n",
       "      <th>state</th>\n",
       "      <th>act17_part</th>\n",
       "      <th>sat17_part</th>\n",
       "      <th>act18_part</th>\n",
       "      <th>sat18_part</th>\n",
       "      <th>act19_part</th>\n",
       "      <th>sat19_part</th>\n",
       "      <th>pop19</th>\n",
       "      <th>poverty_pct</th>\n",
       "      <th>income17</th>\n",
       "      <th>income18</th>\n",
       "      <th>income19</th>\n",
       "      <th>gdp17</th>\n",
       "      <th>gdp18</th>\n",
       "      <th>gdp19</th>\n",
       "      <th>gdp19_percap</th>\n",
       "    </tr>\n",
       "  </thead>\n",
       "  <tbody>\n",
       "    <tr>\n",
       "      <th>0</th>\n",
       "      <td>Alabama</td>\n",
       "      <td>1.00</td>\n",
       "      <td>0.05</td>\n",
       "      <td>1.00</td>\n",
       "      <td>0.06</td>\n",
       "      <td>1.00</td>\n",
       "      <td>0.07</td>\n",
       "      <td>4903185</td>\n",
       "      <td>14.7</td>\n",
       "      <td>50200.0</td>\n",
       "      <td>50800.0</td>\n",
       "      <td>51700.0</td>\n",
       "      <td>215085.9</td>\n",
       "      <td>224046.9</td>\n",
       "      <td>231171.8</td>\n",
       "      <td>47147.0</td>\n",
       "    </tr>\n",
       "    <tr>\n",
       "      <th>1</th>\n",
       "      <td>Alaska</td>\n",
       "      <td>0.65</td>\n",
       "      <td>0.38</td>\n",
       "      <td>0.33</td>\n",
       "      <td>0.43</td>\n",
       "      <td>0.38</td>\n",
       "      <td>0.41</td>\n",
       "      <td>731545</td>\n",
       "      <td>11.8</td>\n",
       "      <td>76300.0</td>\n",
       "      <td>75700.0</td>\n",
       "      <td>75500.0</td>\n",
       "      <td>53089.3</td>\n",
       "      <td>54711.7</td>\n",
       "      <td>54547.1</td>\n",
       "      <td>74564.0</td>\n",
       "    </tr>\n",
       "    <tr>\n",
       "      <th>2</th>\n",
       "      <td>Arizona</td>\n",
       "      <td>0.62</td>\n",
       "      <td>0.30</td>\n",
       "      <td>0.66</td>\n",
       "      <td>0.29</td>\n",
       "      <td>0.73</td>\n",
       "      <td>0.31</td>\n",
       "      <td>7278717</td>\n",
       "      <td>12.1</td>\n",
       "      <td>59000.0</td>\n",
       "      <td>60300.0</td>\n",
       "      <td>62100.0</td>\n",
       "      <td>330416.1</td>\n",
       "      <td>349907.5</td>\n",
       "      <td>369988.2</td>\n",
       "      <td>50832.0</td>\n",
       "    </tr>\n",
       "    <tr>\n",
       "      <th>3</th>\n",
       "      <td>Arkansas</td>\n",
       "      <td>1.00</td>\n",
       "      <td>0.03</td>\n",
       "      <td>1.00</td>\n",
       "      <td>0.05</td>\n",
       "      <td>1.00</td>\n",
       "      <td>0.06</td>\n",
       "      <td>3017804</td>\n",
       "      <td>15.0</td>\n",
       "      <td>47800.0</td>\n",
       "      <td>47900.0</td>\n",
       "      <td>49000.0</td>\n",
       "      <td>122350.2</td>\n",
       "      <td>127306.5</td>\n",
       "      <td>130839.9</td>\n",
       "      <td>43356.0</td>\n",
       "    </tr>\n",
       "    <tr>\n",
       "      <th>4</th>\n",
       "      <td>California</td>\n",
       "      <td>0.31</td>\n",
       "      <td>0.53</td>\n",
       "      <td>0.27</td>\n",
       "      <td>0.60</td>\n",
       "      <td>0.23</td>\n",
       "      <td>0.63</td>\n",
       "      <td>39512223</td>\n",
       "      <td>11.4</td>\n",
       "      <td>74900.0</td>\n",
       "      <td>76600.0</td>\n",
       "      <td>80400.0</td>\n",
       "      <td>2730973.9</td>\n",
       "      <td>2895101.0</td>\n",
       "      <td>3052645.2</td>\n",
       "      <td>77258.0</td>\n",
       "    </tr>\n",
       "  </tbody>\n",
       "</table>\n",
       "</div>"
      ],
      "text/plain": [
       "        state  act17_part  sat17_part  act18_part  sat18_part  act19_part  \\\n",
       "0     Alabama        1.00        0.05        1.00        0.06        1.00   \n",
       "1      Alaska        0.65        0.38        0.33        0.43        0.38   \n",
       "2     Arizona        0.62        0.30        0.66        0.29        0.73   \n",
       "3    Arkansas        1.00        0.03        1.00        0.05        1.00   \n",
       "4  California        0.31        0.53        0.27        0.60        0.23   \n",
       "\n",
       "   sat19_part     pop19  poverty_pct  income17  income18  income19      gdp17  \\\n",
       "0        0.07   4903185         14.7   50200.0   50800.0   51700.0   215085.9   \n",
       "1        0.41    731545         11.8   76300.0   75700.0   75500.0    53089.3   \n",
       "2        0.31   7278717         12.1   59000.0   60300.0   62100.0   330416.1   \n",
       "3        0.06   3017804         15.0   47800.0   47900.0   49000.0   122350.2   \n",
       "4        0.63  39512223         11.4   74900.0   76600.0   80400.0  2730973.9   \n",
       "\n",
       "       gdp18      gdp19  gdp19_percap  \n",
       "0   224046.9   231171.8       47147.0  \n",
       "1    54711.7    54547.1       74564.0  \n",
       "2   349907.5   369988.2       50832.0  \n",
       "3   127306.5   130839.9       43356.0  \n",
       "4  2895101.0  3052645.2       77258.0  "
      ]
     },
     "execution_count": 1138,
     "metadata": {},
     "output_type": "execute_result"
    }
   ],
   "source": [
    "# Display first five rows\n",
    "states_data.head()"
   ]
  },
  {
   "cell_type": "markdown",
   "metadata": {},
   "source": [
    "## 11. Save cleaned and merged dataframes as csv file"
   ]
  },
  {
   "cell_type": "code",
   "execution_count": 1139,
   "metadata": {},
   "outputs": [],
   "source": [
    "# Save the clean and merged datasets\n",
    "states_data.to_csv('../data/states_data.csv')"
   ]
  },
  {
   "cell_type": "markdown",
   "metadata": {},
   "source": [
    "### Data Dictionary\n",
    "\n",
    "Now that we've fixed our data, and given it appropriate names, let's create a [data dictionary](http://library.ucmerced.edu/node/10249). \n",
    "\n",
    "A data dictionary provides a quick overview of features/variables/columns, alongside data types and descriptions. The more descriptive you can be, the more useful this document is.\n",
    "\n",
    "Example of a Fictional Data Dictionary Entry: \n",
    "\n",
    "|Feature|Type|Dataset|Description|\n",
    "|---|---|---|---|\n",
    "|**county_pop**|*integer*|2010 census|The population of the county (units in thousands, where 2.5 represents 2500 people).| \n",
    "|**per_poverty**|*float*|2010 census|The percent of the county over the age of 18 living below the 200% of official US poverty rate (units percent to two decimal places 98.10 means 98.1%)|\n",
    "\n",
    "[Here's a quick link to a short guide for formatting markdown in Jupyter notebooks](https://jupyter-notebook.readthedocs.io/en/stable/examples/Notebook/Working%20With%20Markdown%20Cells.html).\n",
    "\n",
    "Provided is the skeleton for formatting a markdown table, with columns headers that will help you create a data dictionary to quickly summarize your data, as well as some examples. **This would be a great thing to copy and paste into your custom README for this project.**\n",
    "\n",
    "*Note*: if you are unsure of what a feature is, check the source of the data! This can be found in the README."
   ]
  },
  {
   "cell_type": "markdown",
   "metadata": {},
   "source": [
    "**To-Do:** *Edit the table below to create your own data dictionary for the datasets you chose.*\n",
    "\n",
    "|Feature|Type|Dataset|Description|\n",
    "|---|---|---|---|\n",
    "|column name|int/float/object|ACT/SAT|This is an example| \n"
   ]
  },
  {
   "cell_type": "markdown",
   "metadata": {},
   "source": [
    "**Data Dictionary for STATES_DATA**\n",
    "\n",
    "|Feature|Type|Dataset|Description|\n",
    "|---|---|---|---|\n",
    "|state|obj|STATES DATA|State names|\n",
    "|act17_part|float64|STATES DATA|Statewide ACT Participation Rate, 2017|\n",
    "|sat17_part|float64|STATES DATA|Statewide SAT Participation Rate, 2017|\n",
    "|act18_part|float64|STATES DATA|Statewide ACT Participation Rate, 2018|\n",
    "|sat18_part|float64|STATES DATA|Statewide SAT Participation Rate, 2018|\n",
    "|act19_part|float64|STATES DATA|Statewide ACT Participation Rate, 2019|\n",
    "|sat19_part|float64|STATES DATA|Statewide SAT Participation Rate, 2019|\n",
    "|pop19|int64|STATES DATA|States population for 2019|\n",
    "|poverty_pct|float64|STATES DATA|3-year average percentage of people in poverty, 2017-2019|\n",
    "|income_2017|float64|STATES DATA|Median household income for 2017|\n",
    "|income_2018|float64|STATES DATA|Median household income for 2018|\n",
    "|income_2019|float64|STATES DATA|Median household income for 2019|\n",
    "|gdp_2017|float64|STATES DATA|Current-dollar GDP for 2017|\n",
    "|gdp_2018|float64|STATES DATA|Current-dollar GDP for 2018|\n",
    "|gdp_2019|float64|STATES DATA|Current-dollar GDP for 2019|\n",
    "|gdp19_percap|float64|STATES DATA|2019 GDP per capita GDP|\n"
   ]
  },
  {
   "cell_type": "markdown",
   "metadata": {},
   "source": [
    "## Exploratory Data Analysis\n",
    "\n",
    "Complete the following steps to explore your data. You are welcome to do more EDA than the steps outlined here as you feel necessary:\n",
    "1. Summary Statistics.\n",
    "2. Use a **dictionary comprehension** to apply the standard deviation function you create in part 1 to each numeric column in the dataframe.  **No loops**.\n",
    "    - Assign the output to variable `sd` as a dictionary where: \n",
    "        - Each column name is now a key \n",
    "        - That standard deviation of the column is the value \n",
    "        - *Example Output :* `{'ACT_Math': 120, 'ACT_Reading': 120, ...}`\n",
    "3. Investigate trends in the data.\n",
    "    - Using sorting and/or masking (along with the `.head()` method to avoid printing our entire dataframe), consider questions relevant to your problem statement. Some examples are provided below (but feel free to change these questions for your specific problem):\n",
    "        - Which states have the highest and lowest participation rates for the 2017, 2019, or 2019 SAT and ACT?\n",
    "        - Which states have the highest and lowest mean total/composite scores for the 2017, 2019, or 2019 SAT and ACT?\n",
    "        - Do any states with 100% participation on a given test have a rate change year-to-year?\n",
    "        - Do any states show have >50% participation on *both* tests each year?\n",
    "        - Which colleges have the highest median SAT and ACT scores for admittance?\n",
    "        - a\n",
    "    - **You should comment on your findings at each step in a markdown cell below your code block**. Make sure you include at least one example of sorting your dataframe by a column, and one example of using boolean filtering (i.e., masking) to select a subset of the dataframe."
   ]
  },
  {
   "cell_type": "markdown",
   "metadata": {},
   "source": [
    "### 1. Summary Statistics "
   ]
  },
  {
   "cell_type": "code",
   "execution_count": 1140,
   "metadata": {},
   "outputs": [
    {
     "data": {
      "text/html": [
       "<div>\n",
       "<style scoped>\n",
       "    .dataframe tbody tr th:only-of-type {\n",
       "        vertical-align: middle;\n",
       "    }\n",
       "\n",
       "    .dataframe tbody tr th {\n",
       "        vertical-align: top;\n",
       "    }\n",
       "\n",
       "    .dataframe thead th {\n",
       "        text-align: right;\n",
       "    }\n",
       "</style>\n",
       "<table border=\"1\" class=\"dataframe\">\n",
       "  <thead>\n",
       "    <tr style=\"text-align: right;\">\n",
       "      <th></th>\n",
       "      <th>count</th>\n",
       "      <th>mean</th>\n",
       "      <th>std</th>\n",
       "      <th>min</th>\n",
       "      <th>25%</th>\n",
       "      <th>50%</th>\n",
       "      <th>75%</th>\n",
       "      <th>max</th>\n",
       "    </tr>\n",
       "  </thead>\n",
       "  <tbody>\n",
       "    <tr>\n",
       "      <th>act17_part</th>\n",
       "      <td>51.0</td>\n",
       "      <td>6.525490e-01</td>\n",
       "      <td>3.214084e-01</td>\n",
       "      <td>0.08</td>\n",
       "      <td>0.310</td>\n",
       "      <td>0.69</td>\n",
       "      <td>1.000</td>\n",
       "      <td>1.0</td>\n",
       "    </tr>\n",
       "    <tr>\n",
       "      <th>sat17_part</th>\n",
       "      <td>51.0</td>\n",
       "      <td>3.980392e-01</td>\n",
       "      <td>3.527663e-01</td>\n",
       "      <td>0.02</td>\n",
       "      <td>0.040</td>\n",
       "      <td>0.38</td>\n",
       "      <td>0.660</td>\n",
       "      <td>1.0</td>\n",
       "    </tr>\n",
       "    <tr>\n",
       "      <th>act18_part</th>\n",
       "      <td>51.0</td>\n",
       "      <td>6.172549e-01</td>\n",
       "      <td>3.403708e-01</td>\n",
       "      <td>0.07</td>\n",
       "      <td>0.285</td>\n",
       "      <td>0.66</td>\n",
       "      <td>1.000</td>\n",
       "      <td>1.0</td>\n",
       "    </tr>\n",
       "    <tr>\n",
       "      <th>sat18_part</th>\n",
       "      <td>51.0</td>\n",
       "      <td>4.574510e-01</td>\n",
       "      <td>3.731426e-01</td>\n",
       "      <td>0.02</td>\n",
       "      <td>0.045</td>\n",
       "      <td>0.52</td>\n",
       "      <td>0.775</td>\n",
       "      <td>1.0</td>\n",
       "    </tr>\n",
       "    <tr>\n",
       "      <th>act19_part</th>\n",
       "      <td>51.0</td>\n",
       "      <td>5.866667e-01</td>\n",
       "      <td>3.451589e-01</td>\n",
       "      <td>0.06</td>\n",
       "      <td>0.245</td>\n",
       "      <td>0.54</td>\n",
       "      <td>1.000</td>\n",
       "      <td>1.0</td>\n",
       "    </tr>\n",
       "    <tr>\n",
       "      <th>sat19_part</th>\n",
       "      <td>51.0</td>\n",
       "      <td>4.905882e-01</td>\n",
       "      <td>3.874760e-01</td>\n",
       "      <td>0.02</td>\n",
       "      <td>0.055</td>\n",
       "      <td>0.54</td>\n",
       "      <td>0.820</td>\n",
       "      <td>1.0</td>\n",
       "    </tr>\n",
       "    <tr>\n",
       "      <th>pop19</th>\n",
       "      <td>51.0</td>\n",
       "      <td>6.436069e+06</td>\n",
       "      <td>7.360660e+06</td>\n",
       "      <td>578759.00</td>\n",
       "      <td>1789606.000</td>\n",
       "      <td>4467673.00</td>\n",
       "      <td>7446805.000</td>\n",
       "      <td>39512223.0</td>\n",
       "    </tr>\n",
       "    <tr>\n",
       "      <th>poverty_pct</th>\n",
       "      <td>51.0</td>\n",
       "      <td>1.127255e+01</td>\n",
       "      <td>2.828008e+00</td>\n",
       "      <td>5.60</td>\n",
       "      <td>9.550</td>\n",
       "      <td>10.60</td>\n",
       "      <td>12.550</td>\n",
       "      <td>19.1</td>\n",
       "    </tr>\n",
       "    <tr>\n",
       "      <th>income17</th>\n",
       "      <td>51.0</td>\n",
       "      <td>6.281961e+04</td>\n",
       "      <td>1.069166e+04</td>\n",
       "      <td>45300.00</td>\n",
       "      <td>55350.000</td>\n",
       "      <td>61100.00</td>\n",
       "      <td>71300.000</td>\n",
       "      <td>85900.0</td>\n",
       "    </tr>\n",
       "    <tr>\n",
       "      <th>income18</th>\n",
       "      <td>51.0</td>\n",
       "      <td>6.313725e+04</td>\n",
       "      <td>1.080187e+04</td>\n",
       "      <td>44900.00</td>\n",
       "      <td>56400.000</td>\n",
       "      <td>61000.00</td>\n",
       "      <td>72150.000</td>\n",
       "      <td>86700.0</td>\n",
       "    </tr>\n",
       "    <tr>\n",
       "      <th>income19</th>\n",
       "      <td>51.0</td>\n",
       "      <td>6.551373e+04</td>\n",
       "      <td>1.117102e+04</td>\n",
       "      <td>45800.00</td>\n",
       "      <td>57500.000</td>\n",
       "      <td>63200.00</td>\n",
       "      <td>75050.000</td>\n",
       "      <td>92300.0</td>\n",
       "    </tr>\n",
       "    <tr>\n",
       "      <th>gdp17</th>\n",
       "      <td>51.0</td>\n",
       "      <td>3.798120e+05</td>\n",
       "      <td>4.844070e+05</td>\n",
       "      <td>32246.90</td>\n",
       "      <td>89744.450</td>\n",
       "      <td>222613.80</td>\n",
       "      <td>505822.200</td>\n",
       "      <td>2730973.9</td>\n",
       "    </tr>\n",
       "    <tr>\n",
       "      <th>gdp18</th>\n",
       "      <td>51.0</td>\n",
       "      <td>4.000477e+05</td>\n",
       "      <td>5.144719e+05</td>\n",
       "      <td>33032.70</td>\n",
       "      <td>93772.800</td>\n",
       "      <td>233665.30</td>\n",
       "      <td>526279.850</td>\n",
       "      <td>2895101.0</td>\n",
       "    </tr>\n",
       "    <tr>\n",
       "      <th>gdp19</th>\n",
       "      <td>51.0</td>\n",
       "      <td>4.165202e+05</td>\n",
       "      <td>5.395071e+05</td>\n",
       "      <td>34127.50</td>\n",
       "      <td>96876.300</td>\n",
       "      <td>244662.30</td>\n",
       "      <td>542870.200</td>\n",
       "      <td>3052645.2</td>\n",
       "    </tr>\n",
       "    <tr>\n",
       "      <th>gdp19_percap</th>\n",
       "      <td>51.0</td>\n",
       "      <td>6.384171e+04</td>\n",
       "      <td>2.318377e+04</td>\n",
       "      <td>38551.00</td>\n",
       "      <td>52597.000</td>\n",
       "      <td>60071.00</td>\n",
       "      <td>68266.000</td>\n",
       "      <td>204613.0</td>\n",
       "    </tr>\n",
       "  </tbody>\n",
       "</table>\n",
       "</div>"
      ],
      "text/plain": [
       "              count          mean           std        min          25%  \\\n",
       "act17_part     51.0  6.525490e-01  3.214084e-01       0.08        0.310   \n",
       "sat17_part     51.0  3.980392e-01  3.527663e-01       0.02        0.040   \n",
       "act18_part     51.0  6.172549e-01  3.403708e-01       0.07        0.285   \n",
       "sat18_part     51.0  4.574510e-01  3.731426e-01       0.02        0.045   \n",
       "act19_part     51.0  5.866667e-01  3.451589e-01       0.06        0.245   \n",
       "sat19_part     51.0  4.905882e-01  3.874760e-01       0.02        0.055   \n",
       "pop19          51.0  6.436069e+06  7.360660e+06  578759.00  1789606.000   \n",
       "poverty_pct    51.0  1.127255e+01  2.828008e+00       5.60        9.550   \n",
       "income17       51.0  6.281961e+04  1.069166e+04   45300.00    55350.000   \n",
       "income18       51.0  6.313725e+04  1.080187e+04   44900.00    56400.000   \n",
       "income19       51.0  6.551373e+04  1.117102e+04   45800.00    57500.000   \n",
       "gdp17          51.0  3.798120e+05  4.844070e+05   32246.90    89744.450   \n",
       "gdp18          51.0  4.000477e+05  5.144719e+05   33032.70    93772.800   \n",
       "gdp19          51.0  4.165202e+05  5.395071e+05   34127.50    96876.300   \n",
       "gdp19_percap   51.0  6.384171e+04  2.318377e+04   38551.00    52597.000   \n",
       "\n",
       "                     50%          75%         max  \n",
       "act17_part          0.69        1.000         1.0  \n",
       "sat17_part          0.38        0.660         1.0  \n",
       "act18_part          0.66        1.000         1.0  \n",
       "sat18_part          0.52        0.775         1.0  \n",
       "act19_part          0.54        1.000         1.0  \n",
       "sat19_part          0.54        0.820         1.0  \n",
       "pop19         4467673.00  7446805.000  39512223.0  \n",
       "poverty_pct        10.60       12.550        19.1  \n",
       "income17        61100.00    71300.000     85900.0  \n",
       "income18        61000.00    72150.000     86700.0  \n",
       "income19        63200.00    75050.000     92300.0  \n",
       "gdp17          222613.80   505822.200   2730973.9  \n",
       "gdp18          233665.30   526279.850   2895101.0  \n",
       "gdp19          244662.30   542870.200   3052645.2  \n",
       "gdp19_percap    60071.00    68266.000    204613.0  "
      ]
     },
     "execution_count": 1140,
     "metadata": {},
     "output_type": "execute_result"
    }
   ],
   "source": [
    "# Summary statistics for STATES_DATA\n",
    "summary = states_data.describe()\n",
    "summary.transpose()"
   ]
  },
  {
   "cell_type": "markdown",
   "metadata": {},
   "source": [
    "### 2. Use a dictionary comprehension to apply the standard deviation function to each numeric column in the dataframe."
   ]
  },
  {
   "cell_type": "code",
   "execution_count": 1141,
   "metadata": {},
   "outputs": [
    {
     "data": {
      "text/plain": [
       "{'actt17_part': 0.3182417575123181,\n",
       " 'sat17_part': 0.3492907076664507,\n",
       " 'act18_part': 0.33701735820410317,\n",
       " 'sat18_part': 0.3694661922353942,\n",
       " 'act19_part': 0.3417582373703047,\n",
       " 'sat19_part': 0.3836584048685726,\n",
       " 'pop19': 7288139.876892037,\n",
       " 'poverty_pct': 2.8001455446327235,\n",
       " 'income17': 10586.321540921643,\n",
       " 'income18': 10695.44452750363,\n",
       " 'income19': 11060.954460249042,\n",
       " 'gdp17': 479634.4300377517,\n",
       " 'gdp18': 509403.0693196307,\n",
       " 'gdp19': 534191.5878659826,\n",
       " 'gdp19_percap': 22955.354154629706}"
      ]
     },
     "execution_count": 1141,
     "metadata": {},
     "output_type": "execute_result"
    }
   ],
   "source": [
    "sd = {'actt17_part': std_dev(states_data['act17_part']),\n",
    "      'sat17_part': std_dev(states_data['sat17_part']),\n",
    "      'act18_part': std_dev(states_data['act18_part']),\n",
    "      'sat18_part': std_dev(states_data['sat18_part']),\n",
    "      'act19_part': std_dev(states_data['act19_part']),\n",
    "      'sat19_part': std_dev(states_data['sat19_part']),\n",
    "      'pop19': std_dev(states_data['pop19']),\n",
    "      'poverty_pct': std_dev(states_data['poverty_pct']),\n",
    "      'income17': std_dev(states_data['income17']),\n",
    "      'income18': std_dev(states_data['income18']),\n",
    "      'income19': std_dev(states_data['income19']),\n",
    "      'gdp17': std_dev(states_data['gdp17']),\n",
    "      'gdp18': std_dev(states_data['gdp18']),\n",
    "      'gdp19': std_dev(states_data['gdp19']),\n",
    "      'gdp19_percap': std_dev(states_data['gdp19_percap'])\n",
    "      }\n",
    "\n",
    "sd"
   ]
  },
  {
   "cell_type": "markdown",
   "metadata": {},
   "source": [
    "### 3. Investigate trends in the dataset "
   ]
  },
  {
   "cell_type": "markdown",
   "metadata": {},
   "source": [
    "**Identification of factors and gaps that contribute to ACT, SAT participation rates across the California counties.**"
   ]
  },
  {
   "cell_type": "markdown",
   "metadata": {},
   "source": [
    "**How does California state fare for ACT/ SAT against the rest of the states in USA in terms of gdp per capita/ household income/ poverty? Is there a correlation to the level of participation in SAT & ACT as a whole?**"
   ]
  },
  {
   "cell_type": "markdown",
   "metadata": {},
   "source": [
    "**a) Investigate ACT and SAT participation trends**"
   ]
  },
  {
   "cell_type": "markdown",
   "metadata": {},
   "source": [
    "For ACT"
   ]
  },
  {
   "cell_type": "code",
   "execution_count": 1142,
   "metadata": {},
   "outputs": [
    {
     "data": {
      "text/html": [
       "<div>\n",
       "<style scoped>\n",
       "    .dataframe tbody tr th:only-of-type {\n",
       "        vertical-align: middle;\n",
       "    }\n",
       "\n",
       "    .dataframe tbody tr th {\n",
       "        vertical-align: top;\n",
       "    }\n",
       "\n",
       "    .dataframe thead th {\n",
       "        text-align: right;\n",
       "    }\n",
       "</style>\n",
       "<table border=\"1\" class=\"dataframe\">\n",
       "  <thead>\n",
       "    <tr style=\"text-align: right;\">\n",
       "      <th></th>\n",
       "      <th>state</th>\n",
       "      <th>act17_part</th>\n",
       "      <th>act18_part</th>\n",
       "      <th>act19_part</th>\n",
       "    </tr>\n",
       "  </thead>\n",
       "  <tbody>\n",
       "    <tr>\n",
       "      <th>19</th>\n",
       "      <td>Maine</td>\n",
       "      <td>0.08</td>\n",
       "      <td>0.07</td>\n",
       "      <td>0.06</td>\n",
       "    </tr>\n",
       "    <tr>\n",
       "      <th>29</th>\n",
       "      <td>New Hampshire</td>\n",
       "      <td>0.18</td>\n",
       "      <td>0.16</td>\n",
       "      <td>0.14</td>\n",
       "    </tr>\n",
       "    <tr>\n",
       "      <th>7</th>\n",
       "      <td>Delaware</td>\n",
       "      <td>0.18</td>\n",
       "      <td>0.17</td>\n",
       "      <td>0.13</td>\n",
       "    </tr>\n",
       "    <tr>\n",
       "      <th>39</th>\n",
       "      <td>Rhode Island</td>\n",
       "      <td>0.21</td>\n",
       "      <td>0.15</td>\n",
       "      <td>0.12</td>\n",
       "    </tr>\n",
       "    <tr>\n",
       "      <th>38</th>\n",
       "      <td>Pennsylvania</td>\n",
       "      <td>0.23</td>\n",
       "      <td>0.20</td>\n",
       "      <td>0.17</td>\n",
       "    </tr>\n",
       "  </tbody>\n",
       "</table>\n",
       "</div>"
      ],
      "text/plain": [
       "            state  act17_part  act18_part  act19_part\n",
       "19          Maine        0.08        0.07        0.06\n",
       "29  New Hampshire        0.18        0.16        0.14\n",
       "7        Delaware        0.18        0.17        0.13\n",
       "39   Rhode Island        0.21        0.15        0.12\n",
       "38   Pennsylvania        0.23        0.20        0.17"
      ]
     },
     "execution_count": 1142,
     "metadata": {},
     "output_type": "execute_result"
    }
   ],
   "source": [
    "# Lowest ACT participation for states, 2017-2019\n",
    "states_data.sort_values(['act17_part','act18_part','act19_part'], \\\n",
    "ascending=True).head().loc[:,['state','act17_part','act18_part','act19_part']]"
   ]
  },
  {
   "cell_type": "code",
   "execution_count": 1143,
   "metadata": {},
   "outputs": [
    {
     "data": {
      "text/html": [
       "<div>\n",
       "<style scoped>\n",
       "    .dataframe tbody tr th:only-of-type {\n",
       "        vertical-align: middle;\n",
       "    }\n",
       "\n",
       "    .dataframe tbody tr th {\n",
       "        vertical-align: top;\n",
       "    }\n",
       "\n",
       "    .dataframe thead th {\n",
       "        text-align: right;\n",
       "    }\n",
       "</style>\n",
       "<table border=\"1\" class=\"dataframe\">\n",
       "  <thead>\n",
       "    <tr style=\"text-align: right;\">\n",
       "      <th></th>\n",
       "      <th>state</th>\n",
       "      <th>act17_part</th>\n",
       "      <th>act18_part</th>\n",
       "      <th>act19_part</th>\n",
       "    </tr>\n",
       "  </thead>\n",
       "  <tbody>\n",
       "    <tr>\n",
       "      <th>0</th>\n",
       "      <td>Alabama</td>\n",
       "      <td>1.0</td>\n",
       "      <td>1.0</td>\n",
       "      <td>1.0</td>\n",
       "    </tr>\n",
       "    <tr>\n",
       "      <th>3</th>\n",
       "      <td>Arkansas</td>\n",
       "      <td>1.0</td>\n",
       "      <td>1.0</td>\n",
       "      <td>1.0</td>\n",
       "    </tr>\n",
       "    <tr>\n",
       "      <th>17</th>\n",
       "      <td>Kentucky</td>\n",
       "      <td>1.0</td>\n",
       "      <td>1.0</td>\n",
       "      <td>1.0</td>\n",
       "    </tr>\n",
       "    <tr>\n",
       "      <th>18</th>\n",
       "      <td>Louisiana</td>\n",
       "      <td>1.0</td>\n",
       "      <td>1.0</td>\n",
       "      <td>1.0</td>\n",
       "    </tr>\n",
       "    <tr>\n",
       "      <th>24</th>\n",
       "      <td>Mississippi</td>\n",
       "      <td>1.0</td>\n",
       "      <td>1.0</td>\n",
       "      <td>1.0</td>\n",
       "    </tr>\n",
       "  </tbody>\n",
       "</table>\n",
       "</div>"
      ],
      "text/plain": [
       "          state  act17_part  act18_part  act19_part\n",
       "0       Alabama         1.0         1.0         1.0\n",
       "3      Arkansas         1.0         1.0         1.0\n",
       "17     Kentucky         1.0         1.0         1.0\n",
       "18    Louisiana         1.0         1.0         1.0\n",
       "24  Mississippi         1.0         1.0         1.0"
      ]
     },
     "execution_count": 1143,
     "metadata": {},
     "output_type": "execute_result"
    }
   ],
   "source": [
    "# Highest ACT participation for states, 2017-2019\n",
    "states_data.sort_values(['act17_part','act18_part','act19_part'], \\\n",
    "ascending=False).head().loc[:,['state','act17_part','act18_part','act19_part']]"
   ]
  },
  {
   "cell_type": "code",
   "execution_count": 1144,
   "metadata": {},
   "outputs": [
    {
     "name": "stdout",
     "output_type": "stream",
     "text": [
      "act17_part    0.652549\n",
      "act18_part    0.617255\n",
      "act19_part    0.586667\n",
      "dtype: float64\n",
      "Number of states with 100% ACT participation in 2017: 17\n",
      "Number of states with 100% ACT participation in 2018: 17\n",
      "Number of states with 100% ACT participation in 2019: 15\n"
     ]
    }
   ],
   "source": [
    "# Average and 100% ACT participation for states, 2017-2019\n",
    "mask_act17 = states_data['act17_part']==1\n",
    "mask_act18 = states_data['act18_part']==1\n",
    "mask_act19 = states_data['act19_part']==1\n",
    "cols_act = ['act17_part','act18_part','act19_part']\n",
    "mean_allact = states_data[cols_act].mean()\n",
    "print(mean_allact)\n",
    "print('Number of states with 100% ACT participation in 2017:', mask_act17.sum())\n",
    "print('Number of states with 100% ACT participation in 2018:', mask_act18.sum())\n",
    "print('Number of states with 100% ACT participation in 2019:', mask_act19.sum())"
   ]
  },
  {
   "cell_type": "code",
   "execution_count": null,
   "metadata": {},
   "outputs": [],
   "source": []
  },
  {
   "cell_type": "code",
   "execution_count": 1145,
   "metadata": {},
   "outputs": [
    {
     "data": {
      "text/html": [
       "<div>\n",
       "<style scoped>\n",
       "    .dataframe tbody tr th:only-of-type {\n",
       "        vertical-align: middle;\n",
       "    }\n",
       "\n",
       "    .dataframe tbody tr th {\n",
       "        vertical-align: top;\n",
       "    }\n",
       "\n",
       "    .dataframe thead th {\n",
       "        text-align: right;\n",
       "    }\n",
       "</style>\n",
       "<table border=\"1\" class=\"dataframe\">\n",
       "  <thead>\n",
       "    <tr style=\"text-align: right;\">\n",
       "      <th></th>\n",
       "      <th>state</th>\n",
       "      <th>act17_part</th>\n",
       "      <th>act18_part</th>\n",
       "      <th>act19_part</th>\n",
       "    </tr>\n",
       "  </thead>\n",
       "  <tbody>\n",
       "    <tr>\n",
       "      <th>4</th>\n",
       "      <td>California</td>\n",
       "      <td>0.31</td>\n",
       "      <td>0.27</td>\n",
       "      <td>0.23</td>\n",
       "    </tr>\n",
       "  </tbody>\n",
       "</table>\n",
       "</div>"
      ],
      "text/plain": [
       "        state  act17_part  act18_part  act19_part\n",
       "4  California        0.31        0.27        0.23"
      ]
     },
     "execution_count": 1145,
     "metadata": {},
     "output_type": "execute_result"
    }
   ],
   "source": [
    "# ACT participation rate for California\n",
    "states_data.loc[(states_data.state == 'California'), ['state','act17_part','act18_part','act19_part']]"
   ]
  },
  {
   "cell_type": "markdown",
   "metadata": {},
   "source": [
    "From 2017 to 2019, we can see that ACT participations across the country has been dropping on average. The number of states with 100% ACT participation rates has dropped from 17 to 15. For California, its ACT participation rate is quite low as compared to other states, and it is also showing a downward trend from 31% to 23%."
   ]
  },
  {
   "cell_type": "markdown",
   "metadata": {},
   "source": [
    "For SAT"
   ]
  },
  {
   "cell_type": "code",
   "execution_count": 1146,
   "metadata": {},
   "outputs": [
    {
     "data": {
      "text/html": [
       "<div>\n",
       "<style scoped>\n",
       "    .dataframe tbody tr th:only-of-type {\n",
       "        vertical-align: middle;\n",
       "    }\n",
       "\n",
       "    .dataframe tbody tr th {\n",
       "        vertical-align: top;\n",
       "    }\n",
       "\n",
       "    .dataframe thead th {\n",
       "        text-align: right;\n",
       "    }\n",
       "</style>\n",
       "<table border=\"1\" class=\"dataframe\">\n",
       "  <thead>\n",
       "    <tr style=\"text-align: right;\">\n",
       "      <th></th>\n",
       "      <th>state</th>\n",
       "      <th>sat17_part</th>\n",
       "      <th>sat18_part</th>\n",
       "      <th>sat19_part</th>\n",
       "    </tr>\n",
       "  </thead>\n",
       "  <tbody>\n",
       "    <tr>\n",
       "      <th>34</th>\n",
       "      <td>North Dakota</td>\n",
       "      <td>0.02</td>\n",
       "      <td>0.02</td>\n",
       "      <td>0.02</td>\n",
       "    </tr>\n",
       "    <tr>\n",
       "      <th>15</th>\n",
       "      <td>Iowa</td>\n",
       "      <td>0.02</td>\n",
       "      <td>0.03</td>\n",
       "      <td>0.03</td>\n",
       "    </tr>\n",
       "    <tr>\n",
       "      <th>24</th>\n",
       "      <td>Mississippi</td>\n",
       "      <td>0.02</td>\n",
       "      <td>0.03</td>\n",
       "      <td>0.03</td>\n",
       "    </tr>\n",
       "    <tr>\n",
       "      <th>27</th>\n",
       "      <td>Nebraska</td>\n",
       "      <td>0.03</td>\n",
       "      <td>0.03</td>\n",
       "      <td>0.03</td>\n",
       "    </tr>\n",
       "    <tr>\n",
       "      <th>41</th>\n",
       "      <td>South Dakota</td>\n",
       "      <td>0.03</td>\n",
       "      <td>0.03</td>\n",
       "      <td>0.03</td>\n",
       "    </tr>\n",
       "  </tbody>\n",
       "</table>\n",
       "</div>"
      ],
      "text/plain": [
       "           state  sat17_part  sat18_part  sat19_part\n",
       "34  North Dakota        0.02        0.02        0.02\n",
       "15          Iowa        0.02        0.03        0.03\n",
       "24   Mississippi        0.02        0.03        0.03\n",
       "27      Nebraska        0.03        0.03        0.03\n",
       "41  South Dakota        0.03        0.03        0.03"
      ]
     },
     "execution_count": 1146,
     "metadata": {},
     "output_type": "execute_result"
    }
   ],
   "source": [
    "# Lowest SAT participation states, 2017-2019\n",
    "states_data.sort_values(['sat17_part','sat18_part','sat19_part'], \\\n",
    "ascending=True).head().loc[:,['state','sat17_part','sat18_part','sat19_part']]"
   ]
  },
  {
   "cell_type": "code",
   "execution_count": 1147,
   "metadata": {},
   "outputs": [
    {
     "data": {
      "text/html": [
       "<div>\n",
       "<style scoped>\n",
       "    .dataframe tbody tr th:only-of-type {\n",
       "        vertical-align: middle;\n",
       "    }\n",
       "\n",
       "    .dataframe tbody tr th {\n",
       "        vertical-align: top;\n",
       "    }\n",
       "\n",
       "    .dataframe thead th {\n",
       "        text-align: right;\n",
       "    }\n",
       "</style>\n",
       "<table border=\"1\" class=\"dataframe\">\n",
       "  <thead>\n",
       "    <tr style=\"text-align: right;\">\n",
       "      <th></th>\n",
       "      <th>state</th>\n",
       "      <th>sat17_part</th>\n",
       "      <th>sat18_part</th>\n",
       "      <th>sat19_part</th>\n",
       "    </tr>\n",
       "  </thead>\n",
       "  <tbody>\n",
       "    <tr>\n",
       "      <th>6</th>\n",
       "      <td>Connecticut</td>\n",
       "      <td>1.00</td>\n",
       "      <td>1.00</td>\n",
       "      <td>1.00</td>\n",
       "    </tr>\n",
       "    <tr>\n",
       "      <th>7</th>\n",
       "      <td>Delaware</td>\n",
       "      <td>1.00</td>\n",
       "      <td>1.00</td>\n",
       "      <td>1.00</td>\n",
       "    </tr>\n",
       "    <tr>\n",
       "      <th>22</th>\n",
       "      <td>Michigan</td>\n",
       "      <td>1.00</td>\n",
       "      <td>1.00</td>\n",
       "      <td>1.00</td>\n",
       "    </tr>\n",
       "    <tr>\n",
       "      <th>8</th>\n",
       "      <td>District of Columbia</td>\n",
       "      <td>1.00</td>\n",
       "      <td>0.92</td>\n",
       "      <td>0.94</td>\n",
       "    </tr>\n",
       "    <tr>\n",
       "      <th>29</th>\n",
       "      <td>New Hampshire</td>\n",
       "      <td>0.96</td>\n",
       "      <td>0.96</td>\n",
       "      <td>0.95</td>\n",
       "    </tr>\n",
       "  </tbody>\n",
       "</table>\n",
       "</div>"
      ],
      "text/plain": [
       "                   state  sat17_part  sat18_part  sat19_part\n",
       "6            Connecticut        1.00        1.00        1.00\n",
       "7               Delaware        1.00        1.00        1.00\n",
       "22              Michigan        1.00        1.00        1.00\n",
       "8   District of Columbia        1.00        0.92        0.94\n",
       "29         New Hampshire        0.96        0.96        0.95"
      ]
     },
     "execution_count": 1147,
     "metadata": {},
     "output_type": "execute_result"
    }
   ],
   "source": [
    "# Highest SAT participation states, 2017-2019\n",
    "states_data.sort_values(['sat17_part','sat18_part','sat19_part'], \\\n",
    "ascending=False).head().loc[:,['state','sat17_part','sat18_part','sat19_part']]"
   ]
  },
  {
   "cell_type": "code",
   "execution_count": 1148,
   "metadata": {},
   "outputs": [
    {
     "name": "stdout",
     "output_type": "stream",
     "text": [
      "sat17_part    0.398039\n",
      "sat18_part    0.457451\n",
      "sat19_part    0.490588\n",
      "dtype: float64\n",
      "Number of states with 100% SAT participation in 2017: 4\n",
      "Number of states with 100% SAT participation in 2018: 5\n",
      "Number of states with 100% SAT participation in 2019: 8\n"
     ]
    }
   ],
   "source": [
    "# Average and 100% SAT participation for states, 2017-2019\n",
    "mask_sat17 = states_data['sat17_part']==1\n",
    "mask_sat18 = states_data['sat18_part']==1\n",
    "mask_sat19 = states_data['sat19_part']==1\n",
    "cols_sat = ['sat17_part','sat18_part','sat19_part']\n",
    "mean_allsat = states_data[cols].mean()\n",
    "print(mean_allsat)\n",
    "print('Number of states with 100% SAT participation in 2017:', mask_sat17.sum())\n",
    "print('Number of states with 100% SAT participation in 2018:', mask_sat18.sum())\n",
    "print('Number of states with 100% SAT participation in 2019:', mask_sat19.sum())"
   ]
  },
  {
   "cell_type": "code",
   "execution_count": 1149,
   "metadata": {},
   "outputs": [
    {
     "data": {
      "text/html": [
       "<div>\n",
       "<style scoped>\n",
       "    .dataframe tbody tr th:only-of-type {\n",
       "        vertical-align: middle;\n",
       "    }\n",
       "\n",
       "    .dataframe tbody tr th {\n",
       "        vertical-align: top;\n",
       "    }\n",
       "\n",
       "    .dataframe thead th {\n",
       "        text-align: right;\n",
       "    }\n",
       "</style>\n",
       "<table border=\"1\" class=\"dataframe\">\n",
       "  <thead>\n",
       "    <tr style=\"text-align: right;\">\n",
       "      <th></th>\n",
       "      <th>state</th>\n",
       "      <th>sat17_part</th>\n",
       "      <th>sat18_part</th>\n",
       "      <th>sat19_part</th>\n",
       "    </tr>\n",
       "  </thead>\n",
       "  <tbody>\n",
       "    <tr>\n",
       "      <th>4</th>\n",
       "      <td>California</td>\n",
       "      <td>0.53</td>\n",
       "      <td>0.6</td>\n",
       "      <td>0.63</td>\n",
       "    </tr>\n",
       "  </tbody>\n",
       "</table>\n",
       "</div>"
      ],
      "text/plain": [
       "        state  sat17_part  sat18_part  sat19_part\n",
       "4  California        0.53         0.6        0.63"
      ]
     },
     "execution_count": 1149,
     "metadata": {},
     "output_type": "execute_result"
    }
   ],
   "source": [
    "# SAT participation rate for California\n",
    "states_data.loc[(states_data.state == 'California'), ['state','sat17_part','sat18_part','sat19_part']]"
   ]
  },
  {
   "cell_type": "markdown",
   "metadata": {},
   "source": [
    "From 2017 to 2019, we can see that there is an upward trend in SAT participations across the country on average. The number of states with 100% SAT participation rates has increased from 4 to 8. For California, its SAT participation rate is higher than that of ACT from 2017 to 2019, and it is also trending up with an increase of 10%."
   ]
  },
  {
   "cell_type": "markdown",
   "metadata": {},
   "source": [
    "**b) Investigate GDP per capita**"
   ]
  },
  {
   "cell_type": "markdown",
   "metadata": {},
   "source": [
    "**Note: As only 2019 population data is available, we will use it to compute GDP per capita for 2019. As such, subsequent computations and graphs will be mainly based on data from 2019.**"
   ]
  },
  {
   "cell_type": "code",
   "execution_count": 1150,
   "metadata": {},
   "outputs": [
    {
     "data": {
      "text/html": [
       "<div>\n",
       "<style scoped>\n",
       "    .dataframe tbody tr th:only-of-type {\n",
       "        vertical-align: middle;\n",
       "    }\n",
       "\n",
       "    .dataframe tbody tr th {\n",
       "        vertical-align: top;\n",
       "    }\n",
       "\n",
       "    .dataframe thead th {\n",
       "        text-align: right;\n",
       "    }\n",
       "</style>\n",
       "<table border=\"1\" class=\"dataframe\">\n",
       "  <thead>\n",
       "    <tr style=\"text-align: right;\">\n",
       "      <th></th>\n",
       "      <th>state</th>\n",
       "      <th>gdp17</th>\n",
       "      <th>gdp18</th>\n",
       "      <th>gdp19</th>\n",
       "    </tr>\n",
       "  </thead>\n",
       "  <tbody>\n",
       "    <tr>\n",
       "      <th>45</th>\n",
       "      <td>Vermont</td>\n",
       "      <td>32246.9</td>\n",
       "      <td>33032.7</td>\n",
       "      <td>34127.5</td>\n",
       "    </tr>\n",
       "    <tr>\n",
       "      <th>50</th>\n",
       "      <td>Wyoming</td>\n",
       "      <td>36863.7</td>\n",
       "      <td>39032.3</td>\n",
       "      <td>39600.8</td>\n",
       "    </tr>\n",
       "    <tr>\n",
       "      <th>26</th>\n",
       "      <td>Montana</td>\n",
       "      <td>48439.5</td>\n",
       "      <td>50903.8</td>\n",
       "      <td>51789.3</td>\n",
       "    </tr>\n",
       "    <tr>\n",
       "      <th>41</th>\n",
       "      <td>South Dakota</td>\n",
       "      <td>50299.4</td>\n",
       "      <td>52404.3</td>\n",
       "      <td>53939.9</td>\n",
       "    </tr>\n",
       "    <tr>\n",
       "      <th>1</th>\n",
       "      <td>Alaska</td>\n",
       "      <td>53089.3</td>\n",
       "      <td>54711.7</td>\n",
       "      <td>54547.1</td>\n",
       "    </tr>\n",
       "  </tbody>\n",
       "</table>\n",
       "</div>"
      ],
      "text/plain": [
       "           state    gdp17    gdp18    gdp19\n",
       "45       Vermont  32246.9  33032.7  34127.5\n",
       "50       Wyoming  36863.7  39032.3  39600.8\n",
       "26       Montana  48439.5  50903.8  51789.3\n",
       "41  South Dakota  50299.4  52404.3  53939.9\n",
       "1         Alaska  53089.3  54711.7  54547.1"
      ]
     },
     "execution_count": 1150,
     "metadata": {},
     "output_type": "execute_result"
    }
   ],
   "source": [
    "# Lowest GDP for states, 2017-2019\n",
    "states_data.sort_values(['gdp17','gdp18','gdp19'], \\\n",
    "ascending=True).head().loc[:,['state','gdp17','gdp18','gdp19']]"
   ]
  },
  {
   "cell_type": "code",
   "execution_count": 1151,
   "metadata": {},
   "outputs": [
    {
     "data": {
      "text/html": [
       "<div>\n",
       "<style scoped>\n",
       "    .dataframe tbody tr th:only-of-type {\n",
       "        vertical-align: middle;\n",
       "    }\n",
       "\n",
       "    .dataframe tbody tr th {\n",
       "        vertical-align: top;\n",
       "    }\n",
       "\n",
       "    .dataframe thead th {\n",
       "        text-align: right;\n",
       "    }\n",
       "</style>\n",
       "<table border=\"1\" class=\"dataframe\">\n",
       "  <thead>\n",
       "    <tr style=\"text-align: right;\">\n",
       "      <th></th>\n",
       "      <th>state</th>\n",
       "      <th>gdp17</th>\n",
       "      <th>gdp18</th>\n",
       "      <th>gdp19</th>\n",
       "    </tr>\n",
       "  </thead>\n",
       "  <tbody>\n",
       "    <tr>\n",
       "      <th>4</th>\n",
       "      <td>California</td>\n",
       "      <td>2730973.9</td>\n",
       "      <td>2895101.0</td>\n",
       "      <td>3052645.2</td>\n",
       "    </tr>\n",
       "    <tr>\n",
       "      <th>43</th>\n",
       "      <td>Texas</td>\n",
       "      <td>1677110.9</td>\n",
       "      <td>1809706.4</td>\n",
       "      <td>1863953.8</td>\n",
       "    </tr>\n",
       "    <tr>\n",
       "      <th>32</th>\n",
       "      <td>New York</td>\n",
       "      <td>1603903.4</td>\n",
       "      <td>1694957.9</td>\n",
       "      <td>1777751.8</td>\n",
       "    </tr>\n",
       "    <tr>\n",
       "      <th>9</th>\n",
       "      <td>Florida</td>\n",
       "      <td>1002568.1</td>\n",
       "      <td>1057862.3</td>\n",
       "      <td>1116435.4</td>\n",
       "    </tr>\n",
       "    <tr>\n",
       "      <th>13</th>\n",
       "      <td>Illinois</td>\n",
       "      <td>827075.2</td>\n",
       "      <td>867535.5</td>\n",
       "      <td>890486.1</td>\n",
       "    </tr>\n",
       "  </tbody>\n",
       "</table>\n",
       "</div>"
      ],
      "text/plain": [
       "         state      gdp17      gdp18      gdp19\n",
       "4   California  2730973.9  2895101.0  3052645.2\n",
       "43       Texas  1677110.9  1809706.4  1863953.8\n",
       "32    New York  1603903.4  1694957.9  1777751.8\n",
       "9      Florida  1002568.1  1057862.3  1116435.4\n",
       "13    Illinois   827075.2   867535.5   890486.1"
      ]
     },
     "execution_count": 1151,
     "metadata": {},
     "output_type": "execute_result"
    }
   ],
   "source": [
    "# Highest GDP for states, 2017-2019\n",
    "states_data.sort_values(['gdp17','gdp18','gdp19'], \\\n",
    "ascending=False).head().loc[:,['state','gdp17','gdp18','gdp19']]"
   ]
  },
  {
   "cell_type": "code",
   "execution_count": 1152,
   "metadata": {},
   "outputs": [
    {
     "data": {
      "text/html": [
       "<div>\n",
       "<style scoped>\n",
       "    .dataframe tbody tr th:only-of-type {\n",
       "        vertical-align: middle;\n",
       "    }\n",
       "\n",
       "    .dataframe tbody tr th {\n",
       "        vertical-align: top;\n",
       "    }\n",
       "\n",
       "    .dataframe thead th {\n",
       "        text-align: right;\n",
       "    }\n",
       "</style>\n",
       "<table border=\"1\" class=\"dataframe\">\n",
       "  <thead>\n",
       "    <tr style=\"text-align: right;\">\n",
       "      <th></th>\n",
       "      <th>state</th>\n",
       "      <th>gdp17</th>\n",
       "      <th>gdp19</th>\n",
       "      <th>gdp_change</th>\n",
       "    </tr>\n",
       "  </thead>\n",
       "  <tbody>\n",
       "    <tr>\n",
       "      <th>4</th>\n",
       "      <td>California</td>\n",
       "      <td>2730973.9</td>\n",
       "      <td>3052645.2</td>\n",
       "      <td>321671.3</td>\n",
       "    </tr>\n",
       "    <tr>\n",
       "      <th>43</th>\n",
       "      <td>Texas</td>\n",
       "      <td>1677110.9</td>\n",
       "      <td>1863953.8</td>\n",
       "      <td>186842.9</td>\n",
       "    </tr>\n",
       "    <tr>\n",
       "      <th>32</th>\n",
       "      <td>New York</td>\n",
       "      <td>1603903.4</td>\n",
       "      <td>1777751.8</td>\n",
       "      <td>173848.4</td>\n",
       "    </tr>\n",
       "    <tr>\n",
       "      <th>9</th>\n",
       "      <td>Florida</td>\n",
       "      <td>1002568.1</td>\n",
       "      <td>1116435.4</td>\n",
       "      <td>113867.3</td>\n",
       "    </tr>\n",
       "    <tr>\n",
       "      <th>13</th>\n",
       "      <td>Illinois</td>\n",
       "      <td>827075.2</td>\n",
       "      <td>890486.1</td>\n",
       "      <td>63410.9</td>\n",
       "    </tr>\n",
       "  </tbody>\n",
       "</table>\n",
       "</div>"
      ],
      "text/plain": [
       "         state      gdp17      gdp19  gdp_change\n",
       "4   California  2730973.9  3052645.2    321671.3\n",
       "43       Texas  1677110.9  1863953.8    186842.9\n",
       "32    New York  1603903.4  1777751.8    173848.4\n",
       "9      Florida  1002568.1  1116435.4    113867.3\n",
       "13    Illinois   827075.2   890486.1     63410.9"
      ]
     },
     "execution_count": 1152,
     "metadata": {},
     "output_type": "execute_result"
    }
   ],
   "source": [
    "# Changes in GDP\n",
    "states_data['gdp_change'] = states_data['gdp19'] - states_data['gdp17']\n",
    "states_data.sort_values(['gdp17','gdp19','gdp_change'], \\\n",
    "ascending=False).head().loc[:,['state','gdp17','gdp19','gdp_change']]"
   ]
  },
  {
   "cell_type": "code",
   "execution_count": 1153,
   "metadata": {},
   "outputs": [
    {
     "data": {
      "text/html": [
       "<div>\n",
       "<style scoped>\n",
       "    .dataframe tbody tr th:only-of-type {\n",
       "        vertical-align: middle;\n",
       "    }\n",
       "\n",
       "    .dataframe tbody tr th {\n",
       "        vertical-align: top;\n",
       "    }\n",
       "\n",
       "    .dataframe thead th {\n",
       "        text-align: right;\n",
       "    }\n",
       "</style>\n",
       "<table border=\"1\" class=\"dataframe\">\n",
       "  <thead>\n",
       "    <tr style=\"text-align: right;\">\n",
       "      <th></th>\n",
       "      <th>state</th>\n",
       "      <th>act17_part</th>\n",
       "      <th>sat17_part</th>\n",
       "      <th>act18_part</th>\n",
       "      <th>sat18_part</th>\n",
       "      <th>act19_part</th>\n",
       "      <th>sat19_part</th>\n",
       "      <th>pop19</th>\n",
       "      <th>poverty_pct</th>\n",
       "      <th>income17</th>\n",
       "      <th>income18</th>\n",
       "      <th>income19</th>\n",
       "      <th>gdp17</th>\n",
       "      <th>gdp18</th>\n",
       "      <th>gdp19</th>\n",
       "      <th>gdp19_percap</th>\n",
       "    </tr>\n",
       "  </thead>\n",
       "  <tbody>\n",
       "    <tr>\n",
       "      <th>0</th>\n",
       "      <td>Alabama</td>\n",
       "      <td>1.00</td>\n",
       "      <td>0.05</td>\n",
       "      <td>1.00</td>\n",
       "      <td>0.06</td>\n",
       "      <td>1.00</td>\n",
       "      <td>0.07</td>\n",
       "      <td>4903185</td>\n",
       "      <td>14.7</td>\n",
       "      <td>50200.0</td>\n",
       "      <td>50800.0</td>\n",
       "      <td>51700.0</td>\n",
       "      <td>215085.9</td>\n",
       "      <td>224046.9</td>\n",
       "      <td>231171.8</td>\n",
       "      <td>47147.0</td>\n",
       "    </tr>\n",
       "    <tr>\n",
       "      <th>1</th>\n",
       "      <td>Alaska</td>\n",
       "      <td>0.65</td>\n",
       "      <td>0.38</td>\n",
       "      <td>0.33</td>\n",
       "      <td>0.43</td>\n",
       "      <td>0.38</td>\n",
       "      <td>0.41</td>\n",
       "      <td>731545</td>\n",
       "      <td>11.8</td>\n",
       "      <td>76300.0</td>\n",
       "      <td>75700.0</td>\n",
       "      <td>75500.0</td>\n",
       "      <td>53089.3</td>\n",
       "      <td>54711.7</td>\n",
       "      <td>54547.1</td>\n",
       "      <td>74564.0</td>\n",
       "    </tr>\n",
       "    <tr>\n",
       "      <th>2</th>\n",
       "      <td>Arizona</td>\n",
       "      <td>0.62</td>\n",
       "      <td>0.30</td>\n",
       "      <td>0.66</td>\n",
       "      <td>0.29</td>\n",
       "      <td>0.73</td>\n",
       "      <td>0.31</td>\n",
       "      <td>7278717</td>\n",
       "      <td>12.1</td>\n",
       "      <td>59000.0</td>\n",
       "      <td>60300.0</td>\n",
       "      <td>62100.0</td>\n",
       "      <td>330416.1</td>\n",
       "      <td>349907.5</td>\n",
       "      <td>369988.2</td>\n",
       "      <td>50832.0</td>\n",
       "    </tr>\n",
       "  </tbody>\n",
       "</table>\n",
       "</div>"
      ],
      "text/plain": [
       "     state  act17_part  sat17_part  act18_part  sat18_part  act19_part  \\\n",
       "0  Alabama        1.00        0.05        1.00        0.06        1.00   \n",
       "1   Alaska        0.65        0.38        0.33        0.43        0.38   \n",
       "2  Arizona        0.62        0.30        0.66        0.29        0.73   \n",
       "\n",
       "   sat19_part    pop19  poverty_pct  income17  income18  income19     gdp17  \\\n",
       "0        0.07  4903185         14.7   50200.0   50800.0   51700.0  215085.9   \n",
       "1        0.41   731545         11.8   76300.0   75700.0   75500.0   53089.3   \n",
       "2        0.31  7278717         12.1   59000.0   60300.0   62100.0  330416.1   \n",
       "\n",
       "      gdp18     gdp19  gdp19_percap  \n",
       "0  224046.9  231171.8       47147.0  \n",
       "1   54711.7   54547.1       74564.0  \n",
       "2  349907.5  369988.2       50832.0  "
      ]
     },
     "execution_count": 1153,
     "metadata": {},
     "output_type": "execute_result"
    }
   ],
   "source": [
    "# Drop column gdp_change\n",
    "states_data.drop(columns = {'gdp_change'}, inplace = True)\n",
    "states_data.head(3)"
   ]
  },
  {
   "cell_type": "code",
   "execution_count": 1154,
   "metadata": {},
   "outputs": [
    {
     "data": {
      "text/html": [
       "<div>\n",
       "<style scoped>\n",
       "    .dataframe tbody tr th:only-of-type {\n",
       "        vertical-align: middle;\n",
       "    }\n",
       "\n",
       "    .dataframe tbody tr th {\n",
       "        vertical-align: top;\n",
       "    }\n",
       "\n",
       "    .dataframe thead th {\n",
       "        text-align: right;\n",
       "    }\n",
       "</style>\n",
       "<table border=\"1\" class=\"dataframe\">\n",
       "  <thead>\n",
       "    <tr style=\"text-align: right;\">\n",
       "      <th></th>\n",
       "      <th>state</th>\n",
       "      <th>gdp17</th>\n",
       "      <th>gdp18</th>\n",
       "      <th>gdp19</th>\n",
       "      <th>act17_part</th>\n",
       "      <th>act18_part</th>\n",
       "      <th>act19_part</th>\n",
       "      <th>sat17_part</th>\n",
       "      <th>sat18_part</th>\n",
       "      <th>sat19_part</th>\n",
       "    </tr>\n",
       "  </thead>\n",
       "  <tbody>\n",
       "    <tr>\n",
       "      <th>4</th>\n",
       "      <td>California</td>\n",
       "      <td>2730973.9</td>\n",
       "      <td>2895101.0</td>\n",
       "      <td>3052645.2</td>\n",
       "      <td>0.31</td>\n",
       "      <td>0.27</td>\n",
       "      <td>0.23</td>\n",
       "      <td>0.53</td>\n",
       "      <td>0.6</td>\n",
       "      <td>0.63</td>\n",
       "    </tr>\n",
       "  </tbody>\n",
       "</table>\n",
       "</div>"
      ],
      "text/plain": [
       "        state      gdp17      gdp18      gdp19  act17_part  act18_part  \\\n",
       "4  California  2730973.9  2895101.0  3052645.2        0.31        0.27   \n",
       "\n",
       "   act19_part  sat17_part  sat18_part  sat19_part  \n",
       "4        0.23        0.53         0.6        0.63  "
      ]
     },
     "execution_count": 1154,
     "metadata": {},
     "output_type": "execute_result"
    }
   ],
   "source": [
    "# GDP and ACT/SAT participation rate for California\n",
    "mask_ca = states_data['state'] == 'California'\n",
    "states_data.loc[(mask_ca), ['state','gdp17','gdp18','gdp19',\\\n",
    "                            'act17_part','act18_part','act19_part',\\\n",
    "                            'sat17_part','sat18_part','sat19_part']]"
   ]
  },
  {
   "cell_type": "markdown",
   "metadata": {},
   "source": [
    "Generally, GDP has increased across the country from 2017 to 2019. As observe from the data, California GDP is highest in all 3 years, and it is on the upward trend. "
   ]
  },
  {
   "cell_type": "code",
   "execution_count": 1155,
   "metadata": {},
   "outputs": [
    {
     "data": {
      "text/html": [
       "<div>\n",
       "<style scoped>\n",
       "    .dataframe tbody tr th:only-of-type {\n",
       "        vertical-align: middle;\n",
       "    }\n",
       "\n",
       "    .dataframe tbody tr th {\n",
       "        vertical-align: top;\n",
       "    }\n",
       "\n",
       "    .dataframe thead th {\n",
       "        text-align: right;\n",
       "    }\n",
       "</style>\n",
       "<table border=\"1\" class=\"dataframe\">\n",
       "  <thead>\n",
       "    <tr style=\"text-align: right;\">\n",
       "      <th></th>\n",
       "      <th>state</th>\n",
       "      <th>gdp19_percap</th>\n",
       "      <th>act19_part</th>\n",
       "      <th>sat19_part</th>\n",
       "    </tr>\n",
       "  </thead>\n",
       "  <tbody>\n",
       "    <tr>\n",
       "      <th>8</th>\n",
       "      <td>District of Columbia</td>\n",
       "      <td>204613.0</td>\n",
       "      <td>0.32</td>\n",
       "      <td>0.94</td>\n",
       "    </tr>\n",
       "    <tr>\n",
       "      <th>32</th>\n",
       "      <td>New York</td>\n",
       "      <td>91384.0</td>\n",
       "      <td>0.22</td>\n",
       "      <td>0.79</td>\n",
       "    </tr>\n",
       "    <tr>\n",
       "      <th>21</th>\n",
       "      <td>Massachusetts</td>\n",
       "      <td>86073.0</td>\n",
       "      <td>0.21</td>\n",
       "      <td>0.81</td>\n",
       "    </tr>\n",
       "    <tr>\n",
       "      <th>6</th>\n",
       "      <td>Connecticut</td>\n",
       "      <td>80810.0</td>\n",
       "      <td>0.22</td>\n",
       "      <td>1.00</td>\n",
       "    </tr>\n",
       "    <tr>\n",
       "      <th>7</th>\n",
       "      <td>Delaware</td>\n",
       "      <td>79118.0</td>\n",
       "      <td>0.13</td>\n",
       "      <td>1.00</td>\n",
       "    </tr>\n",
       "    <tr>\n",
       "      <th>47</th>\n",
       "      <td>Washington</td>\n",
       "      <td>78514.0</td>\n",
       "      <td>0.24</td>\n",
       "      <td>0.70</td>\n",
       "    </tr>\n",
       "    <tr>\n",
       "      <th>34</th>\n",
       "      <td>North Dakota</td>\n",
       "      <td>77427.0</td>\n",
       "      <td>0.96</td>\n",
       "      <td>0.02</td>\n",
       "    </tr>\n",
       "    <tr>\n",
       "      <th>4</th>\n",
       "      <td>California</td>\n",
       "      <td>77258.0</td>\n",
       "      <td>0.23</td>\n",
       "      <td>0.63</td>\n",
       "    </tr>\n",
       "    <tr>\n",
       "      <th>1</th>\n",
       "      <td>Alaska</td>\n",
       "      <td>74564.0</td>\n",
       "      <td>0.38</td>\n",
       "      <td>0.41</td>\n",
       "    </tr>\n",
       "    <tr>\n",
       "      <th>30</th>\n",
       "      <td>New Jersey</td>\n",
       "      <td>71991.0</td>\n",
       "      <td>0.25</td>\n",
       "      <td>0.82</td>\n",
       "    </tr>\n",
       "  </tbody>\n",
       "</table>\n",
       "</div>"
      ],
      "text/plain": [
       "                   state  gdp19_percap  act19_part  sat19_part\n",
       "8   District of Columbia      204613.0        0.32        0.94\n",
       "32              New York       91384.0        0.22        0.79\n",
       "21         Massachusetts       86073.0        0.21        0.81\n",
       "6            Connecticut       80810.0        0.22        1.00\n",
       "7               Delaware       79118.0        0.13        1.00\n",
       "47            Washington       78514.0        0.24        0.70\n",
       "34          North Dakota       77427.0        0.96        0.02\n",
       "4             California       77258.0        0.23        0.63\n",
       "1                 Alaska       74564.0        0.38        0.41\n",
       "30            New Jersey       71991.0        0.25        0.82"
      ]
     },
     "execution_count": 1155,
     "metadata": {},
     "output_type": "execute_result"
    }
   ],
   "source": [
    "# Create mask and compare ACT/SAT particpation rates with gdp above 50th percentile\n",
    "mask_above50gdp = states_data['gdp19_percap'] > states_data['gdp19_percap'].median()\n",
    "mask_below50gdp = states_data['gdp19_percap'] < states_data['gdp19_percap'].median()\n",
    "states_data[mask_above50gdp].sort_values('gdp19_percap', ascending=False).head(10).loc[:,['state','gdp19_percap','act19_part','sat19_part']]"
   ]
  },
  {
   "cell_type": "code",
   "execution_count": 1156,
   "metadata": {},
   "outputs": [
    {
     "data": {
      "text/html": [
       "<div>\n",
       "<style scoped>\n",
       "    .dataframe tbody tr th:only-of-type {\n",
       "        vertical-align: middle;\n",
       "    }\n",
       "\n",
       "    .dataframe tbody tr th {\n",
       "        vertical-align: top;\n",
       "    }\n",
       "\n",
       "    .dataframe thead th {\n",
       "        text-align: right;\n",
       "    }\n",
       "</style>\n",
       "<table border=\"1\" class=\"dataframe\">\n",
       "  <thead>\n",
       "    <tr style=\"text-align: right;\">\n",
       "      <th></th>\n",
       "      <th>state</th>\n",
       "      <th>gdp19_percap</th>\n",
       "      <th>act19_part</th>\n",
       "      <th>sat19_part</th>\n",
       "    </tr>\n",
       "  </thead>\n",
       "  <tbody>\n",
       "    <tr>\n",
       "      <th>35</th>\n",
       "      <td>Ohio</td>\n",
       "      <td>59303.0</td>\n",
       "      <td>1.00</td>\n",
       "      <td>0.19</td>\n",
       "    </tr>\n",
       "    <tr>\n",
       "      <th>49</th>\n",
       "      <td>Wisconsin</td>\n",
       "      <td>59206.0</td>\n",
       "      <td>1.00</td>\n",
       "      <td>0.03</td>\n",
       "    </tr>\n",
       "    <tr>\n",
       "      <th>28</th>\n",
       "      <td>Nevada</td>\n",
       "      <td>59005.0</td>\n",
       "      <td>1.00</td>\n",
       "      <td>0.20</td>\n",
       "    </tr>\n",
       "    <tr>\n",
       "      <th>37</th>\n",
       "      <td>Oregon</td>\n",
       "      <td>58479.0</td>\n",
       "      <td>0.42</td>\n",
       "      <td>0.51</td>\n",
       "    </tr>\n",
       "    <tr>\n",
       "      <th>39</th>\n",
       "      <td>Rhode Island</td>\n",
       "      <td>57883.0</td>\n",
       "      <td>0.12</td>\n",
       "      <td>1.00</td>\n",
       "    </tr>\n",
       "    <tr>\n",
       "      <th>33</th>\n",
       "      <td>North Carolina</td>\n",
       "      <td>56794.0</td>\n",
       "      <td>1.00</td>\n",
       "      <td>0.51</td>\n",
       "    </tr>\n",
       "    <tr>\n",
       "      <th>14</th>\n",
       "      <td>Indiana</td>\n",
       "      <td>56597.0</td>\n",
       "      <td>0.29</td>\n",
       "      <td>0.66</td>\n",
       "    </tr>\n",
       "    <tr>\n",
       "      <th>42</th>\n",
       "      <td>Tennessee</td>\n",
       "      <td>55192.0</td>\n",
       "      <td>1.00</td>\n",
       "      <td>0.07</td>\n",
       "    </tr>\n",
       "    <tr>\n",
       "      <th>18</th>\n",
       "      <td>Louisiana</td>\n",
       "      <td>54759.0</td>\n",
       "      <td>1.00</td>\n",
       "      <td>0.05</td>\n",
       "    </tr>\n",
       "    <tr>\n",
       "      <th>45</th>\n",
       "      <td>Vermont</td>\n",
       "      <td>54692.0</td>\n",
       "      <td>0.20</td>\n",
       "      <td>0.66</td>\n",
       "    </tr>\n",
       "  </tbody>\n",
       "</table>\n",
       "</div>"
      ],
      "text/plain": [
       "             state  gdp19_percap  act19_part  sat19_part\n",
       "35            Ohio       59303.0        1.00        0.19\n",
       "49       Wisconsin       59206.0        1.00        0.03\n",
       "28          Nevada       59005.0        1.00        0.20\n",
       "37          Oregon       58479.0        0.42        0.51\n",
       "39    Rhode Island       57883.0        0.12        1.00\n",
       "33  North Carolina       56794.0        1.00        0.51\n",
       "14         Indiana       56597.0        0.29        0.66\n",
       "42       Tennessee       55192.0        1.00        0.07\n",
       "18       Louisiana       54759.0        1.00        0.05\n",
       "45         Vermont       54692.0        0.20        0.66"
      ]
     },
     "execution_count": 1156,
     "metadata": {},
     "output_type": "execute_result"
    }
   ],
   "source": [
    "# Compare ACT/SAT particpation rates with gdp below 50th percentile\n",
    "states_data[mask_below50gdp].sort_values('gdp19_percap', ascending=False).head(10).loc[:,['state','gdp19_percap','act19_part','sat19_part']]"
   ]
  },
  {
   "cell_type": "markdown",
   "metadata": {},
   "source": [
    "Further analysis shows that states with high GDP per capita have lower ACT participation rates and higher SAT participation rates. The opposite is true for states with low GDP. For California, there is a strong correlation between its GDP per capita and the ACT/SAT participation rates."
   ]
  },
  {
   "cell_type": "markdown",
   "metadata": {},
   "source": [
    "**c) Investigate median household income**"
   ]
  },
  {
   "cell_type": "code",
   "execution_count": 1157,
   "metadata": {},
   "outputs": [
    {
     "data": {
      "text/html": [
       "<div>\n",
       "<style scoped>\n",
       "    .dataframe tbody tr th:only-of-type {\n",
       "        vertical-align: middle;\n",
       "    }\n",
       "\n",
       "    .dataframe tbody tr th {\n",
       "        vertical-align: top;\n",
       "    }\n",
       "\n",
       "    .dataframe thead th {\n",
       "        text-align: right;\n",
       "    }\n",
       "</style>\n",
       "<table border=\"1\" class=\"dataframe\">\n",
       "  <thead>\n",
       "    <tr style=\"text-align: right;\">\n",
       "      <th></th>\n",
       "      <th>state</th>\n",
       "      <th>income17</th>\n",
       "      <th>income18</th>\n",
       "      <th>income19</th>\n",
       "    </tr>\n",
       "  </thead>\n",
       "  <tbody>\n",
       "    <tr>\n",
       "      <th>48</th>\n",
       "      <td>West Virginia</td>\n",
       "      <td>45300.0</td>\n",
       "      <td>44900.0</td>\n",
       "      <td>48900.0</td>\n",
       "    </tr>\n",
       "    <tr>\n",
       "      <th>24</th>\n",
       "      <td>Mississippi</td>\n",
       "      <td>45400.0</td>\n",
       "      <td>45500.0</td>\n",
       "      <td>45800.0</td>\n",
       "    </tr>\n",
       "    <tr>\n",
       "      <th>3</th>\n",
       "      <td>Arkansas</td>\n",
       "      <td>47800.0</td>\n",
       "      <td>47900.0</td>\n",
       "      <td>49000.0</td>\n",
       "    </tr>\n",
       "    <tr>\n",
       "      <th>18</th>\n",
       "      <td>Louisiana</td>\n",
       "      <td>48100.0</td>\n",
       "      <td>48800.0</td>\n",
       "      <td>51100.0</td>\n",
       "    </tr>\n",
       "    <tr>\n",
       "      <th>31</th>\n",
       "      <td>New Mexico</td>\n",
       "      <td>48800.0</td>\n",
       "      <td>48000.0</td>\n",
       "      <td>51900.0</td>\n",
       "    </tr>\n",
       "  </tbody>\n",
       "</table>\n",
       "</div>"
      ],
      "text/plain": [
       "            state  income17  income18  income19\n",
       "48  West Virginia   45300.0   44900.0   48900.0\n",
       "24    Mississippi   45400.0   45500.0   45800.0\n",
       "3        Arkansas   47800.0   47900.0   49000.0\n",
       "18      Louisiana   48100.0   48800.0   51100.0\n",
       "31     New Mexico   48800.0   48000.0   51900.0"
      ]
     },
     "execution_count": 1157,
     "metadata": {},
     "output_type": "execute_result"
    }
   ],
   "source": [
    "# Lowest household income for states, 2017-2019\n",
    "states_data.sort_values(['income17','income18','income19'], \\\n",
    "ascending=True).head().loc[:,['state','income17','income18','income19']]"
   ]
  },
  {
   "cell_type": "code",
   "execution_count": 1158,
   "metadata": {},
   "outputs": [
    {
     "data": {
      "text/html": [
       "<div>\n",
       "<style scoped>\n",
       "    .dataframe tbody tr th:only-of-type {\n",
       "        vertical-align: middle;\n",
       "    }\n",
       "\n",
       "    .dataframe tbody tr th {\n",
       "        vertical-align: top;\n",
       "    }\n",
       "\n",
       "    .dataframe thead th {\n",
       "        text-align: right;\n",
       "    }\n",
       "</style>\n",
       "<table border=\"1\" class=\"dataframe\">\n",
       "  <thead>\n",
       "    <tr style=\"text-align: right;\">\n",
       "      <th></th>\n",
       "      <th>state</th>\n",
       "      <th>income17</th>\n",
       "      <th>income18</th>\n",
       "      <th>income19</th>\n",
       "    </tr>\n",
       "  </thead>\n",
       "  <tbody>\n",
       "    <tr>\n",
       "      <th>8</th>\n",
       "      <td>District of Columbia</td>\n",
       "      <td>85900.0</td>\n",
       "      <td>86700.0</td>\n",
       "      <td>92300.0</td>\n",
       "    </tr>\n",
       "    <tr>\n",
       "      <th>20</th>\n",
       "      <td>Maryland</td>\n",
       "      <td>84200.0</td>\n",
       "      <td>84800.0</td>\n",
       "      <td>86700.0</td>\n",
       "    </tr>\n",
       "    <tr>\n",
       "      <th>30</th>\n",
       "      <td>New Jersey</td>\n",
       "      <td>83500.0</td>\n",
       "      <td>83200.0</td>\n",
       "      <td>85800.0</td>\n",
       "    </tr>\n",
       "    <tr>\n",
       "      <th>11</th>\n",
       "      <td>Hawaii</td>\n",
       "      <td>81100.0</td>\n",
       "      <td>81700.0</td>\n",
       "      <td>83100.0</td>\n",
       "    </tr>\n",
       "    <tr>\n",
       "      <th>21</th>\n",
       "      <td>Massachusetts</td>\n",
       "      <td>80700.0</td>\n",
       "      <td>81300.0</td>\n",
       "      <td>85800.0</td>\n",
       "    </tr>\n",
       "    <tr>\n",
       "      <th>6</th>\n",
       "      <td>Connecticut</td>\n",
       "      <td>77400.0</td>\n",
       "      <td>77700.0</td>\n",
       "      <td>78800.0</td>\n",
       "    </tr>\n",
       "    <tr>\n",
       "      <th>29</th>\n",
       "      <td>New Hampshire</td>\n",
       "      <td>76500.0</td>\n",
       "      <td>76300.0</td>\n",
       "      <td>77900.0</td>\n",
       "    </tr>\n",
       "    <tr>\n",
       "      <th>1</th>\n",
       "      <td>Alaska</td>\n",
       "      <td>76300.0</td>\n",
       "      <td>75700.0</td>\n",
       "      <td>75500.0</td>\n",
       "    </tr>\n",
       "    <tr>\n",
       "      <th>4</th>\n",
       "      <td>California</td>\n",
       "      <td>74900.0</td>\n",
       "      <td>76600.0</td>\n",
       "      <td>80400.0</td>\n",
       "    </tr>\n",
       "    <tr>\n",
       "      <th>46</th>\n",
       "      <td>Virginia</td>\n",
       "      <td>74600.0</td>\n",
       "      <td>73900.0</td>\n",
       "      <td>76500.0</td>\n",
       "    </tr>\n",
       "  </tbody>\n",
       "</table>\n",
       "</div>"
      ],
      "text/plain": [
       "                   state  income17  income18  income19\n",
       "8   District of Columbia   85900.0   86700.0   92300.0\n",
       "20              Maryland   84200.0   84800.0   86700.0\n",
       "30            New Jersey   83500.0   83200.0   85800.0\n",
       "11                Hawaii   81100.0   81700.0   83100.0\n",
       "21         Massachusetts   80700.0   81300.0   85800.0\n",
       "6            Connecticut   77400.0   77700.0   78800.0\n",
       "29         New Hampshire   76500.0   76300.0   77900.0\n",
       "1                 Alaska   76300.0   75700.0   75500.0\n",
       "4             California   74900.0   76600.0   80400.0\n",
       "46              Virginia   74600.0   73900.0   76500.0"
      ]
     },
     "execution_count": 1158,
     "metadata": {},
     "output_type": "execute_result"
    }
   ],
   "source": [
    "# Highest household income for states, 2017-2019\n",
    "states_data.sort_values(['income17','income18','income19'], \\\n",
    "ascending=False).head(10).loc[:,['state','income17','income18','income19']]"
   ]
  },
  {
   "cell_type": "code",
   "execution_count": 1159,
   "metadata": {},
   "outputs": [
    {
     "data": {
      "text/html": [
       "<div>\n",
       "<style scoped>\n",
       "    .dataframe tbody tr th:only-of-type {\n",
       "        vertical-align: middle;\n",
       "    }\n",
       "\n",
       "    .dataframe tbody tr th {\n",
       "        vertical-align: top;\n",
       "    }\n",
       "\n",
       "    .dataframe thead th {\n",
       "        text-align: right;\n",
       "    }\n",
       "</style>\n",
       "<table border=\"1\" class=\"dataframe\">\n",
       "  <thead>\n",
       "    <tr style=\"text-align: right;\">\n",
       "      <th></th>\n",
       "      <th>state</th>\n",
       "      <th>income17</th>\n",
       "      <th>income19</th>\n",
       "      <th>income_change</th>\n",
       "    </tr>\n",
       "  </thead>\n",
       "  <tbody>\n",
       "    <tr>\n",
       "      <th>8</th>\n",
       "      <td>District of Columbia</td>\n",
       "      <td>85900.0</td>\n",
       "      <td>92300.0</td>\n",
       "      <td>6400.0</td>\n",
       "    </tr>\n",
       "    <tr>\n",
       "      <th>20</th>\n",
       "      <td>Maryland</td>\n",
       "      <td>84200.0</td>\n",
       "      <td>86700.0</td>\n",
       "      <td>2500.0</td>\n",
       "    </tr>\n",
       "    <tr>\n",
       "      <th>30</th>\n",
       "      <td>New Jersey</td>\n",
       "      <td>83500.0</td>\n",
       "      <td>85800.0</td>\n",
       "      <td>2300.0</td>\n",
       "    </tr>\n",
       "    <tr>\n",
       "      <th>11</th>\n",
       "      <td>Hawaii</td>\n",
       "      <td>81100.0</td>\n",
       "      <td>83100.0</td>\n",
       "      <td>2000.0</td>\n",
       "    </tr>\n",
       "    <tr>\n",
       "      <th>21</th>\n",
       "      <td>Massachusetts</td>\n",
       "      <td>80700.0</td>\n",
       "      <td>85800.0</td>\n",
       "      <td>5100.0</td>\n",
       "    </tr>\n",
       "  </tbody>\n",
       "</table>\n",
       "</div>"
      ],
      "text/plain": [
       "                   state  income17  income19  income_change\n",
       "8   District of Columbia   85900.0   92300.0         6400.0\n",
       "20              Maryland   84200.0   86700.0         2500.0\n",
       "30            New Jersey   83500.0   85800.0         2300.0\n",
       "11                Hawaii   81100.0   83100.0         2000.0\n",
       "21         Massachusetts   80700.0   85800.0         5100.0"
      ]
     },
     "execution_count": 1159,
     "metadata": {},
     "output_type": "execute_result"
    }
   ],
   "source": [
    "# Changes in household income\n",
    "states_data['income_change'] = states_data['income19'] - states_data['income17']\n",
    "states_data.sort_values(['income17','income19','income_change'], \\\n",
    "ascending=False).head().loc[:,['state','income17','income19','income_change']]"
   ]
  },
  {
   "cell_type": "code",
   "execution_count": 1160,
   "metadata": {},
   "outputs": [
    {
     "data": {
      "text/html": [
       "<div>\n",
       "<style scoped>\n",
       "    .dataframe tbody tr th:only-of-type {\n",
       "        vertical-align: middle;\n",
       "    }\n",
       "\n",
       "    .dataframe tbody tr th {\n",
       "        vertical-align: top;\n",
       "    }\n",
       "\n",
       "    .dataframe thead th {\n",
       "        text-align: right;\n",
       "    }\n",
       "</style>\n",
       "<table border=\"1\" class=\"dataframe\">\n",
       "  <thead>\n",
       "    <tr style=\"text-align: right;\">\n",
       "      <th></th>\n",
       "      <th>state</th>\n",
       "      <th>act17_part</th>\n",
       "      <th>sat17_part</th>\n",
       "      <th>act18_part</th>\n",
       "      <th>sat18_part</th>\n",
       "      <th>act19_part</th>\n",
       "      <th>sat19_part</th>\n",
       "      <th>pop19</th>\n",
       "      <th>poverty_pct</th>\n",
       "      <th>income17</th>\n",
       "      <th>income18</th>\n",
       "      <th>income19</th>\n",
       "      <th>gdp17</th>\n",
       "      <th>gdp18</th>\n",
       "      <th>gdp19</th>\n",
       "      <th>gdp19_percap</th>\n",
       "    </tr>\n",
       "  </thead>\n",
       "  <tbody>\n",
       "    <tr>\n",
       "      <th>0</th>\n",
       "      <td>Alabama</td>\n",
       "      <td>1.00</td>\n",
       "      <td>0.05</td>\n",
       "      <td>1.00</td>\n",
       "      <td>0.06</td>\n",
       "      <td>1.00</td>\n",
       "      <td>0.07</td>\n",
       "      <td>4903185</td>\n",
       "      <td>14.7</td>\n",
       "      <td>50200.0</td>\n",
       "      <td>50800.0</td>\n",
       "      <td>51700.0</td>\n",
       "      <td>215085.9</td>\n",
       "      <td>224046.9</td>\n",
       "      <td>231171.8</td>\n",
       "      <td>47147.0</td>\n",
       "    </tr>\n",
       "    <tr>\n",
       "      <th>1</th>\n",
       "      <td>Alaska</td>\n",
       "      <td>0.65</td>\n",
       "      <td>0.38</td>\n",
       "      <td>0.33</td>\n",
       "      <td>0.43</td>\n",
       "      <td>0.38</td>\n",
       "      <td>0.41</td>\n",
       "      <td>731545</td>\n",
       "      <td>11.8</td>\n",
       "      <td>76300.0</td>\n",
       "      <td>75700.0</td>\n",
       "      <td>75500.0</td>\n",
       "      <td>53089.3</td>\n",
       "      <td>54711.7</td>\n",
       "      <td>54547.1</td>\n",
       "      <td>74564.0</td>\n",
       "    </tr>\n",
       "    <tr>\n",
       "      <th>2</th>\n",
       "      <td>Arizona</td>\n",
       "      <td>0.62</td>\n",
       "      <td>0.30</td>\n",
       "      <td>0.66</td>\n",
       "      <td>0.29</td>\n",
       "      <td>0.73</td>\n",
       "      <td>0.31</td>\n",
       "      <td>7278717</td>\n",
       "      <td>12.1</td>\n",
       "      <td>59000.0</td>\n",
       "      <td>60300.0</td>\n",
       "      <td>62100.0</td>\n",
       "      <td>330416.1</td>\n",
       "      <td>349907.5</td>\n",
       "      <td>369988.2</td>\n",
       "      <td>50832.0</td>\n",
       "    </tr>\n",
       "  </tbody>\n",
       "</table>\n",
       "</div>"
      ],
      "text/plain": [
       "     state  act17_part  sat17_part  act18_part  sat18_part  act19_part  \\\n",
       "0  Alabama        1.00        0.05        1.00        0.06        1.00   \n",
       "1   Alaska        0.65        0.38        0.33        0.43        0.38   \n",
       "2  Arizona        0.62        0.30        0.66        0.29        0.73   \n",
       "\n",
       "   sat19_part    pop19  poverty_pct  income17  income18  income19     gdp17  \\\n",
       "0        0.07  4903185         14.7   50200.0   50800.0   51700.0  215085.9   \n",
       "1        0.41   731545         11.8   76300.0   75700.0   75500.0   53089.3   \n",
       "2        0.31  7278717         12.1   59000.0   60300.0   62100.0  330416.1   \n",
       "\n",
       "      gdp18     gdp19  gdp19_percap  \n",
       "0  224046.9  231171.8       47147.0  \n",
       "1   54711.7   54547.1       74564.0  \n",
       "2  349907.5  369988.2       50832.0  "
      ]
     },
     "execution_count": 1160,
     "metadata": {},
     "output_type": "execute_result"
    }
   ],
   "source": [
    "# Drop column income_change\n",
    "states_data.drop(columns = {'income_change'}, inplace = True)\n",
    "states_data.head(3)"
   ]
  },
  {
   "cell_type": "markdown",
   "metadata": {},
   "source": [
    "Median household income has generally increased across the country from 2017 to 2019. As observe from the data, California household income is quite high at above the 75th percentile, and it is on the upward trend."
   ]
  },
  {
   "cell_type": "code",
   "execution_count": 1161,
   "metadata": {},
   "outputs": [
    {
     "data": {
      "text/html": [
       "<div>\n",
       "<style scoped>\n",
       "    .dataframe tbody tr th:only-of-type {\n",
       "        vertical-align: middle;\n",
       "    }\n",
       "\n",
       "    .dataframe tbody tr th {\n",
       "        vertical-align: top;\n",
       "    }\n",
       "\n",
       "    .dataframe thead th {\n",
       "        text-align: right;\n",
       "    }\n",
       "</style>\n",
       "<table border=\"1\" class=\"dataframe\">\n",
       "  <thead>\n",
       "    <tr style=\"text-align: right;\">\n",
       "      <th></th>\n",
       "      <th>state</th>\n",
       "      <th>income17</th>\n",
       "      <th>income18</th>\n",
       "      <th>income19</th>\n",
       "      <th>act17_part</th>\n",
       "      <th>act18_part</th>\n",
       "      <th>act19_part</th>\n",
       "      <th>sat17_part</th>\n",
       "      <th>sat18_part</th>\n",
       "      <th>sat19_part</th>\n",
       "    </tr>\n",
       "  </thead>\n",
       "  <tbody>\n",
       "    <tr>\n",
       "      <th>4</th>\n",
       "      <td>California</td>\n",
       "      <td>74900.0</td>\n",
       "      <td>76600.0</td>\n",
       "      <td>80400.0</td>\n",
       "      <td>0.31</td>\n",
       "      <td>0.27</td>\n",
       "      <td>0.23</td>\n",
       "      <td>0.53</td>\n",
       "      <td>0.6</td>\n",
       "      <td>0.63</td>\n",
       "    </tr>\n",
       "  </tbody>\n",
       "</table>\n",
       "</div>"
      ],
      "text/plain": [
       "        state  income17  income18  income19  act17_part  act18_part  \\\n",
       "4  California   74900.0   76600.0   80400.0        0.31        0.27   \n",
       "\n",
       "   act19_part  sat17_part  sat18_part  sat19_part  \n",
       "4        0.23        0.53         0.6        0.63  "
      ]
     },
     "execution_count": 1161,
     "metadata": {},
     "output_type": "execute_result"
    }
   ],
   "source": [
    "# Household income and ACT/SAT participation rate for California\n",
    "mask_ca = states_data['state'] == 'California'\n",
    "states_data.loc[(mask_ca), ['state','income17','income18','income19',\\\n",
    "                            'act17_part','act18_part','act19_part',\\\n",
    "                            'sat17_part','sat18_part','sat19_part']]"
   ]
  },
  {
   "cell_type": "code",
   "execution_count": 1162,
   "metadata": {},
   "outputs": [
    {
     "data": {
      "text/html": [
       "<div>\n",
       "<style scoped>\n",
       "    .dataframe tbody tr th:only-of-type {\n",
       "        vertical-align: middle;\n",
       "    }\n",
       "\n",
       "    .dataframe tbody tr th {\n",
       "        vertical-align: top;\n",
       "    }\n",
       "\n",
       "    .dataframe thead th {\n",
       "        text-align: right;\n",
       "    }\n",
       "</style>\n",
       "<table border=\"1\" class=\"dataframe\">\n",
       "  <thead>\n",
       "    <tr style=\"text-align: right;\">\n",
       "      <th></th>\n",
       "      <th>state</th>\n",
       "      <th>income19</th>\n",
       "      <th>act19_part</th>\n",
       "      <th>sat19_part</th>\n",
       "    </tr>\n",
       "  </thead>\n",
       "  <tbody>\n",
       "    <tr>\n",
       "      <th>8</th>\n",
       "      <td>District of Columbia</td>\n",
       "      <td>92300.0</td>\n",
       "      <td>0.32</td>\n",
       "      <td>0.94</td>\n",
       "    </tr>\n",
       "    <tr>\n",
       "      <th>20</th>\n",
       "      <td>Maryland</td>\n",
       "      <td>86700.0</td>\n",
       "      <td>0.28</td>\n",
       "      <td>0.82</td>\n",
       "    </tr>\n",
       "    <tr>\n",
       "      <th>21</th>\n",
       "      <td>Massachusetts</td>\n",
       "      <td>85800.0</td>\n",
       "      <td>0.21</td>\n",
       "      <td>0.81</td>\n",
       "    </tr>\n",
       "    <tr>\n",
       "      <th>30</th>\n",
       "      <td>New Jersey</td>\n",
       "      <td>85800.0</td>\n",
       "      <td>0.25</td>\n",
       "      <td>0.82</td>\n",
       "    </tr>\n",
       "    <tr>\n",
       "      <th>11</th>\n",
       "      <td>Hawaii</td>\n",
       "      <td>83100.0</td>\n",
       "      <td>0.80</td>\n",
       "      <td>0.54</td>\n",
       "    </tr>\n",
       "  </tbody>\n",
       "</table>\n",
       "</div>"
      ],
      "text/plain": [
       "                   state  income19  act19_part  sat19_part\n",
       "8   District of Columbia   92300.0        0.32        0.94\n",
       "20              Maryland   86700.0        0.28        0.82\n",
       "21         Massachusetts   85800.0        0.21        0.81\n",
       "30            New Jersey   85800.0        0.25        0.82\n",
       "11                Hawaii   83100.0        0.80        0.54"
      ]
     },
     "execution_count": 1162,
     "metadata": {},
     "output_type": "execute_result"
    }
   ],
   "source": [
    "# Create mask and compare ACT/SAT particpation rates with household income above 50th percentile\n",
    "mask_above50income = states_data['income19'] > states_data['income19'].median()\n",
    "mask_below50income = states_data['income19'] < states_data['income19'].median()\n",
    "states_data[mask_above50income].sort_values('income19', ascending=False).head().loc[:,['state','income19','act19_part','sat19_part']]"
   ]
  },
  {
   "cell_type": "code",
   "execution_count": 1163,
   "metadata": {},
   "outputs": [
    {
     "data": {
      "text/html": [
       "<div>\n",
       "<style scoped>\n",
       "    .dataframe tbody tr th:only-of-type {\n",
       "        vertical-align: middle;\n",
       "    }\n",
       "\n",
       "    .dataframe tbody tr th {\n",
       "        vertical-align: top;\n",
       "    }\n",
       "\n",
       "    .dataframe thead th {\n",
       "        text-align: right;\n",
       "    }\n",
       "</style>\n",
       "<table border=\"1\" class=\"dataframe\">\n",
       "  <thead>\n",
       "    <tr style=\"text-align: right;\">\n",
       "      <th></th>\n",
       "      <th>state</th>\n",
       "      <th>income19</th>\n",
       "      <th>act19_part</th>\n",
       "      <th>sat19_part</th>\n",
       "    </tr>\n",
       "  </thead>\n",
       "  <tbody>\n",
       "    <tr>\n",
       "      <th>45</th>\n",
       "      <td>Vermont</td>\n",
       "      <td>63000.0</td>\n",
       "      <td>0.20</td>\n",
       "      <td>0.66</td>\n",
       "    </tr>\n",
       "    <tr>\n",
       "      <th>16</th>\n",
       "      <td>Kansas</td>\n",
       "      <td>62100.0</td>\n",
       "      <td>0.72</td>\n",
       "      <td>0.04</td>\n",
       "    </tr>\n",
       "    <tr>\n",
       "      <th>2</th>\n",
       "      <td>Arizona</td>\n",
       "      <td>62100.0</td>\n",
       "      <td>0.73</td>\n",
       "      <td>0.31</td>\n",
       "    </tr>\n",
       "    <tr>\n",
       "      <th>10</th>\n",
       "      <td>Georgia</td>\n",
       "      <td>62000.0</td>\n",
       "      <td>0.49</td>\n",
       "      <td>0.71</td>\n",
       "    </tr>\n",
       "    <tr>\n",
       "      <th>15</th>\n",
       "      <td>Iowa</td>\n",
       "      <td>61700.0</td>\n",
       "      <td>0.66</td>\n",
       "      <td>0.03</td>\n",
       "    </tr>\n",
       "  </tbody>\n",
       "</table>\n",
       "</div>"
      ],
      "text/plain": [
       "      state  income19  act19_part  sat19_part\n",
       "45  Vermont   63000.0        0.20        0.66\n",
       "16   Kansas   62100.0        0.72        0.04\n",
       "2   Arizona   62100.0        0.73        0.31\n",
       "10  Georgia   62000.0        0.49        0.71\n",
       "15     Iowa   61700.0        0.66        0.03"
      ]
     },
     "execution_count": 1163,
     "metadata": {},
     "output_type": "execute_result"
    }
   ],
   "source": [
    "# Compare ACT/SAT particpation rates with household income below 50th percentile\n",
    "states_data[mask_below50income].sort_values('income19', ascending=False).head().loc[:,['state','income19','act19_part','sat19_part']]"
   ]
  },
  {
   "cell_type": "markdown",
   "metadata": {},
   "source": [
    "In general, states with high household income have lower ACT participation rates and higher SAT participation rates. The opposite is true for states with low household income. For California, there is a strong correlation between its househole income and the ACT/SAT participation rates."
   ]
  },
  {
   "cell_type": "markdown",
   "metadata": {},
   "source": [
    "**d) Investigate poverty level**"
   ]
  },
  {
   "cell_type": "code",
   "execution_count": 1164,
   "metadata": {},
   "outputs": [
    {
     "data": {
      "text/html": [
       "<div>\n",
       "<style scoped>\n",
       "    .dataframe tbody tr th:only-of-type {\n",
       "        vertical-align: middle;\n",
       "    }\n",
       "\n",
       "    .dataframe tbody tr th {\n",
       "        vertical-align: top;\n",
       "    }\n",
       "\n",
       "    .dataframe thead th {\n",
       "        text-align: right;\n",
       "    }\n",
       "</style>\n",
       "<table border=\"1\" class=\"dataframe\">\n",
       "  <thead>\n",
       "    <tr style=\"text-align: right;\">\n",
       "      <th></th>\n",
       "      <th>state</th>\n",
       "      <th>poverty_pct</th>\n",
       "    </tr>\n",
       "  </thead>\n",
       "  <tbody>\n",
       "    <tr>\n",
       "      <th>29</th>\n",
       "      <td>New Hampshire</td>\n",
       "      <td>5.6</td>\n",
       "    </tr>\n",
       "    <tr>\n",
       "      <th>23</th>\n",
       "      <td>Minnesota</td>\n",
       "      <td>7.4</td>\n",
       "    </tr>\n",
       "    <tr>\n",
       "      <th>20</th>\n",
       "      <td>Maryland</td>\n",
       "      <td>7.5</td>\n",
       "    </tr>\n",
       "    <tr>\n",
       "      <th>44</th>\n",
       "      <td>Utah</td>\n",
       "      <td>7.6</td>\n",
       "    </tr>\n",
       "    <tr>\n",
       "      <th>7</th>\n",
       "      <td>Delaware</td>\n",
       "      <td>7.6</td>\n",
       "    </tr>\n",
       "  </tbody>\n",
       "</table>\n",
       "</div>"
      ],
      "text/plain": [
       "            state  poverty_pct\n",
       "29  New Hampshire          5.6\n",
       "23      Minnesota          7.4\n",
       "20       Maryland          7.5\n",
       "44           Utah          7.6\n",
       "7        Delaware          7.6"
      ]
     },
     "execution_count": 1164,
     "metadata": {},
     "output_type": "execute_result"
    }
   ],
   "source": [
    "# Lowest poverty level for states, 2017-2019\n",
    "states_data.sort_values(['poverty_pct'], \\\n",
    "ascending=True).head().loc[:,['state','poverty_pct']]"
   ]
  },
  {
   "cell_type": "code",
   "execution_count": 1165,
   "metadata": {},
   "outputs": [
    {
     "data": {
      "text/html": [
       "<div>\n",
       "<style scoped>\n",
       "    .dataframe tbody tr th:only-of-type {\n",
       "        vertical-align: middle;\n",
       "    }\n",
       "\n",
       "    .dataframe tbody tr th {\n",
       "        vertical-align: top;\n",
       "    }\n",
       "\n",
       "    .dataframe thead th {\n",
       "        text-align: right;\n",
       "    }\n",
       "</style>\n",
       "<table border=\"1\" class=\"dataframe\">\n",
       "  <thead>\n",
       "    <tr style=\"text-align: right;\">\n",
       "      <th></th>\n",
       "      <th>state</th>\n",
       "      <th>poverty_pct</th>\n",
       "    </tr>\n",
       "  </thead>\n",
       "  <tbody>\n",
       "    <tr>\n",
       "      <th>24</th>\n",
       "      <td>Mississippi</td>\n",
       "      <td>19.1</td>\n",
       "    </tr>\n",
       "    <tr>\n",
       "      <th>18</th>\n",
       "      <td>Louisiana</td>\n",
       "      <td>19.1</td>\n",
       "    </tr>\n",
       "    <tr>\n",
       "      <th>31</th>\n",
       "      <td>New Mexico</td>\n",
       "      <td>17.2</td>\n",
       "    </tr>\n",
       "    <tr>\n",
       "      <th>48</th>\n",
       "      <td>West Virginia</td>\n",
       "      <td>15.6</td>\n",
       "    </tr>\n",
       "    <tr>\n",
       "      <th>3</th>\n",
       "      <td>Arkansas</td>\n",
       "      <td>15.0</td>\n",
       "    </tr>\n",
       "  </tbody>\n",
       "</table>\n",
       "</div>"
      ],
      "text/plain": [
       "            state  poverty_pct\n",
       "24    Mississippi         19.1\n",
       "18      Louisiana         19.1\n",
       "31     New Mexico         17.2\n",
       "48  West Virginia         15.6\n",
       "3        Arkansas         15.0"
      ]
     },
     "execution_count": 1165,
     "metadata": {},
     "output_type": "execute_result"
    }
   ],
   "source": [
    "# Highest poverty level for states, 2017-2019\n",
    "states_data.sort_values(['poverty_pct'], \\\n",
    "ascending=False).head().loc[:,['state','poverty_pct']]"
   ]
  },
  {
   "cell_type": "code",
   "execution_count": 1166,
   "metadata": {},
   "outputs": [
    {
     "data": {
      "text/html": [
       "<div>\n",
       "<style scoped>\n",
       "    .dataframe tbody tr th:only-of-type {\n",
       "        vertical-align: middle;\n",
       "    }\n",
       "\n",
       "    .dataframe tbody tr th {\n",
       "        vertical-align: top;\n",
       "    }\n",
       "\n",
       "    .dataframe thead th {\n",
       "        text-align: right;\n",
       "    }\n",
       "</style>\n",
       "<table border=\"1\" class=\"dataframe\">\n",
       "  <thead>\n",
       "    <tr style=\"text-align: right;\">\n",
       "      <th></th>\n",
       "      <th>state</th>\n",
       "      <th>poverty_pct</th>\n",
       "      <th>act17_part</th>\n",
       "      <th>act18_part</th>\n",
       "      <th>act19_part</th>\n",
       "      <th>sat17_part</th>\n",
       "      <th>sat18_part</th>\n",
       "      <th>sat19_part</th>\n",
       "    </tr>\n",
       "  </thead>\n",
       "  <tbody>\n",
       "    <tr>\n",
       "      <th>4</th>\n",
       "      <td>California</td>\n",
       "      <td>11.4</td>\n",
       "      <td>0.31</td>\n",
       "      <td>0.27</td>\n",
       "      <td>0.23</td>\n",
       "      <td>0.53</td>\n",
       "      <td>0.6</td>\n",
       "      <td>0.63</td>\n",
       "    </tr>\n",
       "  </tbody>\n",
       "</table>\n",
       "</div>"
      ],
      "text/plain": [
       "        state  poverty_pct  act17_part  act18_part  act19_part  sat17_part  \\\n",
       "4  California         11.4        0.31        0.27        0.23        0.53   \n",
       "\n",
       "   sat18_part  sat19_part  \n",
       "4         0.6        0.63  "
      ]
     },
     "execution_count": 1166,
     "metadata": {},
     "output_type": "execute_result"
    }
   ],
   "source": [
    "# Poverty level and ACT/SAT participation rate for California\n",
    "mask_ca = states_data['state'] == 'California'\n",
    "states_data.loc[(mask_ca), ['state','poverty_pct','act17_part','act18_part','act19_part',\\\n",
    "                            'sat17_part','sat18_part','sat19_part']]"
   ]
  },
  {
   "cell_type": "code",
   "execution_count": 1167,
   "metadata": {},
   "outputs": [
    {
     "data": {
      "text/html": [
       "<div>\n",
       "<style scoped>\n",
       "    .dataframe tbody tr th:only-of-type {\n",
       "        vertical-align: middle;\n",
       "    }\n",
       "\n",
       "    .dataframe tbody tr th {\n",
       "        vertical-align: top;\n",
       "    }\n",
       "\n",
       "    .dataframe thead th {\n",
       "        text-align: right;\n",
       "    }\n",
       "</style>\n",
       "<table border=\"1\" class=\"dataframe\">\n",
       "  <thead>\n",
       "    <tr style=\"text-align: right;\">\n",
       "      <th></th>\n",
       "      <th>state</th>\n",
       "      <th>poverty_pct</th>\n",
       "      <th>act19_part</th>\n",
       "      <th>sat19_part</th>\n",
       "    </tr>\n",
       "  </thead>\n",
       "  <tbody>\n",
       "    <tr>\n",
       "      <th>18</th>\n",
       "      <td>Louisiana</td>\n",
       "      <td>19.1</td>\n",
       "      <td>1.00</td>\n",
       "      <td>0.05</td>\n",
       "    </tr>\n",
       "    <tr>\n",
       "      <th>24</th>\n",
       "      <td>Mississippi</td>\n",
       "      <td>19.1</td>\n",
       "      <td>1.00</td>\n",
       "      <td>0.03</td>\n",
       "    </tr>\n",
       "    <tr>\n",
       "      <th>31</th>\n",
       "      <td>New Mexico</td>\n",
       "      <td>17.2</td>\n",
       "      <td>0.63</td>\n",
       "      <td>0.18</td>\n",
       "    </tr>\n",
       "    <tr>\n",
       "      <th>48</th>\n",
       "      <td>West Virginia</td>\n",
       "      <td>15.6</td>\n",
       "      <td>0.49</td>\n",
       "      <td>0.99</td>\n",
       "    </tr>\n",
       "    <tr>\n",
       "      <th>3</th>\n",
       "      <td>Arkansas</td>\n",
       "      <td>15.0</td>\n",
       "      <td>1.00</td>\n",
       "      <td>0.06</td>\n",
       "    </tr>\n",
       "  </tbody>\n",
       "</table>\n",
       "</div>"
      ],
      "text/plain": [
       "            state  poverty_pct  act19_part  sat19_part\n",
       "18      Louisiana         19.1        1.00        0.05\n",
       "24    Mississippi         19.1        1.00        0.03\n",
       "31     New Mexico         17.2        0.63        0.18\n",
       "48  West Virginia         15.6        0.49        0.99\n",
       "3        Arkansas         15.0        1.00        0.06"
      ]
     },
     "execution_count": 1167,
     "metadata": {},
     "output_type": "execute_result"
    }
   ],
   "source": [
    "# Create mask and compare ACT/SAT particpation rates with household income above 50th percentile\n",
    "mask_above50poverty = states_data['poverty_pct'] > states_data['poverty_pct'].median()\n",
    "mask_below50poverty = states_data['poverty_pct'] < states_data['poverty_pct'].median()\n",
    "states_data[mask_above50poverty].sort_values('poverty_pct', ascending=False).head().loc[:,['state','poverty_pct','act19_part','sat19_part']]"
   ]
  },
  {
   "cell_type": "code",
   "execution_count": 1168,
   "metadata": {},
   "outputs": [
    {
     "data": {
      "text/html": [
       "<div>\n",
       "<style scoped>\n",
       "    .dataframe tbody tr th:only-of-type {\n",
       "        vertical-align: middle;\n",
       "    }\n",
       "\n",
       "    .dataframe tbody tr th {\n",
       "        vertical-align: top;\n",
       "    }\n",
       "\n",
       "    .dataframe thead th {\n",
       "        text-align: right;\n",
       "    }\n",
       "</style>\n",
       "<table border=\"1\" class=\"dataframe\">\n",
       "  <thead>\n",
       "    <tr style=\"text-align: right;\">\n",
       "      <th></th>\n",
       "      <th>state</th>\n",
       "      <th>poverty_pct</th>\n",
       "      <th>act19_part</th>\n",
       "      <th>sat19_part</th>\n",
       "    </tr>\n",
       "  </thead>\n",
       "  <tbody>\n",
       "    <tr>\n",
       "      <th>50</th>\n",
       "      <td>Wyoming</td>\n",
       "      <td>10.5</td>\n",
       "      <td>1.00</td>\n",
       "      <td>0.03</td>\n",
       "    </tr>\n",
       "    <tr>\n",
       "      <th>38</th>\n",
       "      <td>Pennsylvania</td>\n",
       "      <td>10.5</td>\n",
       "      <td>0.17</td>\n",
       "      <td>0.70</td>\n",
       "    </tr>\n",
       "    <tr>\n",
       "      <th>13</th>\n",
       "      <td>Illinois</td>\n",
       "      <td>10.4</td>\n",
       "      <td>0.35</td>\n",
       "      <td>1.00</td>\n",
       "    </tr>\n",
       "    <tr>\n",
       "      <th>16</th>\n",
       "      <td>Kansas</td>\n",
       "      <td>10.4</td>\n",
       "      <td>0.72</td>\n",
       "      <td>0.04</td>\n",
       "    </tr>\n",
       "    <tr>\n",
       "      <th>27</th>\n",
       "      <td>Nebraska</td>\n",
       "      <td>10.3</td>\n",
       "      <td>1.00</td>\n",
       "      <td>0.03</td>\n",
       "    </tr>\n",
       "  </tbody>\n",
       "</table>\n",
       "</div>"
      ],
      "text/plain": [
       "           state  poverty_pct  act19_part  sat19_part\n",
       "50       Wyoming         10.5        1.00        0.03\n",
       "38  Pennsylvania         10.5        0.17        0.70\n",
       "13      Illinois         10.4        0.35        1.00\n",
       "16        Kansas         10.4        0.72        0.04\n",
       "27      Nebraska         10.3        1.00        0.03"
      ]
     },
     "execution_count": 1168,
     "metadata": {},
     "output_type": "execute_result"
    }
   ],
   "source": [
    "# Compare ACT/SAT particpation rates with household income below 50th percentile\n",
    "states_data[mask_below50poverty].sort_values('poverty_pct', ascending=False).head().loc[:,['state','poverty_pct','act19_part','sat19_part']]"
   ]
  },
  {
   "cell_type": "markdown",
   "metadata": {},
   "source": [
    "The tables above generally show that states with high poverty level tend to have higher ACT participation rates and lower SAT participation rates. The opposite is true for states with low poverty level. California which has a slightly high poverty level above the 50th percentile, has a lower ACT and higher SAT participation rates. "
   ]
  },
  {
   "cell_type": "markdown",
   "metadata": {},
   "source": [
    "## Visualize the Data\n",
    "\n",
    "There's not a magic bullet recommendation for the right number of plots to understand a given dataset, but visualizing your data is *always* a good idea. Not only does it allow you to quickly convey your findings (even if you have a non-technical audience), it will often reveal trends in your data that escaped you when you were looking only at numbers. It is important to not only create visualizations, but to **interpret your visualizations** as well.\n",
    "\n",
    "**Every plot should**:\n",
    "- Have a title\n",
    "- Have axis labels\n",
    "- Have appropriate tick labels\n",
    "- Text is legible in a plot\n",
    "- Plots demonstrate meaningful and valid relationships\n",
    "- Have an interpretation to aid understanding\n",
    "\n",
    "Here is an example of what your plots should look like following the above guidelines. Note that while the content of this example is unrelated, the principles of visualization hold:\n",
    "\n",
    "![](https://snag.gy/hCBR1U.jpg)\n",
    "*Interpretation: The above image shows that as we increase our spending on advertising, our sales numbers also tend to increase. There is a positive correlation between advertising spending and sales.*\n",
    "\n",
    "---\n",
    "\n",
    "Here are some prompts to get you started with visualizations. Feel free to add additional visualizations as you see fit:\n",
    "1. Use Seaborn's heatmap with pandas `.corr()` to visualize correlations between all numeric features.\n",
    "    - Heatmaps are generally not appropriate for presentations, and should often be excluded from reports as they can be visually overwhelming. **However**, they can be extremely useful in identify relationships of potential interest (as well as identifying potential collinearity before modeling).\n",
    "    - Please take time to format your output, adding a title. Look through some of the additional arguments and options. (Axis labels aren't really necessary, as long as the title is informative).\n",
    "2. Visualize distributions using histograms. If you have a lot, consider writing a custom function and use subplots.\n",
    "    - *OPTIONAL*: Summarize the underlying distributions of your features (in words & statistics)\n",
    "         - Be thorough in your verbal description of these distributions.\n",
    "         - Be sure to back up these summaries with statistics.\n",
    "         - We generally assume that data we sample from a population will be normally distributed. Do we observe this trend? Explain your answers for each distribution and how you think this will affect estimates made from these data.\n",
    "3. Plot and interpret boxplots. \n",
    "    - Boxplots demonstrate central tendency and spread in variables. In a certain sense, these are somewhat redundant with histograms, but you may be better able to identify clear outliers or differences in IQR, etc.\n",
    "    - Multiple values can be plotted to a single boxplot as long as they are of the same relative scale (meaning they have similar min/max values).\n",
    "    - Each boxplot should:\n",
    "        - Only include variables of a similar scale\n",
    "        - Have clear labels for each variable\n",
    "        - Have appropriate titles and labels\n",
    "4. Plot and interpret scatter plots to view relationships between features. Feel free to write a custom function, and subplot if you'd like. Functions save both time and space.\n",
    "    - Your plots should have:\n",
    "        - Two clearly labeled axes\n",
    "        - A proper title\n",
    "        - Colors and symbols that are clear and unmistakable\n",
    "5. Additional plots of your choosing.\n",
    "    - Are there any additional trends or relationships you haven't explored? Was there something interesting you saw that you'd like to dive further into? It's likely that there are a few more plots you might want to generate to support your narrative and recommendations that you are building toward. **As always, make sure you're interpreting your plots as you go**."
   ]
  },
  {
   "cell_type": "code",
   "execution_count": 1169,
   "metadata": {},
   "outputs": [
    {
     "data": {
      "image/png": "[encoded data removed]",
      "text/plain": [
       "<Figure size 1152x648 with 2 Axes>"
      ]
     },
     "metadata": {
      "needs_background": "light"
     },
     "output_type": "display_data"
    }
   ],
   "source": [
    "# Heatmap to show correlation between all features\n",
    "correlation = states_data.corr()\n",
    "fig,ax = plt.subplots(figsize=(16,9))\n",
    "mask = np.zeros_like(correlation)\n",
    "mask[np.triu_indices_from(mask)]= True\n",
    "sns.heatmap(data= correlation,\n",
    "            mask= mask,\n",
    "            cmap = 'coolwarm',\n",
    "            square= True,\n",
    "            annot = True,\n",
    "            vmin=-1, vmax=1)\n",
    "plt.title(\"Correlation of various factors for ACT SAT at State level\");"
   ]
  },
  {
   "cell_type": "markdown",
   "metadata": {},
   "source": [
    "As observed from above heatmap,\n",
    "- The correlation between the GDP per capita and ACT and SAT participation rates is moderately negative and moderately positive respectively. This means that the lower GDP has higher ACT participation rate, and lower SAT participation rate. \n",
    "\n",
    "- The correlation between household income and ACT and SAT participation rates is negative and positive respectively. This means that the lower income has higher ACT participation rate, and lower SAT participation rate.\n",
    "\n",
    "- The correlation between poverty level and ACT and SAT participation rates is positive and negative respectively. It means that the lower poverty level has lower ACT participation rate, and higher SAT participation rate. \n"
   ]
  },
  {
   "cell_type": "code",
   "execution_count": 1170,
   "metadata": {},
   "outputs": [
    {
     "data": {
      "image/png": "[encoded data removed]",
      "text/plain": [
       "<Figure size 432x432 with 1 Axes>"
      ]
     },
     "metadata": {
      "needs_background": "light"
     },
     "output_type": "display_data"
    }
   ],
   "source": [
    "# Boxplot for ACT and SAT participation rates, 2017 to 2019\n",
    "order = ['act17_part','act18_part','act19_part','sat17_part','sat18_part','sat19_part']\n",
    "xlabel = ['ACT 2017','ACT 2018','ACT 2019', 'SAT 2017', 'SAT 2018', 'SAT 2019']\n",
    "plt.figure(figsize=(6,6))\n",
    "data = states_data.reindex(columns=order)\n",
    "ax = sns.boxplot(data=data, palette=[\"orange\", \"red\", \"skyblue\",\"sandybrown\",\"green\",\"violet\"])\n",
    "ax.set_title('ACT and SAT Participation rates (%)', fontsize=15)\n",
    "ax.set(xticklabels=xlabel)\n",
    "ax.tick_params(axis='both', labelsize=10)\n",
    "ax.set_ylabel('Participation Rates', fontsize=10);"
   ]
  },
  {
   "attachments": {},
   "cell_type": "markdown",
   "metadata": {},
   "source": [
    "The ACT has a higher median than the SAT from 2017 to 2018, indicating that the ACT participation rates are generally higher than SAT participation rates.\n",
    "\n",
    "However, in 2019, we can observe that the median for SAT participation rate is the same as ACT at 54%. The median for SAT participation has increased from 2017 to 2019, while the ACT participation has been dropping. \n",
    "\n",
    "The same is true for California where the ACT participation rate has declined and SAT participation rate increases.\n",
    "\n",
    "Variance also seems to have risen, leading to a decrease in skewness. This could suggest that support for the SAT test is beginning to rise across US, including California."
   ]
  },
  {
   "cell_type": "code",
   "execution_count": 1171,
   "metadata": {},
   "outputs": [],
   "source": [
    "# Function for plotting scatter plot\n",
    "def plot_scatter(df, x, y, x_label, y_label, title):\n",
    "    fig, ax = plt.subplots(figsize=(10,5))\n",
    "    median = df[x].median()\n",
    "    plt.title(title + f' (Median: {median:.1f})')\n",
    "    sns.regplot(data=df, x=x, y=y)\n",
    "    plt.tight_layout()\n",
    "    plt.xlabel(x_label)\n",
    "    plt.ylabel(y_label)    \n",
    "#    plt.axvline(median, color='k', linestyle='dashed', linewidth=2)\n",
    "    plt.axvline(median, ls='--', color='black')"
   ]
  },
  {
   "cell_type": "code",
   "execution_count": 1172,
   "metadata": {},
   "outputs": [
    {
     "data": {
      "image/png": "[encoded data removed]",
      "text/plain": [
       "<Figure size 720x360 with 1 Axes>"
      ]
     },
     "metadata": {
      "needs_background": "light"
     },
     "output_type": "display_data"
    }
   ],
   "source": [
    "# Scatter plot for ACT Participation vs GDP per capita\n",
    "plot_scatter(states_data, 'gdp19_percap', 'act19_part', 'GDP per capita', 'ACT Participation', 'ACT Participation rates vs GDP per capita')\n",
    "state_ca = states_data.query(\"state == 'California'\")\n",
    "plt.scatter(state_ca.gdp19_percap, state_ca.act19_part, color=\"red\");"
   ]
  },
  {
   "cell_type": "code",
   "execution_count": 1173,
   "metadata": {},
   "outputs": [
    {
     "data": {
      "image/png": "[encoded data removed]",
      "text/plain": [
       "<Figure size 720x360 with 1 Axes>"
      ]
     },
     "metadata": {
      "needs_background": "light"
     },
     "output_type": "display_data"
    }
   ],
   "source": [
    "# Scatter plot for SAT Participation vs GDP per capita\n",
    "plot_scatter(states_data, 'gdp19_percap', 'sat19_part', 'GDP per capita', 'SAT Participation', 'SAT Participation rates vs GDP per capita')\n",
    "state_ca = states_data.query(\"state == 'California'\")\n",
    "plt.scatter(state_ca.gdp19_percap, state_ca.sat19_part, color=\"red\");"
   ]
  },
  {
   "cell_type": "code",
   "execution_count": 1174,
   "metadata": {},
   "outputs": [
    {
     "data": {
      "image/png": "[encoded data removed]",
      "text/plain": [
       "<Figure size 720x360 with 1 Axes>"
      ]
     },
     "metadata": {
      "needs_background": "light"
     },
     "output_type": "display_data"
    }
   ],
   "source": [
    "# Scatter plot for ACT Participation vs Househole income\n",
    "plot_scatter(states_data, 'income19', 'act19_part', 'Household income', 'ACT Participation', 'ACT Participation rates vs Household income')\n",
    "state_ca = states_data.query(\"state == 'California'\")\n",
    "plt.scatter(state_ca.income19, state_ca.act19_part, color=\"red\");"
   ]
  },
  {
   "cell_type": "code",
   "execution_count": 1175,
   "metadata": {},
   "outputs": [
    {
     "data": {
      "image/png": "[encoded data removed]",
      "text/plain": [
       "<Figure size 720x360 with 1 Axes>"
      ]
     },
     "metadata": {
      "needs_background": "light"
     },
     "output_type": "display_data"
    }
   ],
   "source": [
    "# Scatter plot for SAT Participation vs Househole income\n",
    "plot_scatter(states_data, 'income19', 'sat19_part', 'Household income', 'SAT Participation', 'SAT Participation rates vs Household income')\n",
    "state_ca = states_data.query(\"state == 'California'\")\n",
    "plt.scatter(state_ca.income19, state_ca.sat19_part, color=\"red\");"
   ]
  },
  {
   "cell_type": "markdown",
   "metadata": {},
   "source": [
    "From the scatter plots above, we observe that there is positive correlation between SAT participation and GDP per capita as well as household income. Since SAT and ACT participation rates are negatively correlated, this results in a negative correlation between ACT participation and GDP per capita and income."
   ]
  },
  {
   "cell_type": "code",
   "execution_count": 1176,
   "metadata": {},
   "outputs": [
    {
     "data": {
      "image/png": "[encoded data removed]",
      "text/plain": [
       "<Figure size 720x360 with 1 Axes>"
      ]
     },
     "metadata": {
      "needs_background": "light"
     },
     "output_type": "display_data"
    }
   ],
   "source": [
    "# Scatter plot for ACT Participation vs Poverty\n",
    "plot_scatter(states_data, 'poverty_pct', 'act19_part', 'Poverty', 'ACT Participation', 'ACT Participation rates vs Poverty')\n",
    "state_ca = states_data.query(\"state == 'California'\")\n",
    "plt.scatter(state_ca.poverty_pct, state_ca.act19_part, color=\"red\");"
   ]
  },
  {
   "cell_type": "code",
   "execution_count": 1177,
   "metadata": {
    "scrolled": true
   },
   "outputs": [
    {
     "data": {
      "image/png": "[encoded data removed]",
      "text/plain": [
       "<Figure size 720x360 with 1 Axes>"
      ]
     },
     "metadata": {
      "needs_background": "light"
     },
     "output_type": "display_data"
    }
   ],
   "source": [
    "# Scatter plot for SAT Participation vs Poverty\n",
    "plot_scatter(states_data, 'poverty_pct', 'sat19_part', 'Poverty', 'SAT Participation', 'SAT Participation rates vs Poverty')\n",
    "state_ca = states_data.query(\"state == 'California'\")\n",
    "plt.scatter(state_ca.poverty_pct, state_ca.sat19_part, color=\"red\");"
   ]
  },
  {
   "cell_type": "markdown",
   "metadata": {},
   "source": [
    "*These scatterplots show there is a negative correlation between SAT participation rate and poverty level. States with higher poverty level tend to have lower SAT participation and higher ACT participation.*"
   ]
  },
  {
   "cell_type": "markdown",
   "metadata": {},
   "source": [
    "## Conclusions and Recommendations"
   ]
  },
  {
   "cell_type": "markdown",
   "metadata": {},
   "source": [
    "Based on your exploration of the data, what are you key takeaways and recommendations? Make sure to answer your question of interest or address your problem statement here."
   ]
  },
  {
   "attachments": {},
   "cell_type": "markdown",
   "metadata": {},
   "source": [
    "Across US, the ACT and SAT participation rates are inversely correlated to each other, with states tending to prefer one test or the other. ACT shows a large group of states with 100% participation, and a higher baseline participation nationwide. SAT shows a larger group of states with 50-80% particpation.\n",
    "\n",
    "From the data, we know that states with a relatively low GDP per capita, low household income and high poverty level tend to have higher ACT participation rate on average. The opposite is true for states with high GDP per capita, high household income and low poverty level.\n",
    "\n",
    "California, with its high GDP per capita, high household income and above average poverty level, seems to suggest that there is some social inequality in the state that impact the tests participation rates. (https://www.ppic.org/publication/poverty-in-california/#:~:text=According%20to%20the%20CPM%2C%2016.4,to%20severely%20constrained%20employment%20opportunity.)\n",
    "\n",
    "Based on both an examination of the data and a review of state college entrance exam testing policy, it is clear that participation in such tests is heavily influenced by state policy towards testing. Currently, 29 states require that high school students take either the SAT or the ACT with no state requiring students take both. (https://testive.com/state-sat-act/)\n",
    "\n",
    "To increase participation, California can consider making one of the two tests a mandatory high school graduation requirement. This policy provides several benefits to education systems and to students. One benefit is that it provides a college-level standardized test that can be used to benchmark students and to measure the efficacy of high-school educational systems. Integrating the test into the high school curriculum can also remove barriers to test taking such as the cost or the need to do it on a weekend.\n",
    "\n",
    "To tackle any social inequality, the California Department of Education can work with the related departments or parties to promote high quality jobs and to raise standards of living in all counties, instead of just Rural or Suburban counties across California."
   ]
  },
  {
   "cell_type": "markdown",
   "metadata": {},
   "source": [
    "Don't forget to create your README!\n",
    "\n",
    "**To-Do:** *If you combine your problem statement, data dictionary, brief summary of your analysis, and conclusions/recommendations, you have an amazing README.md file that quickly aligns your audience to the contents of your project.* Don't forget to cite your data sources!"
   ]
  }
 ],
 "metadata": {
  "anaconda-cloud": {},
  "kernelspec": {
   "display_name": "Python 3 (ipykernel)",
   "language": "python",
   "name": "python3"
  },
  "language_info": {
   "codemirror_mode": {
    "name": "ipython",
    "version": 3
   },
   "file_extension": ".py",
   "mimetype": "text/x-python",
   "name": "python",
   "nbconvert_exporter": "python",
   "pygments_lexer": "ipython3",
   "version": "3.9.7"
  }
 },
 "nbformat": 4,
 "nbformat_minor": 4
}
